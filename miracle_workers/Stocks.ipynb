{
 "cells": [
  {
   "cell_type": "code",
   "execution_count": 3,
   "id": "67efde70-14de-46ca-87d2-147fcfa581b9",
   "metadata": {},
   "outputs": [],
   "source": [
    "import random"
   ]
  },
  {
   "cell_type": "code",
   "execution_count": 4,
   "id": "0d58692d-5517-4b76-8c39-bd0f9a0e821f",
   "metadata": {},
   "outputs": [],
   "source": [
    "students = [\"Alvaro\", \"Mateusz\", \"Jason\", \"Verena\",\n",
    "            \"Anzal\",\"Maurice\", \"Eric\", \"Masaya\",\n",
    "            \"Shun\", \"Laura\", \"Tasmin\", \"JJ\",\n",
    "            \"Juan\", \"Jonatan\", \"Frederic\", \"Vseslav\",\n",
    "            \"Dahyun\", \"Veysel\", \"Sofia\"]"
   ]
  },
  {
   "cell_type": "code",
   "execution_count": 5,
   "id": "c0e35a1b-199a-471a-858e-ef04bc8fbf6a",
   "metadata": {},
   "outputs": [],
   "source": [
    "groups = []\n",
    "c = 0\n",
    "for i in range(1, 5):\n",
    "    if i < 2:\n",
    "        gr_size = 4\n",
    "    else:\n",
    "        gr_size = 5\n",
    "    \n",
    "    g = []\n",
    "    for _ in range(gr_size):\n",
    "        s = random.choice(students)\n",
    "        g.append(s)\n",
    "        students.remove(s)\n",
    "    groups.append(g)\n",
    "    "
   ]
  },
  {
   "cell_type": "code",
   "execution_count": 6,
   "id": "d02d34e6-efe7-4c68-826e-87edce5f72c2",
   "metadata": {},
   "outputs": [
    {
     "name": "stdout",
     "output_type": "stream",
     "text": [
      "Group 1: Frederic, Eric, Tasmin, Veysel\n",
      "Group 2: Masaya, Maurice, Alvaro, Anzal, Vseslav\n",
      "Group 3: Sofia, Verena, Mateusz, Jason, Juan\n",
      "Group 4: Dahyun, Shun, JJ, Laura, Jonatan\n",
      "Did we miss so? []\n"
     ]
    }
   ],
   "source": [
    "for i, group in enumerate(groups):\n",
    "    char = \"\\'\"\n",
    "    print(f'Group {i+1}: {str(group)[1:-1].replace(char,\"\")}')\n",
    "print(f\"Did we miss so? {students}\")"
   ]
  },
  {
   "cell_type": "markdown",
   "id": "9350a11c-a683-442c-845f-f2154a4bcb15",
   "metadata": {},
   "source": [
    "---\n",
    "---\n",
    "---"
   ]
  },
  {
   "cell_type": "markdown",
   "id": "799916da-ffa8-46e9-87bb-14fe97cb22a9",
   "metadata": {},
   "source": [
    "# Quickest pandas starter:\n",
    "Pandas is the most used data transformation packages in python.\n",
    "You should use it as a starting point."
   ]
  },
  {
   "cell_type": "code",
   "execution_count": 7,
   "id": "39397d2b-0bd8-4f79-b589-dc4ae8e48908",
   "metadata": {},
   "outputs": [],
   "source": [
    "import pandas as pd"
   ]
  },
  {
   "cell_type": "markdown",
   "id": "d2db8db4-00b4-4483-afaa-09c769822eda",
   "metadata": {},
   "source": [
    "## Read a CSV file"
   ]
  },
  {
   "cell_type": "code",
   "execution_count": 12,
   "id": "4114cd27-a067-4689-ac18-8ebc433d3bde",
   "metadata": {},
   "outputs": [
    {
     "name": "stdout",
     "output_type": "stream",
     "text": [
      "\u001b[34mstock_markets\u001b[m\u001b[m     \u001b[31mstock_markets.zip\u001b[m\u001b[m\n"
     ]
    }
   ],
   "source": [
    "# check what is available in directory\n",
    "# `dir` is the command for windows\n",
    "# try \"!ls data\\\" for Mac or Linux\n",
    "!ls data\\"
   ]
  },
  {
   "cell_type": "code",
   "execution_count": 14,
   "id": "d0327755-d4a2-4624-bd6e-f9b131fa78bf",
   "metadata": {},
   "outputs": [],
   "source": [
    "# read a csv file with pandas\n",
    "df = pd.read_csv(\"data/symbols_valid_meta.csv\")"
   ]
  },
  {
   "cell_type": "code",
   "execution_count": 15,
   "id": "f87ce69e-3bb0-4ed5-a530-db8884bafb7c",
   "metadata": {},
   "outputs": [
    {
     "data": {
      "text/html": [
       "<div>\n",
       "<style scoped>\n",
       "    .dataframe tbody tr th:only-of-type {\n",
       "        vertical-align: middle;\n",
       "    }\n",
       "\n",
       "    .dataframe tbody tr th {\n",
       "        vertical-align: top;\n",
       "    }\n",
       "\n",
       "    .dataframe thead th {\n",
       "        text-align: right;\n",
       "    }\n",
       "</style>\n",
       "<table border=\"1\" class=\"dataframe\">\n",
       "  <thead>\n",
       "    <tr style=\"text-align: right;\">\n",
       "      <th></th>\n",
       "      <th>Nasdaq Traded</th>\n",
       "      <th>Symbol</th>\n",
       "      <th>Security Name</th>\n",
       "      <th>Listing Exchange</th>\n",
       "      <th>Market Category</th>\n",
       "      <th>ETF</th>\n",
       "      <th>Round Lot Size</th>\n",
       "      <th>Test Issue</th>\n",
       "      <th>Financial Status</th>\n",
       "      <th>CQS Symbol</th>\n",
       "      <th>NASDAQ Symbol</th>\n",
       "      <th>NextShares</th>\n",
       "    </tr>\n",
       "  </thead>\n",
       "  <tbody>\n",
       "    <tr>\n",
       "      <th>0</th>\n",
       "      <td>Y</td>\n",
       "      <td>A</td>\n",
       "      <td>Agilent Technologies, Inc. Common Stock</td>\n",
       "      <td>N</td>\n",
       "      <td></td>\n",
       "      <td>N</td>\n",
       "      <td>100.0</td>\n",
       "      <td>N</td>\n",
       "      <td>NaN</td>\n",
       "      <td>A</td>\n",
       "      <td>A</td>\n",
       "      <td>N</td>\n",
       "    </tr>\n",
       "    <tr>\n",
       "      <th>1</th>\n",
       "      <td>Y</td>\n",
       "      <td>AA</td>\n",
       "      <td>Alcoa Corporation Common Stock</td>\n",
       "      <td>N</td>\n",
       "      <td></td>\n",
       "      <td>N</td>\n",
       "      <td>100.0</td>\n",
       "      <td>N</td>\n",
       "      <td>NaN</td>\n",
       "      <td>AA</td>\n",
       "      <td>AA</td>\n",
       "      <td>N</td>\n",
       "    </tr>\n",
       "    <tr>\n",
       "      <th>2</th>\n",
       "      <td>Y</td>\n",
       "      <td>AAAU</td>\n",
       "      <td>Perth Mint Physical Gold ETF</td>\n",
       "      <td>P</td>\n",
       "      <td></td>\n",
       "      <td>Y</td>\n",
       "      <td>100.0</td>\n",
       "      <td>N</td>\n",
       "      <td>NaN</td>\n",
       "      <td>AAAU</td>\n",
       "      <td>AAAU</td>\n",
       "      <td>N</td>\n",
       "    </tr>\n",
       "    <tr>\n",
       "      <th>3</th>\n",
       "      <td>Y</td>\n",
       "      <td>AACG</td>\n",
       "      <td>ATA Creativity Global - American Depositary Sh...</td>\n",
       "      <td>Q</td>\n",
       "      <td>G</td>\n",
       "      <td>N</td>\n",
       "      <td>100.0</td>\n",
       "      <td>N</td>\n",
       "      <td>N</td>\n",
       "      <td>NaN</td>\n",
       "      <td>AACG</td>\n",
       "      <td>N</td>\n",
       "    </tr>\n",
       "    <tr>\n",
       "      <th>4</th>\n",
       "      <td>Y</td>\n",
       "      <td>AADR</td>\n",
       "      <td>AdvisorShares Dorsey Wright ADR ETF</td>\n",
       "      <td>P</td>\n",
       "      <td></td>\n",
       "      <td>Y</td>\n",
       "      <td>100.0</td>\n",
       "      <td>N</td>\n",
       "      <td>NaN</td>\n",
       "      <td>AADR</td>\n",
       "      <td>AADR</td>\n",
       "      <td>N</td>\n",
       "    </tr>\n",
       "  </tbody>\n",
       "</table>\n",
       "</div>"
      ],
      "text/plain": [
       "  Nasdaq Traded Symbol                                      Security Name  \\\n",
       "0             Y      A            Agilent Technologies, Inc. Common Stock   \n",
       "1             Y     AA                    Alcoa Corporation Common Stock    \n",
       "2             Y   AAAU                       Perth Mint Physical Gold ETF   \n",
       "3             Y   AACG  ATA Creativity Global - American Depositary Sh...   \n",
       "4             Y   AADR                AdvisorShares Dorsey Wright ADR ETF   \n",
       "\n",
       "  Listing Exchange Market Category ETF  Round Lot Size Test Issue  \\\n",
       "0                N                   N           100.0          N   \n",
       "1                N                   N           100.0          N   \n",
       "2                P                   Y           100.0          N   \n",
       "3                Q               G   N           100.0          N   \n",
       "4                P                   Y           100.0          N   \n",
       "\n",
       "  Financial Status CQS Symbol NASDAQ Symbol NextShares  \n",
       "0              NaN          A             A          N  \n",
       "1              NaN         AA            AA          N  \n",
       "2              NaN       AAAU          AAAU          N  \n",
       "3                N        NaN          AACG          N  \n",
       "4              NaN       AADR          AADR          N  "
      ]
     },
     "execution_count": 15,
     "metadata": {},
     "output_type": "execute_result"
    }
   ],
   "source": [
    "# print first lines\n",
    "df.head()"
   ]
  },
  {
   "cell_type": "code",
   "execution_count": 16,
   "id": "c03886f6-2a1e-4efd-beaf-2f6561f2c8c4",
   "metadata": {},
   "outputs": [
    {
     "data": {
      "text/plain": [
       "(8049, 12)"
      ]
     },
     "execution_count": 16,
     "metadata": {},
     "output_type": "execute_result"
    }
   ],
   "source": [
    "# dimensions of the dataset\n",
    "# 8049 rows (observations) and 12 columns (variables)\n",
    "df.shape"
   ]
  },
  {
   "cell_type": "code",
   "execution_count": 17,
   "id": "08a15cdf-900f-44a7-82df-db407859918d",
   "metadata": {},
   "outputs": [
    {
     "data": {
      "text/plain": [
       "0       A\n",
       "1      AA\n",
       "2    AAAU\n",
       "3    AACG\n",
       "4    AADR\n",
       "Name: Symbol, dtype: object"
      ]
     },
     "execution_count": 17,
     "metadata": {},
     "output_type": "execute_result"
    }
   ],
   "source": [
    "# select a column\n",
    "df.Symbol.head()"
   ]
  },
  {
   "cell_type": "code",
   "execution_count": 18,
   "id": "7172e8a7-8738-4409-9e02-5ee3b760a841",
   "metadata": {},
   "outputs": [
    {
     "data": {
      "text/plain": [
       "0       A\n",
       "1      AA\n",
       "2    AAAU\n",
       "3    AACG\n",
       "4    AADR\n",
       "Name: Symbol, dtype: object"
      ]
     },
     "execution_count": 18,
     "metadata": {},
     "output_type": "execute_result"
    }
   ],
   "source": [
    "# or \n",
    "df[\"Symbol\"].head()  # is mandatory when column name contains a space"
   ]
  },
  {
   "cell_type": "code",
   "execution_count": 19,
   "id": "d397a505-c048-45e4-8f0a-4eb5fa48eba8",
   "metadata": {},
   "outputs": [
    {
     "ename": "NameError",
     "evalue": "name 'asset' is not defined",
     "output_type": "error",
     "traceback": [
      "\u001b[0;31m---------------------------------------------------------------------------\u001b[0m",
      "\u001b[0;31mNameError\u001b[0m                                 Traceback (most recent call last)",
      "\u001b[1;32m/Users/juanbettinelli/Documents/UniPython/miracle_workers/Stocks.ipynb Cell 15'\u001b[0m in \u001b[0;36m<cell line: 2>\u001b[0;34m()\u001b[0m\n\u001b[1;32m      <a href='vscode-notebook-cell:/Users/juanbettinelli/Documents/UniPython/miracle_workers/Stocks.ipynb#ch0000014?line=0'>1</a>\u001b[0m \u001b[39m# important datastructures in pandas\u001b[39;00m\n\u001b[0;32m----> <a href='vscode-notebook-cell:/Users/juanbettinelli/Documents/UniPython/miracle_workers/Stocks.ipynb#ch0000014?line=1'>2</a>\u001b[0m \u001b[39mprint\u001b[39m(\u001b[39mtype\u001b[39m(asset))\n\u001b[1;32m      <a href='vscode-notebook-cell:/Users/juanbettinelli/Documents/UniPython/miracle_workers/Stocks.ipynb#ch0000014?line=2'>3</a>\u001b[0m \u001b[39mprint\u001b[39m(\u001b[39mtype\u001b[39m(asset\u001b[39m.\u001b[39mClose))\n",
      "\u001b[0;31mNameError\u001b[0m: name 'asset' is not defined"
     ]
    }
   ],
   "source": [
    "# important datastructures in pandas\n",
    "print(type(asset))\n",
    "print(type(asset.Close))\n"
   ]
  },
  {
   "cell_type": "code",
   "execution_count": 20,
   "id": "94017e43-70c5-4746-805c-4ec3aa0068fa",
   "metadata": {},
   "outputs": [
    {
     "data": {
      "text/html": [
       "<div>\n",
       "<style scoped>\n",
       "    .dataframe tbody tr th:only-of-type {\n",
       "        vertical-align: middle;\n",
       "    }\n",
       "\n",
       "    .dataframe tbody tr th {\n",
       "        vertical-align: top;\n",
       "    }\n",
       "\n",
       "    .dataframe thead th {\n",
       "        text-align: right;\n",
       "    }\n",
       "</style>\n",
       "<table border=\"1\" class=\"dataframe\">\n",
       "  <thead>\n",
       "    <tr style=\"text-align: right;\">\n",
       "      <th></th>\n",
       "      <th>Nasdaq Traded</th>\n",
       "      <th>Symbol</th>\n",
       "      <th>Security Name</th>\n",
       "      <th>Listing Exchange</th>\n",
       "      <th>Market Category</th>\n",
       "      <th>ETF</th>\n",
       "      <th>Round Lot Size</th>\n",
       "      <th>Test Issue</th>\n",
       "      <th>Financial Status</th>\n",
       "      <th>CQS Symbol</th>\n",
       "      <th>NASDAQ Symbol</th>\n",
       "      <th>NextShares</th>\n",
       "    </tr>\n",
       "  </thead>\n",
       "  <tbody>\n",
       "    <tr>\n",
       "      <th>2</th>\n",
       "      <td>Y</td>\n",
       "      <td>AAAU</td>\n",
       "      <td>Perth Mint Physical Gold ETF</td>\n",
       "      <td>P</td>\n",
       "      <td></td>\n",
       "      <td>Y</td>\n",
       "      <td>100.0</td>\n",
       "      <td>N</td>\n",
       "      <td>NaN</td>\n",
       "      <td>AAAU</td>\n",
       "      <td>AAAU</td>\n",
       "      <td>N</td>\n",
       "    </tr>\n",
       "    <tr>\n",
       "      <th>4</th>\n",
       "      <td>Y</td>\n",
       "      <td>AADR</td>\n",
       "      <td>AdvisorShares Dorsey Wright ADR ETF</td>\n",
       "      <td>P</td>\n",
       "      <td></td>\n",
       "      <td>Y</td>\n",
       "      <td>100.0</td>\n",
       "      <td>N</td>\n",
       "      <td>NaN</td>\n",
       "      <td>AADR</td>\n",
       "      <td>AADR</td>\n",
       "      <td>N</td>\n",
       "    </tr>\n",
       "  </tbody>\n",
       "</table>\n",
       "</div>"
      ],
      "text/plain": [
       "  Nasdaq Traded Symbol                        Security Name Listing Exchange  \\\n",
       "2             Y   AAAU         Perth Mint Physical Gold ETF                P   \n",
       "4             Y   AADR  AdvisorShares Dorsey Wright ADR ETF                P   \n",
       "\n",
       "  Market Category ETF  Round Lot Size Test Issue Financial Status CQS Symbol  \\\n",
       "2                   Y           100.0          N              NaN       AAAU   \n",
       "4                   Y           100.0          N              NaN       AADR   \n",
       "\n",
       "  NASDAQ Symbol NextShares  \n",
       "2          AAAU          N  \n",
       "4          AADR          N  "
      ]
     },
     "execution_count": 20,
     "metadata": {},
     "output_type": "execute_result"
    }
   ],
   "source": [
    "# basic filtering\n",
    "# all rows where the ETF column\n",
    "# is equal to \"Y\"\n",
    "# adding df.head to just print the first two lines\n",
    "df[df.ETF == 'Y'].head(2)\n"
   ]
  },
  {
   "cell_type": "code",
   "execution_count": 21,
   "id": "9b041164-e544-498b-b519-f1458afdadba",
   "metadata": {},
   "outputs": [
    {
     "data": {
      "text/plain": [
       "0       False\n",
       "1       False\n",
       "2        True\n",
       "3       False\n",
       "4        True\n",
       "        ...  \n",
       "8044    False\n",
       "8045    False\n",
       "8046    False\n",
       "8047    False\n",
       "8048    False\n",
       "Name: ETF, Length: 8049, dtype: bool"
      ]
     },
     "execution_count": 21,
     "metadata": {},
     "output_type": "execute_result"
    }
   ],
   "source": [
    "df.ETF == \"Y\"  # full pd.Series if bool values"
   ]
  },
  {
   "cell_type": "code",
   "execution_count": 22,
   "id": "fddb1eab-7bb7-4843-b7a4-032177761bab",
   "metadata": {},
   "outputs": [],
   "source": [
    "# we can filter for more conditions\n",
    "# let's select rows where 'Test Issue' is equal 'N'.\n",
    "# in Pandas you combine condition with '&' as you have two pd.Series that have to be evaluated\n",
    "# at the same time\n",
    "\n",
    "selector = (df.ETF == \"Y\") & (df[\"Test Issue\"] == \"N\")"
   ]
  },
  {
   "cell_type": "code",
   "execution_count": 23,
   "id": "f8763a2d-14be-435a-a021-71b05dd66d9b",
   "metadata": {},
   "outputs": [
    {
     "data": {
      "text/plain": [
       "0    False\n",
       "1    False\n",
       "2     True\n",
       "3    False\n",
       "4     True\n",
       "dtype: bool"
      ]
     },
     "execution_count": 23,
     "metadata": {},
     "output_type": "execute_result"
    }
   ],
   "source": [
    "# bool values with same length as the dataframe\n",
    "selector.head(5)"
   ]
  },
  {
   "cell_type": "code",
   "execution_count": 24,
   "id": "0a021db7-6da9-4420-a089-4f5ef2731bfa",
   "metadata": {},
   "outputs": [
    {
     "data": {
      "text/plain": [
       "(8049,)"
      ]
     },
     "execution_count": 24,
     "metadata": {},
     "output_type": "execute_result"
    }
   ],
   "source": [
    "selector.shape"
   ]
  },
  {
   "cell_type": "code",
   "execution_count": 25,
   "id": "098a97b4-ddf3-432e-ba21-9aeab3ad3a77",
   "metadata": {},
   "outputs": [
    {
     "data": {
      "text/html": [
       "<div>\n",
       "<style scoped>\n",
       "    .dataframe tbody tr th:only-of-type {\n",
       "        vertical-align: middle;\n",
       "    }\n",
       "\n",
       "    .dataframe tbody tr th {\n",
       "        vertical-align: top;\n",
       "    }\n",
       "\n",
       "    .dataframe thead th {\n",
       "        text-align: right;\n",
       "    }\n",
       "</style>\n",
       "<table border=\"1\" class=\"dataframe\">\n",
       "  <thead>\n",
       "    <tr style=\"text-align: right;\">\n",
       "      <th></th>\n",
       "      <th>Nasdaq Traded</th>\n",
       "      <th>Symbol</th>\n",
       "      <th>Security Name</th>\n",
       "      <th>Listing Exchange</th>\n",
       "      <th>Market Category</th>\n",
       "      <th>ETF</th>\n",
       "      <th>Round Lot Size</th>\n",
       "      <th>Test Issue</th>\n",
       "      <th>Financial Status</th>\n",
       "      <th>CQS Symbol</th>\n",
       "      <th>NASDAQ Symbol</th>\n",
       "      <th>NextShares</th>\n",
       "    </tr>\n",
       "  </thead>\n",
       "  <tbody>\n",
       "    <tr>\n",
       "      <th>2</th>\n",
       "      <td>Y</td>\n",
       "      <td>AAAU</td>\n",
       "      <td>Perth Mint Physical Gold ETF</td>\n",
       "      <td>P</td>\n",
       "      <td></td>\n",
       "      <td>Y</td>\n",
       "      <td>100.0</td>\n",
       "      <td>N</td>\n",
       "      <td>NaN</td>\n",
       "      <td>AAAU</td>\n",
       "      <td>AAAU</td>\n",
       "      <td>N</td>\n",
       "    </tr>\n",
       "    <tr>\n",
       "      <th>4</th>\n",
       "      <td>Y</td>\n",
       "      <td>AADR</td>\n",
       "      <td>AdvisorShares Dorsey Wright ADR ETF</td>\n",
       "      <td>P</td>\n",
       "      <td></td>\n",
       "      <td>Y</td>\n",
       "      <td>100.0</td>\n",
       "      <td>N</td>\n",
       "      <td>NaN</td>\n",
       "      <td>AADR</td>\n",
       "      <td>AADR</td>\n",
       "      <td>N</td>\n",
       "    </tr>\n",
       "  </tbody>\n",
       "</table>\n",
       "</div>"
      ],
      "text/plain": [
       "  Nasdaq Traded Symbol                        Security Name Listing Exchange  \\\n",
       "2             Y   AAAU         Perth Mint Physical Gold ETF                P   \n",
       "4             Y   AADR  AdvisorShares Dorsey Wright ADR ETF                P   \n",
       "\n",
       "  Market Category ETF  Round Lot Size Test Issue Financial Status CQS Symbol  \\\n",
       "2                   Y           100.0          N              NaN       AAAU   \n",
       "4                   Y           100.0          N              NaN       AADR   \n",
       "\n",
       "  NASDAQ Symbol NextShares  \n",
       "2          AAAU          N  \n",
       "4          AADR          N  "
      ]
     },
     "execution_count": 25,
     "metadata": {},
     "output_type": "execute_result"
    }
   ],
   "source": [
    "df[selector].head(2)"
   ]
  },
  {
   "cell_type": "markdown",
   "id": "19637fe3-a4fa-45ba-b571-5164fcb599cd",
   "metadata": {},
   "source": [
    "This means a DataFrame consists of columns that are in turn pandas Series',\n",
    "\n",
    "You can check\n",
    "`pd.Series?`\n",
    "or `pd.DataFrame?` to see what is all available for DataFrames and Series'.\n",
    "\n",
    "\n"
   ]
  },
  {
   "cell_type": "code",
   "execution_count": 26,
   "id": "419166d2-b8e9-435d-8138-fe9c1269d379",
   "metadata": {},
   "outputs": [],
   "source": [
    "# pd.DataFrame?\n",
    "# pd.Series?"
   ]
  },
  {
   "cell_type": "markdown",
   "id": "882194d2-68ac-4525-a2da-05cad54094d1",
   "metadata": {},
   "source": [
    "### Cheat sheet\n",
    "- [Pandas cheat sheet](https://pandas.pydata.org/Pandas_Cheat_Sheet.pdf)"
   ]
  },
  {
   "cell_type": "markdown",
   "id": "1cf7081e-74b7-413b-9967-7fc93a166d7e",
   "metadata": {
    "tags": []
   },
   "source": [
    "# Start data exploration"
   ]
  },
  {
   "cell_type": "markdown",
   "id": "1bed9c39-bc77-4920-94e8-e8a48577b16c",
   "metadata": {},
   "source": [
    "## Lookup for specific assets for the example portfolio"
   ]
  },
  {
   "cell_type": "code",
   "execution_count": 27,
   "id": "004f0eeb-e012-4a2a-b280-3c85448bda5d",
   "metadata": {},
   "outputs": [
    {
     "data": {
      "text/html": [
       "<div>\n",
       "<style scoped>\n",
       "    .dataframe tbody tr th:only-of-type {\n",
       "        vertical-align: middle;\n",
       "    }\n",
       "\n",
       "    .dataframe tbody tr th {\n",
       "        vertical-align: top;\n",
       "    }\n",
       "\n",
       "    .dataframe thead th {\n",
       "        text-align: right;\n",
       "    }\n",
       "</style>\n",
       "<table border=\"1\" class=\"dataframe\">\n",
       "  <thead>\n",
       "    <tr style=\"text-align: right;\">\n",
       "      <th></th>\n",
       "      <th>Nasdaq Traded</th>\n",
       "      <th>Symbol</th>\n",
       "      <th>Security Name</th>\n",
       "      <th>Listing Exchange</th>\n",
       "      <th>Market Category</th>\n",
       "      <th>ETF</th>\n",
       "      <th>Round Lot Size</th>\n",
       "      <th>Test Issue</th>\n",
       "      <th>Financial Status</th>\n",
       "      <th>CQS Symbol</th>\n",
       "      <th>NASDAQ Symbol</th>\n",
       "      <th>NextShares</th>\n",
       "    </tr>\n",
       "  </thead>\n",
       "  <tbody>\n",
       "    <tr>\n",
       "      <th>8044</th>\n",
       "      <td>Y</td>\n",
       "      <td>ZUO</td>\n",
       "      <td>Zuora, Inc. Class A Common Stock</td>\n",
       "      <td>N</td>\n",
       "      <td></td>\n",
       "      <td>N</td>\n",
       "      <td>100.0</td>\n",
       "      <td>N</td>\n",
       "      <td>NaN</td>\n",
       "      <td>ZUO</td>\n",
       "      <td>ZUO</td>\n",
       "      <td>N</td>\n",
       "    </tr>\n",
       "    <tr>\n",
       "      <th>8045</th>\n",
       "      <td>Y</td>\n",
       "      <td>ZVO</td>\n",
       "      <td>Zovio Inc. - Common Stock</td>\n",
       "      <td>Q</td>\n",
       "      <td>Q</td>\n",
       "      <td>N</td>\n",
       "      <td>100.0</td>\n",
       "      <td>N</td>\n",
       "      <td>N</td>\n",
       "      <td>NaN</td>\n",
       "      <td>ZVO</td>\n",
       "      <td>N</td>\n",
       "    </tr>\n",
       "    <tr>\n",
       "      <th>8046</th>\n",
       "      <td>Y</td>\n",
       "      <td>ZYME</td>\n",
       "      <td>Zymeworks Inc. Common Shares</td>\n",
       "      <td>N</td>\n",
       "      <td></td>\n",
       "      <td>N</td>\n",
       "      <td>100.0</td>\n",
       "      <td>N</td>\n",
       "      <td>NaN</td>\n",
       "      <td>ZYME</td>\n",
       "      <td>ZYME</td>\n",
       "      <td>N</td>\n",
       "    </tr>\n",
       "    <tr>\n",
       "      <th>8047</th>\n",
       "      <td>Y</td>\n",
       "      <td>ZYNE</td>\n",
       "      <td>Zynerba Pharmaceuticals, Inc. - Common Stock</td>\n",
       "      <td>Q</td>\n",
       "      <td>G</td>\n",
       "      <td>N</td>\n",
       "      <td>100.0</td>\n",
       "      <td>N</td>\n",
       "      <td>N</td>\n",
       "      <td>NaN</td>\n",
       "      <td>ZYNE</td>\n",
       "      <td>N</td>\n",
       "    </tr>\n",
       "    <tr>\n",
       "      <th>8048</th>\n",
       "      <td>Y</td>\n",
       "      <td>ZYXI</td>\n",
       "      <td>Zynex, Inc. - Common Stock</td>\n",
       "      <td>Q</td>\n",
       "      <td>S</td>\n",
       "      <td>N</td>\n",
       "      <td>100.0</td>\n",
       "      <td>N</td>\n",
       "      <td>N</td>\n",
       "      <td>NaN</td>\n",
       "      <td>ZYXI</td>\n",
       "      <td>N</td>\n",
       "    </tr>\n",
       "  </tbody>\n",
       "</table>\n",
       "</div>"
      ],
      "text/plain": [
       "     Nasdaq Traded Symbol                                 Security Name  \\\n",
       "8044             Y    ZUO              Zuora, Inc. Class A Common Stock   \n",
       "8045             Y    ZVO                     Zovio Inc. - Common Stock   \n",
       "8046             Y   ZYME                  Zymeworks Inc. Common Shares   \n",
       "8047             Y   ZYNE  Zynerba Pharmaceuticals, Inc. - Common Stock   \n",
       "8048             Y   ZYXI                    Zynex, Inc. - Common Stock   \n",
       "\n",
       "     Listing Exchange Market Category ETF  Round Lot Size Test Issue  \\\n",
       "8044                N                   N           100.0          N   \n",
       "8045                Q               Q   N           100.0          N   \n",
       "8046                N                   N           100.0          N   \n",
       "8047                Q               G   N           100.0          N   \n",
       "8048                Q               S   N           100.0          N   \n",
       "\n",
       "     Financial Status CQS Symbol NASDAQ Symbol NextShares  \n",
       "8044              NaN        ZUO           ZUO          N  \n",
       "8045                N        NaN           ZVO          N  \n",
       "8046              NaN       ZYME          ZYME          N  \n",
       "8047                N        NaN          ZYNE          N  \n",
       "8048                N        NaN          ZYXI          N  "
      ]
     },
     "execution_count": 27,
     "metadata": {},
     "output_type": "execute_result"
    }
   ],
   "source": [
    "# print last 5 lines of the dataset\n",
    "df.tail(5)"
   ]
  },
  {
   "cell_type": "code",
   "execution_count": 28,
   "id": "8a7d4efd-968b-47f6-b641-7d32783ee595",
   "metadata": {},
   "outputs": [
    {
     "data": {
      "text/html": [
       "<div>\n",
       "<style scoped>\n",
       "    .dataframe tbody tr th:only-of-type {\n",
       "        vertical-align: middle;\n",
       "    }\n",
       "\n",
       "    .dataframe tbody tr th {\n",
       "        vertical-align: top;\n",
       "    }\n",
       "\n",
       "    .dataframe thead th {\n",
       "        text-align: right;\n",
       "    }\n",
       "</style>\n",
       "<table border=\"1\" class=\"dataframe\">\n",
       "  <thead>\n",
       "    <tr style=\"text-align: right;\">\n",
       "      <th></th>\n",
       "      <th>Nasdaq Traded</th>\n",
       "      <th>Symbol</th>\n",
       "      <th>Security Name</th>\n",
       "      <th>Listing Exchange</th>\n",
       "      <th>Market Category</th>\n",
       "      <th>ETF</th>\n",
       "      <th>Round Lot Size</th>\n",
       "      <th>Test Issue</th>\n",
       "      <th>Financial Status</th>\n",
       "      <th>CQS Symbol</th>\n",
       "      <th>NASDAQ Symbol</th>\n",
       "      <th>NextShares</th>\n",
       "    </tr>\n",
       "  </thead>\n",
       "  <tbody>\n",
       "    <tr>\n",
       "      <th>6795</th>\n",
       "      <td>Y</td>\n",
       "      <td>STAA</td>\n",
       "      <td>STAAR Surgical Company - Common Stock</td>\n",
       "      <td>Q</td>\n",
       "      <td>G</td>\n",
       "      <td>N</td>\n",
       "      <td>100.0</td>\n",
       "      <td>N</td>\n",
       "      <td>N</td>\n",
       "      <td>NaN</td>\n",
       "      <td>STAA</td>\n",
       "      <td>N</td>\n",
       "    </tr>\n",
       "    <tr>\n",
       "      <th>5169</th>\n",
       "      <td>Y</td>\n",
       "      <td>NVR</td>\n",
       "      <td>NVR, Inc. Common Stock</td>\n",
       "      <td>N</td>\n",
       "      <td></td>\n",
       "      <td>N</td>\n",
       "      <td>10.0</td>\n",
       "      <td>N</td>\n",
       "      <td>NaN</td>\n",
       "      <td>NVR</td>\n",
       "      <td>NVR</td>\n",
       "      <td>N</td>\n",
       "    </tr>\n",
       "    <tr>\n",
       "      <th>111</th>\n",
       "      <td>Y</td>\n",
       "      <td>AEG</td>\n",
       "      <td>AEGON N.V. Common Stock</td>\n",
       "      <td>N</td>\n",
       "      <td></td>\n",
       "      <td>N</td>\n",
       "      <td>100.0</td>\n",
       "      <td>N</td>\n",
       "      <td>NaN</td>\n",
       "      <td>AEG</td>\n",
       "      <td>AEG</td>\n",
       "      <td>N</td>\n",
       "    </tr>\n",
       "    <tr>\n",
       "      <th>120</th>\n",
       "      <td>Y</td>\n",
       "      <td>AER</td>\n",
       "      <td>AerCap Holdings N.V. Ordinary Shares</td>\n",
       "      <td>N</td>\n",
       "      <td></td>\n",
       "      <td>N</td>\n",
       "      <td>100.0</td>\n",
       "      <td>N</td>\n",
       "      <td>NaN</td>\n",
       "      <td>AER</td>\n",
       "      <td>AER</td>\n",
       "      <td>N</td>\n",
       "    </tr>\n",
       "    <tr>\n",
       "      <th>5120</th>\n",
       "      <td>Y</td>\n",
       "      <td>NTLA</td>\n",
       "      <td>Intellia Therapeutics, Inc. - Common Stock</td>\n",
       "      <td>Q</td>\n",
       "      <td>G</td>\n",
       "      <td>N</td>\n",
       "      <td>100.0</td>\n",
       "      <td>N</td>\n",
       "      <td>N</td>\n",
       "      <td>NaN</td>\n",
       "      <td>NTLA</td>\n",
       "      <td>N</td>\n",
       "    </tr>\n",
       "  </tbody>\n",
       "</table>\n",
       "</div>"
      ],
      "text/plain": [
       "     Nasdaq Traded Symbol                               Security Name  \\\n",
       "6795             Y   STAA       STAAR Surgical Company - Common Stock   \n",
       "5169             Y    NVR                      NVR, Inc. Common Stock   \n",
       "111              Y    AEG                     AEGON N.V. Common Stock   \n",
       "120              Y    AER        AerCap Holdings N.V. Ordinary Shares   \n",
       "5120             Y   NTLA  Intellia Therapeutics, Inc. - Common Stock   \n",
       "\n",
       "     Listing Exchange Market Category ETF  Round Lot Size Test Issue  \\\n",
       "6795                Q               G   N           100.0          N   \n",
       "5169                N                   N            10.0          N   \n",
       "111                 N                   N           100.0          N   \n",
       "120                 N                   N           100.0          N   \n",
       "5120                Q               G   N           100.0          N   \n",
       "\n",
       "     Financial Status CQS Symbol NASDAQ Symbol NextShares  \n",
       "6795                N        NaN          STAA          N  \n",
       "5169              NaN        NVR           NVR          N  \n",
       "111               NaN        AEG           AEG          N  \n",
       "120               NaN        AER           AER          N  \n",
       "5120                N        NaN          NTLA          N  "
      ]
     },
     "execution_count": 28,
     "metadata": {},
     "output_type": "execute_result"
    }
   ],
   "source": [
    "# build example portfolio\n",
    "# random portfolio\n",
    "# df[df.ETF == 'N'] selects all lines that not ETFs\n",
    "# df.sample picks a sample of 5\n",
    "df[df.ETF == 'N'].sample(5)\n",
    "\n",
    "# well let's use some more commonly known companies..."
   ]
  },
  {
   "cell_type": "code",
   "execution_count": 29,
   "id": "413ab019-bfbe-45ff-906b-ff5233e6a40b",
   "metadata": {},
   "outputs": [],
   "source": [
    "# build specific portfolio\n",
    "# simple lookups:\n",
    "# if the column name has a space sign, you need to use df[column_name] to select a column\n",
    "# df.apply acts as the `map` from plain python: you can execute a function on a column (default)\n",
    "# or on a row (\"axis\" argument)\n",
    "# You can always ask `df.apply?`\n",
    "# be cause I do not specific symbols or Company names\n",
    "# I need to look for a common nane in the Security Name string --> lambda expression\n",
    "\n",
    "# Get 5 Symbols for the test portfolio\n",
    "line_toyota = df[df[\"Security Name\"].apply(lambda name_str: \"Toyota\" in name_str)]\n",
    "\n",
    "# select the spefic column we are looking for\n",
    "symbol_toyota = line_toyota[\"Symbol\"].values[0]"
   ]
  },
  {
   "cell_type": "code",
   "execution_count": 30,
   "id": "62a21196-db72-4fb0-a3f9-171c98d62bc4",
   "metadata": {},
   "outputs": [],
   "source": [
    "# lookup google\n",
    "# combine previous two lines\n",
    "line_ggle = df[df[\"Security Name\"].apply(lambda name_str: \"Alphabet\" in name_str)]\n"
   ]
  },
  {
   "cell_type": "code",
   "execution_count": 31,
   "id": "702a4dab-e94a-4881-807d-8bbf5f5a721b",
   "metadata": {},
   "outputs": [
    {
     "data": {
      "text/html": [
       "<div>\n",
       "<style scoped>\n",
       "    .dataframe tbody tr th:only-of-type {\n",
       "        vertical-align: middle;\n",
       "    }\n",
       "\n",
       "    .dataframe tbody tr th {\n",
       "        vertical-align: top;\n",
       "    }\n",
       "\n",
       "    .dataframe thead th {\n",
       "        text-align: right;\n",
       "    }\n",
       "</style>\n",
       "<table border=\"1\" class=\"dataframe\">\n",
       "  <thead>\n",
       "    <tr style=\"text-align: right;\">\n",
       "      <th></th>\n",
       "      <th>Nasdaq Traded</th>\n",
       "      <th>Symbol</th>\n",
       "      <th>Security Name</th>\n",
       "      <th>Listing Exchange</th>\n",
       "      <th>Market Category</th>\n",
       "      <th>ETF</th>\n",
       "      <th>Round Lot Size</th>\n",
       "      <th>Test Issue</th>\n",
       "      <th>Financial Status</th>\n",
       "      <th>CQS Symbol</th>\n",
       "      <th>NASDAQ Symbol</th>\n",
       "      <th>NextShares</th>\n",
       "    </tr>\n",
       "  </thead>\n",
       "  <tbody>\n",
       "    <tr>\n",
       "      <th>3102</th>\n",
       "      <td>Y</td>\n",
       "      <td>GOOG</td>\n",
       "      <td>Alphabet Inc. - Class C Capital Stock</td>\n",
       "      <td>Q</td>\n",
       "      <td>Q</td>\n",
       "      <td>N</td>\n",
       "      <td>100.0</td>\n",
       "      <td>N</td>\n",
       "      <td>N</td>\n",
       "      <td>NaN</td>\n",
       "      <td>GOOG</td>\n",
       "      <td>N</td>\n",
       "    </tr>\n",
       "    <tr>\n",
       "      <th>3103</th>\n",
       "      <td>Y</td>\n",
       "      <td>GOOGL</td>\n",
       "      <td>Alphabet Inc. - Class A Common Stock</td>\n",
       "      <td>Q</td>\n",
       "      <td>Q</td>\n",
       "      <td>N</td>\n",
       "      <td>100.0</td>\n",
       "      <td>N</td>\n",
       "      <td>N</td>\n",
       "      <td>NaN</td>\n",
       "      <td>GOOGL</td>\n",
       "      <td>N</td>\n",
       "    </tr>\n",
       "  </tbody>\n",
       "</table>\n",
       "</div>"
      ],
      "text/plain": [
       "     Nasdaq Traded Symbol                          Security Name  \\\n",
       "3102             Y   GOOG  Alphabet Inc. - Class C Capital Stock   \n",
       "3103             Y  GOOGL   Alphabet Inc. - Class A Common Stock   \n",
       "\n",
       "     Listing Exchange Market Category ETF  Round Lot Size Test Issue  \\\n",
       "3102                Q               Q   N           100.0          N   \n",
       "3103                Q               Q   N           100.0          N   \n",
       "\n",
       "     Financial Status CQS Symbol NASDAQ Symbol NextShares  \n",
       "3102                N        NaN          GOOG          N  \n",
       "3103                N        NaN         GOOGL          N  "
      ]
     },
     "execution_count": 31,
     "metadata": {},
     "output_type": "execute_result"
    }
   ],
   "source": [
    "# didn't work like the other select, because there are more options:\n",
    "# we chose Class A stock to get a vote\n",
    "line_ggle"
   ]
  },
  {
   "cell_type": "code",
   "execution_count": 32,
   "id": "df394745-9bec-4df6-83af-28e0b33d6f73",
   "metadata": {},
   "outputs": [],
   "source": [
    "symbol_ggl = line_ggle[\"Symbol\"].values[1]"
   ]
  },
  {
   "cell_type": "code",
   "execution_count": 33,
   "id": "e8c207dd-9fc1-4086-87e6-f8d4b075d431",
   "metadata": {},
   "outputs": [],
   "source": [
    "symbol_tsm = df[df[\"Security Name\"].apply(lambda name_str: \"Taiwan Semi\" in name_str)][\"Symbol\"].values[0]"
   ]
  },
  {
   "cell_type": "code",
   "execution_count": 34,
   "id": "ffab9a95-1608-42ee-8470-71201d4f7402",
   "metadata": {},
   "outputs": [],
   "source": [
    "symbol_lg = df[df[\"Security Name\"].apply(lambda name_str: \"LG Display\" in name_str)][\"Symbol\"].values[0]"
   ]
  },
  {
   "cell_type": "code",
   "execution_count": 35,
   "id": "52245fea-1389-45f3-a687-311b0eb3ec4b",
   "metadata": {},
   "outputs": [],
   "source": [
    "symbol_pp = df[df[\"Security Name\"].apply(lambda name_str: \"Plug Power\" in name_str)][\"Symbol\"].values[0]"
   ]
  },
  {
   "cell_type": "code",
   "execution_count": 36,
   "id": "f1aada18-a102-40c3-a9c8-98006d5d0f78",
   "metadata": {},
   "outputs": [],
   "source": [
    "symbol_ed = df[df[\"Security Name\"].apply(lambda name_str: \"Consolidated Edison\" in name_str)][\"Symbol\"].values[0]"
   ]
  },
  {
   "cell_type": "code",
   "execution_count": 37,
   "id": "e8a8fc2b-1d7c-4dc4-92e2-4a6e3f2c23ce",
   "metadata": {},
   "outputs": [],
   "source": [
    "# bit more complicated looksups\n",
    "# looking for ETF options\n",
    "# looking for every asset with \"MSCI\" and \"iShares\" in the \"Security Name\" columnm and is an ETF\n",
    "etf = df[(df[\"Security Name\"].apply(lambda x: \"Clean Energy\" in x and \"iShares\" in x)) & (df[\"ETF\"] == \"Y\")]\n"
   ]
  },
  {
   "cell_type": "code",
   "execution_count": 38,
   "id": "4b410998-bed7-4735-9984-6edeaafa2f19",
   "metadata": {},
   "outputs": [
    {
     "data": {
      "text/html": [
       "<div>\n",
       "<style scoped>\n",
       "    .dataframe tbody tr th:only-of-type {\n",
       "        vertical-align: middle;\n",
       "    }\n",
       "\n",
       "    .dataframe tbody tr th {\n",
       "        vertical-align: top;\n",
       "    }\n",
       "\n",
       "    .dataframe thead th {\n",
       "        text-align: right;\n",
       "    }\n",
       "</style>\n",
       "<table border=\"1\" class=\"dataframe\">\n",
       "  <thead>\n",
       "    <tr style=\"text-align: right;\">\n",
       "      <th></th>\n",
       "      <th>Nasdaq Traded</th>\n",
       "      <th>Symbol</th>\n",
       "      <th>Security Name</th>\n",
       "      <th>Listing Exchange</th>\n",
       "      <th>Market Category</th>\n",
       "      <th>ETF</th>\n",
       "      <th>Round Lot Size</th>\n",
       "      <th>Test Issue</th>\n",
       "      <th>Financial Status</th>\n",
       "      <th>CQS Symbol</th>\n",
       "      <th>NASDAQ Symbol</th>\n",
       "      <th>NextShares</th>\n",
       "    </tr>\n",
       "  </thead>\n",
       "  <tbody>\n",
       "    <tr>\n",
       "      <th>3583</th>\n",
       "      <td>Y</td>\n",
       "      <td>ICLN</td>\n",
       "      <td>iShares S&amp;P Global Clean Energy Index Fund</td>\n",
       "      <td>Q</td>\n",
       "      <td>G</td>\n",
       "      <td>Y</td>\n",
       "      <td>100.0</td>\n",
       "      <td>N</td>\n",
       "      <td>N</td>\n",
       "      <td>NaN</td>\n",
       "      <td>ICLN</td>\n",
       "      <td>N</td>\n",
       "    </tr>\n",
       "  </tbody>\n",
       "</table>\n",
       "</div>"
      ],
      "text/plain": [
       "     Nasdaq Traded Symbol                               Security Name  \\\n",
       "3583             Y   ICLN  iShares S&P Global Clean Energy Index Fund   \n",
       "\n",
       "     Listing Exchange Market Category ETF  Round Lot Size Test Issue  \\\n",
       "3583                Q               G   Y           100.0          N   \n",
       "\n",
       "     Financial Status CQS Symbol NASDAQ Symbol NextShares  \n",
       "3583                N        NaN          ICLN          N  "
      ]
     },
     "execution_count": 38,
     "metadata": {},
     "output_type": "execute_result"
    }
   ],
   "source": [
    "etf"
   ]
  },
  {
   "cell_type": "code",
   "execution_count": 39,
   "id": "5503cdc0-5bfa-4e86-a844-c198ccac89d8",
   "metadata": {},
   "outputs": [],
   "source": [
    "symbol_etf = etf[\"Symbol\"].values[0]"
   ]
  },
  {
   "cell_type": "code",
   "execution_count": 40,
   "id": "b7344de3-011b-4584-afc6-fb5acc838c8a",
   "metadata": {},
   "outputs": [
    {
     "data": {
      "text/plain": [
       "'ICLN'"
      ]
     },
     "execution_count": 40,
     "metadata": {},
     "output_type": "execute_result"
    }
   ],
   "source": [
    "symbol_etf"
   ]
  },
  {
   "cell_type": "code",
   "execution_count": 41,
   "id": "c6fa442f-4689-4807-a4fb-1ac22af68148",
   "metadata": {},
   "outputs": [],
   "source": [
    "# possible file format for configuration?\n",
    "import json"
   ]
  },
  {
   "cell_type": "code",
   "execution_count": 42,
   "id": "807c17a9-8143-490c-9f52-08751b29fb28",
   "metadata": {},
   "outputs": [],
   "source": [
    "portfolio = {\n",
    "    \"symbols\": [symbol_ggl, symbol_toyota, symbol_tsm, symbol_lg, symbol_pp, symbol_ed, symbol_etf]\n",
    "}"
   ]
  },
  {
   "cell_type": "code",
   "execution_count": 43,
   "id": "5a8c309b-5590-4ec9-96d1-3616614ca8ac",
   "metadata": {},
   "outputs": [
    {
     "data": {
      "text/plain": [
       "'{\"symbols\": [\"GOOGL\", \"TM\", \"TSM\", \"LPL\", \"PLUG\", \"ED\", \"ICLN\"]}'"
      ]
     },
     "execution_count": 43,
     "metadata": {},
     "output_type": "execute_result"
    }
   ],
   "source": [
    "json.dumps(portfolio)"
   ]
  },
  {
   "cell_type": "code",
   "execution_count": 44,
   "id": "ab69e0cd-cb00-4271-b378-1361be6afbac",
   "metadata": {},
   "outputs": [],
   "source": [
    "# create file:\n",
    "# open a file from disk\n",
    "with open(\"portfolio.json\", \"w\") as f:\n",
    "    f.write(json.dumps(portfolio))\n",
    "\n",
    "# at this point the file is closed again to prevent any corruption of data"
   ]
  },
  {
   "cell_type": "code",
   "execution_count": 45,
   "id": "2e550480-a3f1-4e83-83de-89f462d40e6a",
   "metadata": {},
   "outputs": [
    {
     "data": {
      "text/html": [
       "<div>\n",
       "<style scoped>\n",
       "    .dataframe tbody tr th:only-of-type {\n",
       "        vertical-align: middle;\n",
       "    }\n",
       "\n",
       "    .dataframe tbody tr th {\n",
       "        vertical-align: top;\n",
       "    }\n",
       "\n",
       "    .dataframe thead th {\n",
       "        text-align: right;\n",
       "    }\n",
       "</style>\n",
       "<table border=\"1\" class=\"dataframe\">\n",
       "  <thead>\n",
       "    <tr style=\"text-align: right;\">\n",
       "      <th></th>\n",
       "      <th>Date</th>\n",
       "      <th>Open</th>\n",
       "      <th>High</th>\n",
       "      <th>Low</th>\n",
       "      <th>Close</th>\n",
       "      <th>Adj Close</th>\n",
       "      <th>Volume</th>\n",
       "    </tr>\n",
       "  </thead>\n",
       "  <tbody>\n",
       "    <tr>\n",
       "      <th>0</th>\n",
       "      <td>2008-06-25</td>\n",
       "      <td>52.250000</td>\n",
       "      <td>52.980000</td>\n",
       "      <td>52.250000</td>\n",
       "      <td>52.770000</td>\n",
       "      <td>39.720451</td>\n",
       "      <td>2100</td>\n",
       "    </tr>\n",
       "    <tr>\n",
       "      <th>1</th>\n",
       "      <td>2008-06-26</td>\n",
       "      <td>60.000000</td>\n",
       "      <td>60.000000</td>\n",
       "      <td>50.990002</td>\n",
       "      <td>51.060001</td>\n",
       "      <td>38.433311</td>\n",
       "      <td>9800</td>\n",
       "    </tr>\n",
       "    <tr>\n",
       "      <th>2</th>\n",
       "      <td>2008-06-27</td>\n",
       "      <td>50.790001</td>\n",
       "      <td>50.790001</td>\n",
       "      <td>50.090000</td>\n",
       "      <td>50.160000</td>\n",
       "      <td>37.755878</td>\n",
       "      <td>7700</td>\n",
       "    </tr>\n",
       "    <tr>\n",
       "      <th>3</th>\n",
       "      <td>2008-06-30</td>\n",
       "      <td>50.770000</td>\n",
       "      <td>50.959999</td>\n",
       "      <td>50.250000</td>\n",
       "      <td>50.250000</td>\n",
       "      <td>37.823627</td>\n",
       "      <td>17100</td>\n",
       "    </tr>\n",
       "    <tr>\n",
       "      <th>4</th>\n",
       "      <td>2008-07-01</td>\n",
       "      <td>50.000000</td>\n",
       "      <td>50.000000</td>\n",
       "      <td>48.060001</td>\n",
       "      <td>48.799999</td>\n",
       "      <td>36.732201</td>\n",
       "      <td>14900</td>\n",
       "    </tr>\n",
       "  </tbody>\n",
       "</table>\n",
       "</div>"
      ],
      "text/plain": [
       "         Date       Open       High        Low      Close  Adj Close  Volume\n",
       "0  2008-06-25  52.250000  52.980000  52.250000  52.770000  39.720451    2100\n",
       "1  2008-06-26  60.000000  60.000000  50.990002  51.060001  38.433311    9800\n",
       "2  2008-06-27  50.790001  50.790001  50.090000  50.160000  37.755878    7700\n",
       "3  2008-06-30  50.770000  50.959999  50.250000  50.250000  37.823627   17100\n",
       "4  2008-07-01  50.000000  50.000000  48.060001  48.799999  36.732201   14900"
      ]
     },
     "execution_count": 45,
     "metadata": {},
     "output_type": "execute_result"
    }
   ],
   "source": [
    "pd.read_csv(\"data/etfs/ICLN.csv\").head()"
   ]
  },
  {
   "cell_type": "markdown",
   "id": "21e44d74-af16-4ef0-9b86-aca157ed454b",
   "metadata": {},
   "source": [
    "## See what data is available"
   ]
  },
  {
   "cell_type": "code",
   "execution_count": 46,
   "id": "1dcdb2df-b4b9-421b-85bd-8d9209282b1d",
   "metadata": {},
   "outputs": [],
   "source": [
    "asset = pd.read_csv(\"data/stocks/TSM.csv\")"
   ]
  },
  {
   "cell_type": "code",
   "execution_count": 47,
   "id": "c583cc5a-e67d-41d3-bafa-689a7746301d",
   "metadata": {},
   "outputs": [
    {
     "data": {
      "text/html": [
       "<div>\n",
       "<style scoped>\n",
       "    .dataframe tbody tr th:only-of-type {\n",
       "        vertical-align: middle;\n",
       "    }\n",
       "\n",
       "    .dataframe tbody tr th {\n",
       "        vertical-align: top;\n",
       "    }\n",
       "\n",
       "    .dataframe thead th {\n",
       "        text-align: right;\n",
       "    }\n",
       "</style>\n",
       "<table border=\"1\" class=\"dataframe\">\n",
       "  <thead>\n",
       "    <tr style=\"text-align: right;\">\n",
       "      <th></th>\n",
       "      <th>Date</th>\n",
       "      <th>Open</th>\n",
       "      <th>High</th>\n",
       "      <th>Low</th>\n",
       "      <th>Close</th>\n",
       "      <th>Adj Close</th>\n",
       "      <th>Volume</th>\n",
       "    </tr>\n",
       "  </thead>\n",
       "  <tbody>\n",
       "    <tr>\n",
       "      <th>0</th>\n",
       "      <td>1997-10-09</td>\n",
       "      <td>5.646040</td>\n",
       "      <td>6.562691</td>\n",
       "      <td>5.646040</td>\n",
       "      <td>6.323565</td>\n",
       "      <td>3.577769</td>\n",
       "      <td>10201100</td>\n",
       "    </tr>\n",
       "    <tr>\n",
       "      <th>1</th>\n",
       "      <td>1997-10-10</td>\n",
       "      <td>7.014374</td>\n",
       "      <td>7.040944</td>\n",
       "      <td>6.363419</td>\n",
       "      <td>6.615830</td>\n",
       "      <td>3.743128</td>\n",
       "      <td>10668500</td>\n",
       "    </tr>\n",
       "    <tr>\n",
       "      <th>2</th>\n",
       "      <td>1997-10-13</td>\n",
       "      <td>6.629115</td>\n",
       "      <td>6.629115</td>\n",
       "      <td>6.443128</td>\n",
       "      <td>6.469697</td>\n",
       "      <td>3.660448</td>\n",
       "      <td>3043300</td>\n",
       "    </tr>\n",
       "    <tr>\n",
       "      <th>3</th>\n",
       "      <td>1997-10-14</td>\n",
       "      <td>6.416558</td>\n",
       "      <td>6.429843</td>\n",
       "      <td>6.031299</td>\n",
       "      <td>6.204001</td>\n",
       "      <td>3.510121</td>\n",
       "      <td>2549200</td>\n",
       "    </tr>\n",
       "    <tr>\n",
       "      <th>4</th>\n",
       "      <td>1997-10-15</td>\n",
       "      <td>5.818742</td>\n",
       "      <td>6.044584</td>\n",
       "      <td>5.805458</td>\n",
       "      <td>6.031299</td>\n",
       "      <td>3.412410</td>\n",
       "      <td>3166400</td>\n",
       "    </tr>\n",
       "  </tbody>\n",
       "</table>\n",
       "</div>"
      ],
      "text/plain": [
       "         Date      Open      High       Low     Close  Adj Close    Volume\n",
       "0  1997-10-09  5.646040  6.562691  5.646040  6.323565   3.577769  10201100\n",
       "1  1997-10-10  7.014374  7.040944  6.363419  6.615830   3.743128  10668500\n",
       "2  1997-10-13  6.629115  6.629115  6.443128  6.469697   3.660448   3043300\n",
       "3  1997-10-14  6.416558  6.429843  6.031299  6.204001   3.510121   2549200\n",
       "4  1997-10-15  5.818742  6.044584  5.805458  6.031299   3.412410   3166400"
      ]
     },
     "execution_count": 47,
     "metadata": {},
     "output_type": "execute_result"
    }
   ],
   "source": [
    "# see what data is available for TSM\n",
    "asset.head()"
   ]
  },
  {
   "cell_type": "markdown",
   "id": "eb781edc-474f-48f9-9cfa-e559d14daba9",
   "metadata": {},
   "source": [
    "### Data structure per asset:\n",
    "The date for every symbol is saved in CSV format with common fields:\n",
    "\n",
    "  - **Date**: specifies trading date\n",
    "  - **Open**: opening price\n",
    "  - **High**: maximum price during the day\n",
    "  - **Low**: minimum price during the day\n",
    "  - **Close**: close price adjusted for splits\n",
    "  - **Adj** Close: adjusted close price adjusted for both dividends and splits.\n",
    "  - **Volume**: the number of shares that changed hands during a given day\n"
   ]
  },
  {
   "cell_type": "markdown",
   "id": "6f7f0546",
   "metadata": {},
   "source": []
  }
 ],
 "metadata": {
  "kernelspec": {
   "display_name": "Stock Project",
   "language": "python",
   "name": "stock_project"
  },
  "language_info": {
   "codemirror_mode": {
    "name": "ipython",
    "version": 3
   },
   "file_extension": ".py",
   "mimetype": "text/x-python",
   "name": "python",
   "nbconvert_exporter": "python",
   "pygments_lexer": "ipython3",
   "version": "3.10.4"
  }
 },
 "nbformat": 4,
 "nbformat_minor": 5
}
