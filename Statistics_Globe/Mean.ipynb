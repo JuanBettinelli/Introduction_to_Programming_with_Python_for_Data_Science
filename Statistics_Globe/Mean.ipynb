{
 "cells": [
  {
   "cell_type": "markdown",
   "id": "7e8c6162",
   "metadata": {},
   "source": [
    "https://statisticsglobe.com/calculate-mean-python"
   ]
  },
  {
   "cell_type": "markdown",
   "id": "2a5a504b",
   "metadata": {},
   "source": [
    "__Calculate Mean in Python (5 Examples)__\n",
    " \n",
    "\n",
    "In this tutorial, I’ll demonstrate how to compute the mean of a list and the columns of a pandas DataFrame in Python programming.\n",
    "\n",
    "The content of the article is structured as follows:\n",
    "\n",
    "1) Example 1: Mean of List Object\n",
    "2) Example 2: Mean of One Particular Column in pandas DataFrame\n",
    "3) Example 3: Mean of All Columns in pandas DataFrame\n",
    "4) Example 4: Mean of Rows in pandas DataFrame\n",
    "5) Example 5: Mean by Group\n",
    "6) Video, Further Resources & Summary\n",
    "If you want to learn more about these contents, keep reading:\n",
    "\n",
    " \n",
    "\n",
    "Example 1: Mean of List Object\n",
    "This example illustrates how to get the average of the values in a list object.\n",
    "\n",
    "For this example, we first have to create an example list:\n",
    "\n",
    "my_list = [1, 4, 6, 1, 3, 1, 4, 5]                      # Create example list\n",
    "print(my_list)                                          # Print example list\n",
    "# [1, 4, 6, 1, 3, 1, 4, 5]\n",
    "Furthermore, we have to import the NumPy library:\n",
    "\n",
    "import numpy as np                                      # Load NumPy\n",
    "Now, we can apply the mean function provided by the NumPy library to our example list as shown below:\n",
    "\n",
    "print(np.mean(my_list))                                 # Get mean of list\n",
    "# 3.125\n",
    "The previous console output shows our final result, i.e. the mean of our list is 3.125.\n",
    "\n",
    " \n",
    "\n",
    "Example 2: Mean of One Particular Column in pandas DataFrame\n",
    "The Python syntax below explains how to compute the mean of a specific column in a pandas DataFrame.\n",
    "\n",
    "As a first step, we have to import the pandas library:\n",
    "\n",
    "import pandas as pd                                     # Import pandas library in Python\n",
    "Next, we also have to create an exemplifying pandas DataFrame:\n",
    "\n",
    "data = pd.DataFrame({'x1':[6, 2, 7, 5, 3, 7, 2, 7, 9],  # Create pandas DataFrame\n",
    "                     'x2':range(0, 9),\n",
    "                     'group':['A', 'B', 'B', 'A', 'A', 'C', 'C', 'B', 'A']})\n",
    "print(data)                                             # Print pandas DataFrame\n",
    " \n",
    "\n",
    "table 1 DataFrame calculate mean python programming language\n",
    "\n",
    " \n",
    "\n",
    "As shown in Table 1, the previous Python programming syntax has constructed a pandas DataFrame containing three columns called x1, x2, and group.\n",
    "\n",
    "The columns x1 and x2 contain floats and the column group is a group indicator (more on that later).\n",
    "\n",
    "Let’s assume that we want to find the average of the variable x1. Then, we can apply the following Python syntax:\n",
    "\n",
    "print(data['x1'].mean())                                # Get mean of one column\n",
    "# 5.333333333333333\n",
    "As you can see, the mean of the column x1 is 5.33.\n",
    "\n",
    " \n",
    "\n",
    "Example 3: Mean of All Columns in pandas DataFrame\n",
    "We can also calculate the mean of all pandas DataFrame columns (excluding the grouping column).\n",
    "\n",
    "For this, we simply have to apply the mean function to our entire data set:\n",
    "\n",
    "print(data.mean())                                      # Get mean of all columns\n",
    "# x1    5.333333\n",
    "# x2    4.000000\n",
    "# dtype: float64\n",
    " \n",
    "\n",
    "Example 4: Mean of Rows in pandas DataFrame\n",
    "So far, we have calculated mean values for the columns of our pandas DataFrame.\n",
    "\n",
    "The Python syntax below illustrates how to get the mean for each row in our data set.\n",
    "\n",
    "To achieve this, we have to specify the axis argument to be equal to 1:\n",
    "\n",
    "print(data.mean(axis = 1))                              # Get mean of rows\n",
    "# 0    3.0\n",
    "# 1    1.5\n",
    "# 2    4.5\n",
    "# 3    4.0\n",
    "# 4    3.5\n",
    "# 5    6.0\n",
    "# 6    4.0\n",
    "# 7    7.0\n",
    "# 8    8.5\n",
    "# dtype: float64\n",
    " \n",
    "\n",
    "Example 5: Mean by Group\n",
    "Example 5 illustrates how to calculate the column means for each group in a pandas DataFrame separately.\n",
    "\n",
    "For this task, we need to specify the groupby function in addition to the mean function as shown below:\n",
    "\n",
    "print(data.groupby('group').mean())                     # Get mean by group\n",
    "#              x1        x2\n",
    "# group                    \n",
    "# A      5.750000  3.750000\n",
    "# B      5.333333  3.333333\n",
    "# C      4.500000  5.500000\n",
    "The previous output shows a different mean value for each column and each group of our data.\n",
    "\n",
    " \n",
    "\n",
    "Video, Further Resources & Summary\n",
    "Do you need further explanations on the Python programming code of this post? Then you might want to watch the following video on my YouTube channel. I’m illustrating the Python codes of this article in the video.\n",
    "\n",
    " \n",
    "\n",
    "\n",
    " \n",
    "\n",
    "In addition, you could have a look at the other tutorials on my website.\n",
    "\n",
    "Introduction to the pandas Library in Python\n",
    "Calculate Mean by Group in Python\n",
    "mean() Function of NumPy Library\n",
    "mean() Function of statistics Module in Python\n",
    "Harmonic Mean in Python\n",
    "Geometric Mean in Python\n",
    "Mean of Columns & Rows of pandas DataFrame in Python\n",
    "Summary Statistics of pandas DataFrame in Python\n",
    "Python Programming Overview\n",
    " \n",
    "\n",
    "At this point you should have learned how to calculate the average of a list and the columns of a pandas DataFrame in the Python programming language. Don’t hesitate to let me know in the comments, in case you have further questions."
   ]
  },
  {
   "cell_type": "code",
   "execution_count": 1,
   "id": "ced611df",
   "metadata": {},
   "outputs": [
    {
     "name": "stdout",
     "output_type": "stream",
     "text": [
      "[1, 4, 6, 1, 3, 1, 4, 5]\n"
     ]
    }
   ],
   "source": [
    "my_list = [1, 4, 6, 1, 3, 1, 4, 5]                      # Create example list\n",
    "print(my_list)                                          # Print example list\n",
    "# [1, 4, 6, 1, 3, 1, 4, 5]\n"
   ]
  },
  {
   "cell_type": "code",
   "execution_count": 2,
   "id": "fdf72f16",
   "metadata": {},
   "outputs": [],
   "source": [
    "import numpy as np   "
   ]
  },
  {
   "cell_type": "code",
   "execution_count": 3,
   "id": "a2105de8",
   "metadata": {},
   "outputs": [
    {
     "name": "stdout",
     "output_type": "stream",
     "text": [
      "3.125\n"
     ]
    }
   ],
   "source": [
    "print(np.mean(my_list))  "
   ]
  },
  {
   "cell_type": "code",
   "execution_count": 5,
   "id": "ca4d6d66",
   "metadata": {},
   "outputs": [],
   "source": [
    "import pandas as pd                                     # Import pandas library in Python"
   ]
  },
  {
   "cell_type": "code",
   "execution_count": 6,
   "id": "44ec4249",
   "metadata": {},
   "outputs": [
    {
     "name": "stdout",
     "output_type": "stream",
     "text": [
      "   x1  x2 group\n",
      "0   6   0     A\n",
      "1   2   1     B\n",
      "2   7   2     B\n",
      "3   5   3     A\n",
      "4   3   4     A\n",
      "5   7   5     C\n",
      "6   2   6     C\n",
      "7   7   7     B\n",
      "8   9   8     A\n"
     ]
    }
   ],
   "source": [
    "data = pd.DataFrame({'x1':[6, 2, 7, 5, 3, 7, 2, 7, 9],  # Create pandas DataFrame\n",
    "                     'x2':range(0, 9),\n",
    "                     'group':['A', 'B', 'B', 'A', 'A', 'C', 'C', 'B', 'A']})\n",
    "print(data)                                             # Print pandas DataFrame"
   ]
  },
  {
   "cell_type": "code",
   "execution_count": 7,
   "id": "cf7e4597",
   "metadata": {},
   "outputs": [
    {
     "name": "stdout",
     "output_type": "stream",
     "text": [
      "5.333333333333333\n"
     ]
    }
   ],
   "source": [
    "print(data['x1'].mean())                                # Get mean of one column\n",
    "# 5.333333333333333"
   ]
  },
  {
   "cell_type": "code",
   "execution_count": 9,
   "id": "f6b732b2",
   "metadata": {},
   "outputs": [
    {
     "name": "stdout",
     "output_type": "stream",
     "text": [
      "x1    5.333333\n",
      "x2    4.000000\n",
      "dtype: float64\n"
     ]
    },
    {
     "name": "stderr",
     "output_type": "stream",
     "text": [
      "/var/folders/2c/19wbw1_d4pv7bl31_4pf2_xm0000gn/T/ipykernel_18219/2381901752.py:1: FutureWarning: Dropping of nuisance columns in DataFrame reductions (with 'numeric_only=None') is deprecated; in a future version this will raise TypeError.  Select only valid columns before calling the reduction.\n",
      "  print(data.mean())                                      # Get mean of all columns\n"
     ]
    }
   ],
   "source": [
    "print(data.mean())                                      # Get mean of all columns\n",
    "# x1    5.333333\n",
    "# x2    4.000000\n",
    "# dtype: float64"
   ]
  },
  {
   "cell_type": "code",
   "execution_count": 10,
   "id": "f0e345f5",
   "metadata": {},
   "outputs": [
    {
     "name": "stdout",
     "output_type": "stream",
     "text": [
      "0    3.0\n",
      "1    1.5\n",
      "2    4.5\n",
      "3    4.0\n",
      "4    3.5\n",
      "5    6.0\n",
      "6    4.0\n",
      "7    7.0\n",
      "8    8.5\n",
      "dtype: float64\n"
     ]
    },
    {
     "name": "stderr",
     "output_type": "stream",
     "text": [
      "/var/folders/2c/19wbw1_d4pv7bl31_4pf2_xm0000gn/T/ipykernel_18219/415873304.py:1: FutureWarning: Dropping of nuisance columns in DataFrame reductions (with 'numeric_only=None') is deprecated; in a future version this will raise TypeError.  Select only valid columns before calling the reduction.\n",
      "  print(data.mean(axis = 1))                              # Get mean of rows\n"
     ]
    }
   ],
   "source": [
    "print(data.mean(axis = 1))                              # Get mean of rows\n",
    "# 0    3.0\n",
    "# 1    1.5\n",
    "# 2    4.5\n",
    "# 3    4.0\n",
    "# 4    3.5\n",
    "# 5    6.0\n",
    "# 6    4.0\n",
    "# 7    7.0\n",
    "# 8    8.5\n",
    "# dtype: float64"
   ]
  },
  {
   "cell_type": "code",
   "execution_count": 13,
   "id": "8ad28872",
   "metadata": {},
   "outputs": [
    {
     "name": "stdout",
     "output_type": "stream",
     "text": [
      "             x1        x2\n",
      "group                    \n",
      "A      5.750000  3.750000\n",
      "B      5.333333  3.333333\n",
      "C      4.500000  5.500000\n"
     ]
    }
   ],
   "source": [
    "\n",
    "print(data.groupby('group').mean())                     # Get mean by group\n",
    "#              x1        x2\n",
    "# group                    \n",
    "# A      5.750000  3.750000\n",
    "# B      5.333333  3.333333\n",
    "# C      4.500000  5.500000"
   ]
  },
  {
   "cell_type": "code",
   "execution_count": null,
   "id": "962c11b3",
   "metadata": {},
   "outputs": [],
   "source": []
  }
 ],
 "metadata": {
  "kernelspec": {
   "display_name": "Basics [py3.10]",
   "language": "python",
   "name": "basics_py310"
  },
  "language_info": {
   "codemirror_mode": {
    "name": "ipython",
    "version": 3
   },
   "file_extension": ".py",
   "mimetype": "text/x-python",
   "name": "python",
   "nbconvert_exporter": "python",
   "pygments_lexer": "ipython3",
   "version": "3.10.4"
  }
 },
 "nbformat": 4,
 "nbformat_minor": 5
}
