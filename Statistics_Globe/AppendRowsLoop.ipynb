{
 "cells": [
  {
   "cell_type": "markdown",
   "id": "75d0a5dd",
   "metadata": {},
   "source": [
    "https://statisticsglobe.com/append-rows-pandas-dataframe-loop-python"
   ]
  },
  {
   "cell_type": "markdown",
   "id": "b29acf65",
   "metadata": {},
   "source": [
    "__Append Rows to pandas DataFrame in Loop in Python (2 Examples)__\n",
    " \n",
    "\n",
    "In this post, I’ll illustrate how to add new rows to a pandas DataFrame using a for loop in the Python programming language.\n",
    "\n",
    "Table of contents:\n",
    "\n",
    "1) Example 1: Append Rows to pandas DataFrame within for Loop\n",
    "2) Example 2: Append Rows to Empty pandas DataFrame within for Loop\n",
    "3) Video & Further Resources\n",
    "If you want to learn more about these content blocks, keep reading:\n",
    "\n",
    " \n",
    "\n",
    "Example 1: Append Rows to pandas DataFrame within for Loop\n",
    "The following Python syntax illustrates how to add new rows at the bottom of an existing pandas DataFrame within a for loop.\n",
    "\n",
    "We first have to load the pandas library:\n",
    "\n",
    "import pandas as pd                                 # Import pandas library in Python\n",
    "In the next step, we can create an exemplifying pandas DataFrame for this example:\n",
    "\n",
    "data1 = pd.DataFrame({'x1':range(50, 56),           # Create pandas DataFrame\n",
    "                      'x2':range(10, 16),\n",
    "                      'x3':range(36, 30, - 1)})\n",
    "print(data1)                                        # Print pandas DataFrame\n",
    " \n",
    "\n",
    "table 1 DataFrame append rows pandas dataframe loop python\n",
    "\n",
    " \n",
    "\n",
    "As you can see in Table 1, we have created a pandas data set with three columns and six rows.\n",
    "\n",
    "Now, we can use a for loop to add certain values at the tail of our data set. In this specific example, we’ll add the running index i times the value five.\n",
    "\n",
    "Let’s do this:\n",
    "\n",
    "for i in range(1, 4):                               # Append rows within for loop\n",
    "    data1.loc[len(data1)] = i * 5\n",
    "print(data1)                                        # Print updated DataFrame\n",
    " \n",
    "\n",
    "table 2 DataFrame append rows pandas dataframe loop python\n",
    "\n",
    " \n",
    "\n",
    "By running the previous Python programming code, we have created Table 2, i.e. another pandas DataFrame containing the values of our input data set plus three new rows that have been concatenated within a for loop.\n",
    "\n",
    " \n",
    "\n",
    "Example 2: Append Rows to Empty pandas DataFrame within for Loop\n",
    "In Example 1, I have explained how to combine an already existing pandas DataFrame with new rows created in a for loop.\n",
    "\n",
    "In this section, I’ll demonstrate how to use a loop to build up a new data set from scratch.\n",
    "\n",
    "Let’s first create an empty pandas DataFrame:\n",
    "\n",
    "data2 = pd.DataFrame(columns = ['x1', 'x2', 'x3'])  # Create empty DataFrame with column names\n",
    "print(data2)                                        # Print empty DataFrame with column names\n",
    "# Empty DataFrame\n",
    "# Columns: [x1, x2, x3]\n",
    "# Index: []\n",
    "In the next step, we can use a for loop to consecutively append new rows to our empty DataFrame:\n",
    "\n",
    "for i in range(5):                                  # Append rows within for loop\n",
    "    data2.loc[len(data2)] = i * 5\n",
    "print(data2)                                        # Print updated DataFrame\n",
    " \n",
    "\n",
    "table 3 DataFrame append rows pandas dataframe loop python\n",
    "\n",
    " \n",
    "\n",
    "As shown in Table 3, we have created a new pandas DataFrame where all values have been combined, filled in, and stacked within a for loop.\n",
    "\n",
    " \n",
    "\n",
    "Video & Further Resources\n",
    "Do you want to know more about the addition of new rows to a pandas DataFrame within a loop? Then I recommend having a look at the following video on my YouTube channel. I show the Python programming codes of this article in the video instruction:\n",
    "\n",
    " \n",
    "\n",
    "The YouTube video will be added soon.\n",
    "\n",
    " \n",
    "\n",
    "Furthermore, you may want to have a look at the related tutorials on www.statisticsglobe.com. Some other articles can be found below.\n",
    "\n",
    "Iterate Through Rows of pandas DataFrame in Python\n",
    "Loop Through Index of pandas DataFrame\n",
    "Append Values to pandas DataFrame in Python\n",
    "Sum of Columns & Rows of pandas DataFrame in Python\n",
    "Extract Top & Bottom N Rows from pandas DataFrame in Python\n",
    "Select Rows of pandas DataFrame by Index in Python\n",
    "Introduction to the pandas Library in Python\n",
    "Python Programming Language\n",
    " \n",
    "\n",
    "At this point you should have learned how to append new rows to a pandas DataFrame within a for loop in the Python programming language. In case you have any additional questions, tell me about it in the comments section.\n",
    "\n"
   ]
  },
  {
   "cell_type": "code",
   "execution_count": 2,
   "id": "20aeacce",
   "metadata": {},
   "outputs": [],
   "source": [
    "import pandas as pd                                 # Import pandas library in Python"
   ]
  },
  {
   "cell_type": "code",
   "execution_count": 3,
   "id": "ef883225",
   "metadata": {},
   "outputs": [
    {
     "name": "stdout",
     "output_type": "stream",
     "text": [
      "   x1  x2  x3\n",
      "0  50  10  36\n",
      "1  51  11  35\n",
      "2  52  12  34\n",
      "3  53  13  33\n",
      "4  54  14  32\n",
      "5  55  15  31\n"
     ]
    }
   ],
   "source": [
    "data1 = pd.DataFrame({'x1':range(50, 56),           # Create pandas DataFrame\n",
    "                      'x2':range(10, 16),\n",
    "                      'x3':range(36, 30, - 1)})\n",
    "print(data1)                                        # Print pandas DataFrame"
   ]
  },
  {
   "cell_type": "code",
   "execution_count": 4,
   "id": "da000580",
   "metadata": {},
   "outputs": [
    {
     "name": "stdout",
     "output_type": "stream",
     "text": [
      "   x1  x2  x3\n",
      "0  50  10  36\n",
      "1  51  11  35\n",
      "2  52  12  34\n",
      "3  53  13  33\n",
      "4  54  14  32\n",
      "5  55  15  31\n",
      "6   5   5   5\n",
      "7  10  10  10\n",
      "8  15  15  15\n"
     ]
    }
   ],
   "source": [
    "for i in range(1, 4):                               # Append rows within for loop\n",
    "    data1.loc[len(data1)] = i * 5\n",
    "print(data1)                                        # Print updated DataFrame"
   ]
  },
  {
   "cell_type": "code",
   "execution_count": 5,
   "id": "c98480f9",
   "metadata": {},
   "outputs": [
    {
     "name": "stdout",
     "output_type": "stream",
     "text": [
      "Empty DataFrame\n",
      "Columns: [x1, x2, x3]\n",
      "Index: []\n"
     ]
    }
   ],
   "source": [
    "data2 = pd.DataFrame(columns = ['x1', 'x2', 'x3'])  # Create empty DataFrame with column names\n",
    "print(data2)                                        # Print empty DataFrame with column names\n",
    "# Empty DataFrame\n",
    "# Columns: [x1, x2, x3]\n",
    "# Index: []"
   ]
  },
  {
   "cell_type": "code",
   "execution_count": 6,
   "id": "4ae1304e",
   "metadata": {},
   "outputs": [
    {
     "name": "stdout",
     "output_type": "stream",
     "text": [
      "   x1  x2  x3\n",
      "0   0   0   0\n",
      "1   5   5   5\n",
      "2  10  10  10\n",
      "3  15  15  15\n",
      "4  20  20  20\n"
     ]
    }
   ],
   "source": [
    "for i in range(5):                                  # Append rows within for loop\n",
    "    data2.loc[len(data2)] = i * 5\n",
    "print(data2)                                        # Print updated DataFrame"
   ]
  },
  {
   "cell_type": "code",
   "execution_count": null,
   "id": "83874b6a",
   "metadata": {},
   "outputs": [],
   "source": []
  }
 ],
 "metadata": {
  "kernelspec": {
   "display_name": "Basics [py3.10]",
   "language": "python",
   "name": "basics_py310"
  },
  "language_info": {
   "codemirror_mode": {
    "name": "ipython",
    "version": 3
   },
   "file_extension": ".py",
   "mimetype": "text/x-python",
   "name": "python",
   "nbconvert_exporter": "python",
   "pygments_lexer": "ipython3",
   "version": "3.10.4"
  }
 },
 "nbformat": 4,
 "nbformat_minor": 5
}
