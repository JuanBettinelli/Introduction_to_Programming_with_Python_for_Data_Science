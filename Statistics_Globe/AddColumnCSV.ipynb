{
 "cells": [
  {
   "cell_type": "markdown",
   "id": "e3505d4e",
   "metadata": {},
   "source": [
    "https://statisticsglobe.com/add-new-column-existing-csv-file-python"
   ]
  },
  {
   "cell_type": "markdown",
   "id": "02a08a7d",
   "metadata": {},
   "source": [
    "__Add New Column to Existing CSV File in Python (Example)__\n",
    " \n",
    "\n",
    "In this tutorial you’ll learn how to add a new column to a CSV file in the Python programming language.\n",
    "\n",
    "The content of the post looks as follows:\n",
    "\n",
    "1) Example Data & Add-On Libraries\n",
    "2) Example: Appending a New Column to a pandas DataFrame in a CSV File\n",
    "3) Video, Further Resources & Summary\n",
    "Let’s get started!\n",
    "\n",
    " \n",
    "\n",
    "Example Data & Add-On Libraries\n",
    "We first have to load the pandas library, in order to apply the corresponding functions:\n",
    "\n",
    "import pandas as pd                                          # Import pandas library\n",
    "Furthermore, have a look at the exemplifying pandas DataFrame below:\n",
    "\n",
    "data = pd.DataFrame({'x1':range(10, 17),                     # Create pandas DataFrame\n",
    "                     'x2':['a', 'b', 'c', 'd', 'e', 'f', 'g'],\n",
    "                     'x3':[3, 9, 7, 7, 3, 2, 5],\n",
    "                     'x4':range(15, 8, - 1)})\n",
    "print(data)                                                  # Print pandas DataFrame\n",
    " \n",
    "\n",
    "table 1 DataFrame add new column existing csv file python\n",
    "\n",
    " \n",
    "\n",
    "Have a look at the previous table. It shows that our example data contains seven rows and four columns.\n",
    "\n",
    "Let’s export this data set to a CSV file that we can use for the following example:\n",
    "\n",
    "data.to_csv('data.csv', index = False)                       # Export pandas DataFrame\n",
    "Furthermore, consider the following list object. In the following example, we will add this list as a new column to our pandas DataFrame:\n",
    "\n",
    "new_col = ['foo', 'bar', 'foo', 'foo', 'bar', 'bar', 'bar']  # Create list object\n",
    "print(new_col)                                               # Print list object\n",
    "# ['foo', 'bar', 'foo', 'foo', 'bar', 'bar', 'bar']\n",
    "Now, we are set up and can move on to the example code…\n",
    "\n",
    " \n",
    "\n",
    "Example: Appending a New Column to a pandas DataFrame in a CSV File\n",
    "In this example, I’ll illustrate how to append a new variable to a pandas DataFrame in a CSV file in Python.\n",
    "\n",
    "For this task, we first have to import the CSV file using the read_csv function:\n",
    "\n",
    "data_new = pd.read_csv('data.csv')                           # Read CSV file\n",
    "In the next step, we can add our list as a new column to our pandas DataFrame:\n",
    "\n",
    "data_new['new_col'] = new_col                                # Append list as new variable\n",
    "Finally, we can export the updated pandas DataFrame to a new CSV file as shown below:\n",
    "\n",
    "data_new.to_csv('data_new.csv')                              # Export new pandas DataFrame\n",
    "This CSV file will contain our input data set as well as the example list as a new variable.\n",
    "\n",
    "Note that we could specify the same CSV file name within the to_csv function to overwrite our input file. This has to be done with care though, because it will be difficult to restore the old file in case something goes wrong.\n",
    "\n",
    " \n",
    "\n",
    "Video, Further Resources & Summary\n",
    "Do you need further explanations on the Python programming code of this article? Then I can recommend having a look at the following video on my YouTube channel. I illustrate the content of this article in the video.\n",
    "\n",
    " \n",
    "\n",
    "The YouTube video will be added soon.\n",
    "\n",
    " \n",
    "\n",
    "Furthermore, you might want to read the related articles on this website. Some articles can be found below:\n",
    "\n",
    "Write pandas DataFrame to CSV File in Python\n",
    "Add Column from Another pandas DataFrame in Python\n",
    "Add Column to pandas DataFrame in Python\n",
    "Introduction to the pandas Library in Python\n",
    "All Python Programming Tutorials\n",
    " \n",
    "\n",
    "In summary: At this point of the tutorial you should know how to combine and append a new variable to a CSV file in the Python programming language. In case you have additional comments or questions, don’t hesitate to let me know in the comments.\n",
    "\n",
    " "
   ]
  },
  {
   "cell_type": "code",
   "execution_count": 1,
   "id": "d1bd8731",
   "metadata": {},
   "outputs": [],
   "source": [
    "import pandas as pd                                          # Import pandas library"
   ]
  },
  {
   "cell_type": "code",
   "execution_count": 2,
   "id": "897bb954",
   "metadata": {},
   "outputs": [
    {
     "name": "stdout",
     "output_type": "stream",
     "text": [
      "   x1 x2  x3  x4\n",
      "0  10  a   3  15\n",
      "1  11  b   9  14\n",
      "2  12  c   7  13\n",
      "3  13  d   7  12\n",
      "4  14  e   3  11\n",
      "5  15  f   2  10\n",
      "6  16  g   5   9\n"
     ]
    }
   ],
   "source": [
    "data = pd.DataFrame({'x1':range(10, 17),                     # Create pandas DataFrame\n",
    "                     'x2':['a', 'b', 'c', 'd', 'e', 'f', 'g'],\n",
    "                     'x3':[3, 9, 7, 7, 3, 2, 5],\n",
    "                     'x4':range(15, 8, - 1)})\n",
    "print(data)  "
   ]
  },
  {
   "cell_type": "code",
   "execution_count": 3,
   "id": "05cc15ad",
   "metadata": {},
   "outputs": [],
   "source": [
    "data.to_csv('data.csv', index = False)     "
   ]
  },
  {
   "cell_type": "code",
   "execution_count": 4,
   "id": "e8ef5525",
   "metadata": {},
   "outputs": [
    {
     "name": "stdout",
     "output_type": "stream",
     "text": [
      "['foo', 'bar', 'foo', 'foo', 'bar', 'bar', 'bar']\n"
     ]
    }
   ],
   "source": [
    "new_col = ['foo', 'bar', 'foo', 'foo', 'bar', 'bar', 'bar']  # Create list object\n",
    "print(new_col)                                               # Print list object\n",
    "# ['foo', 'bar', 'foo', 'foo', 'bar', 'bar', 'bar']"
   ]
  },
  {
   "cell_type": "code",
   "execution_count": 5,
   "id": "2e2cde9e",
   "metadata": {},
   "outputs": [],
   "source": [
    "data_new = pd.read_csv('data.csv')                           # Read CSV file"
   ]
  },
  {
   "cell_type": "code",
   "execution_count": 6,
   "id": "67e57249",
   "metadata": {},
   "outputs": [],
   "source": [
    "data_new['new_col'] = new_col                                # Append list as new variable"
   ]
  },
  {
   "cell_type": "code",
   "execution_count": 7,
   "id": "25c23b21",
   "metadata": {},
   "outputs": [],
   "source": [
    "data_new.to_csv('data_new.csv')                              # Export new pandas DataFrame"
   ]
  },
  {
   "cell_type": "code",
   "execution_count": null,
   "id": "558dbaea",
   "metadata": {},
   "outputs": [],
   "source": []
  }
 ],
 "metadata": {
  "kernelspec": {
   "display_name": "Basics [py3.10]",
   "language": "python",
   "name": "basics_py310"
  },
  "language_info": {
   "codemirror_mode": {
    "name": "ipython",
    "version": 3
   },
   "file_extension": ".py",
   "mimetype": "text/x-python",
   "name": "python",
   "nbconvert_exporter": "python",
   "pygments_lexer": "ipython3",
   "version": "3.10.4"
  }
 },
 "nbformat": 4,
 "nbformat_minor": 5
}
