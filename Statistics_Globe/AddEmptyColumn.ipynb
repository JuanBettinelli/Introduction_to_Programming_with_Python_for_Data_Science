{
 "cells": [
  {
   "cell_type": "markdown",
   "id": "b8c4621b",
   "metadata": {},
   "source": [
    "https://statisticsglobe.com/add-empty-column-pandas-dataframe-python"
   ]
  },
  {
   "cell_type": "markdown",
   "id": "6dd5eaa4",
   "metadata": {},
   "source": [
    "__Add Empty Column to pandas DataFrame in Python (2 Examples)__"
   ]
  },
  {
   "cell_type": "markdown",
   "id": "0759fbd4",
   "metadata": {},
   "source": [
    "Add Empty Column to pandas DataFrame in Python (2 Examples)\n",
    " \n",
    "\n",
    "In this tutorial, I’ll show how to add a new empty column to a pandas DataFrame in Python.\n",
    "\n",
    "The tutorial will contain these content blocks:\n",
    "\n",
    "1) Example Data & Libraries\n",
    "2) Example 1: Add Empty String Column to pandas DataFrame\n",
    "3) Example 2: Add NaN Column to pandas DataFrame\n",
    "4) Video & Further Resources\n",
    "So now the part you have been waiting for – the examples!\n",
    "\n",
    " \n",
    "\n",
    "Example Data & Libraries\n",
    "First, we need to load the pandas library:\n",
    "\n",
    "import pandas as pd                       # Import pandas\n",
    "We’ll use the following data as a basis for this Python programming tutorial:\n",
    "\n",
    "data = pd.DataFrame({'x1':range(0, 7),    # Create pandas DataFrame\n",
    "                     'x2':['x', 'y', 'y', 'x', 'y', 'y', 'x'],\n",
    "                     'x3':range(1, 8)})\n",
    "print(data)                               # Print pandas DataFrame\n",
    " \n",
    "\n",
    "table 1 DataFrame add empty column pandas dataframe python\n",
    "\n",
    " \n",
    "\n",
    "Have a look at the previous table. It shows that our example pandas DataFrame contains seven rows and three columns.\n",
    "\n",
    " \n",
    "\n",
    "Example 1: Add Empty String Column to pandas DataFrame\n",
    "In Example 1, I’ll demonstrate how to append a new variable containing an empty character string to an already existing pandas DataFrame in Python.\n",
    "\n",
    "For this task, we can use the Python syntax below:\n",
    "\n",
    "data_new1 = data.copy()                   # Duplicate pandas DataFrame\n",
    "data_new1['new_col'] = ''                 # New column with empty string\n",
    "print(data_new1)                          # Print new pandas DataFrame\n",
    " \n",
    "\n",
    "table 2 DataFrame add empty column pandas dataframe python\n",
    "\n",
    " \n",
    "\n",
    "After running the previous Python code the new pandas DataFrame shown in Table 2 has been created. As you can see, we have added a completely empty column called new_col to the right side of our input data set.\n",
    "\n",
    " \n",
    "\n",
    "Example 2: Add NaN Column to pandas DataFrame\n",
    "The following Python syntax shows how to join a new column containing NaN values to a pandas DataFrame.\n",
    "\n",
    "To accomplish this, we can use the float function as shown below:\n",
    "\n",
    "data_new2 = data.copy()                   # Duplicate pandas DataFrame\n",
    "data_new2['new_col'] = float('NaN')       # New column with NaN\n",
    "print(data_new2)                          # Print new pandas DataFrame\n",
    " \n",
    "\n",
    "table 3 DataFrame add empty column pandas dataframe python\n",
    "\n",
    " \n",
    "\n",
    "By running the previously shown Python syntax, we have created Table 3, i.e. another pandas DataFrame where we have merged an NaN column to our input DataFrame.\n",
    "\n",
    " \n",
    "\n",
    "Video & Further Resources\n",
    "Do you need further info on the Python programming codes of this article? Then I recommend watching the following video on my YouTube channel. In the video, I’m explaining the Python programming syntax of this article in a live session.\n",
    "\n",
    " \n",
    "\n",
    "The YouTube video will be added soon.\n",
    "\n",
    " \n",
    "\n",
    "Additionally, you might want to have a look at the related tutorials on https://statisticsglobe.com/. Some articles can be found below.\n",
    "\n",
    "Convert pandas DataFrame Column to datetime in Python\n",
    "Rename Column of pandas DataFrame by Index in Python\n",
    "Check if Column Exists in pandas DataFrame in Python\n",
    "Get pandas DataFrame Column as List in Python\n",
    "Add Column from Another pandas DataFrame in Python\n",
    "Introduction to the pandas Library in Python\n",
    "Python Programming Tutorials\n",
    " \n",
    "\n",
    "In summary: In this article you have learned how to combine and append a new empty column to a pandas DataFrame in Python programming. If you have additional questions and/or comments, please let me know in the comments.\n",
    "\n",
    " "
   ]
  },
  {
   "cell_type": "code",
   "execution_count": 2,
   "id": "1d3f7062",
   "metadata": {},
   "outputs": [],
   "source": [
    "import pandas as pd                       # Import pandas"
   ]
  },
  {
   "cell_type": "code",
   "execution_count": 3,
   "id": "b3b65582",
   "metadata": {},
   "outputs": [
    {
     "name": "stdout",
     "output_type": "stream",
     "text": [
      "   x1 x2  x3\n",
      "0   0  x   1\n",
      "1   1  y   2\n",
      "2   2  y   3\n",
      "3   3  x   4\n",
      "4   4  y   5\n",
      "5   5  y   6\n",
      "6   6  x   7\n"
     ]
    }
   ],
   "source": [
    "data = pd.DataFrame({'x1':range(0, 7),    # Create pandas DataFrame\n",
    "                     'x2':['x', 'y', 'y', 'x', 'y', 'y', 'x'],\n",
    "                     'x3':range(1, 8)})\n",
    "print(data)                               # Print pandas DataFrame\n"
   ]
  },
  {
   "cell_type": "code",
   "execution_count": 4,
   "id": "a48390d3",
   "metadata": {},
   "outputs": [
    {
     "name": "stdout",
     "output_type": "stream",
     "text": [
      "   x1 x2  x3 new_col\n",
      "0   0  x   1        \n",
      "1   1  y   2        \n",
      "2   2  y   3        \n",
      "3   3  x   4        \n",
      "4   4  y   5        \n",
      "5   5  y   6        \n",
      "6   6  x   7        \n"
     ]
    }
   ],
   "source": [
    "data_new1 = data.copy()                   # Duplicate pandas DataFrame\n",
    "data_new1['new_col'] = ''                 # New column with empty string\n",
    "print(data_new1)                          # Print new pandas DataFrame\n"
   ]
  },
  {
   "cell_type": "code",
   "execution_count": 7,
   "id": "6feb10b0",
   "metadata": {},
   "outputs": [
    {
     "name": "stdout",
     "output_type": "stream",
     "text": [
      "   x1 x2  x3  new_col\n",
      "0   0  x   1      NaN\n",
      "1   1  y   2      NaN\n",
      "2   2  y   3      NaN\n",
      "3   3  x   4      NaN\n",
      "4   4  y   5      NaN\n",
      "5   5  y   6      NaN\n",
      "6   6  x   7      NaN\n"
     ]
    }
   ],
   "source": [
    "data_new2 = data.copy()                   # Duplicate pandas DataFrame\n",
    "data_new2['new_col'] = float('NaN')       # New column with NaN\n",
    "print(data_new2)                          # Print new pandas DataFrame\n"
   ]
  },
  {
   "cell_type": "code",
   "execution_count": null,
   "id": "20bc7320",
   "metadata": {},
   "outputs": [],
   "source": []
  }
 ],
 "metadata": {
  "kernelspec": {
   "display_name": "Basics [py3.10]",
   "language": "python",
   "name": "basics_py310"
  },
  "language_info": {
   "codemirror_mode": {
    "name": "ipython",
    "version": 3
   },
   "file_extension": ".py",
   "mimetype": "text/x-python",
   "name": "python",
   "nbconvert_exporter": "python",
   "pygments_lexer": "ipython3",
   "version": "3.10.4"
  }
 },
 "nbformat": 4,
 "nbformat_minor": 5
}
