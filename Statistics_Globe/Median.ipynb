{
 "cells": [
  {
   "cell_type": "markdown",
   "id": "0febc843",
   "metadata": {},
   "source": [
    "https://statisticsglobe.com/calculate-median-python"
   ]
  },
  {
   "cell_type": "markdown",
   "id": "d645e4b9",
   "metadata": {},
   "source": [
    "__Calculate Median in Python (5 Examples)__\n",
    " \n",
    "\n",
    "In this tutorial, I’ll illustrate how to calculate the median value for a list or the columns of a pandas DataFrame in Python programming.\n",
    "\n",
    "The page is structured as follows:\n",
    "\n",
    "1) Example 1: Median of List Object\n",
    "2) Example 2: Median of One Particular Column in pandas DataFrame\n",
    "3) Example 3: Median of All Columns in pandas DataFrame\n",
    "4) Example 4: Median of Rows in pandas DataFrame\n",
    "5) Example 5: Median by Group in pandas DataFrame\n",
    "6) Video & Further Resources\n",
    "Let’s dive right in…\n",
    "\n",
    " \n",
    "\n",
    "Example 1: Median of List Object\n",
    "This example explains how to get the median value of a list object in Python.\n",
    "\n",
    "First, we have to create an example list:\n",
    "\n",
    "my_list = [1, 4, 3, 2, 1, 3, 7, 1, 4, 1]                      # Create example list\n",
    "print(my_list)                                                # Print example list\n",
    "# [1, 4, 3, 2, 1, 3, 7, 1, 4, 1]\n",
    "Furthermore, we have to load the NumPy library:\n",
    "\n",
    "import numpy as np                                            # Load NumPy library\n",
    "Next, we can apply the median function of the NumPy library to our example list:\n",
    "\n",
    "print(np.median(my_list))                                     # Get median of list\n",
    "# 2.5\n",
    "As you can see based on the previous output, the median of our list is 2.5.\n",
    "\n",
    " \n",
    "\n",
    "Example 2: Median of One Particular Column in pandas DataFrame\n",
    "In Example 2, I’ll illustrate how to find the median value for the columns of a pandas DataFrame.\n",
    "\n",
    "Let’s import pandas to Python:\n",
    "\n",
    "import pandas as pd                                           # Load pandas library\n",
    "Next, let’s create an exemplifying pandas DataFrame:\n",
    "\n",
    "data = pd.DataFrame({'x1':[6, 2, 7, 2, 1, 5, 3, 4, 2, 7, 5],  # Create pandas DataFrame\n",
    "                     'x2':range(0, 11),\n",
    "                     'group':['A', 'B', 'B', 'C', 'B', 'A', 'A', 'C', 'C', 'B', 'A']})\n",
    "print(data)                                                   # Print pandas DataFrame\n",
    " \n",
    "\n",
    "table 1 DataFrame calculate median python programming language\n",
    "\n",
    " \n",
    "\n",
    "After running the previous Python programming code the pandas DataFrame you can see in Table 1 has been created. Our example data set contains two float columns and a group indicator.\n",
    "\n",
    "Next, we can compute the median for one specific column (i.e. x1) as shown below:\n",
    "\n",
    "print(data['x1'].median())                                    # Get median of one column\n",
    "# 4.0\n",
    "The median of the column x1 is equal to 4.0.\n",
    "\n",
    " \n",
    "\n",
    "Example 3: Median of All Columns in pandas DataFrame\n",
    "This example demonstrates how to return the medians for all columns of our pandas DataFrame.\n",
    "\n",
    "For this task, we can simply apply the median function to our entire data set:\n",
    "\n",
    "print(data.median())                                          # Get median of all columns\n",
    "# x1    4.0\n",
    "# x2    5.0\n",
    "# dtype: float64\n",
    "The median of the column x1 is 4.0 (as we already know from the previous example), and the median of the variable x2 is 5.0.\n",
    "\n",
    " \n",
    "\n",
    "Example 4: Median of Rows in pandas DataFrame\n",
    "We can also calculate the median of the rows of a pandas DataFrame in Python.\n",
    "\n",
    "To accomplish this, we have to specify the axis argument within the median function to be equal to 1:\n",
    "\n",
    "print(data.median(axis = 1))                                  # Get median of rows\n",
    "# 0     3.0\n",
    "# 1     1.5\n",
    "# 2     4.5\n",
    "# 3     2.5\n",
    "# 4     2.5\n",
    "# 5     5.0\n",
    "# 6     4.5\n",
    "# 7     5.5\n",
    "# 8     5.0\n",
    "# 9     8.0\n",
    "# 10    7.5\n",
    "# dtype: float64\n",
    " \n",
    "\n",
    "Example 5: Median by Group in pandas DataFrame\n",
    "Example 5 shows how to calculate the median for each pandas DataFrame column by group.\n",
    "\n",
    "For this, we have to use the groupby function in addition to the median function:\n",
    "\n",
    "print(data.groupby('group').median())                         # Get median by group\n",
    "#         x1   x2\n",
    "# group          \n",
    "# A      5.0  5.5\n",
    "# B      4.5  3.0\n",
    "# C      2.0  7.0\n",
    "The previous output shows the median values for all columns and groups in our data set.\n",
    "\n",
    " \n",
    "\n",
    "Video & Further Resources\n",
    "In case you need more info on the Python programming code of this article, I recommend watching the following video on my YouTube channel. I demonstrate the contents of this article in the video:\n",
    "\n",
    " \n",
    "\n",
    "The YouTube video will be added soon.\n",
    "\n",
    " \n",
    "\n",
    "Besides that, you may want to read the related posts on my website:\n",
    "\n",
    "Calculate Median by Group in Python\n",
    "Get Median of Array with np.median Function of NumPy Library\n",
    "median Function of statistics Module\n",
    "Calculate Mean in Python\n",
    "Calculate Mode in Python\n",
    "Introduction to the pandas Library in Python\n",
    "Python Programming Overview\n",
    " \n",
    "\n",
    "To summarize: At this point you should have learned how to compute the median value in the Python programming language. In case you have further comments or questions, please let me know in the comments."
   ]
  },
  {
   "cell_type": "code",
   "execution_count": 2,
   "id": "9aa478f7",
   "metadata": {},
   "outputs": [
    {
     "name": "stdout",
     "output_type": "stream",
     "text": [
      "[1, 4, 3, 2, 1, 3, 7, 1, 4, 1]\n"
     ]
    }
   ],
   "source": [
    "my_list = [1, 4, 3, 2, 1, 3, 7, 1, 4, 1]                      # Create example list\n",
    "print(my_list)                                                # Print example list\n",
    "# [1, 4, 3, 2, 1, 3, 7, 1, 4, 1]"
   ]
  },
  {
   "cell_type": "code",
   "execution_count": 3,
   "id": "09a0ef6c",
   "metadata": {},
   "outputs": [],
   "source": [
    "import numpy as np                                            # Load NumPy library"
   ]
  },
  {
   "cell_type": "code",
   "execution_count": 4,
   "id": "d3193c93",
   "metadata": {},
   "outputs": [
    {
     "name": "stdout",
     "output_type": "stream",
     "text": [
      "2.5\n"
     ]
    }
   ],
   "source": [
    "print(np.median(my_list))                                     # Get median of list\n",
    "# 2.5"
   ]
  },
  {
   "cell_type": "code",
   "execution_count": 5,
   "id": "9d5cdadf",
   "metadata": {},
   "outputs": [
    {
     "data": {
      "text/plain": [
       "2.7"
      ]
     },
     "execution_count": 5,
     "metadata": {},
     "output_type": "execute_result"
    }
   ],
   "source": [
    "np.mean(my_list)"
   ]
  },
  {
   "cell_type": "code",
   "execution_count": 7,
   "id": "b34ee1f9",
   "metadata": {},
   "outputs": [],
   "source": [
    "import pandas as pd                                           # Load pandas library"
   ]
  },
  {
   "cell_type": "code",
   "execution_count": 8,
   "id": "75587718",
   "metadata": {},
   "outputs": [
    {
     "name": "stdout",
     "output_type": "stream",
     "text": [
      "    x1  x2 group\n",
      "0    6   0     A\n",
      "1    2   1     B\n",
      "2    7   2     B\n",
      "3    2   3     C\n",
      "4    1   4     B\n",
      "5    5   5     A\n",
      "6    3   6     A\n",
      "7    4   7     C\n",
      "8    2   8     C\n",
      "9    7   9     B\n",
      "10   5  10     A\n"
     ]
    }
   ],
   "source": [
    "data = pd.DataFrame({'x1':[6, 2, 7, 2, 1, 5, 3, 4, 2, 7, 5],  # Create pandas DataFrame\n",
    "                     'x2':range(0, 11),\n",
    "                     'group':['A', 'B', 'B', 'C', 'B', 'A', 'A', 'C', 'C', 'B', 'A']})\n",
    "print(data)                                                   # Print pandas DataFrame"
   ]
  },
  {
   "cell_type": "code",
   "execution_count": 9,
   "id": "bec42198",
   "metadata": {},
   "outputs": [
    {
     "name": "stdout",
     "output_type": "stream",
     "text": [
      "4.0\n"
     ]
    }
   ],
   "source": [
    "print(data['x1'].median())                                    # Get median of one column\n",
    "# 4.0"
   ]
  },
  {
   "cell_type": "code",
   "execution_count": 10,
   "id": "46d094c4",
   "metadata": {},
   "outputs": [
    {
     "name": "stdout",
     "output_type": "stream",
     "text": [
      "x1    4.0\n",
      "x2    5.0\n",
      "dtype: float64\n"
     ]
    },
    {
     "name": "stderr",
     "output_type": "stream",
     "text": [
      "/var/folders/2c/19wbw1_d4pv7bl31_4pf2_xm0000gn/T/ipykernel_18333/376718002.py:1: FutureWarning: Dropping of nuisance columns in DataFrame reductions (with 'numeric_only=None') is deprecated; in a future version this will raise TypeError.  Select only valid columns before calling the reduction.\n",
      "  print(data.median())                                          # Get median of all columns\n"
     ]
    }
   ],
   "source": [
    "print(data.median())                                          # Get median of all columns\n",
    "# x1    4.0\n",
    "# x2    5.0\n",
    "# dtype: float64"
   ]
  },
  {
   "cell_type": "code",
   "execution_count": 11,
   "id": "7d176295",
   "metadata": {},
   "outputs": [
    {
     "name": "stdout",
     "output_type": "stream",
     "text": [
      "0     3.0\n",
      "1     1.5\n",
      "2     4.5\n",
      "3     2.5\n",
      "4     2.5\n",
      "5     5.0\n",
      "6     4.5\n",
      "7     5.5\n",
      "8     5.0\n",
      "9     8.0\n",
      "10    7.5\n",
      "dtype: float64\n"
     ]
    },
    {
     "name": "stderr",
     "output_type": "stream",
     "text": [
      "/var/folders/2c/19wbw1_d4pv7bl31_4pf2_xm0000gn/T/ipykernel_18333/360471787.py:1: FutureWarning: Dropping of nuisance columns in DataFrame reductions (with 'numeric_only=None') is deprecated; in a future version this will raise TypeError.  Select only valid columns before calling the reduction.\n",
      "  print(data.median(axis = 1))                                  # Get median of rows\n"
     ]
    }
   ],
   "source": [
    "print(data.median(axis = 1))                                  # Get median of rows\n",
    "# 0     3.0\n",
    "# 1     1.5\n",
    "# 2     4.5\n",
    "# 3     2.5\n",
    "# 4     2.5\n",
    "# 5     5.0\n",
    "# 6     4.5\n",
    "# 7     5.5\n",
    "# 8     5.0\n",
    "# 9     8.0\n",
    "# 10    7.5\n",
    "# dtype: float64"
   ]
  },
  {
   "cell_type": "code",
   "execution_count": 12,
   "id": "0ac1b50b",
   "metadata": {},
   "outputs": [
    {
     "name": "stdout",
     "output_type": "stream",
     "text": [
      "        x1   x2\n",
      "group          \n",
      "A      5.0  5.5\n",
      "B      4.5  3.0\n",
      "C      2.0  7.0\n"
     ]
    }
   ],
   "source": [
    "print(data.groupby('group').median())                         # Get median by group\n",
    "#         x1   x2\n",
    "# group          \n",
    "# A      5.0  5.5\n",
    "# B      4.5  3.0\n",
    "# C      2.0  7.0"
   ]
  },
  {
   "cell_type": "code",
   "execution_count": null,
   "id": "1c933ec0",
   "metadata": {},
   "outputs": [],
   "source": []
  }
 ],
 "metadata": {
  "kernelspec": {
   "display_name": "Basics [py3.10]",
   "language": "python",
   "name": "basics_py310"
  },
  "language_info": {
   "codemirror_mode": {
    "name": "ipython",
    "version": 3
   },
   "file_extension": ".py",
   "mimetype": "text/x-python",
   "name": "python",
   "nbconvert_exporter": "python",
   "pygments_lexer": "ipython3",
   "version": "3.10.4"
  }
 },
 "nbformat": 4,
 "nbformat_minor": 5
}
