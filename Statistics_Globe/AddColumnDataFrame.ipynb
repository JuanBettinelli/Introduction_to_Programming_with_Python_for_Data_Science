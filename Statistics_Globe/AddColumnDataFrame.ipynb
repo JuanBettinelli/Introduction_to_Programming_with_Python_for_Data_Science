{
 "cells": [
  {
   "cell_type": "markdown",
   "id": "38a135c9",
   "metadata": {},
   "source": [
    "https://statisticsglobe.com/add-column-from-another-pandas-dataframe-python"
   ]
  },
  {
   "cell_type": "markdown",
   "id": "f0ee4646",
   "metadata": {},
   "source": [
    "__Add Column from Another pandas DataFrame in Python (Example)__"
   ]
  },
  {
   "cell_type": "markdown",
   "id": "8e1aaf77",
   "metadata": {},
   "source": [
    "Add Column from Another pandas DataFrame in Python (Example)\n",
    " \n",
    "\n",
    "In this Python programming tutorial you’ll learn how to append a column from another pandas DataFrame.\n",
    "\n",
    "Table of contents:\n",
    "\n",
    "1) Example Data & Add-On Libraries\n",
    "2) Example: Append Column from Another pandas DataFrame\n",
    "3) Video, Further Resources & Summary\n",
    "Let’s start right away!\n",
    "\n",
    " \n",
    "\n",
    "Example Data & Add-On Libraries\n",
    "First, we have to import the pandas library to Python:\n",
    "\n",
    "import pandas as pd                          # Import pandas library\n",
    "The following data is used as basement for this Python tutorial:\n",
    "\n",
    "data1 = pd.DataFrame({\"x1\":range(20, 27),    # Create first pandas DataFrame\n",
    "                      \"x2\":[\"a\", \"b\", \"c\", \"d\", \"e\", \"f\", \"g\"],\n",
    "                      \"x3\":range(48, 41, - 1)})\n",
    "print(data1)                                 # Print first pandas DataFrame\n",
    " \n",
    "\n",
    "table 1 DataFrame add column from another pandas dataframe python\n",
    "\n",
    " \n",
    "\n",
    "data2 = pd.DataFrame({\"y1\":range(1, 8),      # Create second pandas DataFrame\n",
    "                      \"y2\":range(8, 1, - 1)})\n",
    "print(data2)                                 # Print second pandas DataFrame\n",
    " \n",
    "\n",
    "table 2 DataFrame add column from another pandas dataframe python\n",
    "\n",
    " \n",
    "\n",
    "As shown in Tables 1 and 2, the previous Python programming code has created two pandas DataFrames with different columns. Both of these data sets have the same number of rows.\n",
    "\n",
    " \n",
    "\n",
    "Example: Append Column from Another pandas DataFrame\n",
    "This example shows how to add a variable from another pandas DataFrame as a new column to a DataFrame in Python.\n",
    "\n",
    "For this task, we can use the Python code below:\n",
    "\n",
    "data_new = data1.copy()                      # Create copy of first DataFrame\n",
    "data_new[\"y2\"] = data2[\"y2\"]                 # Add column from second to first\n",
    "print(data_new)                              # Print updated DataFrame\n",
    " \n",
    "\n",
    "table 3 DataFrame add column from another pandas dataframe python\n",
    "\n",
    " \n",
    "\n",
    "After running the previous syntax the new pandas DataFrame called data_new you can see in Table 3 has been created. It contains the values of the first input data set as well as the variable y2 of the second data set.\n",
    "\n",
    " \n",
    "\n",
    "Video, Further Resources & Summary\n",
    "In case you need more explanations on how to union a column from another data set with an already existing pandas DataFrame, I recommend watching the following video on my YouTube channel. In the video, I’m explaining how to combine a column and a pandas DataFrame using the Python code of this page in the Python programming language:\n",
    "\n",
    " \n",
    "\n",
    "\n",
    " \n",
    "\n",
    "In addition, you may want to have a look at some of the other articles on my website. I have released several related articles already.\n",
    "\n",
    "Types of Joins for pandas DataFrames in Python\n",
    "Add Multiple Columns to pandas DataFrame\n",
    "rbind & cbind pandas DataFrame in Python\n",
    "Combine pandas DataFrames Vertically & Horizontally\n",
    "Merge List of pandas DataFrames in Python\n",
    "Merge pandas DataFrames based on Particular Column\n",
    "Merge pandas DataFrames based on Index\n",
    "Merge Multiple pandas DataFrames in Python\n",
    "Merge Two pandas DataFrames in Python\n",
    "Combine pandas DataFrames with Different Column Names\n",
    "Combine pandas DataFrames with Same Column Names\n",
    "Append Multiple pandas DataFrames in Python\n",
    "Append pandas DataFrame in Python\n",
    "Get Index of Column in pandas DataFrame in Python\n",
    "Delete Column of pandas DataFrame in Python\n",
    "Sort pandas DataFrame by Column in Python\n",
    "Get pandas DataFrame Column as List in Python\n",
    "Get Column Names of pandas DataFrame as List in Python\n",
    "Add Column to pandas DataFrame in Python\n",
    "pandas DataFrame Operations in Python\n",
    "DataFrame Manipulation Using pandas in Python\n",
    "Introduction to the pandas Library in Python\n",
    "Introduction to Python Programming\n",
    " \n",
    "\n",
    "In this article, I have explained how to join and add a column from another pandas DataFrame in Python. In case you have additional questions on how to merge a new variable to a pandas DataFrame, tell me about it in the comments. Furthermore, please subscribe to my email newsletter in order to get updates on new tutorials.\n",
    "\n"
   ]
  },
  {
   "cell_type": "code",
   "execution_count": 1,
   "id": "41c2514c",
   "metadata": {},
   "outputs": [],
   "source": [
    "import pandas as pd                          # Import pandas library\n"
   ]
  },
  {
   "cell_type": "code",
   "execution_count": 2,
   "id": "dfa01ae7",
   "metadata": {},
   "outputs": [
    {
     "name": "stdout",
     "output_type": "stream",
     "text": [
      "   x1 x2  x3\n",
      "0  20  a  48\n",
      "1  21  b  47\n",
      "2  22  c  46\n",
      "3  23  d  45\n",
      "4  24  e  44\n",
      "5  25  f  43\n",
      "6  26  g  42\n"
     ]
    }
   ],
   "source": [
    "data1 = pd.DataFrame({\"x1\":range(20, 27),    # Create first pandas DataFrame\n",
    "                      \"x2\":[\"a\", \"b\", \"c\", \"d\", \"e\", \"f\", \"g\"],\n",
    "                      \"x3\":range(48, 41, - 1)})\n",
    "print(data1)                                 # Print first pandas DataFrame\n"
   ]
  },
  {
   "cell_type": "code",
   "execution_count": 3,
   "id": "9bfda6ed",
   "metadata": {},
   "outputs": [
    {
     "name": "stdout",
     "output_type": "stream",
     "text": [
      "   y1  y2\n",
      "0   1   8\n",
      "1   2   7\n",
      "2   3   6\n",
      "3   4   5\n",
      "4   5   4\n",
      "5   6   3\n",
      "6   7   2\n"
     ]
    }
   ],
   "source": [
    "data2 = pd.DataFrame({\"y1\":range(1, 8),      # Create second pandas DataFrame\n",
    "                      \"y2\":range(8, 1, - 1)})\n",
    "print(data2)                                 # Print second pandas DataFrame"
   ]
  },
  {
   "cell_type": "code",
   "execution_count": 4,
   "id": "3be08117",
   "metadata": {},
   "outputs": [
    {
     "name": "stdout",
     "output_type": "stream",
     "text": [
      "   x1 x2  x3  y2\n",
      "0  20  a  48   8\n",
      "1  21  b  47   7\n",
      "2  22  c  46   6\n",
      "3  23  d  45   5\n",
      "4  24  e  44   4\n",
      "5  25  f  43   3\n",
      "6  26  g  42   2\n"
     ]
    }
   ],
   "source": [
    "data_new = data1.copy()                      # Create copy of first DataFrame\n",
    "data_new[\"y2\"] = data2[\"y2\"]                 # Add column from second to first\n",
    "print(data_new)                              # Print updated DataFrame\n"
   ]
  },
  {
   "cell_type": "code",
   "execution_count": null,
   "id": "4c50632f",
   "metadata": {},
   "outputs": [],
   "source": []
  }
 ],
 "metadata": {
  "kernelspec": {
   "display_name": "Basics [py3.10]",
   "language": "python",
   "name": "basics_py310"
  },
  "language_info": {
   "codemirror_mode": {
    "name": "ipython",
    "version": 3
   },
   "file_extension": ".py",
   "mimetype": "text/x-python",
   "name": "python",
   "nbconvert_exporter": "python",
   "pygments_lexer": "ipython3",
   "version": "3.10.4"
  }
 },
 "nbformat": 4,
 "nbformat_minor": 5
}
