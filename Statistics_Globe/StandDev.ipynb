{
 "cells": [
  {
   "cell_type": "code",
   "execution_count": 1,
   "id": "cb2d4b43",
   "metadata": {},
   "outputs": [
    {
     "name": "stdout",
     "output_type": "stream",
     "text": [
      "[4, 1, 3, 8, 2, 7, 5, 8, 2, 7, 9, 1, 5]\n"
     ]
    }
   ],
   "source": [
    "my_list = [4, 1, 3, 8, 2, 7, 5, 8, 2, 7, 9, 1, 5]  # Create example list\n",
    "print(my_list)                                     # Print example list"
   ]
  },
  {
   "cell_type": "code",
   "execution_count": 2,
   "id": "d4fb3956",
   "metadata": {},
   "outputs": [],
   "source": [
    "import statistics                                  # Import statistics"
   ]
  },
  {
   "cell_type": "code",
   "execution_count": 3,
   "id": "359057be",
   "metadata": {},
   "outputs": [
    {
     "name": "stdout",
     "output_type": "stream",
     "text": [
      "2.7218163096852512\n"
     ]
    }
   ],
   "source": [
    "print(statistics.pstdev(my_list))                  # Apply pstdev() function"
   ]
  },
  {
   "cell_type": "code",
   "execution_count": 4,
   "id": "bc340263",
   "metadata": {},
   "outputs": [
    {
     "name": "stdout",
     "output_type": "stream",
     "text": [
      "2.8329562343320847\n"
     ]
    }
   ],
   "source": [
    "print(statistics.stdev(my_list))                   # Apply stdev() function"
   ]
  },
  {
   "cell_type": "code",
   "execution_count": 5,
   "id": "c00044c5",
   "metadata": {},
   "outputs": [],
   "source": [
    "import numpy as np                       # Import NumPy library in Python"
   ]
  },
  {
   "cell_type": "code",
   "execution_count": 6,
   "id": "6b519ff5",
   "metadata": {},
   "outputs": [
    {
     "name": "stdout",
     "output_type": "stream",
     "text": [
      "[[1 2 7 2 3]\n",
      " [7 1 1 5 6]\n",
      " [5 2 5 5 8]]\n"
     ]
    }
   ],
   "source": [
    "my_array = np.array([[1, 2, 7, 2, 3],    # Create example array\n",
    "                     [7, 1, 1, 5, 6],\n",
    "                     [5, 2, 5, 5, 8]])\n",
    "print(my_array)                          # Print example array"
   ]
  },
  {
   "cell_type": "code",
   "execution_count": 7,
   "id": "74ce7fe3",
   "metadata": {},
   "outputs": [
    {
     "name": "stdout",
     "output_type": "stream",
     "text": [
      "2.3380903889000244\n"
     ]
    }
   ],
   "source": [
    "print(np.std(my_array))                  # Get standard deviation of all array values"
   ]
  },
  {
   "cell_type": "code",
   "execution_count": 8,
   "id": "79d367ed",
   "metadata": {},
   "outputs": [
    {
     "name": "stdout",
     "output_type": "stream",
     "text": [
      "2.4201534780139164\n"
     ]
    }
   ],
   "source": [
    "print(np.std(my_array, ddof = 1))        # Get standard deviation of all array values"
   ]
  },
  {
   "cell_type": "code",
   "execution_count": 9,
   "id": "454aaebc",
   "metadata": {},
   "outputs": [
    {
     "name": "stdout",
     "output_type": "stream",
     "text": [
      "[2.49443826 0.47140452 2.49443826 1.41421356 2.05480467]\n"
     ]
    }
   ],
   "source": [
    "print(np.std(my_array, axis = 0))        # Get standard deviation of array columns"
   ]
  },
  {
   "cell_type": "code",
   "execution_count": 10,
   "id": "d9e9e4bc",
   "metadata": {},
   "outputs": [
    {
     "name": "stdout",
     "output_type": "stream",
     "text": [
      "[2.0976177  2.52982213 1.8973666 ]\n"
     ]
    }
   ],
   "source": [
    "print(np.std(my_array, axis = 1))        # Get standard deviation of array rows"
   ]
  },
  {
   "cell_type": "code",
   "execution_count": 11,
   "id": "91fb1bc8",
   "metadata": {},
   "outputs": [
    {
     "name": "stdout",
     "output_type": "stream",
     "text": [
      "[2, 7, 5, 5, 3, 9, 5, 9, 3, 1, 1]\n"
     ]
    }
   ],
   "source": [
    "my_list = [2, 7, 5, 5, 3, 9, 5, 9, 3, 1, 1]      # Create example list\n",
    "print(my_list)                                   # Print example list"
   ]
  },
  {
   "cell_type": "code",
   "execution_count": 12,
   "id": "023acfa6",
   "metadata": {},
   "outputs": [
    {
     "name": "stdout",
     "output_type": "stream",
     "text": [
      "2.7423823870906103\n"
     ]
    }
   ],
   "source": [
    "print(np.std(my_list))                           # Get standard deviation of list"
   ]
  },
  {
   "cell_type": "code",
   "execution_count": 13,
   "id": "44ba0c1f",
   "metadata": {},
   "outputs": [],
   "source": [
    "import pandas as pd      "
   ]
  },
  {
   "cell_type": "code",
   "execution_count": 14,
   "id": "58bf108b",
   "metadata": {},
   "outputs": [
    {
     "name": "stdout",
     "output_type": "stream",
     "text": [
      "    x1  x2   x3 group\n",
      "0   42   5  200     A\n",
      "1   40   9  201     C\n",
      "2   38   7  202     B\n",
      "3   36   3  203     C\n",
      "4   34   1  204     B\n",
      "5   32   4  205     B\n",
      "6   30   5  206     C\n",
      "7   28   4  207     A\n",
      "8   26   1  208     C\n",
      "9   24   2  209     A\n",
      "10  22   3  210     C\n",
      "11  20   3  211     A\n",
      "12  18   8  212     B\n",
      "13  16   1  213     C\n",
      "14  14   7  214     B\n",
      "15  12   5  215     B\n"
     ]
    }
   ],
   "source": [
    "data = pd.DataFrame({'x1':range(42, 11, - 2),    # Create pandas DataFrame\n",
    "                     'x2':[5, 9, 7, 3, 1, 4, 5, 4, 1, 2, 3, 3, 8, 1, 7, 5],\n",
    "                     'x3':range(200, 216),\n",
    "                     'group':['A', 'C', 'B', 'C', 'B', 'B', 'C', 'A', 'C', 'A', 'C', 'A', 'B', 'C', 'B', 'B']})\n",
    "print(data)                                      # Print pandas DataFrame"
   ]
  },
  {
   "cell_type": "code",
   "execution_count": 15,
   "id": "284d4d4e",
   "metadata": {},
   "outputs": [
    {
     "name": "stdout",
     "output_type": "stream",
     "text": [
      "9.521904571390467\n"
     ]
    }
   ],
   "source": [
    "print(data['x1'].std())                          # Get standard deviation of one column\n",
    "# 9.521904571390467"
   ]
  },
  {
   "cell_type": "code",
   "execution_count": 16,
   "id": "a986344a",
   "metadata": {},
   "outputs": [
    {
     "name": "stdout",
     "output_type": "stream",
     "text": [
      "x1    9.521905\n",
      "x2    2.516611\n",
      "x3    4.760952\n",
      "dtype: float64\n"
     ]
    },
    {
     "name": "stderr",
     "output_type": "stream",
     "text": [
      "/var/folders/2c/19wbw1_d4pv7bl31_4pf2_xm0000gn/T/ipykernel_19512/749633502.py:1: FutureWarning: Dropping of nuisance columns in DataFrame reductions (with 'numeric_only=None') is deprecated; in a future version this will raise TypeError.  Select only valid columns before calling the reduction.\n",
      "  print(data.std())                                # Get standard deviation of all columns\n"
     ]
    }
   ],
   "source": [
    "print(data.std())                                # Get standard deviation of all columns"
   ]
  },
  {
   "cell_type": "code",
   "execution_count": 17,
   "id": "bf4b188e",
   "metadata": {},
   "outputs": [
    {
     "name": "stdout",
     "output_type": "stream",
     "text": [
      "0     103.568013\n",
      "1     103.074407\n",
      "2     104.787086\n",
      "3     107.220956\n",
      "4     108.932701\n",
      "5     108.868422\n",
      "6     109.546033\n",
      "7     110.924900\n",
      "8     112.988200\n",
      "9     113.694034\n",
      "10    114.421735\n",
      "11    115.494589\n",
      "12    115.001449\n",
      "13    118.306100\n",
      "14    117.542900\n",
      "15    119.274194\n",
      "dtype: float64\n"
     ]
    },
    {
     "name": "stderr",
     "output_type": "stream",
     "text": [
      "/var/folders/2c/19wbw1_d4pv7bl31_4pf2_xm0000gn/T/ipykernel_19512/829683533.py:1: FutureWarning: Dropping of nuisance columns in DataFrame reductions (with 'numeric_only=None') is deprecated; in a future version this will raise TypeError.  Select only valid columns before calling the reduction.\n",
      "  print(data.std(axis = 1))                        # Get standard deviation of rows\n"
     ]
    }
   ],
   "source": [
    "print(data.std(axis = 1))                        # Get standard deviation of rows"
   ]
  },
  {
   "cell_type": "code",
   "execution_count": 18,
   "id": "9864fa64",
   "metadata": {},
   "outputs": [
    {
     "name": "stdout",
     "output_type": "stream",
     "text": [
      "              x1        x2        x3\n",
      "group                               \n",
      "A       9.574271  1.290994  4.787136\n",
      "B      11.290114  2.581989  5.645057\n",
      "C       8.891944  3.011091  4.445972\n"
     ]
    }
   ],
   "source": [
    "print(data.groupby('group').std())               # Get standard deviation by group"
   ]
  },
  {
   "cell_type": "code",
   "execution_count": 19,
   "id": "d77f7e9a",
   "metadata": {},
   "outputs": [
    {
     "name": "stdout",
     "output_type": "stream",
     "text": [
      "    x1  x2  x3 group1 group2\n",
      "0    5  51  10      B      a\n",
      "1    1  52  11      B      a\n",
      "2    5  53  12      A      a\n",
      "3    2  54  13      A      a\n",
      "4    1  55  14      B      a\n",
      "5    2  56  15      B      a\n",
      "6    9  57  16      A      b\n",
      "7    6  58  17      A      b\n",
      "8    9  59  18      B      b\n",
      "9    4  60  19      B      b\n",
      "10   7  61  20      B      b\n",
      "11   8  62  21      A      b\n"
     ]
    }
   ],
   "source": [
    "data = pd.DataFrame({'x1':[5, 1, 5, 2, 1, 2, 9, 6, 9, 4, 7, 8],  # Create pandas DataFrame\n",
    "                     'x2':range(51, 63),\n",
    "                     'x3':range(10, 22),\n",
    "                     'group1':['B', 'B', 'A', 'A', 'B', 'B', 'A', 'A', 'B', 'B', 'B', 'A'],\n",
    "                     'group2':['a', 'a', 'a', 'a', 'a', 'a', 'b', 'b', 'b', 'b', 'b', 'b']})\n",
    "print(data)  "
   ]
  },
  {
   "cell_type": "code",
   "execution_count": 20,
   "id": "145c5640",
   "metadata": {},
   "outputs": [
    {
     "name": "stdout",
     "output_type": "stream",
     "text": [
      "              x1        x2        x3\n",
      "group1                              \n",
      "A       2.738613  3.563706  3.563706\n",
      "B       3.078342  3.903600  3.903600\n"
     ]
    }
   ],
   "source": [
    "print(data.groupby('group1').std())                  # Get standard deviation by group"
   ]
  },
  {
   "cell_type": "code",
   "execution_count": 21,
   "id": "85b13762",
   "metadata": {},
   "outputs": [
    {
     "name": "stdout",
     "output_type": "stream",
     "text": [
      "                     x1        x2        x3\n",
      "group1 group2                              \n",
      "A      a       2.121320  0.707107  0.707107\n",
      "       b       1.527525  2.645751  2.645751\n",
      "B      a       1.892969  2.380476  2.380476\n",
      "       b       2.516611  1.000000  1.000000\n"
     ]
    }
   ],
   "source": [
    "print(data.groupby(['group1', 'group2']).std())      # Get standard deviation by multiple groups"
   ]
  },
  {
   "cell_type": "code",
   "execution_count": 22,
   "id": "2e5490cf",
   "metadata": {},
   "outputs": [],
   "source": [
    "data.to_csv('data.csv', index = False)      # Export pandas DataFrame to CSV"
   ]
  },
  {
   "cell_type": "code",
   "execution_count": null,
   "id": "39bf1ff5",
   "metadata": {},
   "outputs": [],
   "source": []
  }
 ],
 "metadata": {
  "kernelspec": {
   "display_name": "Basics [py3.10]",
   "language": "python",
   "name": "basics_py310"
  },
  "language_info": {
   "codemirror_mode": {
    "name": "ipython",
    "version": 3
   },
   "file_extension": ".py",
   "mimetype": "text/x-python",
   "name": "python",
   "nbconvert_exporter": "python",
   "pygments_lexer": "ipython3",
   "version": "3.10.4"
  }
 },
 "nbformat": 4,
 "nbformat_minor": 5
}
