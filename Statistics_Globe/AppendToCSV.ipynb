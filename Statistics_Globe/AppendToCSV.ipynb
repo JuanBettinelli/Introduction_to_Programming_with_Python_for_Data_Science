{
 "cells": [
  {
   "cell_type": "markdown",
   "id": "6b76908d",
   "metadata": {},
   "source": [
    "https://statisticsglobe.com/append-pandas-dataframe-existing-csv-file-python"
   ]
  },
  {
   "cell_type": "markdown",
   "id": "9fc89652",
   "metadata": {},
   "source": [
    "__Append pandas DataFrame to Existing CSV File in Python (Example)__\n",
    " \n",
    "\n",
    "In this article you’ll learn how to append a new pandas DataFrame to an existing CSV file in Python programming.\n",
    "\n",
    "Table of contents:\n",
    "\n",
    "1) Example Data & Add-On Libraries\n",
    "2) Example: Concatenate pandas DataFrame to Existing CSV File\n",
    "3) Video, Further Resources & Summary\n",
    "If you want to learn more about these topics, keep reading…\n",
    "\n",
    " \n",
    "\n",
    "Example Data & Add-On Libraries\n",
    "To be able to use the functions of the pandas library, we first have to load pandas:\n",
    "\n",
    "import pandas as pd                                # Load pandas\n",
    "We also need to create some data that we can use in the following examples.\n",
    "\n",
    "data = pd.DataFrame({'x1':range(23, 27),           # Create pandas DataFrame\n",
    "                     'x2':['a', 'b', 'c', 'd'],\n",
    "                     'x3':range(15, 11, - 1)})\n",
    "print(data)                                        # Print pandas DataFrame\n",
    " \n",
    "\n",
    "table 1 DataFrame append pandas dataframe existing csv file python\n",
    "\n",
    " \n",
    "\n",
    "As you can see based on Table 1, our example data is a pandas DataFrame consisting of four rows and three variables.\n",
    "\n",
    "Let’s write these data to a CSV file:\n",
    "\n",
    "data.to_csv('data.csv')                            # Export pandas DataFrame\n",
    "After running the Python code above, you will find a CSV file containing our example data set in your working directory. We will use this CSV file as a basis for the following example.\n",
    "\n",
    "Next, we have to construct a second pandas DataFrame that we will add below the data in our CSV file:\n",
    "\n",
    "data_append = pd.DataFrame({'x1':range(123, 127),  # Create second pandas DataFrame\n",
    "                            'x2':['x', 'x', 'y', 'y'],\n",
    "                            'x3':range(115, 111, - 1)})\n",
    "print(data_append)                                 # Print second pandas DataFrame\n",
    " \n",
    "\n",
    "table 2 DataFrame append pandas dataframe existing csv file python\n",
    "\n",
    " \n",
    "\n",
    "The output of the previous Python programming code is shown in Table 2: We have created another pandas DataFrame containing the same column names but different values as our first data set.\n",
    "\n",
    "Let’s continue to the example!\n",
    "\n",
    " \n",
    "\n",
    "Example: Concatenate pandas DataFrame to Existing CSV File\n",
    "This example illustrates how to append a pandas DataFrame at the bottom of an already existing data set in a CSV file.\n",
    "\n",
    "For this task, we can apply the to_csv function as shown below.\n",
    "\n",
    "Within the to_csv function, we have to specify the name of the CSV file, we have to set the mode argument to be equal to ‘a’, and we have to specify that we want to ignore the header:\n",
    "\n",
    "data_append.to_csv('data.csv',                     # Add new data vertically\n",
    "                   mode = 'a',\n",
    "                   header = False)\n",
    "Once we have executed the Python syntax above, our example CSV file is updated so that the new data is concatenated vertically.\n",
    "\n",
    " \n",
    "\n",
    "Video, Further Resources & Summary\n",
    "Do you want to know more about the addition of a pandas DataFrame to an already existing CSV file? Then I recommend watching the following video on my YouTube channel. In the video, I demonstrate the examples of this article:\n",
    "\n",
    " \n",
    "\n",
    "The YouTube video will be added soon.\n",
    "\n",
    " \n",
    "\n",
    "In addition, you might read the related tutorials on this homepage. I have released numerous tutorials already.\n",
    "\n",
    "Save pandas DataFrame to CSV File in Python\n",
    "Add New Column to Existing CSV File in Python\n",
    "Write pandas DataFrame to CSV File without Index\n",
    "Append Columns to pandas DataFrame in Loop in Python\n",
    "Append Values to pandas DataFrame in Python\n",
    "Append pandas DataFrame in Python in R\n",
    "Append Rows to pandas DataFrame in Loop in Python\n",
    "Introduction to the pandas Library in Python\n",
    "Python Programming Language\n",
    " \n",
    "\n",
    "You have learned in this tutorial how to concatenate and combine a pandas DataFrame to an already existing CSV file in the Python programming language. Let me know in the comments, in case you have any additional questions.\n",
    "\n",
    " "
   ]
  },
  {
   "cell_type": "code",
   "execution_count": 2,
   "id": "cd945c31",
   "metadata": {},
   "outputs": [],
   "source": [
    "import pandas as pd                                # Load pandas"
   ]
  },
  {
   "cell_type": "code",
   "execution_count": 3,
   "id": "c46049e8",
   "metadata": {},
   "outputs": [
    {
     "name": "stdout",
     "output_type": "stream",
     "text": [
      "   x1 x2  x3\n",
      "0  23  a  15\n",
      "1  24  b  14\n",
      "2  25  c  13\n",
      "3  26  d  12\n"
     ]
    }
   ],
   "source": [
    "data = pd.DataFrame({'x1':range(23, 27),           # Create pandas DataFrame\n",
    "                     'x2':['a', 'b', 'c', 'd'],\n",
    "                     'x3':range(15, 11, - 1)})\n",
    "print(data)                                        # Print pandas DataFrame"
   ]
  },
  {
   "cell_type": "code",
   "execution_count": 4,
   "id": "29d4e787",
   "metadata": {},
   "outputs": [],
   "source": [
    "data.to_csv('data.csv')                            # Export pandas DataFrame"
   ]
  },
  {
   "cell_type": "code",
   "execution_count": 5,
   "id": "5142802f",
   "metadata": {},
   "outputs": [
    {
     "name": "stdout",
     "output_type": "stream",
     "text": [
      "    x1 x2   x3\n",
      "0  123  x  115\n",
      "1  124  x  114\n",
      "2  125  y  113\n",
      "3  126  y  112\n"
     ]
    }
   ],
   "source": [
    "data_append = pd.DataFrame({'x1':range(123, 127),  # Create second pandas DataFrame\n",
    "                            'x2':['x', 'x', 'y', 'y'],\n",
    "                            'x3':range(115, 111, - 1)})\n",
    "print(data_append)                                 # Print second pandas DataFrame"
   ]
  },
  {
   "cell_type": "code",
   "execution_count": 6,
   "id": "45e88379",
   "metadata": {},
   "outputs": [],
   "source": [
    "data_append.to_csv('data.csv',                     # Add new data vertically\n",
    "                   mode = 'a',\n",
    "                   header = False)"
   ]
  },
  {
   "cell_type": "code",
   "execution_count": null,
   "id": "93a1a897",
   "metadata": {},
   "outputs": [],
   "source": []
  }
 ],
 "metadata": {
  "kernelspec": {
   "display_name": "Basics [py3.10]",
   "language": "python",
   "name": "basics_py310"
  },
  "language_info": {
   "codemirror_mode": {
    "name": "ipython",
    "version": 3
   },
   "file_extension": ".py",
   "mimetype": "text/x-python",
   "name": "python",
   "nbconvert_exporter": "python",
   "pygments_lexer": "ipython3",
   "version": "3.10.4"
  }
 },
 "nbformat": 4,
 "nbformat_minor": 5
}
