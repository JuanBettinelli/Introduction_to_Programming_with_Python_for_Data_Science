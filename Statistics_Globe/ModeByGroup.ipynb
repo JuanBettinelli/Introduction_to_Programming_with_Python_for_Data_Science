{
 "cells": [
  {
   "cell_type": "markdown",
   "id": "7023cbec",
   "metadata": {},
   "source": [
    "https://statisticsglobe.com/calculate-mode-group-python"
   ]
  },
  {
   "cell_type": "markdown",
   "id": "5f0a30da",
   "metadata": {},
   "source": [
    "Calculate Mode by Group in Python (2 Examples)\n",
    " \n",
    "\n",
    "In this tutorial, I’ll explain how to find the mode by group in the Python programming language.\n",
    "\n",
    "Table of contents:\n",
    "\n",
    "1) Example Data & Add-On Libraries\n",
    "2) Example 1: Mode by Group in pandas DataFrame\n",
    "3) Example 2: Mode by Group & Subgroup in pandas DataFrame\n",
    "4) Video & Further Resources\n",
    "You’re here for the answer, so let’s get straight to the examples:\n",
    "\n",
    " \n",
    "\n",
    "Example Data & Add-On Libraries\n",
    "First, we need to load the pandas library:\n",
    "\n",
    "import pandas as pd                                                 # Import pandas library in Python\n",
    "Let’s also construct some example data:\n",
    "\n",
    "data = pd.DataFrame({'x1':[6, 5, 2, 5, 8, 2, 7, 5, 8],              # Create pandas DataFrame\n",
    "                     'x2':['x', 'y', 'y', 'x', 'y', 'x', 'z', 'x', 'x'],\n",
    "                     'group1':['A', 'B', 'B', 'A', 'B', 'A', 'B', 'A', 'A'],\n",
    "                     'group2':['a', 'a', 'a', 'a', 'a', 'b', 'b', 'b', 'b']})\n",
    "print(data)                                                         # Print pandas DataFrame\n",
    " \n",
    "\n",
    "table 1 DataFrame calculate mode group python programming language\n",
    "\n",
    " \n",
    "\n",
    "Table 1 shows the structure of our example pandas DataFrame: It consists of nine rows and four columns.\n",
    "\n",
    " \n",
    "\n",
    "Example 1: Mode by Group in pandas DataFrame\n",
    "In this example, I’ll demonstrate how to GroupBy a pandas DataFrame and select the most common element (i.e. the mode) in Python.\n",
    "\n",
    "To accomplish this, we have to use the groupby, agg, and value_counts functions as shown in the following Python code:\n",
    "\n",
    "print(data.groupby('group1').agg(lambda x:x.value_counts().index[0])) # Get mode by group\n",
    "#         x1 x2 group2\n",
    "# group1              \n",
    "# A        5  x      b\n",
    "# B        8  y      a\n",
    "The previous output shows the modes for each group and every column in our data set.\n",
    "\n",
    " \n",
    "\n",
    "Example 2: Mode by Group & Subgroup in pandas DataFrame\n",
    "The Python programming code below explains how to use multiple columns of a pandas DataFrame to create even smaller subgroups for the calculation of the mode.\n",
    "\n",
    "For this task, we have to specify a list of all group indicators within the groupby function:\n",
    "\n",
    "print(data.groupby(['group1', 'group2']).agg(lambda x:x.value_counts().index[0])) # Get mode by multiple groups\n",
    "#                x1 x2\n",
    "# group1 group2       \n",
    "# A      a        5  x\n",
    "#        b        8  x\n",
    "# B      a        8  y\n",
    "#        b        7  z\n",
    "The previous console output illustrates the mode values for each subgroup.\n",
    "\n",
    " \n",
    "\n",
    "Video & Further Resources\n",
    "In case you need further explanations on the contents of this tutorial, I can recommend watching the following video on my YouTube channel. I show the Python programming syntax of this article in the video:\n",
    "\n",
    " \n",
    "\n",
    "The YouTube video will be added soon.\n",
    "\n",
    " \n",
    "\n",
    "Furthermore, you might want to read the other articles on my homepage:\n",
    "\n",
    "Introduction to the pandas Library in Python\n",
    "Calculate Mode in Python\n",
    "mode() & multimode() Functions of statistics Module\n",
    "Mode of NumPy Array in Python\n",
    "Mean of Columns & Rows of pandas DataFrame\n",
    "Calculate Median in Python\n",
    "Summary Statistics of pandas DataFrame in Python\n",
    "Python Programming Tutorials\n",
    " \n",
    "\n",
    "You have learned in this post how to compute the mode by group in the Python programming language. In case you have further questions and/or comments, let me know in the comments section below. Furthermore, please subscribe to my email newsletter in order to get updates on new tutorials.\n",
    "\n"
   ]
  },
  {
   "cell_type": "code",
   "execution_count": 1,
   "id": "6b6be0e6",
   "metadata": {},
   "outputs": [],
   "source": [
    "import pandas as pd                                                 # Import pandas library in Python"
   ]
  },
  {
   "cell_type": "code",
   "execution_count": 2,
   "id": "73f62c74",
   "metadata": {},
   "outputs": [
    {
     "name": "stdout",
     "output_type": "stream",
     "text": [
      "   x1 x2 group1 group2\n",
      "0   6  x      A      a\n",
      "1   5  y      B      a\n",
      "2   2  y      B      a\n",
      "3   5  x      A      a\n",
      "4   8  y      B      a\n",
      "5   2  x      A      b\n",
      "6   7  z      B      b\n",
      "7   5  x      A      b\n",
      "8   8  x      A      b\n"
     ]
    }
   ],
   "source": [
    "data = pd.DataFrame({'x1':[6, 5, 2, 5, 8, 2, 7, 5, 8],              # Create pandas DataFrame\n",
    "                     'x2':['x', 'y', 'y', 'x', 'y', 'x', 'z', 'x', 'x'],\n",
    "                     'group1':['A', 'B', 'B', 'A', 'B', 'A', 'B', 'A', 'A'],\n",
    "                     'group2':['a', 'a', 'a', 'a', 'a', 'b', 'b', 'b', 'b']})\n",
    "print(data)                                                         # Print pandas DataFrame"
   ]
  },
  {
   "cell_type": "code",
   "execution_count": 3,
   "id": "311e21df",
   "metadata": {},
   "outputs": [
    {
     "name": "stdout",
     "output_type": "stream",
     "text": [
      "        x1 x2 group2\n",
      "group1              \n",
      "A        5  x      b\n",
      "B        5  y      a\n"
     ]
    }
   ],
   "source": [
    "print(data.groupby('group1').agg(lambda x:x.value_counts().index[0])) # Get mode by group\n",
    "#         x1 x2 group2\n",
    "# group1              \n",
    "# A        5  x      b\n",
    "# B        8  y      a"
   ]
  },
  {
   "cell_type": "code",
   "execution_count": 4,
   "id": "97d14b40",
   "metadata": {},
   "outputs": [
    {
     "name": "stdout",
     "output_type": "stream",
     "text": [
      "               x1 x2\n",
      "group1 group2       \n",
      "A      a        6  x\n",
      "       b        2  x\n",
      "B      a        5  y\n",
      "       b        7  z\n"
     ]
    }
   ],
   "source": [
    "print(data.groupby(['group1', 'group2']).agg(lambda x:x.value_counts().index[0])) # Get mode by multiple groups\n",
    "#                x1 x2\n",
    "# group1 group2       \n",
    "# A      a        5  x\n",
    "#        b        8  x\n",
    "# B      a        8  y\n",
    "#        b        7  z"
   ]
  },
  {
   "cell_type": "code",
   "execution_count": null,
   "id": "9d79f0ef",
   "metadata": {},
   "outputs": [],
   "source": []
  }
 ],
 "metadata": {
  "kernelspec": {
   "display_name": "Basics [py3.10]",
   "language": "python",
   "name": "basics_py310"
  },
  "language_info": {
   "codemirror_mode": {
    "name": "ipython",
    "version": 3
   },
   "file_extension": ".py",
   "mimetype": "text/x-python",
   "name": "python",
   "nbconvert_exporter": "python",
   "pygments_lexer": "ipython3",
   "version": "3.10.4"
  }
 },
 "nbformat": 4,
 "nbformat_minor": 5
}
