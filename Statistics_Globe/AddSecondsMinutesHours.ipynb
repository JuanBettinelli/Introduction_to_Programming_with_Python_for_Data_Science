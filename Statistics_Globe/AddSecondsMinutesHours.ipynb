{
 "cells": [
  {
   "cell_type": "markdown",
   "id": "862da9b9",
   "metadata": {},
   "source": [
    "https://statisticsglobe.com/add-seconds-minutes-hours-to-datetime-object-python"
   ]
  },
  {
   "cell_type": "markdown",
   "id": "7e9d6075",
   "metadata": {},
   "source": [
    "__Add Seconds, Minutes & Hours to datetime Object in Python (3 Examples)__\n",
    " \n",
    "\n",
    "On this page, you’ll learn how to add seconds, minutes and hours to a datetime object in the Python programming language.\n",
    "\n",
    "The table of content is structured as follows:\n",
    "\n",
    "1) Importing datetime Module & Creating Example Date & Time Object\n",
    "2) Adding Seconds to datetime Object\n",
    "3) Adding Minutes to datetime Object\n",
    "4) Adding Hours to datetime Object\n",
    "5) Video, Further Resources & Summary\n",
    "Let’s dive into it!\n",
    "\n",
    " \n",
    "\n",
    "Importing datetime Module & Creating Example Date & Time Object\n",
    "Before we can start, we need to load the datetime module to Python:\n",
    "\n",
    "import datetime\n",
    "Next, we have to create an exemplifying datetime object:\n",
    "\n",
    "my_date = datetime.datetime(2023, 5, 16, 23, 32, 17) \n",
    "print(my_date)\n",
    "# 2023-05-16 23:32:17\n",
    "The previous console output shows that we have created a datetime object representing the 16th of May 2023 at 23 hours, 32 minutes, and 17 seconds.\n",
    "\n",
    " \n",
    "\n",
    "Adding Seconds to datetime Object\n",
    "In the first example, we’ll add seconds to our datetime object.\n",
    "\n",
    "For this task, we can use the timedelta() function and the seconds argument as shown below:\n",
    "\n",
    "my_date_seconds = my_date + datetime.timedelta(seconds = 20)\n",
    "print(my_date_seconds)\n",
    "# 2023-05-16 23:32:37\n",
    "As you can see, we have created a new datetime object showing a date and time 20 seconds later compared to our input datetime object.\n",
    "\n",
    " \n",
    "\n",
    "Adding Minutes to datetime Object\n",
    "Similar to Example 1, we can use the minutes argument to add minutes to a datetime object:\n",
    "\n",
    "my_date_minutes = my_date + datetime.timedelta(minutes = 5)\n",
    "print(my_date_minutes)\n",
    "# 2023-05-16 23:37:17\n",
    "The previously shown date and time is 5 minutes later than the input date.\n",
    "\n",
    " \n",
    "\n",
    "Adding Hours to datetime Object\n",
    "Following the same style as Examples 1 and 2, we can use the timedelta() function and the hours argument to add hours to a datetime object:\n",
    "\n",
    "my_date_hours = my_date + datetime.timedelta(hours = 30)\n",
    "print(my_date_hours)\n",
    "# 2023-05-18 05:32:17\n",
    "The previously created datetime object is 30 hours later than the input date and time.\n",
    "\n",
    " \n",
    "\n",
    "Video, Further Resources & Summary\n",
    "Do you need more explanations on datetime objects? Then you may have a look at the following video of the Socratica YouTube channel.\n",
    "\n",
    "The video explains how to use the datetime module to handle dates and times in Python.\n",
    "\n",
    " \n",
    "\n",
    "\n",
    " \n",
    "\n",
    "Furthermore, you may have a look at the other Python tutorials provided on Statistics Globe:\n",
    "\n",
    "Add Days, Months & Years to datetime Object in Python\n",
    "Calculate Time Difference Between Two datetime Objects in Python\n",
    "Convert datetime into String with Milliseconds\n",
    "Convert datetime Object to Seconds, Minutes & Hours\n",
    "Convert datetime to String without Microsecond Component\n",
    "Python Programming Tutorials\n",
    "Summary: This post has shown you how to add seconds, minutes, and hours to datetime objects in the Python programming language. In case you have any additional questions, you may leave them in the comment section below."
   ]
  },
  {
   "cell_type": "code",
   "execution_count": 1,
   "id": "4cd12073",
   "metadata": {},
   "outputs": [],
   "source": [
    "import datetime"
   ]
  },
  {
   "cell_type": "code",
   "execution_count": 2,
   "id": "5e5892ff",
   "metadata": {},
   "outputs": [
    {
     "name": "stdout",
     "output_type": "stream",
     "text": [
      "2023-05-16 23:32:17\n"
     ]
    }
   ],
   "source": [
    "my_date = datetime.datetime(2023, 5, 16, 23, 32, 17) \n",
    "print(my_date)\n",
    "# 2023-05-16 23:32:17"
   ]
  },
  {
   "cell_type": "code",
   "execution_count": 3,
   "id": "0955dc58",
   "metadata": {},
   "outputs": [
    {
     "name": "stdout",
     "output_type": "stream",
     "text": [
      "2023-05-16 23:32:37\n"
     ]
    }
   ],
   "source": [
    "my_date_seconds = my_date + datetime.timedelta(seconds = 20)\n",
    "print(my_date_seconds)\n",
    "# 2023-05-16 23:32:37"
   ]
  },
  {
   "cell_type": "code",
   "execution_count": 4,
   "id": "6a7cf472",
   "metadata": {},
   "outputs": [
    {
     "name": "stdout",
     "output_type": "stream",
     "text": [
      "2023-05-16 23:37:17\n"
     ]
    }
   ],
   "source": [
    "my_date_minutes = my_date + datetime.timedelta(minutes = 5)\n",
    "print(my_date_minutes)\n",
    "# 2023-05-16 23:37:17"
   ]
  },
  {
   "cell_type": "code",
   "execution_count": 5,
   "id": "fde9ab92",
   "metadata": {},
   "outputs": [
    {
     "name": "stdout",
     "output_type": "stream",
     "text": [
      "2023-05-18 05:32:17\n"
     ]
    }
   ],
   "source": [
    "my_date_hours = my_date + datetime.timedelta(hours = 30)\n",
    "print(my_date_hours)\n",
    "# 2023-05-18 05:32:17"
   ]
  },
  {
   "cell_type": "code",
   "execution_count": null,
   "id": "18cdfa80",
   "metadata": {},
   "outputs": [],
   "source": []
  }
 ],
 "metadata": {
  "kernelspec": {
   "display_name": "Basics [py3.10]",
   "language": "python",
   "name": "basics_py310"
  },
  "language_info": {
   "codemirror_mode": {
    "name": "ipython",
    "version": 3
   },
   "file_extension": ".py",
   "mimetype": "text/x-python",
   "name": "python",
   "nbconvert_exporter": "python",
   "pygments_lexer": "ipython3",
   "version": "3.10.4"
  }
 },
 "nbformat": 4,
 "nbformat_minor": 5
}
