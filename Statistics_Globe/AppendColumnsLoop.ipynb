{
 "cells": [
  {
   "cell_type": "markdown",
   "id": "d7aacbf2",
   "metadata": {},
   "source": [
    "https://statisticsglobe.com/append-columns-pandas-dataframe-loop-python"
   ]
  },
  {
   "cell_type": "markdown",
   "id": "aabb8af6",
   "metadata": {},
   "source": [
    "__Append Columns to pandas DataFrame in Loop in Python (Example)__\n",
    " \n",
    "\n",
    "This tutorial demonstrates how to add new columns to a pandas DataFrame within a for loop in Python programming.\n",
    "\n",
    "The article will contain one example for the addition of new variables to a pandas DataFrame within a for loop. To be more specific, the post is structured as follows:\n",
    "\n",
    "1) Example Data & Libraries\n",
    "2) Example: Append Columns to pandas DataFrame within for Loop\n",
    "3) Video & Further Resources\n",
    "Let’s dive right into the example…\n",
    "\n",
    " \n",
    "\n",
    "Example Data & Libraries\n",
    "We first have to import the pandas library, if we want to use the corresponding functions:\n",
    "\n",
    "import pandas as pd                        # Load pandas\n",
    "In addition, have a look at the following example data:\n",
    "\n",
    "data = pd.DataFrame({'x1':range(5, 10),    # Create pandas DataFrame\n",
    "                     'x2':range(10, 15),\n",
    "                     'x3':range(20, 25)})\n",
    "print(data)                                # Print pandas DataFrame\n",
    " \n",
    "\n",
    "table 1 DataFrame append columns pandas dataframe loop python\n",
    "\n",
    " \n",
    "\n",
    "Have a look at the table that got returned after executing the previously shown Python programming code. It shows that our example pandas DataFrame is constructed of five data points and three columns.\n",
    "\n",
    " \n",
    "\n",
    "Example: Append Columns to pandas DataFrame within for Loop\n",
    "In this example, I’ll illustrate how to use a for loop to append new variables to a pandas DataFrame in Python.\n",
    "\n",
    "Have a look at the Python syntax below. It shows a for loop that consists of two lines.\n",
    "\n",
    "The first line specifies that we want to iterate over a range from 1 to 4.\n",
    "\n",
    "The second line specifies what we want to do in this loop, i.e. in each iteration we want to add a new column containing the iterator i times the value three. The variable name of this new column should be called like the iterator.\n",
    "\n",
    "Let’s do this:\n",
    "\n",
    "for i in range(1, 4):                      # Append columns within for loop\n",
    "    data[i] = i * 3\n",
    "print(data)                                # Print updated DataFrame\n",
    " \n",
    "\n",
    "table 2 DataFrame append columns pandas dataframe loop python\n",
    "\n",
    " \n",
    "\n",
    "Table 2 shows the output of the previous code: We have extended our example data set by three new columns.\n",
    "\n",
    " \n",
    "\n",
    "Video & Further Resources\n",
    "I have recently published a video on my YouTube channel, which illustrates the Python programming code of this article. You can find the video below.\n",
    "\n",
    " \n",
    "\n",
    "The YouTube video will be added soon.\n",
    "\n",
    " \n",
    "\n",
    "Additionally, you could read the other posts on this homepage. A selection of articles is shown below.\n",
    "\n",
    "Append Rows to pandas DataFrame in Loop\n",
    "Iterate Over Columns of pandas DataFrame\n",
    "Iterate Through Rows of pandas DataFrame\n",
    "Combine Two Text Columns of pandas DataFrame in Python\n",
    "Sort pandas DataFrame by Multiple Columns in Python\n",
    "Count Rows & Columns of pandas DataFrame in Python\n",
    "Rename Columns of pandas DataFrame in Python in R\n",
    "Append pandas DataFrame in Python\n",
    "Append Values to pandas DataFrame in Python\n",
    "Introduction to the pandas Library in Python\n",
    "The Python Programming Language\n",
    " \n",
    "\n",
    "This tutorial has shown how to append, combine, and concatenate new variables to a pandas DataFrame within a for loop in Python. If you have any additional questions, please let me know in the comments below. In addition, please subscribe to my email newsletter to receive updates on new posts.\n",
    "\n",
    " "
   ]
  },
  {
   "cell_type": "code",
   "execution_count": 2,
   "id": "e29c47c5",
   "metadata": {},
   "outputs": [],
   "source": [
    "import pandas as pd                        # Load pandas"
   ]
  },
  {
   "cell_type": "code",
   "execution_count": 3,
   "id": "e7fd4e1c",
   "metadata": {},
   "outputs": [
    {
     "name": "stdout",
     "output_type": "stream",
     "text": [
      "   x1  x2  x3\n",
      "0   5  10  20\n",
      "1   6  11  21\n",
      "2   7  12  22\n",
      "3   8  13  23\n",
      "4   9  14  24\n"
     ]
    }
   ],
   "source": [
    "data = pd.DataFrame({'x1':range(5, 10),    # Create pandas DataFrame\n",
    "                     'x2':range(10, 15),\n",
    "                     'x3':range(20, 25)})\n",
    "print(data)                                # Print pandas DataFrame"
   ]
  },
  {
   "cell_type": "code",
   "execution_count": 12,
   "id": "7ca454ca",
   "metadata": {},
   "outputs": [
    {
     "name": "stdout",
     "output_type": "stream",
     "text": [
      "   x1  x2  x3  1  2  3\n",
      "0   5  10  20  3  6  9\n",
      "1   6  11  21  3  6  9\n",
      "2   7  12  22  3  6  9\n",
      "3   8  13  23  3  6  9\n",
      "4   9  14  24  3  6  9\n"
     ]
    }
   ],
   "source": [
    "for i in range(1, 4):                      # Append columns within for loop\n",
    "    data[i] = i * 3\n",
    "print(data)                                # Print updated DataFrame"
   ]
  },
  {
   "cell_type": "code",
   "execution_count": null,
   "id": "59b552ef",
   "metadata": {},
   "outputs": [],
   "source": []
  },
  {
   "cell_type": "code",
   "execution_count": null,
   "id": "bfa0b6d6",
   "metadata": {},
   "outputs": [],
   "source": []
  }
 ],
 "metadata": {
  "kernelspec": {
   "display_name": "Basics [py3.10]",
   "language": "python",
   "name": "basics_py310"
  },
  "language_info": {
   "codemirror_mode": {
    "name": "ipython",
    "version": 3
   },
   "file_extension": ".py",
   "mimetype": "text/x-python",
   "name": "python",
   "nbconvert_exporter": "python",
   "pygments_lexer": "ipython3",
   "version": "3.10.4"
  }
 },
 "nbformat": 4,
 "nbformat_minor": 5
}
