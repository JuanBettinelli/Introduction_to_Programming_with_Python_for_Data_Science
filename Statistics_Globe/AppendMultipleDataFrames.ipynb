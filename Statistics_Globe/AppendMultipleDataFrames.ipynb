{
 "cells": [
  {
   "cell_type": "markdown",
   "id": "054bb414",
   "metadata": {},
   "source": [
    "https://statisticsglobe.com/append-multiple-pandas-dataframes-python"
   ]
  },
  {
   "cell_type": "markdown",
   "id": "44cbdc6c",
   "metadata": {},
   "source": [
    "__Append Multiple pandas DataFrames in Python (Example)__\n",
    " \n",
    "\n",
    "In this Python tutorial you’ll learn how to concatenate three or more pandas DataFrames.\n",
    "\n",
    "The article will consist of one example for the concatenation of three or more pandas DataFrames. More precisely, the post consists of this:\n",
    "\n",
    "1) Example Data & Libraries\n",
    "2) Example: Combine Three pandas DataFrames Using concat() Function\n",
    "3) Video & Further Resources\n",
    "Let’s do this:\n",
    "\n",
    " \n",
    "\n",
    "Example Data & Libraries\n",
    "To be able to use the functions of the pandas library, we first need to import pandas:\n",
    "\n",
    "import pandas as pd                                              # Import pandas library\n",
    "We also have to construct several example DataFrames that we can use in the following examples:\n",
    "\n",
    "data1 = pd.DataFrame({\"x1\":[\"y\", \"y\", \"x\", \"y\"],                 # Create first pandas DataFrame\n",
    "                     \"x2\":range(0, 4),\n",
    "                     \"x3\":[\"a\", \"b\", \"c\", \"d\"],\n",
    "                     \"x4\":range(4, 0, - 1)})\n",
    "print(data1)                                                     # Print first pandas DataFrame\n",
    " \n",
    "\n",
    "table 1 DataFrame append multiple pandas dataframes python\n",
    "\n",
    " \n",
    "\n",
    "data2 = pd.DataFrame({\"x1\":[\"a\", \"b\", \"a\"],                      # Create second pandas DataFrame\n",
    "                     \"x2\":range(101, 104),\n",
    "                     \"x3\":[\"x\", \"x\", \"x\"],\n",
    "                     \"x4\":range(104, 101, - 1)})\n",
    "print(data2)                                                     # Print second pandas DataFrame\n",
    " \n",
    "\n",
    "table 2 DataFrame append multiple pandas dataframes python\n",
    "\n",
    " \n",
    "\n",
    "data3 = pd.DataFrame({\"x1\":[\"z\", \"zz\", \"zzz\", \"zzzz\", \"zzzzz\"],  # Create third pandas DataFrame\n",
    "                     \"x2\":range(10, 15),\n",
    "                     \"x3\":[\"xxxxx\", \"xxxx\", \"xxxx\", \"xx\", \"x\"],\n",
    "                     \"x4\":range(15, 10, - 1)})\n",
    "print(data3)                                                     # Print third pandas DataFrame\n",
    " \n",
    "\n",
    "table 3 DataFrame append multiple pandas dataframes python\n",
    "\n",
    " \n",
    "\n",
    "As you can see based on the previous tables, we have created three different pandas DataFrames called data1, data2, and data3.\n",
    "\n",
    "Each of our data sets comprises the four columns x1, x2, x3, and x4. However, the values within those DataFrames are different compared to each other.\n",
    "\n",
    "Let’s stack these pandas DataFrames into a single DataFrame!\n",
    "\n",
    " \n",
    "\n",
    "Example: Combine Three pandas DataFrames Using concat() Function\n",
    "This example illustrates how to append multiple pandas DataFrames on top of each other.\n",
    "\n",
    "For this task, we can apply the concat function as shown in the following Python code:\n",
    "\n",
    "data_all3 = pd.concat([data1, data2, data3],                     # Append three pandas DataFrames\n",
    "                      ignore_index = True,\n",
    "                      sort = False)\n",
    "print(data_all3)                                                 # Print combined DataFrame\n",
    " \n",
    "\n",
    "table 4 DataFrame append multiple pandas dataframes python\n",
    "\n",
    " \n",
    "\n",
    "Table 4 shows the output of the previous Python code: We have created a new pandas DataFrame, which is a union of our 3 input DataFrames.\n",
    "\n",
    " \n",
    "\n",
    "Video & Further Resources\n",
    "Do you need more explanations on how to add multiple pandas DataFrame on top of each other?\n",
    "\n",
    "Then you might want to watch the following video on the Statistics Globe YouTube channel. In the video instruction, I’m illustrating the Python programming code of this post:\n",
    "\n",
    " \n",
    "\n",
    "\n",
    " \n",
    "\n",
    "In addition, you may want to read the related articles on my website. You can find a selection of tutorials below:\n",
    "\n",
    "Types of Joins for pandas DataFrames in Python\n",
    "Add Multiple Columns to pandas DataFrame\n",
    "Add Column from Another pandas DataFrame\n",
    "rbind & cbind pandas DataFrame in Python\n",
    "Combine pandas DataFrames Vertically & Horizontally\n",
    "Merge List of pandas DataFrames in Python\n",
    "Merge pandas DataFrames based on Particular Column\n",
    "Append Values to pandas DataFrame in Python\n",
    "Merge pandas DataFrames based on Index\n",
    "Merge Multiple pandas DataFrames in Python\n",
    "Merge Two pandas DataFrames in Python\n",
    "Combine pandas DataFrames with Different Column Names\n",
    "Combine pandas DataFrames with Same Column Names\n",
    "Append pandas DataFrame in Python\n",
    "DataFrame Manipulation Using pandas in Python\n",
    "Introduction to the pandas Library in Python\n",
    "All Python Programming Tutorials\n",
    " \n",
    "\n",
    "In summary: In this tutorial, I have shown how to join, merge, and rbind three or more pandas DataFrames in Python. Please let me know in the comments section, if you have further questions.\n",
    "\n",
    " "
   ]
  },
  {
   "cell_type": "code",
   "execution_count": 1,
   "id": "482138dc",
   "metadata": {},
   "outputs": [],
   "source": [
    "import pandas as pd                                              # Import pandas library"
   ]
  },
  {
   "cell_type": "code",
   "execution_count": 2,
   "id": "3268377b",
   "metadata": {},
   "outputs": [
    {
     "name": "stdout",
     "output_type": "stream",
     "text": [
      "  x1  x2 x3  x4\n",
      "0  y   0  a   4\n",
      "1  y   1  b   3\n",
      "2  x   2  c   2\n",
      "3  y   3  d   1\n"
     ]
    }
   ],
   "source": [
    "data1 = pd.DataFrame({\"x1\":[\"y\", \"y\", \"x\", \"y\"],                 # Create first pandas DataFrame\n",
    "                     \"x2\":range(0, 4),\n",
    "                     \"x3\":[\"a\", \"b\", \"c\", \"d\"],\n",
    "                     \"x4\":range(4, 0, - 1)})\n",
    "print(data1)  "
   ]
  },
  {
   "cell_type": "code",
   "execution_count": 3,
   "id": "3b7cf64c",
   "metadata": {},
   "outputs": [
    {
     "name": "stdout",
     "output_type": "stream",
     "text": [
      "  x1   x2 x3   x4\n",
      "0  a  101  x  104\n",
      "1  b  102  x  103\n",
      "2  a  103  x  102\n"
     ]
    }
   ],
   "source": [
    "data2 = pd.DataFrame({\"x1\":[\"a\", \"b\", \"a\"],                      # Create second pandas DataFrame\n",
    "                     \"x2\":range(101, 104),\n",
    "                     \"x3\":[\"x\", \"x\", \"x\"],\n",
    "                     \"x4\":range(104, 101, - 1)})\n",
    "print(data2)                                                     # Print second pandas DataFrame"
   ]
  },
  {
   "cell_type": "code",
   "execution_count": 4,
   "id": "95b926d9",
   "metadata": {},
   "outputs": [
    {
     "name": "stdout",
     "output_type": "stream",
     "text": [
      "      x1  x2     x3  x4\n",
      "0      z  10  xxxxx  15\n",
      "1     zz  11   xxxx  14\n",
      "2    zzz  12   xxxx  13\n",
      "3   zzzz  13     xx  12\n",
      "4  zzzzz  14      x  11\n"
     ]
    }
   ],
   "source": [
    "data3 = pd.DataFrame({\"x1\":[\"z\", \"zz\", \"zzz\", \"zzzz\", \"zzzzz\"],  # Create third pandas DataFrame\n",
    "                     \"x2\":range(10, 15),\n",
    "                     \"x3\":[\"xxxxx\", \"xxxx\", \"xxxx\", \"xx\", \"x\"],\n",
    "                     \"x4\":range(15, 10, - 1)})\n",
    "print(data3)                                                     # Print third pandas DataFrame\n"
   ]
  },
  {
   "cell_type": "code",
   "execution_count": 9,
   "id": "c2c91415",
   "metadata": {},
   "outputs": [
    {
     "name": "stdout",
     "output_type": "stream",
     "text": [
      "       x1   x2     x3   x4\n",
      "0       y    0      a    4\n",
      "1       y    1      b    3\n",
      "2       x    2      c    2\n",
      "3       y    3      d    1\n",
      "4       a  101      x  104\n",
      "5       b  102      x  103\n",
      "6       a  103      x  102\n",
      "7       z   10  xxxxx   15\n",
      "8      zz   11   xxxx   14\n",
      "9     zzz   12   xxxx   13\n",
      "10   zzzz   13     xx   12\n",
      "11  zzzzz   14      x   11\n"
     ]
    }
   ],
   "source": [
    "data_all3 = pd.concat([data1, data2, data3],                     # Append three pandas DataFrames\n",
    "                      ignore_index = True,\n",
    "                      sort = False)\n",
    "print(data_all3)                                                 # Print combined DataFrame\n"
   ]
  },
  {
   "cell_type": "code",
   "execution_count": null,
   "id": "712b7071",
   "metadata": {},
   "outputs": [],
   "source": []
  }
 ],
 "metadata": {
  "kernelspec": {
   "display_name": "Basics [py3.10]",
   "language": "python",
   "name": "basics_py310"
  },
  "language_info": {
   "codemirror_mode": {
    "name": "ipython",
    "version": 3
   },
   "file_extension": ".py",
   "mimetype": "text/x-python",
   "name": "python",
   "nbconvert_exporter": "python",
   "pygments_lexer": "ipython3",
   "version": "3.10.4"
  }
 },
 "nbformat": 4,
 "nbformat_minor": 5
}
