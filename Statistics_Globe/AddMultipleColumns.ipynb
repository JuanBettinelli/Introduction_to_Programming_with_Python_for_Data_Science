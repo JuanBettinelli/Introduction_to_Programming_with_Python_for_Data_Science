{
 "cells": [
  {
   "cell_type": "markdown",
   "id": "76049959",
   "metadata": {},
   "source": [
    "https://statisticsglobe.com/add-multiple-columns-pandas-dataframe-python"
   ]
  },
  {
   "cell_type": "markdown",
   "id": "e11ca2c7",
   "metadata": {},
   "source": [
    "__Add Multiple Columns to pandas DataFrame in Python (Example)__"
   ]
  },
  {
   "cell_type": "markdown",
   "id": "38fedbf2",
   "metadata": {},
   "source": [
    "Add Multiple Columns to pandas DataFrame in Python (Example)\n",
    " \n",
    "\n",
    "In this tutorial, I’ll illustrate how to append multiple new variables to a pandas DataFrame in the Python programming language.\n",
    "\n",
    "The content is structured as follows:\n",
    "\n",
    "1) Example Data & Add-On Libraries\n",
    "2) Example: Append Multiple Columns to pandas DataFrame\n",
    "3) Video & Further Resources\n",
    "So let’s take a look at some Python codes in action:\n",
    "\n",
    " \n",
    "\n",
    "Example Data & Add-On Libraries\n",
    "In order to use the functions of the pandas library, we first have to load pandas:\n",
    "\n",
    "import pandas as pd                                # Import pandas library\n",
    "The following data is used as basement for this Python programming tutorial:\n",
    "\n",
    "data = pd.DataFrame({\"x1\":range(31, 35),           # Create pandas DataFrame\n",
    "                     \"x2\":[\"a\", \"b\", \"c\", \"d\"],\n",
    "                     \"x3\":range(45, 41, - 1)})\n",
    "print(data)                                        # Print pandas DataFrame\n",
    " \n",
    "\n",
    "table 1 DataFrame add multiple columns pandas dataframe python\n",
    "\n",
    " \n",
    "\n",
    "Table 1 shows that our example data consists of four rows and three columns.\n",
    "\n",
    "Next, we have to create several list objects that we will add as new columns to our pandas DataFrame later on.\n",
    "\n",
    "new1 = [\"x\", \"xx\", \"xxx\", \"xxxx\"]                  # Create first list\n",
    "print(new1)                                        # Print first list\n",
    "# ['x', 'xx', 'xxx', 'xxxx']\n",
    "new2 = [1, 2, 3, 4]                                # Create second list\n",
    "print(new2)                                        # Print second list\n",
    "# [1, 2, 3, 4]\n",
    "Note that our two lists have the same length as the number of rows of our data set.\n",
    "\n",
    " \n",
    "\n",
    "Example: Append Multiple Columns to pandas DataFrame\n",
    "In this example, I’ll demonstrate how to combine multiple new columns with an existing pandas DataFrame in one line of code.\n",
    "\n",
    "Consider the following python syntax:\n",
    "\n",
    "data_new = data.copy()                             # Create copy of DataFrame\n",
    "data_new[\"new1\"], data_new[\"new2\"] = [new1, new2]  # Add multiple columns\n",
    "print(data_new)                                    # Print updated pandas DataFrame\n",
    " \n",
    "\n",
    "table 2 DataFrame add multiple columns pandas dataframe python\n",
    "\n",
    " \n",
    "\n",
    "By running the previous code, we have created Table 2, i.e. a new pandas DataFrame containing a union of our example data set plus our two list objects.\n",
    "\n",
    " \n",
    "\n",
    "Video & Further Resources\n",
    "In case you need further info on how to merge and join new columns to a pandas DataFrame, you could watch the following video on my YouTube channel. I explain the examples of this article in the video instruction.\n",
    "\n",
    " \n",
    "\n",
    "\n",
    " \n",
    "\n",
    "In addition, you may want to read the related tutorials on my website. You can find a selection of tutorials on related topics such as counting and descriptive statistics below:\n",
    "\n",
    "Types of Joins for pandas DataFrames in Python\n",
    "Add Column from Another pandas DataFrame\n",
    "rbind & cbind pandas DataFrame in Python\n",
    "Combine pandas DataFrames Vertically & Horizontally\n",
    "Merge List of pandas DataFrames in Python\n",
    "Merge pandas DataFrames based on Particular Column\n",
    "Merge pandas DataFrames based on Index\n",
    "Merge Multiple pandas DataFrames in Python\n",
    "Merge Two pandas DataFrames in Python\n",
    "Combine pandas DataFrames with Different Column Names\n",
    "Combine pandas DataFrames with Same Column Names\n",
    "Append Multiple pandas DataFrames in Python\n",
    "Append pandas DataFrame in Python\n",
    "Count Rows & Columns of pandas DataFrame in Python\n",
    "Sum of Columns & Rows of pandas DataFrame in Python\n",
    "Change Order of Columns in pandas DataFrame in Python\n",
    "Add Column to pandas DataFrame in Python\n",
    "pandas DataFrame Operations in Python\n",
    "DataFrame Manipulation Using pandas in Python\n",
    "Introduction to the pandas Library in Python\n",
    "Introduction to Python\n",
    " \n",
    "\n",
    "In this Python tutorial you have learned how to add and concatenate several new variables to a pandas DataFrame. If you have any additional comments and/or questions, please let me know in the comments. Besides that, don’t forget to subscribe to my email newsletter in order to receive updates on new articles.\n",
    "\n",
    " \n",
    "\n"
   ]
  },
  {
   "cell_type": "code",
   "execution_count": 1,
   "id": "087effde",
   "metadata": {},
   "outputs": [],
   "source": [
    "import pandas as pd                                # Import pandas library"
   ]
  },
  {
   "cell_type": "code",
   "execution_count": 2,
   "id": "660bae50",
   "metadata": {},
   "outputs": [
    {
     "name": "stdout",
     "output_type": "stream",
     "text": [
      "   x1 x2  x3\n",
      "0  31  a  45\n",
      "1  32  b  44\n",
      "2  33  c  43\n",
      "3  34  d  42\n"
     ]
    }
   ],
   "source": [
    "data = pd.DataFrame({\"x1\":range(31, 35),           # Create pandas DataFrame\n",
    "                     \"x2\":[\"a\", \"b\", \"c\", \"d\"],\n",
    "                     \"x3\":range(45, 41, - 1)})\n",
    "print(data)                                        # Print pandas DataFrame\n"
   ]
  },
  {
   "cell_type": "code",
   "execution_count": 3,
   "id": "117d103d",
   "metadata": {},
   "outputs": [
    {
     "name": "stdout",
     "output_type": "stream",
     "text": [
      "['x', 'xx', 'xxx', 'xxxx']\n"
     ]
    }
   ],
   "source": [
    "new1 = [\"x\", \"xx\", \"xxx\", \"xxxx\"]                  # Create first list\n",
    "print(new1)                                        # Print first list\n",
    "# ['x', 'xx', 'xxx', 'xxxx']"
   ]
  },
  {
   "cell_type": "code",
   "execution_count": 4,
   "id": "87daab41",
   "metadata": {},
   "outputs": [
    {
     "name": "stdout",
     "output_type": "stream",
     "text": [
      "[1, 2, 3, 4]\n"
     ]
    }
   ],
   "source": [
    "new2 = [1, 2, 3, 4]                                # Create second list\n",
    "print(new2)                                        # Print second list\n",
    "# [1, 2, 3, 4]"
   ]
  },
  {
   "cell_type": "code",
   "execution_count": 5,
   "id": "1d492a8e",
   "metadata": {},
   "outputs": [
    {
     "name": "stdout",
     "output_type": "stream",
     "text": [
      "   x1 x2  x3  new1  new2\n",
      "0  31  a  45     x     1\n",
      "1  32  b  44    xx     2\n",
      "2  33  c  43   xxx     3\n",
      "3  34  d  42  xxxx     4\n"
     ]
    }
   ],
   "source": [
    "data_new = data.copy()                             # Create copy of DataFrame\n",
    "data_new[\"new1\"], data_new[\"new2\"] = [new1, new2]  # Add multiple columns\n",
    "print(data_new)                                    # Print updated pandas DataFrame"
   ]
  },
  {
   "cell_type": "code",
   "execution_count": null,
   "id": "784a7674",
   "metadata": {},
   "outputs": [],
   "source": []
  }
 ],
 "metadata": {
  "kernelspec": {
   "display_name": "Basics [py3.10]",
   "language": "python",
   "name": "basics_py310"
  },
  "language_info": {
   "codemirror_mode": {
    "name": "ipython",
    "version": 3
   },
   "file_extension": ".py",
   "mimetype": "text/x-python",
   "name": "python",
   "nbconvert_exporter": "python",
   "pygments_lexer": "ipython3",
   "version": "3.10.4"
  }
 },
 "nbformat": 4,
 "nbformat_minor": 5
}
