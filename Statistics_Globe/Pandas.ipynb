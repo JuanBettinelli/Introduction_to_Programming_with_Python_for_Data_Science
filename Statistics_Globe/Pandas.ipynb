{
 "cells": [
  {
   "cell_type": "markdown",
   "id": "9e51c474",
   "metadata": {},
   "source": [
    "What is pandas in Python? (3 Examples)\n",
    " \n",
    "\n",
    "This tutorial explains what the pandas library is and how to use it in the Python programming language.\n",
    "\n",
    "Table of contents:\n",
    "\n",
    "1) Definition of the pandas Library in Python\n",
    "2) Example Data & Add-On Libraries\n",
    "3) Example 1: Add New Column to pandas DataFrame\n",
    "4) Example 2: Remove Row from pandas DataFrame\n",
    "5) Example 3: Calculate Mean for pandas DataFrame Column\n",
    "6) Video & Further Resources\n",
    "Here’s move on to the definition…\n",
    "\n",
    " \n",
    "\n",
    "Definition of the pandas Library in Python\n",
    "pandas is a software library that was created by Wes McKinney for the Python programming language.\n",
    "\n",
    "The pandas library is mainly used for data manipulation, i.e. to edit, modify, and adjust certain components of a DataFrame object.\n",
    "\n",
    "However, pandas is very flexible and can also be used for other tasks such as drawing data sets in plots, and storing time series values.\n",
    "\n",
    "As other Python libraries, pandas is open source, i.e. freely available for usage, modification, and redistribution.\n",
    "\n",
    "In the remaining part of this tutorial, I’ll show some example applications of the pandas library in practice.\n",
    "\n",
    "So without too much talk, let’s dive into the example code!\n",
    "\n",
    " \n",
    "\n",
    "Example Data & Add-On Libraries\n",
    "We first have to load the pandas library to Python:\n",
    "\n",
    "import pandas as pd                              # Import pandas library\n",
    "Next, we can use the pd.DataFrame function to create some example data:\n",
    "\n",
    "data = pd.DataFrame({\"x1\":range(5, 10),          # Create pandas DataFrame\n",
    "                     \"x2\":[\"a\", \"b\", \"c\", \"d\", \"e\"],\n",
    "                     \"x3\":range(10, 5, - 1)})\n",
    "print(data)                                      # Print pandas DataFrame\n",
    " \n",
    "\n",
    "table 1 DataFrame what is pandas python programming language\n",
    "\n",
    " \n",
    "\n",
    "Table 1 shows that our example DataFrame is composed of five rows and three columns.\n",
    "\n",
    " \n",
    "\n",
    "Example 1: Add New Column to pandas DataFrame\n",
    "This example illustrates how to append a new variable to a pandas DataFrame.\n",
    "\n",
    "For this task, we first have to create a list object that contains the values of our new column:\n",
    "\n",
    "new_col = [\"foo\", \"bar\", \"bar\", \"foo\", \"bar\"]    # Create list\n",
    "print(new_col)                                   # Print list\n",
    "# ['foo', 'bar', 'bar', 'foo', 'bar']\n",
    "Next, we can apply the assign function to add our list as a new column to our pandas DataFrame:\n",
    "\n",
    "data_add = data.assign(new_col = new_col)        # Add new column\n",
    "print(data_add)                                  # Print DataFrame with new column\n",
    " \n",
    "\n",
    "table 2 DataFrame what is pandas python programming language\n",
    "\n",
    " \n",
    "\n",
    "As shown in Table 2, the previous code has managed to construct a new pandas DataFrame containing our input data plus our list object as a new variable.\n",
    "\n",
    " \n",
    "\n",
    "Example 2: Remove Row from pandas DataFrame\n",
    "Example 2 shows how to drop certain rows from a pandas DataFrame.\n",
    "\n",
    "To achieve this, we can use logical operators as illustrated below:\n",
    "\n",
    "data_drop = data[data.x2 != \"c\"]                 # Drop row using logical condition\n",
    "print(data_drop)                                 # Print DataFrame without row\n",
    " \n",
    "\n",
    "table 3 DataFrame what is pandas python programming language\n",
    "\n",
    " \n",
    "\n",
    "Table 3 shows the output of the previous Python syntax: We have excluded the third row from our data set.\n",
    "\n",
    " \n",
    "\n",
    "Example 3: Calculate Mean for pandas DataFrame Column\n",
    "The pandas library can also be used to calculate certain descriptive statistics of the columns of a DataFrame.\n",
    "\n",
    "In this specific example, we calculate the mean value of the variable x3:\n",
    "\n",
    "data_mean = data[\"x3\"].mean()                    # Calculate average\n",
    "print(data_mean)                                 # Print average\n",
    "# 8.0\n",
    "The previous console output shows the mean value of our third column, i.e. 8.0.\n",
    "\n",
    " \n",
    "\n",
    "Video & Further Resources\n",
    "I have recently released a video on my YouTube channel, which explains the contents of this tutorial. You can find the video below.\n",
    "\n",
    " \n",
    "\n",
    "The YouTube video will be added soon.\n",
    "\n",
    " \n",
    "\n",
    "Furthermore, you may read the related articles on my website.\n",
    "\n",
    "pandas Library Tutorial in Python\n",
    "Change pandas DataFrames in Python\n",
    "DataFrame Manipulation Using pandas in Python\n",
    "Sort pandas DataFrame by Date in Python\n",
    "Count Unique Values by Group in Column of pandas DataFrame\n",
    "Insert Column at Specific Position of pandas DataFrame\n",
    "Check If Any Value is NaN in pandas DataFrame in Python\n",
    "Check if pandas DataFrame is Empty in Python\n",
    "All Python Programming Tutorials\n",
    " \n",
    "\n",
    "In summary: You have learned in this article how to apply the functions of the pandas library in the Python programming language. If you have any additional questions and/or comments, let me know in the comments section below.\n",
    "\n"
   ]
  },
  {
   "cell_type": "code",
   "execution_count": 1,
   "id": "66b8bc7f",
   "metadata": {},
   "outputs": [],
   "source": [
    "import pandas as pd                              # Import pandas library"
   ]
  },
  {
   "cell_type": "code",
   "execution_count": 2,
   "id": "1c6c0c63",
   "metadata": {},
   "outputs": [
    {
     "name": "stdout",
     "output_type": "stream",
     "text": [
      "   x1 x2  x3\n",
      "0   5  a  10\n",
      "1   6  b   9\n",
      "2   7  c   8\n",
      "3   8  d   7\n",
      "4   9  e   6\n"
     ]
    }
   ],
   "source": [
    "data = pd.DataFrame({\"x1\":range(5, 10),          # Create pandas DataFrame\n",
    "                     \"x2\":[\"a\", \"b\", \"c\", \"d\", \"e\"],\n",
    "                     \"x3\":range(10, 5, - 1)})\n",
    "print(data)                                      # Print pandas DataFrame"
   ]
  },
  {
   "cell_type": "code",
   "execution_count": 3,
   "id": "6c04ad92",
   "metadata": {},
   "outputs": [
    {
     "name": "stdout",
     "output_type": "stream",
     "text": [
      "['foo', 'bar', 'bar', 'foo', 'bar']\n"
     ]
    }
   ],
   "source": [
    "new_col = [\"foo\", \"bar\", \"bar\", \"foo\", \"bar\"]    # Create list\n",
    "print(new_col)                                   # Print list\n",
    "# ['foo', 'bar', 'bar', 'foo', 'bar']"
   ]
  },
  {
   "cell_type": "code",
   "execution_count": 4,
   "id": "f4457972",
   "metadata": {},
   "outputs": [
    {
     "name": "stdout",
     "output_type": "stream",
     "text": [
      "   x1 x2  x3 new_col\n",
      "0   5  a  10     foo\n",
      "1   6  b   9     bar\n",
      "2   7  c   8     bar\n",
      "3   8  d   7     foo\n",
      "4   9  e   6     bar\n"
     ]
    }
   ],
   "source": [
    "data_add = data.assign(new_col = new_col)        # Add new column\n",
    "print(data_add)                                  # Print DataFrame with new column"
   ]
  },
  {
   "cell_type": "code",
   "execution_count": 5,
   "id": "38d5e80d",
   "metadata": {},
   "outputs": [
    {
     "name": "stdout",
     "output_type": "stream",
     "text": [
      "   x1 x2  x3\n",
      "0   5  a  10\n",
      "1   6  b   9\n",
      "3   8  d   7\n",
      "4   9  e   6\n"
     ]
    }
   ],
   "source": [
    "data_drop = data[data.x2 != \"c\"]                 # Drop row using logical condition\n",
    "print(data_drop)                                 # Print DataFrame without row"
   ]
  },
  {
   "cell_type": "code",
   "execution_count": 6,
   "id": "9c365dee",
   "metadata": {},
   "outputs": [
    {
     "name": "stdout",
     "output_type": "stream",
     "text": [
      "8.0\n"
     ]
    }
   ],
   "source": [
    "data_mean = data[\"x3\"].mean()                    # Calculate average\n",
    "print(data_mean)                                 # Print average\n",
    "# 8.0"
   ]
  },
  {
   "cell_type": "markdown",
   "id": "f5e99fa8",
   "metadata": {},
   "source": [
    "At the top of the figure, two different separate data sets are shown. At the bottom of the figure, you can see four different joined versions of these two data sets:\n",
    "\n",
    "- Inner join: Keep only IDs that are contained in both data sets.\n",
    "- Outer join: Keep all IDs.\n",
    "- Left join: Keep only IDs that are contained in the first data set.\n",
    "- Right join: Keep only IDs that are contained in the second data set.\n",
    "\n",
    "All of these join-types will be applied in the following programming examples.\n",
    "\n"
   ]
  },
  {
   "cell_type": "code",
   "execution_count": 7,
   "id": "4b277620",
   "metadata": {},
   "outputs": [
    {
     "name": "stdout",
     "output_type": "stream",
     "text": [
      "     ID  x1 x2  x3\n",
      "0  1001   1  a  16\n",
      "1  1002   2  b  15\n",
      "2  1003   3  c  14\n",
      "3  1004   4  d  13\n",
      "4  1005   5  e  12\n",
      "5  1006   6  f  11\n"
     ]
    }
   ],
   "source": [
    "data1 = pd.DataFrame({\"ID\":range(1001, 1007),    # Create first pandas DataFrame\n",
    "                      \"x1\":range(1, 7),\n",
    "                      \"x2\":[\"a\", \"b\", \"c\", \"d\", \"e\", \"f\"],\n",
    "                      \"x3\":range(16, 10, - 1)})\n",
    "print(data1)                                     # Print first pandas DataFrame\n"
   ]
  },
  {
   "cell_type": "code",
   "execution_count": 8,
   "id": "470ad3b4",
   "metadata": {},
   "outputs": [
    {
     "name": "stdout",
     "output_type": "stream",
     "text": [
      "     ID y1  y2\n",
      "0  1004  x  10\n",
      "1  1005  y   8\n",
      "2  1006  x   6\n",
      "3  1007  y   4\n",
      "4  1008  x   2\n"
     ]
    }
   ],
   "source": [
    "data2 = pd.DataFrame({\"ID\":range(1004, 1009),    # Create second pandas DataFrame\n",
    "                      \"y1\":[\"x\", \"y\", \"x\", \"y\", \"x\"],\n",
    "                      \"y2\":range(10, 1, - 2)})\n",
    "print(data2)                                     # Print second pandas DataFrame"
   ]
  },
  {
   "cell_type": "code",
   "execution_count": 9,
   "id": "a341a564",
   "metadata": {},
   "outputs": [
    {
     "name": "stdout",
     "output_type": "stream",
     "text": [
      "     ID  x1 x2  x3 y1  y2\n",
      "0  1004   4  d  13  x  10\n",
      "1  1005   5  e  12  y   8\n",
      "2  1006   6  f  11  x   6\n"
     ]
    }
   ],
   "source": [
    "data_inner = pd.merge(data1,                     # Inner join\n",
    "                      data2,\n",
    "                      on = \"ID\",\n",
    "                      how = \"inner\")\n",
    "print(data_inner)                                # Print merged DataFrame"
   ]
  },
  {
   "cell_type": "code",
   "execution_count": 10,
   "id": "4065300c",
   "metadata": {},
   "outputs": [
    {
     "name": "stdout",
     "output_type": "stream",
     "text": [
      "     ID   x1   x2    x3   y1    y2\n",
      "0  1001  1.0    a  16.0  NaN   NaN\n",
      "1  1002  2.0    b  15.0  NaN   NaN\n",
      "2  1003  3.0    c  14.0  NaN   NaN\n",
      "3  1004  4.0    d  13.0    x  10.0\n",
      "4  1005  5.0    e  12.0    y   8.0\n",
      "5  1006  6.0    f  11.0    x   6.0\n",
      "6  1007  NaN  NaN   NaN    y   4.0\n",
      "7  1008  NaN  NaN   NaN    x   2.0\n"
     ]
    }
   ],
   "source": [
    "data_outer = pd.merge(data1,                     # Outer join\n",
    "                      data2,\n",
    "                      on = \"ID\",\n",
    "                      how = \"outer\")\n",
    "print(data_outer)                                # Print merged DataFrame"
   ]
  },
  {
   "cell_type": "code",
   "execution_count": 11,
   "id": "9e3fc79a",
   "metadata": {},
   "outputs": [
    {
     "name": "stdout",
     "output_type": "stream",
     "text": [
      "     ID  x1 x2  x3   y1    y2\n",
      "0  1001   1  a  16  NaN   NaN\n",
      "1  1002   2  b  15  NaN   NaN\n",
      "2  1003   3  c  14  NaN   NaN\n",
      "3  1004   4  d  13    x  10.0\n",
      "4  1005   5  e  12    y   8.0\n",
      "5  1006   6  f  11    x   6.0\n"
     ]
    }
   ],
   "source": [
    "data_left = pd.merge(data1,                      # Left join\n",
    "                      data2,\n",
    "                      on = \"ID\",\n",
    "                      how = \"left\")\n",
    "print(data_left)                                 # Print merged DataFrame"
   ]
  },
  {
   "cell_type": "code",
   "execution_count": 12,
   "id": "55c072f9",
   "metadata": {},
   "outputs": [
    {
     "name": "stdout",
     "output_type": "stream",
     "text": [
      "     ID   x1   x2    x3 y1  y2\n",
      "0  1004  4.0    d  13.0  x  10\n",
      "1  1005  5.0    e  12.0  y   8\n",
      "2  1006  6.0    f  11.0  x   6\n",
      "3  1007  NaN  NaN   NaN  y   4\n",
      "4  1008  NaN  NaN   NaN  x   2\n"
     ]
    }
   ],
   "source": [
    "data_right = pd.merge(data1,                     # Right join\n",
    "                      data2,\n",
    "                      on = \"ID\",\n",
    "                      how = \"right\")\n",
    "print(data_right)                                # Print merged DataFrame"
   ]
  },
  {
   "cell_type": "code",
   "execution_count": 13,
   "id": "12555c79",
   "metadata": {},
   "outputs": [
    {
     "name": "stdout",
     "output_type": "stream",
     "text": [
      "   x1  x2 group\n",
      "0   2   1     A\n",
      "1   7   2     B\n",
      "2   5   3     A\n",
      "3   7   4     A\n",
      "4   1   5     C\n",
      "5   5   6     B\n",
      "6   9   7     A\n"
     ]
    }
   ],
   "source": [
    "data = pd.DataFrame({'x1':[2, 7, 5, 7, 1, 5, 9],  # Create pandas DataFrame\n",
    "                     'x2':range(1, 8),\n",
    "                     'group':['A', 'B', 'A', 'A', 'C', 'B', 'A']})\n",
    "print(data)                           "
   ]
  },
  {
   "cell_type": "code",
   "execution_count": 14,
   "id": "99db741c",
   "metadata": {},
   "outputs": [
    {
     "name": "stdout",
     "output_type": "stream",
     "text": [
      "5.142857142857143\n"
     ]
    }
   ],
   "source": [
    "print(data['x1'].mean())                          # Get mean of one column"
   ]
  },
  {
   "cell_type": "code",
   "execution_count": 15,
   "id": "f96845de",
   "metadata": {},
   "outputs": [
    {
     "name": "stdout",
     "output_type": "stream",
     "text": [
      "x1    5.142857\n",
      "x2    4.000000\n",
      "dtype: float64\n"
     ]
    },
    {
     "name": "stderr",
     "output_type": "stream",
     "text": [
      "/var/folders/2c/19wbw1_d4pv7bl31_4pf2_xm0000gn/T/ipykernel_18765/450106433.py:1: FutureWarning: Dropping of nuisance columns in DataFrame reductions (with 'numeric_only=None') is deprecated; in a future version this will raise TypeError.  Select only valid columns before calling the reduction.\n",
      "  print(data.mean())                                # Get mean of all columns\n"
     ]
    }
   ],
   "source": [
    "print(data.mean())                                # Get mean of all columns"
   ]
  },
  {
   "cell_type": "code",
   "execution_count": 16,
   "id": "c684c5ef",
   "metadata": {},
   "outputs": [
    {
     "name": "stdout",
     "output_type": "stream",
     "text": [
      "             x1        x2\n",
      "count  7.000000  7.000000\n",
      "mean   5.142857  4.000000\n",
      "std    2.853569  2.160247\n",
      "min    1.000000  1.000000\n",
      "25%    3.500000  2.500000\n",
      "50%    5.000000  4.000000\n",
      "75%    7.000000  5.500000\n",
      "max    9.000000  7.000000\n"
     ]
    }
   ],
   "source": [
    "print(data.describe())      "
   ]
  },
  {
   "cell_type": "code",
   "execution_count": 17,
   "id": "00d3b57a",
   "metadata": {},
   "outputs": [
    {
     "name": "stdout",
     "output_type": "stream",
     "text": [
      "         x1    x2\n",
      "group            \n",
      "A      5.75  3.75\n",
      "B      6.00  4.00\n",
      "C      1.00  5.00\n"
     ]
    }
   ],
   "source": [
    "print(data.groupby('group').mean())               # Get mean by group"
   ]
  },
  {
   "cell_type": "code",
   "execution_count": 19,
   "id": "f5bd39c9",
   "metadata": {},
   "outputs": [
    {
     "name": "stdout",
     "output_type": "stream",
     "text": [
      "         x1                                              x2                  \\\n",
      "      count  mean       std  min   25%  50%  75%  max count  mean       std   \n",
      "group                                                                         \n",
      "A       4.0  5.75  2.986079  2.0  4.25  6.0  7.5  9.0   4.0  3.75  2.500000   \n",
      "B       2.0  6.00  1.414214  5.0  5.50  6.0  6.5  7.0   2.0  4.00  2.828427   \n",
      "C       1.0  1.00       NaN  1.0  1.00  1.0  1.0  1.0   1.0  5.00       NaN   \n",
      "\n",
      "                                 \n",
      "       min  25%  50%   75%  max  \n",
      "group                            \n",
      "A      1.0  2.5  3.5  4.75  7.0  \n",
      "B      2.0  3.0  4.0  5.00  6.0  \n",
      "C      5.0  5.0  5.0  5.00  5.0  \n"
     ]
    }
   ],
   "source": [
    "print(data.groupby('group').describe())             # Get descriptive stats by group"
   ]
  },
  {
   "cell_type": "code",
   "execution_count": 20,
   "id": "72b9156a",
   "metadata": {},
   "outputs": [
    {
     "name": "stdout",
     "output_type": "stream",
     "text": [
      "   x1  x2  x3\n",
      "0   6   2   8\n",
      "1   2   5   7\n",
      "2   7   7   6\n",
      "3   1   1   5\n",
      "4   9   3   4\n",
      "5   3   1   3\n",
      "6   4   2   2\n",
      "7   9   3   1\n"
     ]
    }
   ],
   "source": [
    "data = pd.DataFrame({'x1':[6, 2, 7, 1, 9, 3, 4, 9],  # Create example DataFrame\n",
    "                     'x2':[2, 5, 7, 1, 3, 1, 2, 3],\n",
    "                     'x3':range(8, 0, - 1)})\n",
    "print(data)                                          # Print example DataFrame"
   ]
  },
  {
   "cell_type": "code",
   "execution_count": 21,
   "id": "3f66f22d",
   "metadata": {},
   "outputs": [
    {
     "name": "stdout",
     "output_type": "stream",
     "text": [
      "0    16\n",
      "1    14\n",
      "2    20\n",
      "3     7\n",
      "4    16\n",
      "5     7\n",
      "6     8\n",
      "7    13\n",
      "dtype: int64\n"
     ]
    }
   ],
   "source": [
    "print(data.sum(axis = 1))                            # Get row sums"
   ]
  },
  {
   "cell_type": "code",
   "execution_count": 22,
   "id": "d2077ab8",
   "metadata": {},
   "outputs": [
    {
     "name": "stdout",
     "output_type": "stream",
     "text": [
      "   x1 x2 x3\n",
      "0   0  C  a\n",
      "1   1  A  b\n",
      "2   2  B  c\n",
      "3   3  C  b\n",
      "4   4  A  c\n",
      "5   5  A  b\n",
      "6   6  B  a\n",
      "7   7  A  c\n"
     ]
    }
   ],
   "source": [
    "data = pd.DataFrame({'x1':range(0, 8),       # Create example DataFrame\n",
    "                     'x2':['C', 'A', 'B', 'C', 'A', 'A', 'B', 'A'],\n",
    "                     'x3':['a', 'b', 'c', 'b', 'c', 'b', 'a', 'c']})\n",
    "print(data)                                  # Print example DataFrame"
   ]
  },
  {
   "cell_type": "code",
   "execution_count": 23,
   "id": "ccb4271c",
   "metadata": {},
   "outputs": [
    {
     "name": "stdout",
     "output_type": "stream",
     "text": [
      "   x1 x2 x3\n",
      "1   1  A  b\n",
      "5   5  A  b\n",
      "4   4  A  c\n",
      "7   7  A  c\n",
      "6   6  B  a\n",
      "2   2  B  c\n",
      "0   0  C  a\n",
      "3   3  C  b\n"
     ]
    }
   ],
   "source": [
    "data_new = data.sort_values(['x2', 'x3'])    # Sort DataFrame\n",
    "print(data_new)                              # Print new DataFrame"
   ]
  },
  {
   "cell_type": "code",
   "execution_count": 24,
   "id": "4ee920a4",
   "metadata": {},
   "outputs": [
    {
     "name": "stdout",
     "output_type": "stream",
     "text": [
      "        dates  values\n",
      "0  02/25/2023       1\n",
      "1  01/01/2024       2\n",
      "2  17/11/2019       3\n",
      "3  17/10/2022       4\n",
      "4  02/02/2022       5\n"
     ]
    }
   ],
   "source": [
    "data = pd.DataFrame({'dates':['02/25/2023','01/01/2024','17/11/2019','17/10/2022','02/02/2022'],  # Create example DataFrame\n",
    "                     'values':range(1, 6)})\n",
    "print(data)   "
   ]
  },
  {
   "cell_type": "code",
   "execution_count": 25,
   "id": "200386e3",
   "metadata": {},
   "outputs": [],
   "source": [
    "data_new = data.copy()                                                   # Create duplicate\n"
   ]
  },
  {
   "cell_type": "code",
   "execution_count": 26,
   "id": "06b5bc4f",
   "metadata": {},
   "outputs": [
    {
     "name": "stderr",
     "output_type": "stream",
     "text": [
      "/var/folders/2c/19wbw1_d4pv7bl31_4pf2_xm0000gn/T/ipykernel_18765/1627977337.py:1: UserWarning: Parsing '17/11/2019' in DD/MM/YYYY format. Provide format or specify infer_datetime_format=True for consistent parsing.\n",
      "  data_new['dates'] = pd.to_datetime(data_new.dates)                       # Convert to date\n",
      "/var/folders/2c/19wbw1_d4pv7bl31_4pf2_xm0000gn/T/ipykernel_18765/1627977337.py:1: UserWarning: Parsing '17/10/2022' in DD/MM/YYYY format. Provide format or specify infer_datetime_format=True for consistent parsing.\n",
      "  data_new['dates'] = pd.to_datetime(data_new.dates)                       # Convert to date\n"
     ]
    }
   ],
   "source": [
    "data_new['dates'] = pd.to_datetime(data_new.dates)                       # Convert to date\n"
   ]
  },
  {
   "cell_type": "code",
   "execution_count": 27,
   "id": "5ac499bd",
   "metadata": {},
   "outputs": [],
   "source": [
    "data_new = data_new.sort_values(by = ['dates'])                          # Sort rows of data"
   ]
  },
  {
   "cell_type": "code",
   "execution_count": 28,
   "id": "03815fb7",
   "metadata": {},
   "outputs": [
    {
     "name": "stdout",
     "output_type": "stream",
     "text": [
      "       dates  values\n",
      "2 2019-11-17       3\n",
      "4 2022-02-02       5\n",
      "3 2022-10-17       4\n",
      "0 2023-02-25       1\n",
      "1 2024-01-01       2\n"
     ]
    }
   ],
   "source": [
    "print(data_new)                                                          # Print new data set"
   ]
  },
  {
   "cell_type": "code",
   "execution_count": 29,
   "id": "7b26d197",
   "metadata": {},
   "outputs": [
    {
     "name": "stdout",
     "output_type": "stream",
     "text": [
      "   x1 x2  x3 x4\n",
      "0  10  a  27  x\n",
      "1  11  b  26  z\n",
      "2  12  b  25  y\n",
      "3  13  c  24  y\n",
      "4  14  d  23  x\n",
      "5  15  a  22  y\n",
      "6  16  b  21  z\n",
      "7  17  d  20  x\n"
     ]
    }
   ],
   "source": [
    "data = pd.DataFrame({'x1':range(10, 18),    # Create pandas DataFrame\n",
    "                     'x2':['a', 'b', 'b', 'c', 'd', 'a', 'b', 'd'],\n",
    "                     'x3':range(27, 19, - 1),\n",
    "                     'x4':['x', 'z', 'y', 'y', 'x', 'y', 'z', 'x']})\n",
    "print(data)    \n"
   ]
  },
  {
   "cell_type": "code",
   "execution_count": 30,
   "id": "6023b8d0",
   "metadata": {},
   "outputs": [
    {
     "name": "stdout",
     "output_type": "stream",
     "text": [
      "3\n"
     ]
    }
   ],
   "source": [
    "split_point = 3                             # Define split point\n",
    "print(split_point)                          # Print split point"
   ]
  },
  {
   "cell_type": "code",
   "execution_count": 31,
   "id": "2a343eb2",
   "metadata": {},
   "outputs": [
    {
     "name": "stdout",
     "output_type": "stream",
     "text": [
      "   x1 x2  x3 x4\n",
      "0  10  a  27  x\n",
      "1  11  b  26  z\n",
      "2  12  b  25  y\n"
     ]
    }
   ],
   "source": [
    "data_upper = data.iloc[:split_point]        # Create upper data set\n",
    "print(data_upper)                           # Print DataFrame of upper rows"
   ]
  },
  {
   "cell_type": "code",
   "execution_count": 32,
   "id": "03762890",
   "metadata": {},
   "outputs": [
    {
     "name": "stdout",
     "output_type": "stream",
     "text": [
      "   x1 x2  x3 x4\n",
      "3  13  c  24  y\n",
      "4  14  d  23  x\n",
      "5  15  a  22  y\n",
      "6  16  b  21  z\n",
      "7  17  d  20  x\n"
     ]
    }
   ],
   "source": [
    "data_lower = data.iloc[split_point:]        # Create lower data set\n",
    "print(data_lower)                           # Print DataFrame of lower rows"
   ]
  },
  {
   "cell_type": "code",
   "execution_count": 35,
   "id": "8efded74",
   "metadata": {},
   "outputs": [
    {
     "name": "stdout",
     "output_type": "stream",
     "text": [
      "   x1 x2  x3\n",
      "0  10  a  10\n",
      "1  11  b   9\n",
      "2  12  c   8\n",
      "3  13  d   7\n",
      "4  14  e   6\n"
     ]
    }
   ],
   "source": [
    "data = pd.DataFrame({'x1':range(10, 15),    # Create pandas DataFrame\n",
    "                     'x2':['a', 'b', 'c', 'd', 'e'],\n",
    "                     'x3':range(10, 5, - 1)})\n",
    "print(data)                                 # Print pandas DataFrame"
   ]
  },
  {
   "cell_type": "code",
   "execution_count": 42,
   "id": "9cdbdf17",
   "metadata": {},
   "outputs": [
    {
     "name": "stdout",
     "output_type": "stream",
     "text": [
      "    x1  x3\n",
      "x2        \n",
      "a   10  10\n",
      "b   11   9\n",
      "c   12   8\n",
      "d   13   7\n",
      "e   14   6\n"
     ]
    }
   ],
   "source": [
    "data_new = data.set_index('x2')             # Apply set_index function\n",
    "print(data_new)                             # Print updated DataFrame"
   ]
  },
  {
   "cell_type": "code",
   "execution_count": 43,
   "id": "05a36e18",
   "metadata": {},
   "outputs": [
    {
     "name": "stdout",
     "output_type": "stream",
     "text": [
      "             datetime  values\n",
      "0 2018-01-06 23:15:00       0\n",
      "1 2019-02-09 01:48:00       1\n",
      "2 2020-08-06 13:20:00       2\n",
      "3 2021-07-03 14:50:00       3\n"
     ]
    }
   ],
   "source": [
    "data1 = pd.DataFrame({'datetime':pd.to_datetime(['01-06-2018 23:15:00',   # Creating data\n",
    "                                                 '02-09-2019 01:48:00',\n",
    "                                                 '08-06-2020 13:20:00',\n",
    "                                                 '07-03-2021 14:50:00']),\n",
    "                      'values':range(0, 4)})\n",
    "print(data1)                                         # Print example DataFrame"
   ]
  },
  {
   "cell_type": "code",
   "execution_count": 44,
   "id": "46723357",
   "metadata": {},
   "outputs": [
    {
     "name": "stdout",
     "output_type": "stream",
     "text": [
      "                     values\n",
      "datetime                   \n",
      "2018-01-06 23:15:00       0\n",
      "2019-02-09 01:48:00       1\n",
      "2020-08-06 13:20:00       2\n",
      "2021-07-03 14:50:00       3\n"
     ]
    }
   ],
   "source": [
    "data1_new = data1.set_index('datetime')           # Applying the set_index method\n",
    "print(data1_new)       "
   ]
  },
  {
   "cell_type": "code",
   "execution_count": 45,
   "id": "07168579",
   "metadata": {},
   "outputs": [
    {
     "name": "stdout",
     "output_type": "stream",
     "text": [
      "         date      time  values\n",
      "0  09-05-2019  22:40:00       0\n",
      "1  08-03-2020  03:46:00       1\n",
      "2  02-06-2021  21:19:00       2\n",
      "3  01-01-2022  17:35:00       3\n"
     ]
    }
   ],
   "source": [
    "data2 = pd.DataFrame({'date':['09-05-2019', '08-03-2020', '02-06-2021', '01-01-2022'],  # Creating example data\n",
    "                      'time':['22:40:00', '03:46:00', '21:19:00', '17:35:00'],\n",
    "                      'values':range(0, 4)})\n",
    "print(data2)                      "
   ]
  },
  {
   "cell_type": "code",
   "execution_count": 46,
   "id": "1e10eaec",
   "metadata": {},
   "outputs": [
    {
     "name": "stdout",
     "output_type": "stream",
     "text": [
      "         date      time  values            datetime\n",
      "0  09-05-2019  22:40:00       0 2019-09-05 22:40:00\n",
      "1  08-03-2020  03:46:00       1 2020-08-03 03:46:00\n",
      "2  02-06-2021  21:19:00       2 2021-02-06 21:19:00\n",
      "3  01-01-2022  17:35:00       3 2022-01-01 17:35:00\n"
     ]
    }
   ],
   "source": [
    "data2_new = data2.copy()                             # Create copy of pandas DataFrame\n",
    "data2_new['datetime'] = pd.to_datetime(data2_new['date'] +  # Create datetime column using + operator\n",
    "                                       ' ' +\n",
    "                                       data2_new['time'])\n",
    "print(data2_new)                                     # Print new DataFrame with datetime column"
   ]
  },
  {
   "cell_type": "code",
   "execution_count": 47,
   "id": "45651c55",
   "metadata": {},
   "outputs": [
    {
     "name": "stdout",
     "output_type": "stream",
     "text": [
      "                           date      time  values\n",
      "datetime                                         \n",
      "2019-09-05 22:40:00  09-05-2019  22:40:00       0\n",
      "2020-08-03 03:46:00  08-03-2020  03:46:00       1\n",
      "2021-02-06 21:19:00  02-06-2021  21:19:00       2\n",
      "2022-01-01 17:35:00  01-01-2022  17:35:00       3\n"
     ]
    }
   ],
   "source": [
    "data2_new = data2_new.set_index('datetime')          # Applying the set_index method\n",
    "print(data2_new)                                     # Print new DataFrame with updated index"
   ]
  },
  {
   "cell_type": "code",
   "execution_count": 48,
   "id": "49f92bf4",
   "metadata": {},
   "outputs": [
    {
     "name": "stdout",
     "output_type": "stream",
     "text": [
      "                     values\n",
      "datetime                   \n",
      "2019-09-05 22:40:00       0\n",
      "2020-08-03 03:46:00       1\n",
      "2021-02-06 21:19:00       2\n",
      "2022-01-01 17:35:00       3\n"
     ]
    }
   ],
   "source": [
    "del data2_new['date']                                # Remove unnecessary date column\n",
    "del data2_new['time']                                # Remove unnecessary time column\n",
    "print(data2_new)                                     # Print adapted DataFrame"
   ]
  },
  {
   "cell_type": "code",
   "execution_count": 49,
   "id": "715ab67e",
   "metadata": {},
   "outputs": [],
   "source": [
    "data3_new = data2.copy()                               # Creating example data"
   ]
  },
  {
   "cell_type": "code",
   "execution_count": 50,
   "id": "1d22f260",
   "metadata": {},
   "outputs": [
    {
     "name": "stdout",
     "output_type": "stream",
     "text": [
      "                           date      time  values\n",
      "datetime                                         \n",
      "2019-09-05 22:40:00  09-05-2019  22:40:00       0\n",
      "2020-08-03 03:46:00  08-03-2020  03:46:00       1\n",
      "2021-02-06 21:19:00  02-06-2021  21:19:00       2\n",
      "2022-01-01 17:35:00  01-01-2022  17:35:00       3\n"
     ]
    }
   ],
   "source": [
    "data3_new['datetime'] = pd.to_datetime(data3_new['date'] +  # Create datetime column using the format parameter\n",
    "                                       data3_new['time'],\n",
    "                                       format = '%m-%d-%Y%H:%M:%S')\n",
    "data3_new = data3_new.set_index('datetime')            # Applying the set_index method\n",
    "print(data3_new)                                       # Print new DataFrame with updated index"
   ]
  },
  {
   "cell_type": "code",
   "execution_count": 51,
   "id": "79031f12",
   "metadata": {},
   "outputs": [
    {
     "name": "stdout",
     "output_type": "stream",
     "text": [
      "                     values\n",
      "datetime                   \n",
      "2019-09-05 22:40:00       0\n",
      "2020-08-03 03:46:00       1\n",
      "2021-02-06 21:19:00       2\n",
      "2022-01-01 17:35:00       3\n"
     ]
    }
   ],
   "source": [
    "del data3_new['date']                                # Remove unnecessary date column\n",
    "del data3_new['time']                                # Remove unnecessary time column\n",
    "print(data3_new)  "
   ]
  },
  {
   "cell_type": "code",
   "execution_count": 55,
   "id": "d110cec3",
   "metadata": {},
   "outputs": [
    {
     "name": "stdout",
     "output_type": "stream",
     "text": [
      "   x1  x2   x3\n",
      "0   1  11  101\n",
      "1   2  12  102\n",
      "2   3  13  103\n",
      "3   4  14  104\n",
      "4   5  15  105\n"
     ]
    }
   ],
   "source": [
    "data = pd.DataFrame({'x1':range(1, 6),    # Create example DataFrame\n",
    "                     'x2':range(11, 16),\n",
    "                     'x3':range(101, 106)})\n",
    "print(data)                               # Print example DataFrame"
   ]
  },
  {
   "cell_type": "code",
   "execution_count": 56,
   "id": "df0aaa82",
   "metadata": {},
   "outputs": [
    {
     "name": "stdout",
     "output_type": "stream",
     "text": [
      "   x1  x2   x3\n",
      "3   4  14  104\n"
     ]
    }
   ],
   "source": [
    "print(data.iloc[[3]])"
   ]
  },
  {
   "cell_type": "code",
   "execution_count": 57,
   "id": "a63f69db",
   "metadata": {
    "scrolled": true
   },
   "outputs": [
    {
     "name": "stdout",
     "output_type": "stream",
     "text": [
      "   x1  x2   x3\n",
      "1   2  12  102\n",
      "3   4  14  104\n",
      "4   5  15  105\n"
     ]
    }
   ],
   "source": [
    "print(data.iloc[[1, 3, 4]])"
   ]
  },
  {
   "cell_type": "code",
   "execution_count": 58,
   "id": "3351753b",
   "metadata": {},
   "outputs": [
    {
     "name": "stdout",
     "output_type": "stream",
     "text": [
      "  x1  x2  x3\n",
      "0  a   7   1\n",
      "1  b   6   2\n",
      "2  c   5   1\n",
      "3  d   4   2\n",
      "4  e   3   3\n",
      "5  f   2   1\n"
     ]
    }
   ],
   "source": [
    "data = pd.DataFrame({'x1':['a', 'b', 'c', 'd', 'e', 'f'],   # Create pandas DataFrame\n",
    "                     'x2':range(7, 1, - 1),\n",
    "                     'x3':[1, 2, 1, 2, 3, 1]})\n",
    "print(data)  "
   ]
  },
  {
   "cell_type": "code",
   "execution_count": 59,
   "id": "0a64b7cd",
   "metadata": {},
   "outputs": [
    {
     "name": "stdout",
     "output_type": "stream",
     "text": [
      "  x1  x2  x3\n",
      "0  a   7   1\n",
      "2  c   5   1\n",
      "5  f   2   1\n"
     ]
    }
   ],
   "source": [
    "data_sub1 = data.loc[data['x3'] == 1]                       # Get rows with particular value\n",
    "print(data_sub1)                    "
   ]
  },
  {
   "cell_type": "code",
   "execution_count": 60,
   "id": "6a7fed69",
   "metadata": {},
   "outputs": [
    {
     "name": "stdout",
     "output_type": "stream",
     "text": [
      "  x1  x2  x3\n",
      "1  b   6   2\n",
      "3  d   4   2\n",
      "4  e   3   3\n"
     ]
    }
   ],
   "source": [
    "data_sub2 = data.loc[data['x3'] >= 2]                       # Get rows in range\n",
    "print(data_sub2)                                            # Print DataFrame subset\n"
   ]
  },
  {
   "cell_type": "code",
   "execution_count": 61,
   "id": "e8cefe5b",
   "metadata": {},
   "outputs": [
    {
     "name": "stdout",
     "output_type": "stream",
     "text": [
      "  x1  x2  x3\n",
      "0  a   7   1\n",
      "2  c   5   1\n",
      "4  e   3   3\n",
      "5  f   2   1\n"
     ]
    }
   ],
   "source": [
    "data_sub3 = data.loc[data['x3'].isin([1, 3])]               # Get rows with set of values\n",
    "print(data_sub3)                                            # Print DataFrame subset"
   ]
  },
  {
   "cell_type": "code",
   "execution_count": 62,
   "id": "ddd9b31d",
   "metadata": {},
   "outputs": [
    {
     "name": "stdout",
     "output_type": "stream",
     "text": [
      "  x1  x2  x3\n",
      "0  a   7   1\n",
      "2  c   5   1\n"
     ]
    }
   ],
   "source": [
    "data_sub4 = data.loc[(data['x2'] > 3) & (data['x3'] == 1)]  # Multiple conditions\n",
    "print(data_sub4)                                            # Print DataFrame subset"
   ]
  },
  {
   "cell_type": "code",
   "execution_count": 63,
   "id": "b7a0d4c3",
   "metadata": {},
   "outputs": [
    {
     "name": "stdout",
     "output_type": "stream",
     "text": [
      "   x1 x2  x3\n",
      "0  80  a  27\n",
      "1  79  b  26\n",
      "2  78  c  25\n",
      "3  77  a  24\n",
      "4  76  c  23\n",
      "5  75  c  22\n",
      "6  74  b  21\n"
     ]
    }
   ],
   "source": [
    "data = pd.DataFrame({'x1':range(80, 73, - 1),    # Create pandas DataFrame\n",
    "                     'x2':['a', 'b', 'c', 'a', 'c', 'c', 'b'],\n",
    "                     'x3':range(27, 20, - 1)})\n",
    "print(data)   "
   ]
  },
  {
   "cell_type": "code",
   "execution_count": 64,
   "id": "2fa66c53",
   "metadata": {},
   "outputs": [
    {
     "name": "stdout",
     "output_type": "stream",
     "text": [
      "      x1     x2     x3\n",
      "0  False  False  False\n",
      "1  False   True  False\n",
      "2  False  False  False\n",
      "3  False  False  False\n",
      "4  False  False  False\n",
      "5  False  False  False\n",
      "6  False   True  False\n"
     ]
    }
   ],
   "source": [
    "search_result_1 = data.isin(['b'])               # Create matrix of logical values\n",
    "print(search_result_1)                           # Print output"
   ]
  },
  {
   "cell_type": "code",
   "execution_count": 67,
   "id": "023d5bc5",
   "metadata": {},
   "outputs": [
    {
     "name": "stdout",
     "output_type": "stream",
     "text": [
      "x1    False\n",
      "x2     True\n",
      "x3    False\n",
      "dtype: bool\n"
     ]
    }
   ],
   "source": [
    "search_result_2 = data.isin(['b']).any()         # Check by column\n",
    "print(search_result_2)                           # Print output"
   ]
  },
  {
   "cell_type": "code",
   "execution_count": 68,
   "id": "7a063e49",
   "metadata": {},
   "outputs": [
    {
     "name": "stdout",
     "output_type": "stream",
     "text": [
      "   x1 x2  x3\n",
      "6  74  b  21\n",
      "5  75  c  22\n",
      "4  76  c  23\n",
      "3  77  a  24\n",
      "2  78  c  25\n",
      "1  79  b  26\n",
      "0  80  a  27\n"
     ]
    }
   ],
   "source": [
    "data_rev1 = data[::-1]                             # Reverse order of rows\n",
    "print(data_rev1)    "
   ]
  },
  {
   "cell_type": "code",
   "execution_count": 69,
   "id": "1fe6ed11",
   "metadata": {},
   "outputs": [
    {
     "name": "stdout",
     "output_type": "stream",
     "text": [
      "   x1 x2  x3\n",
      "0  74  b  21\n",
      "1  75  c  22\n",
      "2  76  c  23\n",
      "3  77  a  24\n",
      "4  78  c  25\n",
      "5  79  b  26\n",
      "6  80  a  27\n"
     ]
    }
   ],
   "source": [
    "data_rev2 = data[::-1].reset_index(drop = True)    # Reset index\n",
    "print(data_rev2)   "
   ]
  },
  {
   "cell_type": "code",
   "execution_count": 70,
   "id": "1747039b",
   "metadata": {},
   "outputs": [
    {
     "name": "stdout",
     "output_type": "stream",
     "text": [
      "   x3 x2  x1\n",
      "0  27  a  80\n",
      "1  26  b  79\n",
      "2  25  c  78\n",
      "3  24  a  77\n",
      "4  23  c  76\n",
      "5  22  c  75\n",
      "6  21  b  74\n"
     ]
    }
   ],
   "source": [
    "data_rev3 = data[data.columns[::-1]]               # Reverse order of columns\n",
    "print(data_rev3)                                   # Print updated data"
   ]
  },
  {
   "cell_type": "code",
   "execution_count": 71,
   "id": "8069f15a",
   "metadata": {},
   "outputs": [
    {
     "name": "stdout",
     "output_type": "stream",
     "text": [
      "   x1  x2  x3\n",
      "0   1   5   3\n",
      "1   2   4   4\n",
      "2   3   3   5\n",
      "3   4   2   6\n"
     ]
    }
   ],
   "source": [
    "data = pd.DataFrame({'x1':range(1, 5),                  # Create example DataFrame\n",
    "                     'x2':range(5, 1, - 1),\n",
    "                     'x3':range(3, 7)})\n",
    "print(data)            "
   ]
  },
  {
   "cell_type": "code",
   "execution_count": 72,
   "id": "b673cbda",
   "metadata": {},
   "outputs": [
    {
     "name": "stdout",
     "output_type": "stream",
     "text": [
      "    x1  x2  x3\n",
      "0    1   5   3\n",
      "1    2   4   4\n",
      "2  999   3   5\n",
      "3    4   2   6\n"
     ]
    }
   ],
   "source": [
    "data_new1 = data.copy()                                 # Create copy of DataFrame\n",
    "data_new1.at[2, 'x1'] = 999                             # Replace values in DataFrame\n",
    "print(data_new1)                                        # Print updated DataFrame\n"
   ]
  },
  {
   "cell_type": "code",
   "execution_count": 73,
   "id": "dec0a013",
   "metadata": {},
   "outputs": [
    {
     "name": "stdout",
     "output_type": "stream",
     "text": [
      "    x1  x2  x3\n",
      "0  999   5   3\n",
      "1    2   4   4\n",
      "2  999   3   5\n",
      "3    4   2   6\n"
     ]
    }
   ],
   "source": [
    "data_new2 = data.copy()                                 # Create copy of DataFrame\n",
    "data_new2['x1'] = data_new2['x1'].replace([1, 3], 999)  # Replace values in DataFrame\n",
    "print(data_new2)                                        # Print updated DataFrame\n"
   ]
  },
  {
   "cell_type": "code",
   "execution_count": 74,
   "id": "65d2b427",
   "metadata": {},
   "outputs": [
    {
     "name": "stdout",
     "output_type": "stream",
     "text": [
      "    x1   x2   x3\n",
      "0    1    5    3\n",
      "1    2  999  999\n",
      "2    3    3    5\n",
      "3  999    2    6\n"
     ]
    }
   ],
   "source": [
    "data_new3 = data.copy()                                 # Create copy of DataFrame\n",
    "data_new3 = data_new3.replace(4, 999)                   # Replace values in DataFrame\n",
    "print(data_new3)  "
   ]
  },
  {
   "cell_type": "code",
   "execution_count": 75,
   "id": "0e78b658",
   "metadata": {},
   "outputs": [
    {
     "name": "stdout",
     "output_type": "stream",
     "text": [
      "    x1   x2    x3\n",
      "0  NaN  1.0  10.0\n",
      "1  0.0  7.0  11.0\n",
      "2  1.0  NaN  12.0\n",
      "3  NaN  5.0   NaN\n",
      "4  1.0  3.0   NaN\n",
      "5  0.0  1.0  13.0\n"
     ]
    }
   ],
   "source": [
    "data = pd.DataFrame({'x1':[float('NaN'), 0, 1, float('NaN'), 1, 0],  # Create DataFrame\n",
    "                     'x2':[1, 7, float('NaN'), 5, 3, 1],\n",
    "                     'x3':[10, 11, 12, float('NaN'), float('NaN'), 13]})\n",
    "print(data) "
   ]
  },
  {
   "cell_type": "code",
   "execution_count": 76,
   "id": "429ed72b",
   "metadata": {},
   "outputs": [
    {
     "name": "stdout",
     "output_type": "stream",
     "text": [
      "    x1   x2    x3\n",
      "0  0.0  1.0  10.0\n",
      "1  0.0  7.0  11.0\n",
      "2  1.0  0.0  12.0\n",
      "3  0.0  5.0   0.0\n",
      "4  1.0  3.0   0.0\n",
      "5  0.0  1.0  13.0\n"
     ]
    }
   ],
   "source": [
    "data_new1 = data.fillna(0)                                 # Substitute NaN in all columns\n",
    "print(data_new1) "
   ]
  },
  {
   "cell_type": "code",
   "execution_count": 77,
   "id": "52529492",
   "metadata": {},
   "outputs": [
    {
     "name": "stdout",
     "output_type": "stream",
     "text": [
      "    x1   x2    x3\n",
      "0  0.0  1.0  10.0\n",
      "1  0.0  7.0  11.0\n",
      "2  1.0  NaN  12.0\n",
      "3  0.0  5.0   NaN\n",
      "4  1.0  3.0   NaN\n",
      "5  0.0  1.0  13.0\n"
     ]
    }
   ],
   "source": [
    "data_new2 = data.copy()                                    # Create copy of input DataFrame\n",
    "data_new2['x1'] = data_new2['x1'].fillna(0)                # Substitute NaN in single column\n",
    "print(data_new2)"
   ]
  },
  {
   "cell_type": "code",
   "execution_count": 78,
   "id": "508aef30",
   "metadata": {},
   "outputs": [
    {
     "name": "stdout",
     "output_type": "stream",
     "text": [
      "             x1   x2    x3\n",
      "index_name                \n",
      "0           NaN  1.0  10.0\n",
      "1           0.0  7.0  11.0\n",
      "2           1.0  NaN  12.0\n",
      "3           NaN  5.0   NaN\n",
      "4           1.0  3.0   NaN\n",
      "5           0.0  1.0  13.0\n"
     ]
    }
   ],
   "source": [
    "data.index.names = ['index_name']                # Rename index\n",
    "print(data)   "
   ]
  },
  {
   "cell_type": "code",
   "execution_count": 79,
   "id": "7183db8b",
   "metadata": {},
   "outputs": [
    {
     "name": "stdout",
     "output_type": "stream",
     "text": [
      "       x1   x2\n",
      "x3            \n",
      "10.0  NaN  1.0\n",
      "11.0  0.0  7.0\n",
      "12.0  1.0  NaN\n",
      "NaN   NaN  5.0\n",
      "NaN   1.0  3.0\n",
      "13.0  0.0  1.0\n"
     ]
    }
   ],
   "source": [
    "data = data.set_index('x3')                      # Column as indices\n",
    "print(data)           "
   ]
  },
  {
   "cell_type": "code",
   "execution_count": 81,
   "id": "069a10c0",
   "metadata": {},
   "outputs": [
    {
     "name": "stdout",
     "output_type": "stream",
     "text": [
      "   x1 x2 x3\n",
      "0   7  a  X\n",
      "1   6  b  Y\n",
      "2   5  c  X\n",
      "3   4  d  X\n",
      "4   3  e  Y\n",
      "5   2  f  X\n"
     ]
    }
   ],
   "source": [
    "data = pd.DataFrame({\"x1\":range(7, 1, - 1),                 # Create pandas DataFrame\n",
    "                     \"x2\":[\"a\", \"b\", \"c\", \"d\", \"e\", \"f\"],\n",
    "                     \"x3\":[\"X\", \"Y\", \"X\", \"X\", \"Y\", \"X\"]})\n",
    "print(data)"
   ]
  },
  {
   "cell_type": "code",
   "execution_count": 82,
   "id": "a749ce46",
   "metadata": {},
   "outputs": [
    {
     "name": "stdout",
     "output_type": "stream",
     "text": [
      "   col1 col2 col3\n",
      "0     7    a    X\n",
      "1     6    b    Y\n",
      "2     5    c    X\n",
      "3     4    d    X\n",
      "4     3    e    Y\n",
      "5     2    f    X\n"
     ]
    }
   ],
   "source": [
    "data_new1 = data.copy()                                     # Create copy of DataFrame\n",
    "data_new1.columns = [\"col1\", \"col2\", \"col3\"]                # Using columns attribute\n",
    "print(data_new1)  "
   ]
  },
  {
   "cell_type": "code",
   "execution_count": 83,
   "id": "68617ff7",
   "metadata": {},
   "outputs": [
    {
     "name": "stdout",
     "output_type": "stream",
     "text": [
      "   col1 x2 col3\n",
      "0     7  a    X\n",
      "1     6  b    Y\n",
      "2     5  c    X\n",
      "3     4  d    X\n",
      "4     3  e    Y\n",
      "5     2  f    X\n"
     ]
    }
   ],
   "source": [
    "data_new2 = data.copy()                                     # Create copy of DataFrame\n",
    "data_new2 = data_new2.rename(columns = {\"x1\": \"col1\", \"x3\": \"col3\"})  # Using rename()\n",
    "print(data_new2)  "
   ]
  },
  {
   "cell_type": "code",
   "execution_count": 84,
   "id": "c3b2b282",
   "metadata": {},
   "outputs": [
    {
     "name": "stdout",
     "output_type": "stream",
     "text": [
      "   x1 x2 new\n",
      "0   7  a   X\n",
      "1   6  b   Y\n",
      "2   5  c   X\n",
      "3   4  d   X\n",
      "4   3  e   Y\n",
      "5   2  f   X\n"
     ]
    }
   ],
   "source": [
    "data_new = data.rename(columns = {data.columns[2]: 'new'})  # Apply rename function\n",
    "print(data_new)  "
   ]
  },
  {
   "cell_type": "code",
   "execution_count": 85,
   "id": "9add48f4",
   "metadata": {},
   "outputs": [
    {
     "name": "stdout",
     "output_type": "stream",
     "text": [
      "   x1  x2 x3  x4\n",
      "0  10  30  a  48\n",
      "1  11  29  b  47\n",
      "2  12  28  c  46\n",
      "3  13  27  d  45\n",
      "4  14  26  e  44\n",
      "5  15  25  f  43\n"
     ]
    }
   ],
   "source": [
    "data_cbind_1 = pd.DataFrame({\"x1\":range(10, 16),                   # Create first pandas DataFrame\n",
    "                             \"x2\":range(30, 24, - 1),\n",
    "                             \"x3\":[\"a\", \"b\", \"c\", \"d\", \"e\", \"f\"],\n",
    "                             \"x4\":range(48, 42, - 1)})\n",
    "print(data_cbind_1)                                                # Print first pandas DataFrame\n",
    " "
   ]
  },
  {
   "cell_type": "code",
   "execution_count": 86,
   "id": "16cf857e",
   "metadata": {},
   "outputs": [
    {
     "name": "stdout",
     "output_type": "stream",
     "text": [
      "    y1 y2  y3\n",
      "0  foo  x  18\n",
      "1  bar  y  15\n",
      "2  bar  z  12\n",
      "3  foo  x   9\n",
      "4  foo  y   6\n",
      "5  bar  z   3\n"
     ]
    }
   ],
   "source": [
    "data_cbind_2 = pd.DataFrame({\"y1\":[\"foo\", \"bar\", \"bar\", \"foo\", \"foo\", \"bar\"], # Create second pandas DataFrame\n",
    "                             \"y2\":[\"x\", \"y\", \"z\", \"x\", \"y\", \"z\"],\n",
    "                             \"y3\":range(18, 0, - 3)})\n",
    "print(data_cbind_2)                                                # Print second pandas DataFrame\n"
   ]
  },
  {
   "cell_type": "code",
   "execution_count": 97,
   "id": "7f08c060",
   "metadata": {},
   "outputs": [
    {
     "name": "stdout",
     "output_type": "stream",
     "text": [
      "      x1    x2   x3    x4   y1   y2    y3\n",
      "0   10.0  30.0    a  48.0  NaN  NaN   NaN\n",
      "1   11.0  29.0    b  47.0  NaN  NaN   NaN\n",
      "2   12.0  28.0    c  46.0  NaN  NaN   NaN\n",
      "3   13.0  27.0    d  45.0  NaN  NaN   NaN\n",
      "4   14.0  26.0    e  44.0  NaN  NaN   NaN\n",
      "5   15.0  25.0    f  43.0  NaN  NaN   NaN\n",
      "6    NaN   NaN  NaN   NaN  foo    x  18.0\n",
      "7    NaN   NaN  NaN   NaN  bar    y  15.0\n",
      "8    NaN   NaN  NaN   NaN  bar    z  12.0\n",
      "9    NaN   NaN  NaN   NaN  foo    x   9.0\n",
      "10   NaN   NaN  NaN   NaN  foo    y   6.0\n",
      "11   NaN   NaN  NaN   NaN  bar    z   3.0\n"
     ]
    }
   ],
   "source": [
    "data_cbind_all = pd.concat([data_cbind_1.reset_index(drop = True), # Cbind DataFrames\n",
    "                            data_cbind_2],\n",
    "                           axis = 1)\n",
    "print(data_cbind_all)                                              # Print combined DataFrame\n"
   ]
  },
  {
   "cell_type": "code",
   "execution_count": 93,
   "id": "845a2bec",
   "metadata": {},
   "outputs": [
    {
     "name": "stdout",
     "output_type": "stream",
     "text": [
      "   ID  x1  x2 x3  x4\n",
      "0   1  10  30  a  48\n",
      "1   2  11  29  b  47\n",
      "2   3  12  28  c  46\n",
      "3   4  13  27  d  45\n"
     ]
    }
   ],
   "source": [
    "data_merge_1 = pd.DataFrame({\"ID\":range(1, 5),                     # Create first pandas DataFrame\n",
    "                             \"x1\":range(10, 14),\n",
    "                             \"x2\":range(30, 26, - 1),\n",
    "                             \"x3\":[\"a\", \"b\", \"c\", \"d\"],\n",
    "                             \"x4\":range(48, 44, - 1)})\n",
    "print(data_merge_1)                    "
   ]
  },
  {
   "cell_type": "code",
   "execution_count": 94,
   "id": "603bc0a8",
   "metadata": {},
   "outputs": [
    {
     "name": "stdout",
     "output_type": "stream",
     "text": [
      "   ID   y1 y2  y3\n",
      "0   3  foo  x  18\n",
      "1   4  bar  y  15\n",
      "2   5  bar  z  12\n",
      "3   6  foo  x   9\n",
      "4   7  foo  y   6\n",
      "5   8  bar  z   3\n"
     ]
    }
   ],
   "source": [
    "data_merge_2 = pd.DataFrame({\"ID\":range(3, 9),                     # Create second pandas DataFrame\n",
    "                             \"y1\":[\"foo\", \"bar\", \"bar\", \"foo\", \"foo\", \"bar\"],\n",
    "                             \"y2\":[\"x\", \"y\", \"z\", \"x\", \"y\", \"z\"],\n",
    "                             \"y3\":range(18, 0, - 3)})\n",
    "print(data_merge_2)                                                # Print second pandas DataFrame\n",
    " "
   ]
  },
  {
   "cell_type": "code",
   "execution_count": 95,
   "id": "87a2628f",
   "metadata": {},
   "outputs": [
    {
     "name": "stdout",
     "output_type": "stream",
     "text": [
      "   ID    x1    x2   x3    x4   y1   y2    y3\n",
      "0   1  10.0  30.0    a  48.0  NaN  NaN   NaN\n",
      "1   2  11.0  29.0    b  47.0  NaN  NaN   NaN\n",
      "2   3  12.0  28.0    c  46.0  foo    x  18.0\n",
      "3   4  13.0  27.0    d  45.0  bar    y  15.0\n",
      "4   5   NaN   NaN  NaN   NaN  bar    z  12.0\n",
      "5   6   NaN   NaN  NaN   NaN  foo    x   9.0\n",
      "6   7   NaN   NaN  NaN   NaN  foo    y   6.0\n",
      "7   8   NaN   NaN  NaN   NaN  bar    z   3.0\n"
     ]
    }
   ],
   "source": [
    "data_merge_all = pd.merge(data_merge_1,                            # Cbind DataFrames\n",
    "                          data_merge_2,\n",
    "                          on = \"ID\",\n",
    "                          how = \"outer\")\n",
    "print(data_merge_all)                                              # Print combined DataFrame\n"
   ]
  },
  {
   "cell_type": "code",
   "execution_count": 98,
   "id": "659c742c",
   "metadata": {},
   "outputs": [
    {
     "name": "stdout",
     "output_type": "stream",
     "text": [
      "   x1 x2  x3  x4\n",
      "0  11  a  30  30\n",
      "1  12  b  29  28\n",
      "2  13  c  28  26\n",
      "3  14  d  27  24\n",
      "4  15  e  26  22\n"
     ]
    }
   ],
   "source": [
    "data_rbind_1 = pd.DataFrame({\"x1\":range(11, 16),                   # Create first pandas DataFrame\n",
    "                             \"x2\":[\"a\", \"b\", \"c\", \"d\", \"e\"],\n",
    "                             \"x3\":range(30, 25, - 1),\n",
    "                             \"x4\":range(30, 20, - 2)})\n",
    "print(data_rbind_1) "
   ]
  },
  {
   "cell_type": "code",
   "execution_count": 99,
   "id": "b0ff9b21",
   "metadata": {},
   "outputs": [
    {
     "name": "stdout",
     "output_type": "stream",
     "text": [
      "   x1 x2  x3  x4\n",
      "0   3  x  20  28\n",
      "1   4  y  18  27\n",
      "2   5  y  16  26\n",
      "3   6  y  14  25\n",
      "4   7  x  12  24\n",
      "5   8  x  10  23\n",
      "6   9  y   8  22\n"
     ]
    }
   ],
   "source": [
    "data_rbind_2 = pd.DataFrame({\"x1\":range(3, 10),                    # Create second pandas DataFrame\n",
    "                             \"x2\":[\"x\", \"y\", \"y\", \"y\", \"x\", \"x\", \"y\"],\n",
    "                             \"x3\":range(20, 6, - 2),\n",
    "                             \"x4\":range(28, 21, - 1)})\n",
    "print(data_rbind_2)"
   ]
  },
  {
   "cell_type": "code",
   "execution_count": 100,
   "id": "183f55b3",
   "metadata": {},
   "outputs": [
    {
     "name": "stdout",
     "output_type": "stream",
     "text": [
      "    x1 x2  x3  x4\n",
      "0   11  a  30  30\n",
      "1   12  b  29  28\n",
      "2   13  c  28  26\n",
      "3   14  d  27  24\n",
      "4   15  e  26  22\n",
      "5    3  x  20  28\n",
      "6    4  y  18  27\n",
      "7    5  y  16  26\n",
      "8    6  y  14  25\n",
      "9    7  x  12  24\n",
      "10   8  x  10  23\n",
      "11   9  y   8  22\n"
     ]
    }
   ],
   "source": [
    "data_rbind_all = pd.concat([data_rbind_1, data_rbind_2],           # Rbind DataFrames\n",
    "                           ignore_index = True,\n",
    "                           sort = False)\n",
    "print(data_rbind_all)    "
   ]
  },
  {
   "cell_type": "code",
   "execution_count": null,
   "id": "f3c1371a",
   "metadata": {},
   "outputs": [],
   "source": []
  }
 ],
 "metadata": {
  "kernelspec": {
   "display_name": "Basics [py3.10]",
   "language": "python",
   "name": "basics_py310"
  },
  "language_info": {
   "codemirror_mode": {
    "name": "ipython",
    "version": 3
   },
   "file_extension": ".py",
   "mimetype": "text/x-python",
   "name": "python",
   "nbconvert_exporter": "python",
   "pygments_lexer": "ipython3",
   "version": "3.10.4"
  }
 },
 "nbformat": 4,
 "nbformat_minor": 5
}
