{
 "cells": [
  {
   "cell_type": "code",
   "execution_count": 1,
   "id": "414bade6",
   "metadata": {},
   "outputs": [
    {
     "name": "stdout",
     "output_type": "stream",
     "text": [
      "1e-20\n"
     ]
    }
   ],
   "source": [
    "x = 1e-20              # Create example data\n",
    "print(x)               # Print example data"
   ]
  },
  {
   "cell_type": "code",
   "execution_count": 2,
   "id": "ba5bdfe4",
   "metadata": {},
   "outputs": [
    {
     "name": "stdout",
     "output_type": "stream",
     "text": [
      "0.000000000000000000010000000000\n"
     ]
    }
   ],
   "source": [
    "x_new = f'{x:.30f}'    # Avoid scientific notation\n",
    "print(x_new)           # Print updated data"
   ]
  },
  {
   "cell_type": "code",
   "execution_count": null,
   "id": "c29dc822",
   "metadata": {},
   "outputs": [],
   "source": []
  }
 ],
 "metadata": {
  "kernelspec": {
   "display_name": "Basics [py3.10]",
   "language": "python",
   "name": "basics_py310"
  },
  "language_info": {
   "codemirror_mode": {
    "name": "ipython",
    "version": 3
   },
   "file_extension": ".py",
   "mimetype": "text/x-python",
   "name": "python",
   "nbconvert_exporter": "python",
   "pygments_lexer": "ipython3",
   "version": "3.10.4"
  }
 },
 "nbformat": 4,
 "nbformat_minor": 5
}
