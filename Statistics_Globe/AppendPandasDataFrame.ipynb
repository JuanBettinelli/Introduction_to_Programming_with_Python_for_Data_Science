{
 "cells": [
  {
   "cell_type": "markdown",
   "id": "485cd92c",
   "metadata": {},
   "source": [
    "https://statisticsglobe.com/append-pandas-dataframe-python"
   ]
  },
  {
   "cell_type": "markdown",
   "id": "b7c27049",
   "metadata": {},
   "source": [
    "__Append pandas DataFrame in Python (4 Examples) | Concatenate & Combine__\n",
    " \n",
    "\n",
    "In this post, I’ll explain how to combine two pandas DataFrames vertically in Python.\n",
    "\n",
    "Table of contents:\n",
    "\n",
    "1) Exemplifying Data & Software Libraries\n",
    "2) Example 1: Combine Two pandas DataFrames Using append() Function\n",
    "3) Example 2: Combine Two pandas DataFrames Using concat() Function\n",
    "4) Example 3: Append Multiple pandas DataFrames\n",
    "5) Example 4: Combine pandas DataFrames with Different Column Names\n",
    "6) Video, Further Resources & Summary\n",
    "If you want to learn more about these contents, keep reading.\n",
    "\n",
    " \n",
    "\n",
    "Exemplifying Data & Software Libraries\n",
    "First, we need to import the pandas library:\n",
    "\n",
    "import pandas as pd                                    # Load pandas\n",
    "Let’s also create some example data for the examples later on:\n",
    "\n",
    "data1 = pd.DataFrame({\"x1\":[\"x\", \"y\", \"x\", \"y\", \"y\", \"x\", \"y\"],  # Create first DataFrame\n",
    "                     \"x2\":range(3, 10),\n",
    "                     \"x3\":[\"a\", \"b\", \"c\", \"d\", \"e\", \"f\", \"g\"],\n",
    "                     \"x4\":range(22, 15, - 1)})\n",
    "print(data1)                                           # Print first pandas DataFrame\n",
    " \n",
    "\n",
    "table 1 DataFrame append pandas dataframe python programming language\n",
    "\n",
    " \n",
    "\n",
    "data2 = pd.DataFrame({\"x1\":[\"a\", \"b\", \"a\", \"a\", \"a\", \"b\", \"b\"],  # Create second DataFrame\n",
    "                     \"x2\":range(103, 110),\n",
    "                     \"x3\":[\"a\", \"b\", \"c\", \"d\", \"e\", \"f\", \"g\"],\n",
    "                     \"x4\":range(1, 8)})\n",
    "print(data2)                                           # Print second pandas DataFrame\n",
    " \n",
    "\n",
    "table 2 DataFrame append pandas dataframe python programming language\n",
    "\n",
    " \n",
    "\n",
    "The previous tables illustrate the output of the Python console returned after executing the previous Python syntax.\n",
    "\n",
    "As you can see, we have created two pandas DataFrame objects. Both of these DataFrames contain four columns that are called x1, x2, x3, and x4.\n",
    "\n",
    "The following examples show how to stack these two DataFrames on top of each other.\n",
    "\n",
    " \n",
    "\n",
    "Example 1: Combine Two pandas DataFrames Using append() Function\n",
    "Example 1 demonstrates how to merge two pandas DataFrames vertically using the append function.\n",
    "\n",
    "To achieve this, we can use the Python syntax below:\n",
    "\n",
    "data_all1 = data1.append(data2,                        # Append DataFrames\n",
    "                         ignore_index = True)\n",
    "print(data_all1)                                       # Print combined DataFrame\n",
    " \n",
    "\n",
    "table 3 DataFrame append pandas dataframe python programming language\n",
    "\n",
    " \n",
    "\n",
    "As revealed in Table 3, the previous Python programming syntax has constructed a new pandas DataFrame containing the values of both DataFrames.\n",
    "\n",
    "Note that the values of the first DataFrame are shown at the top, and the values of the second DataFrame have been added at the bottom.\n",
    "\n",
    "Furthermore, note that the index numbers of our combined DataFrame are ranging from 0 to 13, i.e. the indices of the second DataFrame have been changed.\n",
    "\n",
    "We were able to achieve this by specifying the ignore_index argument within the append function to be equal to True.\n",
    "\n",
    "So far, so good! However, there are different alternatives that I want to show you. So keep on reading…\n",
    "\n",
    " \n",
    "\n",
    "Example 2: Combine Two pandas DataFrames Using concat() Function\n",
    "Example 2 shows how to combine two pandas DataFrames using the concat function.\n",
    "\n",
    "Within the concat function, we have to specify the two DataFrames that we want to union. Furthermore, we can specify that the indices should be reset in the joined DataFrame, and we can avoid sorting:\n",
    "\n",
    "data_all2 = pd.concat([data1, data2],                  # Append DataFrames\n",
    "                      ignore_index = True,\n",
    "                      sort = False)\n",
    "print(data_all2)                                       # Print combined DataFrame\n",
    " \n",
    "\n",
    "table 4 DataFrame append pandas dataframe python programming language\n",
    "\n",
    " \n",
    "\n",
    "As you can see in Table 4, the previous Python syntax has created exactly the same pandas DataFrame as Example 1. Whether you prefer to use the append or the concat function is most of the time a matter of taste.\n",
    "\n",
    "The previous examples have been quite straightforward. Let’s create some more complex data scenarios…\n",
    "\n",
    " \n",
    "\n",
    "Example 3: Append Multiple pandas DataFrames\n",
    "In Example 3, I’ll explain how to append not only two DataFrames, but even three DataFrames on top of each other.\n",
    "\n",
    "For this, we first have to create a third example DataFrame:\n",
    "\n",
    "data3 = pd.DataFrame({\"x1\":[\"z\", \"zz\", \"zzz\"],         # Create third pandas DataFrame\n",
    "                     \"x2\":range(0, 3),\n",
    "                     \"x3\":[\"a\", \"b\", \"c\"],\n",
    "                     \"x4\":range(3, 0, - 1)})\n",
    "print(data3)                                           # Print third pandas DataFrame\n",
    " \n",
    "\n",
    "table 5 DataFrame append pandas dataframe python programming language\n",
    "\n",
    " \n",
    "\n",
    "In Table 5 you can see that we have managed to construct another pandas DataFrame using the previous Python code.\n",
    "\n",
    "In the next step, we can apply the concat command once again (as we already did in Example 2). However, this time we are specifying three data sets within the concat function instead of two:\n",
    "\n",
    "data_all3 = pd.concat([data1, data2, data3],           # Append DataFrames\n",
    "                      ignore_index = True,\n",
    "                      sort = False)\n",
    "print(data_all3)                                       # Print combined DataFrame\n",
    " \n",
    "\n",
    "table 6 DataFrame append pandas dataframe python programming language\n",
    "\n",
    " \n",
    "\n",
    "In Table 6 it is shown that we have created a pandas DataFrame that contains the values of multiple input DataFrames.\n",
    "\n",
    "You can use this code to add even more DataFrames. No matter if you want to add four, five, six, or seven pandas DataFrames to your final output. You can simply insert all these DataFrames within the concat function.\n",
    "\n",
    " \n",
    "\n",
    "Example 4: Combine pandas DataFrames with Different Column Names\n",
    "Another problem that often occurs when combining pandas DataFrames in python is that the variables are called differently, or that one of the DataFrame consists of more columns than the other DataFrame.\n",
    "\n",
    "In Example 4, I’ll demonstrate how to concatenate pandas DataFrames with different column names.\n",
    "\n",
    "For this, we have to create one more pandas DataFrame:\n",
    "\n",
    "data4 = pd.DataFrame({\"x1\":[\"a\", \"b\", \"c\"],            # Create fourth pandas DataFrame\n",
    "                     \"x3\":[\"d\", \"e\", \"f\"],\n",
    "                     \"x5\":[\"g\", \"h\", \"i\"]})\n",
    "print(data4)                                           # Print fourth pandas DataFrame\n",
    " \n",
    "\n",
    "table 7 DataFrame append pandas dataframe python programming language\n",
    "\n",
    " \n",
    "\n",
    "As shown in Table 7, we have created a new pandas DataFrame that contains the variables x1, x3, and x5.\n",
    "\n",
    "Note that it does not contain the variables x2 and x4 that are contained in our first example DataFrame. Furthermore, it contains the variable x5 that does not exist in our first example DataFrame.\n",
    "\n",
    "If we want to append two data sets with different column names, we can still apply the concat function as we already did in Examples 2 and 3:\n",
    "\n",
    "data_all4 = pd.concat([data1, data4],                  # Append DataFrames\n",
    "                      ignore_index = True,\n",
    "                      sort = False)\n",
    "print(data_all4)                                       # Print combined DataFrame\n",
    " \n",
    "\n",
    "table 8 DataFrame append pandas dataframe python programming language\n",
    "\n",
    " \n",
    "\n",
    "As shown in Table 8, we have created a combined version of our first and our fourth example DataFrames. As you can see, the concat function has inserted NaN values in the columns that did exist only in one of the input DataFrames.\n",
    "\n",
    "Looks good!\n",
    "\n",
    " \n",
    "\n",
    "Video, Further Resources & Summary\n",
    "Have a look at the following video on my YouTube channel. In the video, I demonstrate the examples of this tutorial.\n",
    "\n",
    " \n",
    "\n",
    "\n",
    " \n",
    "\n",
    "In addition, you may want to read the other articles on my website.\n",
    "\n",
    "Introduction to the pandas Library in Python\n",
    "Types of Joins for pandas DataFrames in Python\n",
    "Add Multiple Columns to pandas DataFrame\n",
    "Add Column from Another pandas DataFrame\n",
    "rbind & cbind pandas DataFrame in Python\n",
    "Combine pandas DataFrames Vertically & Horizontally\n",
    "Merge List of pandas DataFrames in Python\n",
    "Merge pandas DataFrames based on Particular Column\n",
    "Merge pandas DataFrames based on Index\n",
    "Merge Multiple pandas DataFrames in Python\n",
    "Merge Two pandas DataFrames in Python\n",
    "Combine pandas DataFrames with Different Column Names\n",
    "Combine pandas DataFrames with Same Column Names\n",
    "Append Multiple pandas DataFrames in Python\n",
    "Add Row to pandas DataFrame in Python\n",
    "Add Column to pandas DataFrame in Python\n",
    "Check if Column Exists in pandas DataFrame in Python\n",
    "Drop Duplicates from pandas DataFrame in Python\n",
    "Convert pandas DataFrame to NumPy Array in Python in R\n",
    "Drop Infinite Values from pandas DataFrame in Python\n",
    "Change pandas DataFrames in Python\n",
    "DataFrame Manipulation Using pandas in Python\n",
    "All Python Programming Examples\n",
    " \n",
    "\n",
    "In this article you have learned how to append two pandas DataFrames in Python. In case you have additional questions, please let me know in the comments section.\n",
    "\n"
   ]
  },
  {
   "cell_type": "code",
   "execution_count": 1,
   "id": "dc63641f",
   "metadata": {},
   "outputs": [],
   "source": [
    "import pandas as pd                                    # Load pandas"
   ]
  },
  {
   "cell_type": "code",
   "execution_count": 2,
   "id": "823c8d25",
   "metadata": {},
   "outputs": [
    {
     "name": "stdout",
     "output_type": "stream",
     "text": [
      "  x1  x2 x3  x4\n",
      "0  x   3  a  22\n",
      "1  y   4  b  21\n",
      "2  x   5  c  20\n",
      "3  y   6  d  19\n",
      "4  y   7  e  18\n",
      "5  x   8  f  17\n",
      "6  y   9  g  16\n"
     ]
    }
   ],
   "source": [
    "data1 = pd.DataFrame({\"x1\":[\"x\", \"y\", \"x\", \"y\", \"y\", \"x\", \"y\"],  # Create first DataFrame\n",
    "                     \"x2\":range(3, 10),\n",
    "                     \"x3\":[\"a\", \"b\", \"c\", \"d\", \"e\", \"f\", \"g\"],\n",
    "                     \"x4\":range(22, 15, - 1)})\n",
    "print(data1)                                           # Print first pandas DataFrame"
   ]
  },
  {
   "cell_type": "code",
   "execution_count": 3,
   "id": "fde8b4d3",
   "metadata": {},
   "outputs": [
    {
     "name": "stdout",
     "output_type": "stream",
     "text": [
      "  x1   x2 x3  x4\n",
      "0  a  103  a   1\n",
      "1  b  104  b   2\n",
      "2  a  105  c   3\n",
      "3  a  106  d   4\n",
      "4  a  107  e   5\n",
      "5  b  108  f   6\n",
      "6  b  109  g   7\n"
     ]
    }
   ],
   "source": [
    "data2 = pd.DataFrame({\"x1\":[\"a\", \"b\", \"a\", \"a\", \"a\", \"b\", \"b\"],  # Create second DataFrame\n",
    "                     \"x2\":range(103, 110),\n",
    "                     \"x3\":[\"a\", \"b\", \"c\", \"d\", \"e\", \"f\", \"g\"],\n",
    "                     \"x4\":range(1, 8)})\n",
    "print(data2)                                           # Print second pandas DataFrame"
   ]
  },
  {
   "cell_type": "code",
   "execution_count": 4,
   "id": "28780844",
   "metadata": {},
   "outputs": [
    {
     "name": "stdout",
     "output_type": "stream",
     "text": [
      "   x1   x2 x3  x4\n",
      "0   x    3  a  22\n",
      "1   y    4  b  21\n",
      "2   x    5  c  20\n",
      "3   y    6  d  19\n",
      "4   y    7  e  18\n",
      "5   x    8  f  17\n",
      "6   y    9  g  16\n",
      "7   a  103  a   1\n",
      "8   b  104  b   2\n",
      "9   a  105  c   3\n",
      "10  a  106  d   4\n",
      "11  a  107  e   5\n",
      "12  b  108  f   6\n",
      "13  b  109  g   7\n"
     ]
    },
    {
     "name": "stderr",
     "output_type": "stream",
     "text": [
      "/var/folders/2c/19wbw1_d4pv7bl31_4pf2_xm0000gn/T/ipykernel_17946/2579667591.py:1: FutureWarning: The frame.append method is deprecated and will be removed from pandas in a future version. Use pandas.concat instead.\n",
      "  data_all1 = data1.append(data2,                        # Append DataFrames\n"
     ]
    }
   ],
   "source": [
    "data_all1 = data1.append(data2,                        # Append DataFrames\n",
    "                         ignore_index = True)\n",
    "print(data_all1)                                       # Print combined DataFrame"
   ]
  },
  {
   "cell_type": "code",
   "execution_count": 5,
   "id": "4e01cc7d",
   "metadata": {},
   "outputs": [
    {
     "name": "stdout",
     "output_type": "stream",
     "text": [
      "   x1   x2 x3  x4\n",
      "0   x    3  a  22\n",
      "1   y    4  b  21\n",
      "2   x    5  c  20\n",
      "3   y    6  d  19\n",
      "4   y    7  e  18\n",
      "5   x    8  f  17\n",
      "6   y    9  g  16\n",
      "7   a  103  a   1\n",
      "8   b  104  b   2\n",
      "9   a  105  c   3\n",
      "10  a  106  d   4\n",
      "11  a  107  e   5\n",
      "12  b  108  f   6\n",
      "13  b  109  g   7\n"
     ]
    }
   ],
   "source": [
    "data_all2 = pd.concat([data1, data2],                  # Append DataFrames\n",
    "                      ignore_index = True,\n",
    "                      sort = False)\n",
    "print(data_all2)                                       # Print combined DataFrame"
   ]
  },
  {
   "cell_type": "code",
   "execution_count": 6,
   "id": "5a56d8b2",
   "metadata": {},
   "outputs": [
    {
     "name": "stdout",
     "output_type": "stream",
     "text": [
      "    x1  x2 x3  x4\n",
      "0    z   0  a   3\n",
      "1   zz   1  b   2\n",
      "2  zzz   2  c   1\n"
     ]
    }
   ],
   "source": [
    "data3 = pd.DataFrame({\"x1\":[\"z\", \"zz\", \"zzz\"],         # Create third pandas DataFrame\n",
    "                     \"x2\":range(0, 3),\n",
    "                     \"x3\":[\"a\", \"b\", \"c\"],\n",
    "                     \"x4\":range(3, 0, - 1)})\n",
    "print(data3)                                           # Print third pandas DataFrame"
   ]
  },
  {
   "cell_type": "code",
   "execution_count": 7,
   "id": "a7da62f0",
   "metadata": {},
   "outputs": [
    {
     "name": "stdout",
     "output_type": "stream",
     "text": [
      "     x1   x2 x3  x4\n",
      "0     x    3  a  22\n",
      "1     y    4  b  21\n",
      "2     x    5  c  20\n",
      "3     y    6  d  19\n",
      "4     y    7  e  18\n",
      "5     x    8  f  17\n",
      "6     y    9  g  16\n",
      "7     a  103  a   1\n",
      "8     b  104  b   2\n",
      "9     a  105  c   3\n",
      "10    a  106  d   4\n",
      "11    a  107  e   5\n",
      "12    b  108  f   6\n",
      "13    b  109  g   7\n",
      "14    z    0  a   3\n",
      "15   zz    1  b   2\n",
      "16  zzz    2  c   1\n"
     ]
    }
   ],
   "source": [
    "data_all3 = pd.concat([data1, data2, data3],           # Append DataFrames\n",
    "                      ignore_index = True,\n",
    "                      sort = False)\n",
    "print(data_all3)                                       # Print combined DataFrame"
   ]
  },
  {
   "cell_type": "code",
   "execution_count": 8,
   "id": "1f3f66c0",
   "metadata": {},
   "outputs": [
    {
     "name": "stdout",
     "output_type": "stream",
     "text": [
      "  x1 x3 x5\n",
      "0  a  d  g\n",
      "1  b  e  h\n",
      "2  c  f  i\n"
     ]
    }
   ],
   "source": [
    "data4 = pd.DataFrame({\"x1\":[\"a\", \"b\", \"c\"],            # Create fourth pandas DataFrame\n",
    "                     \"x3\":[\"d\", \"e\", \"f\"],\n",
    "                     \"x5\":[\"g\", \"h\", \"i\"]})\n",
    "print(data4)                                           # Print fourth pandas DataFrame"
   ]
  },
  {
   "cell_type": "code",
   "execution_count": 9,
   "id": "82af71f5",
   "metadata": {},
   "outputs": [
    {
     "name": "stdout",
     "output_type": "stream",
     "text": [
      "  x1   x2 x3    x4   x5\n",
      "0  x  3.0  a  22.0  NaN\n",
      "1  y  4.0  b  21.0  NaN\n",
      "2  x  5.0  c  20.0  NaN\n",
      "3  y  6.0  d  19.0  NaN\n",
      "4  y  7.0  e  18.0  NaN\n",
      "5  x  8.0  f  17.0  NaN\n",
      "6  y  9.0  g  16.0  NaN\n",
      "7  a  NaN  d   NaN    g\n",
      "8  b  NaN  e   NaN    h\n",
      "9  c  NaN  f   NaN    i\n"
     ]
    }
   ],
   "source": [
    "data_all4 = pd.concat([data1, data4],                  # Append DataFrames\n",
    "                      ignore_index = True,\n",
    "                      sort = False)\n",
    "print(data_all4)                                       # Print combined DataFrame"
   ]
  },
  {
   "cell_type": "code",
   "execution_count": null,
   "id": "f558b0ae",
   "metadata": {},
   "outputs": [],
   "source": []
  }
 ],
 "metadata": {
  "kernelspec": {
   "display_name": "Basics [py3.10]",
   "language": "python",
   "name": "basics_py310"
  },
  "language_info": {
   "codemirror_mode": {
    "name": "ipython",
    "version": 3
   },
   "file_extension": ".py",
   "mimetype": "text/x-python",
   "name": "python",
   "nbconvert_exporter": "python",
   "pygments_lexer": "ipython3",
   "version": "3.10.4"
  }
 },
 "nbformat": 4,
 "nbformat_minor": 5
}
