{
 "cells": [
  {
   "cell_type": "markdown",
   "id": "49e5e21b",
   "metadata": {},
   "source": [
    "https://statisticsglobe.com/calculate-median-group-python"
   ]
  },
  {
   "cell_type": "markdown",
   "id": "ca9155fd",
   "metadata": {},
   "source": [
    "__Calculate Median by Group in Python (2 Examples)__\n",
    " \n",
    "\n",
    "In this Python programming tutorial you’ll learn how to compute the median by group.\n",
    "\n",
    "The content of the tutorial looks like this:\n",
    "\n",
    "1) Example Data & Software Libraries\n",
    "2) Example 1: Median by Group in pandas DataFrame\n",
    "3) Example 2: Median by Group & Subgroup in pandas DataFrame\n",
    "4) Video & Further Resources\n",
    "Let’s dive right in:\n",
    "\n",
    " \n",
    "\n",
    "Example Data & Software Libraries\n",
    "We first need to load the pandas library:\n",
    "\n",
    "import pandas as pd                                        # Load pandas library\n",
    "Let’s also create some example data in Python:\n",
    "\n",
    "data = pd.DataFrame({'x1':[6, 5, 2, 2, 5, 1, 5, 6, 1, 8],  # Create pandas DataFrame\n",
    "                     'x2':range(9, 19),\n",
    "                     'group1':['A', 'B', 'B', 'A', 'C', 'A', 'C', 'B', 'B', 'A'],\n",
    "                     'group2':['a', 'a', 'a', 'a', 'a', 'a', 'b', 'b', 'b', 'b']})\n",
    "print(data)                                                # Print pandas DataFrame\n",
    " \n",
    "\n",
    "table 1 DataFrame calculate median group python programming language\n",
    "\n",
    " \n",
    "\n",
    "Table 1 visualizes the structure of the example pandas DataFrame – It consists of ten rows and four columns. The variables x1 and x2 are floats and the variables group1 and group2 are are group and subgroup indicators.\n",
    "\n",
    " \n",
    "\n",
    "Example 1: Median by Group in pandas DataFrame\n",
    "In this example, I’ll illustrate how to calculate the median by group based on one group column.\n",
    "\n",
    "For this task, we have to apply the groupby and median functions as shown below:\n",
    "\n",
    "print(data.groupby('group1').median())                     # Get median by group\n",
    "#          x1    x2\n",
    "# group1           \n",
    "# A       4.0  13.0\n",
    "# B       3.5  13.5\n",
    "# C       5.0  14.0\n",
    "The previous output shows six median values – one for each group in each of the two float columns.\n",
    "\n",
    " \n",
    "\n",
    "Example 2: Median by Group & Subgroup in pandas DataFrame\n",
    "We can also specify multiple group columns to define main and subgroups.\n",
    "\n",
    "Consider the Python syntax below:\n",
    "\n",
    "print(data.groupby(['group1', 'group2']).median())         # Get median by multiple groups\n",
    "#                 x1    x2\n",
    "# group1 group2           \n",
    "# A      a       2.0  12.0\n",
    "#        b       8.0  18.0\n",
    "# B      a       3.5  10.5\n",
    "#        b       3.5  16.5\n",
    "# C      a       5.0  13.0\n",
    "#        b       5.0  15.0\n",
    " \n",
    "\n",
    "Video & Further Resources\n",
    "Some time ago, I have published a video on the Statistics Globe YouTube channel, which shows the topics of this article. You can find the video below:\n",
    "\n",
    " \n",
    "\n",
    "The YouTube video will be added soon.\n",
    "\n",
    " \n",
    "\n",
    "Additionally, you might want to read some of the other tutorials on my website. You can find some articles below:\n",
    "\n",
    "Calculate Median in Python\n",
    "Get Median of Array with np.median Function of NumPy Library\n",
    "median Function of statistics Module\n",
    "Calculate Mean in Python\n",
    "Calculate Mode in Python\n",
    "Introduction to the pandas Library in Python\n",
    "Python Programming Language\n",
    " \n",
    "\n",
    "You have learned in this article how to calculate and find the median value by group in Python programming. If you have further questions, please let me know in the comments section. Furthermore, please subscribe to my email newsletter to receive updates on the newest articles.\n",
    "\n"
   ]
  },
  {
   "cell_type": "code",
   "execution_count": 1,
   "id": "ff49adfd",
   "metadata": {},
   "outputs": [],
   "source": [
    "import pandas as pd                                        # Load pandas library"
   ]
  },
  {
   "cell_type": "code",
   "execution_count": 2,
   "id": "10b2dc4b",
   "metadata": {},
   "outputs": [
    {
     "name": "stdout",
     "output_type": "stream",
     "text": [
      "   x1  x2 group1 group2\n",
      "0   6   9      A      a\n",
      "1   5  10      B      a\n",
      "2   2  11      B      a\n",
      "3   2  12      A      a\n",
      "4   5  13      C      a\n",
      "5   1  14      A      a\n",
      "6   5  15      C      b\n",
      "7   6  16      B      b\n",
      "8   1  17      B      b\n",
      "9   8  18      A      b\n"
     ]
    }
   ],
   "source": [
    "data = pd.DataFrame({'x1':[6, 5, 2, 2, 5, 1, 5, 6, 1, 8],  # Create pandas DataFrame\n",
    "                     'x2':range(9, 19),\n",
    "                     'group1':['A', 'B', 'B', 'A', 'C', 'A', 'C', 'B', 'B', 'A'],\n",
    "                     'group2':['a', 'a', 'a', 'a', 'a', 'a', 'b', 'b', 'b', 'b']})\n",
    "print(data)                                                # Print pandas DataFrame"
   ]
  },
  {
   "cell_type": "code",
   "execution_count": 3,
   "id": "6c51b71d",
   "metadata": {},
   "outputs": [
    {
     "name": "stdout",
     "output_type": "stream",
     "text": [
      "         x1    x2\n",
      "group1           \n",
      "A       4.0  13.0\n",
      "B       3.5  13.5\n",
      "C       5.0  14.0\n"
     ]
    }
   ],
   "source": [
    "print(data.groupby('group1').median())                     # Get median by group\n",
    "#          x1    x2\n",
    "# group1           \n",
    "# A       4.0  13.0\n",
    "# B       3.5  13.5\n",
    "# C       5.0  14.0"
   ]
  },
  {
   "cell_type": "code",
   "execution_count": 4,
   "id": "7556db70",
   "metadata": {},
   "outputs": [
    {
     "name": "stdout",
     "output_type": "stream",
     "text": [
      "                x1    x2\n",
      "group1 group2           \n",
      "A      a       2.0  12.0\n",
      "       b       8.0  18.0\n",
      "B      a       3.5  10.5\n",
      "       b       3.5  16.5\n",
      "C      a       5.0  13.0\n",
      "       b       5.0  15.0\n"
     ]
    }
   ],
   "source": [
    "print(data.groupby(['group1', 'group2']).median())         # Get median by multiple groups\n",
    "#                 x1    x2\n",
    "# group1 group2           \n",
    "# A      a       2.0  12.0\n",
    "#        b       8.0  18.0\n",
    "# B      a       3.5  10.5\n",
    "#        b       3.5  16.5\n",
    "# C      a       5.0  13.0\n",
    "#        b       5.0  15.0"
   ]
  },
  {
   "cell_type": "code",
   "execution_count": null,
   "id": "52fea02c",
   "metadata": {},
   "outputs": [],
   "source": []
  }
 ],
 "metadata": {
  "kernelspec": {
   "display_name": "Basics [py3.10]",
   "language": "python",
   "name": "basics_py310"
  },
  "language_info": {
   "codemirror_mode": {
    "name": "ipython",
    "version": 3
   },
   "file_extension": ".py",
   "mimetype": "text/x-python",
   "name": "python",
   "nbconvert_exporter": "python",
   "pygments_lexer": "ipython3",
   "version": "3.10.4"
  }
 },
 "nbformat": 4,
 "nbformat_minor": 5
}
