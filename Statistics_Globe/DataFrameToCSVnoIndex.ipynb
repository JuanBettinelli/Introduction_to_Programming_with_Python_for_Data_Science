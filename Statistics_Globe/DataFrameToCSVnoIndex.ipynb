{
 "cells": [
  {
   "cell_type": "code",
   "execution_count": 1,
   "id": "39c86e9a",
   "metadata": {},
   "outputs": [],
   "source": [
    "import pandas as pd                                          # Load pandas library"
   ]
  },
  {
   "cell_type": "code",
   "execution_count": 2,
   "id": "2d4d55c4",
   "metadata": {},
   "outputs": [
    {
     "name": "stdout",
     "output_type": "stream",
     "text": [
      "   x1  x2 x3  x4\n",
      "0  10   3  a  16\n",
      "1  11   9  b  15\n",
      "2  12   2  c  14\n",
      "3  13   3  d  13\n",
      "4  14   7  e  12\n",
      "5  15   8  f  11\n"
     ]
    }
   ],
   "source": [
    "data = pd.DataFrame({'x1':range(10, 16),                     # Create pandas DataFrame\n",
    "                     'x2':[3, 9, 2, 3, 7, 8],\n",
    "                     'x3':['a', 'b', 'c', 'd', 'e', 'f'],\n",
    "                     'x4':range(16, 10, - 1)})\n",
    "print(data)                                                  # Print pandas DataFrame"
   ]
  },
  {
   "cell_type": "code",
   "execution_count": 3,
   "id": "c8b796d2",
   "metadata": {},
   "outputs": [],
   "source": [
    "data.to_csv('test.csv',  # Specify path & file name\n",
    "            index = False)        "
   ]
  },
  {
   "cell_type": "code",
   "execution_count": null,
   "id": "7739145d",
   "metadata": {},
   "outputs": [],
   "source": []
  }
 ],
 "metadata": {
  "kernelspec": {
   "display_name": "Basics [py3.10]",
   "language": "python",
   "name": "basics_py310"
  },
  "language_info": {
   "codemirror_mode": {
    "name": "ipython",
    "version": 3
   },
   "file_extension": ".py",
   "mimetype": "text/x-python",
   "name": "python",
   "nbconvert_exporter": "python",
   "pygments_lexer": "ipython3",
   "version": "3.10.4"
  }
 },
 "nbformat": 4,
 "nbformat_minor": 5
}
