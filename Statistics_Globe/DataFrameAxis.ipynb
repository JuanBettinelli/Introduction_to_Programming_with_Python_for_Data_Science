{
 "cells": [
  {
   "cell_type": "markdown",
   "id": "ecab5ff0",
   "metadata": {},
   "source": [
    "https://statisticsglobe.com/axis-pandas-dataframe-python"
   ]
  },
  {
   "cell_type": "markdown",
   "id": "a6dcb6d6",
   "metadata": {},
   "source": [
    "__Axis in pandas DataFrame Explained (2 Python Examples)__\n",
    " \n",
    "\n",
    "This article demonstrates how to use the axis argument in pandas DataFrames in Python.\n",
    "\n",
    "The content of the tutorial looks as follows:\n",
    "\n",
    "1) Example Data & Add-On Libraries\n",
    "2) Example 1: Calculate Values by Column Using axis = 0\n",
    "3) Example 2: Calculate Values by Row Using axis = 1\n",
    "4) Video, Further Resources & Summary\n",
    "Let’s just jump right in.\n",
    "\n",
    " \n",
    "\n",
    "Example Data & Add-On Libraries\n",
    "First, we have to import the pandas library:\n",
    "\n",
    "import pandas as pd                       # Import pandas library\n",
    "Next, we’ll also need to define some data that we can use in the examples below:\n",
    "\n",
    "data = pd.DataFrame({'x1':range(0, 7),    # Create pandas DataFrame\n",
    "                     'x2':[3, 1, 7, 5, 7, 9, 5],\n",
    "                     'x3':range(1, 8)})\n",
    "print(data)                               # Print pandas DataFrame\n",
    " \n",
    "\n",
    "table 1 DataFrame axis pandas dataframe python programming language\n",
    "\n",
    " \n",
    "\n",
    "The previous table visualizes that our example pandas DataFrame is constituted of seven rows and three variables.\n",
    "\n",
    "In the following two examples, I’ll show what the axis argument in pandas means and how it is used. I’ll illustrate that based on the mean function.\n",
    "\n",
    "Let’s do this!\n",
    "\n",
    " \n",
    "\n",
    "Example 1: Calculate Values by Column Using axis = 0\n",
    "In this example, I’ll explain how to compute mean values for each column of a pandas DataFrame.\n",
    "\n",
    "If we want to do that, we have to specify the axis argument within the mean function to be equal to 0, since axis = 0 indicates that we want to perform our calculation column-wise.\n",
    "\n",
    "Consider the Python code and its output below:\n",
    "\n",
    "print(data.mean(axis = 0))                # Column-wise mean\n",
    "# x1    3.000000\n",
    "# x2    5.285714\n",
    "# x3    4.000000\n",
    "# dtype: float64\n",
    "As you can see, we have returned the average values of each column.\n",
    "\n",
    "Note that we could have skipped the axis argument in this example, since axis = 0 is the default specification for the axis argument. However, specifying this argument explicitly might help to make your code more readable.\n",
    "\n",
    " \n",
    "\n",
    "Example 2: Calculate Values by Row Using axis = 1\n",
    "In Example 2, I’ll illustrate how to get the mean of each row of a pandas DataFrame.\n",
    "\n",
    "To accomplish this, we have to set the axis argument to be equal to 1, since this specifies that a calculation should be conducted row-wise.\n",
    "\n",
    "Have a look at the following Python syntax:\n",
    "\n",
    "print(data.mean(axis = 1))                # Row-wise mean\n",
    "# 0    1.333333\n",
    "# 1    1.333333\n",
    "# 2    4.000000\n",
    "# 3    4.000000\n",
    "# 4    5.333333\n",
    "# 5    6.666667\n",
    "# 6    6.000000\n",
    "# dtype: float64\n",
    "This time, the Python console has printed the mean value for each row.\n",
    "\n",
    "Note that this tutorial has illustrated how to apply the axis argument in combination with the mean function. However, we could also use this argument within other functions. For instance, we could use axis = 0 and axis = 1 within the drop function where we would use the axis argument to specify if we want to remove rows or columns.\n",
    "\n",
    " \n",
    "\n",
    "Video, Further Resources & Summary\n",
    "Would you like to know more about the usage of the axis argument in pandas DataFrames? Then I recommend watching the following video that I have published on my YouTube channel. In the video, I’m explaining the Python programming codes of this tutorial:\n",
    "\n",
    " \n",
    "\n",
    "The YouTube video will be added soon.\n",
    "\n",
    " \n",
    "\n",
    "Furthermore, you might read some of the other Python programming posts on this website.\n",
    "\n",
    "Loop Through Index of pandas DataFrame in Python\n",
    "Iterate Through Rows of pandas DataFrame in Python\n",
    "Add Column from Another pandas DataFrame in Python\n",
    "Remove Rows with NaN from pandas DataFrame in Python\n",
    "Introduction to the pandas Library in Python\n",
    "Introduction to Python Programming\n",
    " \n",
    "\n",
    "Summary: This tutorial has explained how to apply the axis argument in pandas DataFrames in Python programming. If you have any further questions, please tell me about it in the comments.\n",
    "\n"
   ]
  },
  {
   "cell_type": "code",
   "execution_count": 1,
   "id": "0a61fc8b",
   "metadata": {},
   "outputs": [],
   "source": [
    "import pandas as pd                       # Import pandas library\n"
   ]
  },
  {
   "cell_type": "code",
   "execution_count": 2,
   "id": "0d358621",
   "metadata": {},
   "outputs": [
    {
     "name": "stdout",
     "output_type": "stream",
     "text": [
      "   x1  x2  x3\n",
      "0   0   3   1\n",
      "1   1   1   2\n",
      "2   2   7   3\n",
      "3   3   5   4\n",
      "4   4   7   5\n",
      "5   5   9   6\n",
      "6   6   5   7\n"
     ]
    }
   ],
   "source": [
    "data = pd.DataFrame({'x1':range(0, 7),    # Create pandas DataFrame\n",
    "                     'x2':[3, 1, 7, 5, 7, 9, 5],\n",
    "                     'x3':range(1, 8)})\n",
    "print(data)                               # Print pandas DataFrame"
   ]
  },
  {
   "cell_type": "code",
   "execution_count": 3,
   "id": "e7d44db8",
   "metadata": {},
   "outputs": [
    {
     "name": "stdout",
     "output_type": "stream",
     "text": [
      "x1    3.000000\n",
      "x2    5.285714\n",
      "x3    4.000000\n",
      "dtype: float64\n"
     ]
    }
   ],
   "source": [
    "print(data.mean(axis = 0))                # Column-wise mean\n",
    "# x1    3.000000\n",
    "# x2    5.285714\n",
    "# x3    4.000000\n",
    "# dtype: float64"
   ]
  },
  {
   "cell_type": "code",
   "execution_count": 4,
   "id": "25acb123",
   "metadata": {},
   "outputs": [
    {
     "name": "stdout",
     "output_type": "stream",
     "text": [
      "0    1.333333\n",
      "1    1.333333\n",
      "2    4.000000\n",
      "3    4.000000\n",
      "4    5.333333\n",
      "5    6.666667\n",
      "6    6.000000\n",
      "dtype: float64\n"
     ]
    }
   ],
   "source": [
    "print(data.mean(axis = 1))                # Row-wise mean\n",
    "# 0    1.333333\n",
    "# 1    1.333333\n",
    "# 2    4.000000\n",
    "# 3    4.000000\n",
    "# 4    5.333333\n",
    "# 5    6.666667\n",
    "# 6    6.000000\n",
    "# dtype: float64"
   ]
  },
  {
   "cell_type": "code",
   "execution_count": null,
   "id": "a0610fb0",
   "metadata": {},
   "outputs": [],
   "source": []
  }
 ],
 "metadata": {
  "kernelspec": {
   "display_name": "Basics [py3.10]",
   "language": "python",
   "name": "basics_py310"
  },
  "language_info": {
   "codemirror_mode": {
    "name": "ipython",
    "version": 3
   },
   "file_extension": ".py",
   "mimetype": "text/x-python",
   "name": "python",
   "nbconvert_exporter": "python",
   "pygments_lexer": "ipython3",
   "version": "3.10.4"
  }
 },
 "nbformat": 4,
 "nbformat_minor": 5
}
