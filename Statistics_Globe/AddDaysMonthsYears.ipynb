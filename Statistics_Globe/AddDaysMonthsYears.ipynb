{
 "cells": [
  {
   "cell_type": "markdown",
   "id": "9006e8d8",
   "metadata": {},
   "source": [
    "https://statisticsglobe.com/add-days-months-years-datetime-object-python"
   ]
  },
  {
   "cell_type": "markdown",
   "id": "024cb123",
   "metadata": {},
   "source": [
    "__Add Days, Months & Years to datetime Object in Python (3 Examples)__"
   ]
  },
  {
   "cell_type": "markdown",
   "id": "8b0f242a",
   "metadata": {},
   "source": [
    "Add Days, Months & Years to datetime Object in Python (3 Examples)\n",
    " \n",
    "\n",
    "On this site, I’ll show you how to add days, months, and years to the datetime object in the Python programming language.\n",
    "\n",
    "The table of content is structured as follows:\n",
    "\n",
    "1) Import datetime Module & Create Starting Date\n",
    "2) Add Days to datetime Object\n",
    "3) Add Months to datetime Object\n",
    "4) Add Years to datetime Object\n",
    "5) Video, Further Resources & Summary\n",
    "Let’s do this!\n",
    "\n",
    " \n",
    "\n",
    "Import datetime Module & Create Starting Date\n",
    "For the examples of this tutorial, we first need to import the datetime module:\n",
    "\n",
    "import datetime\n",
    "Furthermore, we have to create an example datetime object as basis:\n",
    "\n",
    "my_date = datetime.datetime(2024, 11, 6, 14, 36, 56) \n",
    "print(my_date)\n",
    "# 2024-11-06 14:36:56\n",
    "Our example date and time is 2024-11-06 14:36:56.\n",
    "\n",
    " \n",
    "\n",
    "Add Days to datetime Object\n",
    "If we want to add days to a datetime object, we can use the timedelta() function of the datetime module.\n",
    "\n",
    "In this specific example, we are adding 18 days to our example datetime object:\n",
    "\n",
    "my_date_days = my_date + datetime.timedelta(days = 18)\n",
    "print(my_date_days)\n",
    "# 2024-11-24 14:36:56\n",
    "The previous Python syntax has created a new data object containing the datetime 2024-11-24 14:36:56, i.e. 18 days later than our input date.\n",
    "\n",
    " \n",
    "\n",
    "Add Months to datetime Object\n",
    "In case we want to add months to our datetime object, we first have to import the relativedelta() function from the dateutil module:\n",
    "\n",
    "from dateutil.relativedelta import relativedelta\n",
    "Next, we can apply the relativedelta() command to add a certain number of months to our date:\n",
    "\n",
    "my_date_months = my_date + relativedelta(months = 25)\n",
    "print(my_date_months)\n",
    "# 2026-12-06 14:36:56\n",
    "The previous output shows a date 25 months later than our input date.\n",
    "\n",
    " \n",
    "\n",
    "Add Years to datetime Object\n",
    "Similar to Example 2, we can apply the relativedelta() function to add years to a datetime object.\n",
    "\n",
    "Consider the Python code below:\n",
    "\n",
    "my_date_years = my_date + relativedelta(years = 10)\n",
    "print(my_date_years)\n",
    "# 2034-11-06 14:36:56\n",
    "As you can see, we have created a new datetime object that is ten years later than our example date that we have created at the beginning of this tutorial.\n",
    "\n",
    " \n",
    "\n",
    "Video, Further Resources & Summary\n",
    "Do you need more explanations on how to handle and increment days, months, and years of datetime objects? Then you may have a look at the following YouTube video from the YouTube channel of Kyle Monson.\n",
    "\n",
    "In the video is shown how the dateutil module is used to handle datetime objects in Python:\n",
    "\n",
    " \n",
    "\n",
    "\n",
    " \n",
    "\n",
    "In addition, you may have a look at the other Python and datetime tutorials on this website:\n",
    "\n",
    "Add Seconds, Minutes & Hours to datetime Object in Python\n",
    "Extract Day, Month & Year Separately from datetime Object\n",
    "Calculate Time Difference Between Two datetime Objects in Python\n",
    "Python Programming Tutorials\n",
    "Summary: This article has illustrated how to insert days, months, and years in the Python programming language. In case you have any additional questions, you may leave them in the comment section."
   ]
  },
  {
   "cell_type": "code",
   "execution_count": 1,
   "id": "c8f97523",
   "metadata": {},
   "outputs": [],
   "source": [
    "import datetime"
   ]
  },
  {
   "cell_type": "code",
   "execution_count": 3,
   "id": "7cbf3e1f",
   "metadata": {},
   "outputs": [
    {
     "name": "stdout",
     "output_type": "stream",
     "text": [
      "2024-11-06 14:36:56\n"
     ]
    }
   ],
   "source": [
    "my_date = datetime.datetime(2024, 11, 6, 14, 36, 56) \n",
    "print(my_date)\n",
    "# 2024-11-06 14:36:56"
   ]
  },
  {
   "cell_type": "code",
   "execution_count": 9,
   "id": "6fcaee39",
   "metadata": {},
   "outputs": [
    {
     "name": "stdout",
     "output_type": "stream",
     "text": [
      "2024-11-24 14:36:56\n"
     ]
    }
   ],
   "source": [
    "my_date_days = my_date + datetime.timedelta(days = 18)\n",
    "print(my_date_days)\n",
    "# 2024-11-24 14:36:56"
   ]
  },
  {
   "cell_type": "code",
   "execution_count": 5,
   "id": "8cc550be",
   "metadata": {},
   "outputs": [],
   "source": [
    "from dateutil.relativedelta import relativedelta"
   ]
  },
  {
   "cell_type": "code",
   "execution_count": 6,
   "id": "8d4e6967",
   "metadata": {},
   "outputs": [
    {
     "name": "stdout",
     "output_type": "stream",
     "text": [
      "2026-12-06 14:36:56\n"
     ]
    }
   ],
   "source": [
    "my_date_months = my_date + relativedelta(months = 25)\n",
    "print(my_date_months)\n",
    "# 2026-12-06 14:36:56"
   ]
  },
  {
   "cell_type": "code",
   "execution_count": 10,
   "id": "85af1377",
   "metadata": {},
   "outputs": [
    {
     "name": "stdout",
     "output_type": "stream",
     "text": [
      "2034-11-06 14:36:56\n"
     ]
    }
   ],
   "source": [
    "my_date_years = my_date + relativedelta(years = 10)\n",
    "print(my_date_years)\n",
    "# 2034-11-06 14:36:56"
   ]
  },
  {
   "cell_type": "code",
   "execution_count": null,
   "id": "67121815",
   "metadata": {},
   "outputs": [],
   "source": []
  }
 ],
 "metadata": {
  "kernelspec": {
   "display_name": "Basics [py3.10]",
   "language": "python",
   "name": "basics_py310"
  },
  "language_info": {
   "codemirror_mode": {
    "name": "ipython",
    "version": 3
   },
   "file_extension": ".py",
   "mimetype": "text/x-python",
   "name": "python",
   "nbconvert_exporter": "python",
   "pygments_lexer": "ipython3",
   "version": "3.10.4"
  }
 },
 "nbformat": 4,
 "nbformat_minor": 5
}
