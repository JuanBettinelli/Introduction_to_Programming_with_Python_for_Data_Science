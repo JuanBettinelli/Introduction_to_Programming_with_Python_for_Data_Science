{
 "cells": [
  {
   "cell_type": "code",
   "execution_count": 1,
   "id": "be860d01",
   "metadata": {},
   "outputs": [],
   "source": [
    "import numpy as np                             # Load NumPy library"
   ]
  },
  {
   "cell_type": "code",
   "execution_count": 2,
   "id": "d752fcee",
   "metadata": {},
   "outputs": [
    {
     "name": "stdout",
     "output_type": "stream",
     "text": [
      "[[1 2 3]\n",
      " [4 5 6]]\n"
     ]
    }
   ],
   "source": [
    "my_array = np.array([[1, 2, 3], [4, 5, 6]])    # Create example array\n",
    "print(my_array)                                # Print example array"
   ]
  },
  {
   "cell_type": "code",
   "execution_count": 3,
   "id": "de3771a1",
   "metadata": {},
   "outputs": [
    {
     "name": "stdout",
     "output_type": "stream",
     "text": [
      "21\n"
     ]
    }
   ],
   "source": [
    "print(np.sum(my_array))                        # Get sum of all array values"
   ]
  },
  {
   "cell_type": "code",
   "execution_count": 4,
   "id": "f13d2d70",
   "metadata": {},
   "outputs": [
    {
     "name": "stdout",
     "output_type": "stream",
     "text": [
      "[5 7 9]\n"
     ]
    }
   ],
   "source": [
    "print(np.sum(my_array, axis = 0))              # Get sum of array columns"
   ]
  },
  {
   "cell_type": "code",
   "execution_count": 5,
   "id": "ef2089ea",
   "metadata": {},
   "outputs": [
    {
     "name": "stdout",
     "output_type": "stream",
     "text": [
      "[ 6 15]\n"
     ]
    }
   ],
   "source": [
    "print(np.sum(my_array, axis = 1))              # Get sum of array rows"
   ]
  },
  {
   "cell_type": "code",
   "execution_count": 6,
   "id": "72e0087d",
   "metadata": {},
   "outputs": [
    {
     "name": "stdout",
     "output_type": "stream",
     "text": [
      "[8, 4, 4, 3, 2, 4, 1, 3, 5, 2, 1, 3, 7]\n"
     ]
    }
   ],
   "source": [
    "my_list = [8, 4, 4, 3, 2, 4, 1, 3, 5, 2, 1, 3, 7]             # Create example list\n",
    "print(my_list)  "
   ]
  },
  {
   "cell_type": "code",
   "execution_count": 7,
   "id": "d24b4aef",
   "metadata": {},
   "outputs": [
    {
     "name": "stdout",
     "output_type": "stream",
     "text": [
      "[2. 3. 4.]\n"
     ]
    }
   ],
   "source": [
    "print(np.quantile(my_list, q = np.arange(0.25, 1, 0.25)))     # Get quartiles of list\n",
    "# [2. 3. 4.]"
   ]
  },
  {
   "cell_type": "code",
   "execution_count": 8,
   "id": "122217fd",
   "metadata": {},
   "outputs": [
    {
     "name": "stdout",
     "output_type": "stream",
     "text": [
      "[1.2 2.  2.6 3.  3.  4.  4.  4.6 6.6]\n"
     ]
    }
   ],
   "source": [
    "print(np.quantile(my_list, q = np.arange(0.1, 1, 0.1)))       # Get deciles of list\n",
    "# [1.2 2.  2.6 3.  3.  4.  4.  4.6 6.6]"
   ]
  },
  {
   "cell_type": "code",
   "execution_count": 9,
   "id": "d96b6b5c",
   "metadata": {},
   "outputs": [
    {
     "name": "stdout",
     "output_type": "stream",
     "text": [
      "[1.   1.   1.   1.   1.   1.   1.   1.   1.08 1.2  1.32 1.44 1.56 1.68\n",
      " 1.8  1.92 2.   2.   2.   2.   2.   2.   2.   2.   2.   2.12 2.24 2.36\n",
      " 2.48 2.6  2.72 2.84 2.96 3.   3.   3.   3.   3.   3.   3.   3.   3.\n",
      " 3.   3.   3.   3.   3.   3.   3.   3.   3.12 3.24 3.36 3.48 3.6  3.72\n",
      " 3.84 3.96 4.   4.   4.   4.   4.   4.   4.   4.   4.   4.   4.   4.\n",
      " 4.   4.   4.   4.   4.   4.12 4.24 4.36 4.48 4.6  4.72 4.84 4.96 5.16\n",
      " 5.4  5.64 5.88 6.12 6.36 6.6  6.84 7.04 7.16 7.28 7.4  7.52 7.64 7.76\n",
      " 7.88]\n"
     ]
    }
   ],
   "source": [
    "print(np.quantile(my_list, q = np.arange(0.01, 1, 0.01)))     # Get percentiles of list"
   ]
  },
  {
   "cell_type": "code",
   "execution_count": null,
   "id": "f047eef0",
   "metadata": {},
   "outputs": [],
   "source": []
  }
 ],
 "metadata": {
  "kernelspec": {
   "display_name": "Basics [py3.10]",
   "language": "python",
   "name": "basics_py310"
  },
  "language_info": {
   "codemirror_mode": {
    "name": "ipython",
    "version": 3
   },
   "file_extension": ".py",
   "mimetype": "text/x-python",
   "name": "python",
   "nbconvert_exporter": "python",
   "pygments_lexer": "ipython3",
   "version": "3.10.4"
  }
 },
 "nbformat": 4,
 "nbformat_minor": 5
}
