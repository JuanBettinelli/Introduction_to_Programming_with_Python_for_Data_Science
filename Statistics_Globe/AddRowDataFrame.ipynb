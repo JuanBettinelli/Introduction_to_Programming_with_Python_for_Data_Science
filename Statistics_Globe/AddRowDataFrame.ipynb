{
 "cells": [
  {
   "cell_type": "markdown",
   "id": "f589b9cf",
   "metadata": {},
   "source": [
    "https://statisticsglobe.com/add-row-to-pandas-dataframe-in-python"
   ]
  },
  {
   "cell_type": "markdown",
   "id": "0bdc0260",
   "metadata": {},
   "source": [
    "__Add Row to pandas DataFrame in Python (2 Examples)__\n",
    " \n",
    "\n",
    "In this tutorial, I’ll show how to append a new row to a pandas DataFrame in Python programming.\n",
    "\n",
    "The content of the post looks as follows:\n",
    "\n",
    "1) Example Data & Libraries\n",
    "2) Example 1: Append New Row at Bottom of pandas DataFrame\n",
    "3) Example 2: Insert New Row in the Middle of pandas DataFrame\n",
    "4) Video & Further Resources\n",
    "Let’s take a look at some Python codes in action:\n",
    "\n",
    " \n",
    "\n",
    "Example Data & Libraries\n",
    "First, we need to load the pandas library:\n",
    "\n",
    "import pandas as pd                                           # Import pandas library to Python\n",
    "The data below will be used as basement for this Python programming language tutorial:\n",
    "\n",
    "data = pd.DataFrame({'x1':range(8, 3, - 1),                  # Create example DataFrame\n",
    "                     'x2':[2, 7, 5, 1, 3],\n",
    "                     'x3':range(11, 16)})\n",
    "print(data)                                                  # Print example DataFrame\n",
    " \n",
    "\n",
    "table 1 DataFrame add row pandas dataframe python\n",
    "\n",
    " \n",
    "\n",
    "Table 1 shows that our example data consists of five rows and the three variables “x1”, “x2”, and “x3”.\n",
    "\n",
    "Next, we have to create a list that we can insert as a new row to our DataFrame later on:\n",
    "\n",
    "new_row = [1, 2, 3]                                          # Create new row\n",
    "print(new_row)                                               # Print new row\n",
    "# [1, 2, 3]\n",
    "As you can see, our new row that we will combine with our DataFrame contains the values 1, 2, and 3.\n",
    "\n",
    " \n",
    "\n",
    "Example 1: Append New Row at Bottom of pandas DataFrame\n",
    "In this example, I’ll explain how to append a list as a new row to the bottom of a pandas DataFrame.\n",
    "\n",
    "For this, we can use the loc attribute as shown below:\n",
    "\n",
    "data_new1 = data.copy()                                      # Create copy of DataFrame\n",
    "data_new1.loc[5] = new_row                                   # Append new row\n",
    "print(data_new1)                                             # Print updated DataFrame\n",
    " \n",
    "\n",
    "table 2 DataFrame add row pandas dataframe python\n",
    "\n",
    " \n",
    "\n",
    "As shown in Table 2, the previous Python programming syntax has created a new pandas DataFrame with an additional row in the last line of our data.\n",
    "\n",
    " \n",
    "\n",
    "Example 2: Insert New Row in the Middle of pandas DataFrame\n",
    "In this section, I’ll show how to insert a new row within a pandas DataFrame.\n",
    "\n",
    "Again, we can use the loc attribute for this task. However, this time, we have to specify a value in between the indices of our input DataFrame.\n",
    "\n",
    "As you can see below, we are using the index position 2.5 to add a new row in the middle of our data.\n",
    "\n",
    "Furthermore, we use the sort_index and reset_index functions to reset the indices of our new DataFrame (note that this step is optional):\n",
    "\n",
    "data_new2 = data.copy()                                      # Create copy of DataFrame\n",
    "data_new2.loc[2.5] = new_row                                 # Insert new row\n",
    "data_new2 = data_new2.sort_index().reset_index(drop = True)  # Reset index\n",
    "print(data_new2)                                             # Print updated DataFrame\n",
    " \n",
    "\n",
    "table 3 DataFrame add row pandas dataframe python\n",
    "\n",
    " \n",
    "\n",
    "By running the previous Python programming code, we have created Table 3, i.e. another pandas DataFrame with a new row in the middle of the data.\n",
    "\n",
    " \n",
    "\n",
    "Video & Further Resources\n",
    "Do you need further info on the Python programming syntax of this article? Then I recommend having a look at the following video on the YouTube channel of Ryan Noonan. He’s explaining how to concatenate rows to a pandas DataFrame in another example in the video:\n",
    "\n",
    " \n",
    "\n",
    "\n",
    " \n",
    "\n",
    "Furthermore, you could read the related articles on this website:\n",
    "\n",
    "Add Column to pandas DataFrame\n",
    "Extract Top & Bottom N Rows from pandas DataFrame\n",
    "Drop Rows with Blank Values from pandas DataFrame\n",
    "Insert Column at Specific Position of pandas DataFrame\n",
    "Manipulate pandas DataFrames in Python\n",
    "Introduction to the pandas Library in Python\n",
    "Python Programming Overview\n",
    " \n",
    "\n",
    "Summary: You have learned in this article how to concatenate and stack a new row to a pandas DataFrame to create a union between a DataFrame and a list (i.e. rbind) in the Python programming language. Let me know in the comments section below, in case you have any further questions.\n",
    "\n"
   ]
  },
  {
   "cell_type": "code",
   "execution_count": 1,
   "id": "2c0e5e01",
   "metadata": {},
   "outputs": [],
   "source": [
    "import pandas as pd                                           # Import pandas library to Python"
   ]
  },
  {
   "cell_type": "code",
   "execution_count": 2,
   "id": "04380763",
   "metadata": {},
   "outputs": [
    {
     "name": "stdout",
     "output_type": "stream",
     "text": [
      "   x1  x2  x3\n",
      "0   8   2  11\n",
      "1   7   7  12\n",
      "2   6   5  13\n",
      "3   5   1  14\n",
      "4   4   3  15\n"
     ]
    }
   ],
   "source": [
    "data = pd.DataFrame({'x1':range(8, 3, - 1),                  # Create example DataFrame\n",
    "                     'x2':[2, 7, 5, 1, 3],\n",
    "                     'x3':range(11, 16)})\n",
    "print(data)                                                  # Print example DataFrame"
   ]
  },
  {
   "cell_type": "code",
   "execution_count": 3,
   "id": "43df9a68",
   "metadata": {},
   "outputs": [
    {
     "name": "stdout",
     "output_type": "stream",
     "text": [
      "[1, 2, 3]\n"
     ]
    }
   ],
   "source": [
    "new_row = [1, 2, 3]                                          # Create new row\n",
    "print(new_row)                                               # Print new row\n",
    "# [1, 2, 3]"
   ]
  },
  {
   "cell_type": "code",
   "execution_count": 4,
   "id": "9d98e30a",
   "metadata": {},
   "outputs": [
    {
     "name": "stdout",
     "output_type": "stream",
     "text": [
      "   x1  x2  x3\n",
      "0   8   2  11\n",
      "1   7   7  12\n",
      "2   6   5  13\n",
      "3   5   1  14\n",
      "4   4   3  15\n",
      "5   1   2   3\n"
     ]
    }
   ],
   "source": [
    "data_new1 = data.copy()                                      # Create copy of DataFrame\n",
    "data_new1.loc[5] = new_row                                   # Append new row\n",
    "print(data_new1)                                             # Print updated DataFrame"
   ]
  },
  {
   "cell_type": "code",
   "execution_count": 7,
   "id": "ba75b7ac",
   "metadata": {},
   "outputs": [
    {
     "name": "stdout",
     "output_type": "stream",
     "text": [
      "   x1  x2  x3\n",
      "0   8   2  11\n",
      "1   7   7  12\n",
      "2   6   5  13\n",
      "3   1   2   3\n",
      "4   5   1  14\n",
      "5   4   3  15\n"
     ]
    }
   ],
   "source": [
    "data_new2 = data.copy()                                      # Create copy of DataFrame\n",
    "data_new2.loc[2.5] = new_row                                 # Insert new row\n",
    "data_new2 = data_new2.sort_index().reset_index(drop = True)  # Reset index\n",
    "print(data_new2)                                             # Print updated DataFrame"
   ]
  },
  {
   "cell_type": "code",
   "execution_count": null,
   "id": "a86cf891",
   "metadata": {},
   "outputs": [],
   "source": []
  }
 ],
 "metadata": {
  "kernelspec": {
   "display_name": "Basics [py3.10]",
   "language": "python",
   "name": "basics_py310"
  },
  "language_info": {
   "codemirror_mode": {
    "name": "ipython",
    "version": 3
   },
   "file_extension": ".py",
   "mimetype": "text/x-python",
   "name": "python",
   "nbconvert_exporter": "python",
   "pygments_lexer": "ipython3",
   "version": "3.10.4"
  }
 },
 "nbformat": 4,
 "nbformat_minor": 5
}
