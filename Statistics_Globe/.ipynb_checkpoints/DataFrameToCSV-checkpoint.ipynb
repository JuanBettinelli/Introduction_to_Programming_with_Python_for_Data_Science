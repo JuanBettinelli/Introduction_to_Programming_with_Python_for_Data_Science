{
 "cells": [
  {
   "cell_type": "code",
   "execution_count": 1,
   "id": "58f488dd",
   "metadata": {},
   "outputs": [],
   "source": [
    "import pandas as pd                        # Import pandas"
   ]
  },
  {
   "cell_type": "code",
   "execution_count": 2,
   "id": "45311b0d",
   "metadata": {},
   "outputs": [
    {
     "name": "stdout",
     "output_type": "stream",
     "text": [
      "   x1  x2 x3  x4\n",
      "0   9   2  a  27\n",
      "1  10   3  b  26\n",
      "2  11   6  c  25\n",
      "3  12   2  d  24\n",
      "4  13   3  e  23\n",
      "5  14   1  f  22\n",
      "6  15   8  g  21\n"
     ]
    }
   ],
   "source": [
    "data = pd.DataFrame({'x1':range(9, 16),    # Create pandas DataFrame\n",
    "                     'x2':[2, 3, 6, 2, 3, 1, 8],\n",
    "                     'x3':['a', 'b', 'c', 'd', 'e', 'f', 'g'],\n",
    "                     'x4':range(27, 20, - 1)})\n",
    "print(data)                                # Print pandas DataFrame"
   ]
  },
  {
   "cell_type": "code",
   "execution_count": 3,
   "id": "87bff8d6",
   "metadata": {},
   "outputs": [],
   "source": [
    "data.to_csv('data_no_header.csv',          # Export pandas DataFrame as CSV\n",
    "            header = False)"
   ]
  },
  {
   "cell_type": "code",
   "execution_count": 4,
   "id": "a0a3dbbc",
   "metadata": {},
   "outputs": [],
   "source": [
    "import os                                             # Load os\n"
   ]
  },
  {
   "cell_type": "code",
   "execution_count": null,
   "id": "28248535",
   "metadata": {},
   "outputs": [],
   "source": [
    "os.chdir('C:/Users/Joach/Desktop/my directory')       # Set working directory"
   ]
  },
  {
   "cell_type": "code",
   "execution_count": null,
   "id": "647b1ac2",
   "metadata": {},
   "outputs": [],
   "source": [
    "data.to_csv('data1.csv')                              # Export pandas DataFrame"
   ]
  },
  {
   "cell_type": "code",
   "execution_count": null,
   "id": "4b188d9b",
   "metadata": {},
   "outputs": [],
   "source": [
    "data.to_csv('data2.csv',                              # Export pandas DataFrame\n",
    "            sep = \";\")"
   ]
  },
  {
   "cell_type": "code",
   "execution_count": null,
   "id": "50478af1",
   "metadata": {},
   "outputs": [],
   "source": [
    "data.to_csv('data3.csv',                              # Export pandas DataFrame\n",
    "            sep = \";\",\n",
    "            index = False)"
   ]
  },
  {
   "cell_type": "code",
   "execution_count": null,
   "id": "c11c1758",
   "metadata": {},
   "outputs": [],
   "source": [
    "new_col = ['foo', 'bar', 'bar', 'foo', 'bar', 'foo']  # Create list object\n",
    "print(new_col)                                        # Print list object\n",
    "# ['foo', 'bar', 'bar', 'foo', 'bar', 'foo']"
   ]
  },
  {
   "cell_type": "code",
   "execution_count": null,
   "id": "812fe6de",
   "metadata": {},
   "outputs": [],
   "source": [
    "data4 = pd.read_csv('data3.csv',                      # Read CSV file\n",
    "                    sep = \";\")"
   ]
  },
  {
   "cell_type": "code",
   "execution_count": null,
   "id": "3367226c",
   "metadata": {},
   "outputs": [],
   "source": [
    "data4['new_col'] = new_col                            # Add list as new column"
   ]
  },
  {
   "cell_type": "code",
   "execution_count": null,
   "id": "24dec6bd",
   "metadata": {},
   "outputs": [],
   "source": [
    "data4.to_csv('data4.csv',                             # Export pandas DataFrame\n",
    "             sep = \";\",\n",
    "             index = False)"
   ]
  },
  {
   "cell_type": "code",
   "execution_count": 5,
   "id": "11204736",
   "metadata": {},
   "outputs": [
    {
     "name": "stdout",
     "output_type": "stream",
     "text": [
      "   x1 x2  x3\n",
      "0  21  a  25\n",
      "1  22  b  24\n",
      "2  23  c  23\n",
      "3  24  d  22\n"
     ]
    }
   ],
   "source": [
    "data1 = pd.DataFrame({'x1':range(21, 25),      # Create first pandas DataFrame\n",
    "                      'x2':['a', 'b', 'c', 'd'],\n",
    "                      'x3':range(25, 21, - 1)})\n",
    "print(data1)  "
   ]
  },
  {
   "cell_type": "code",
   "execution_count": 6,
   "id": "e6736757",
   "metadata": {},
   "outputs": [
    {
     "name": "stdout",
     "output_type": "stream",
     "text": [
      "    y1   y2\n",
      "0  201  303\n",
      "1  202  304\n",
      "2  203  305\n",
      "3  204  306\n",
      "4  205  307\n"
     ]
    }
   ],
   "source": [
    "data2 = pd.DataFrame({'y1':range(201, 206),    # Create second pandas DataFrame\n",
    "                      'y2':range(303, 308)})\n",
    "print(data2)                                   # Print second pandas DataFrame"
   ]
  },
  {
   "cell_type": "code",
   "execution_count": 7,
   "id": "f1f3957c",
   "metadata": {},
   "outputs": [
    {
     "name": "stdout",
     "output_type": "stream",
     "text": [
      "    z1  z2 z3  z4  z5\n",
      "0  201   3  a   1   7\n",
      "1  202   4  c   2   6\n",
      "2  203   5  a   3   5\n",
      "3  204   6  b   4   4\n",
      "4  205   7  d   5   3\n",
      "5  206   8  d   6   2\n"
     ]
    }
   ],
   "source": [
    " \n",
    "\n",
    "data3 = pd.DataFrame({'z1':range(201, 207),    # Create third pandas DataFrame\n",
    "                      'z2':range(3, 9),\n",
    "                      'z3':['a', 'c', 'a', 'b', 'd', 'd'],\n",
    "                      'z4':range(1, 7),\n",
    "                      'z5':range(7, 1, - 1)})\n",
    "print(data3)                                   # Print third pandas DataFrame"
   ]
  },
  {
   "cell_type": "code",
   "execution_count": 8,
   "id": "623861da",
   "metadata": {},
   "outputs": [
    {
     "name": "stdout",
     "output_type": "stream",
     "text": [
      "{'data1':    x1 x2  x3\n",
      "0  21  a  25\n",
      "1  22  b  24\n",
      "2  23  c  23\n",
      "3  24  d  22, 'data2':     y1   y2\n",
      "0  201  303\n",
      "1  202  304\n",
      "2  203  305\n",
      "3  204  306\n",
      "4  205  307, 'data3':     z1  z2 z3  z4  z5\n",
      "0  201   3  a   1   7\n",
      "1  202   4  c   2   6\n",
      "2  203   5  a   3   5\n",
      "3  204   6  b   4   4\n",
      "4  205   7  d   5   3\n",
      "5  206   8  d   6   2}\n"
     ]
    }
   ],
   "source": [
    "data_all = {                                   # Create list of all DataFrames\n",
    "     'data1': data1,\n",
    "     'data2': data2,\n",
    "     'data3': data3\n",
    " }\n",
    "print(data_all)   "
   ]
  },
  {
   "cell_type": "code",
   "execution_count": 9,
   "id": "2477a1c4",
   "metadata": {},
   "outputs": [],
   "source": [
    "for i in range(1, len(data_all) + 1):          # Write each DataFrame to separate CSV\n",
    "    data_i = data_all['data' + str(i)]\n",
    "    data_i.to_csv('data' + str(i) + '.csv')"
   ]
  },
  {
   "cell_type": "code",
   "execution_count": null,
   "id": "dda2d6e3",
   "metadata": {},
   "outputs": [],
   "source": []
  }
 ],
 "metadata": {
  "kernelspec": {
   "display_name": "Basics [py3.10]",
   "language": "python",
   "name": "basics_py310"
  },
  "language_info": {
   "codemirror_mode": {
    "name": "ipython",
    "version": 3
   },
   "file_extension": ".py",
   "mimetype": "text/x-python",
   "name": "python",
   "nbconvert_exporter": "python",
   "pygments_lexer": "ipython3",
   "version": "3.10.4"
  }
 },
 "nbformat": 4,
 "nbformat_minor": 5
}
