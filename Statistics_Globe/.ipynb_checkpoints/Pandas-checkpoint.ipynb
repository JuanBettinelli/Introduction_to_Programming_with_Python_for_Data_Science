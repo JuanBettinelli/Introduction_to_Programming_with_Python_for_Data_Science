{
 "cells": [
  {
   "cell_type": "markdown",
   "id": "9e51c474",
   "metadata": {},
   "source": [
    "What is pandas in Python? (3 Examples)\n",
    " \n",
    "\n",
    "This tutorial explains what the pandas library is and how to use it in the Python programming language.\n",
    "\n",
    "Table of contents:\n",
    "\n",
    "1) Definition of the pandas Library in Python\n",
    "2) Example Data & Add-On Libraries\n",
    "3) Example 1: Add New Column to pandas DataFrame\n",
    "4) Example 2: Remove Row from pandas DataFrame\n",
    "5) Example 3: Calculate Mean for pandas DataFrame Column\n",
    "6) Video & Further Resources\n",
    "Here’s move on to the definition…\n",
    "\n",
    " \n",
    "\n",
    "Definition of the pandas Library in Python\n",
    "pandas is a software library that was created by Wes McKinney for the Python programming language.\n",
    "\n",
    "The pandas library is mainly used for data manipulation, i.e. to edit, modify, and adjust certain components of a DataFrame object.\n",
    "\n",
    "However, pandas is very flexible and can also be used for other tasks such as drawing data sets in plots, and storing time series values.\n",
    "\n",
    "As other Python libraries, pandas is open source, i.e. freely available for usage, modification, and redistribution.\n",
    "\n",
    "In the remaining part of this tutorial, I’ll show some example applications of the pandas library in practice.\n",
    "\n",
    "So without too much talk, let’s dive into the example code!\n",
    "\n",
    " \n",
    "\n",
    "Example Data & Add-On Libraries\n",
    "We first have to load the pandas library to Python:\n",
    "\n",
    "import pandas as pd                              # Import pandas library\n",
    "Next, we can use the pd.DataFrame function to create some example data:\n",
    "\n",
    "data = pd.DataFrame({\"x1\":range(5, 10),          # Create pandas DataFrame\n",
    "                     \"x2\":[\"a\", \"b\", \"c\", \"d\", \"e\"],\n",
    "                     \"x3\":range(10, 5, - 1)})\n",
    "print(data)                                      # Print pandas DataFrame\n",
    " \n",
    "\n",
    "table 1 DataFrame what is pandas python programming language\n",
    "\n",
    " \n",
    "\n",
    "Table 1 shows that our example DataFrame is composed of five rows and three columns.\n",
    "\n",
    " \n",
    "\n",
    "Example 1: Add New Column to pandas DataFrame\n",
    "This example illustrates how to append a new variable to a pandas DataFrame.\n",
    "\n",
    "For this task, we first have to create a list object that contains the values of our new column:\n",
    "\n",
    "new_col = [\"foo\", \"bar\", \"bar\", \"foo\", \"bar\"]    # Create list\n",
    "print(new_col)                                   # Print list\n",
    "# ['foo', 'bar', 'bar', 'foo', 'bar']\n",
    "Next, we can apply the assign function to add our list as a new column to our pandas DataFrame:\n",
    "\n",
    "data_add = data.assign(new_col = new_col)        # Add new column\n",
    "print(data_add)                                  # Print DataFrame with new column\n",
    " \n",
    "\n",
    "table 2 DataFrame what is pandas python programming language\n",
    "\n",
    " \n",
    "\n",
    "As shown in Table 2, the previous code has managed to construct a new pandas DataFrame containing our input data plus our list object as a new variable.\n",
    "\n",
    " \n",
    "\n",
    "Example 2: Remove Row from pandas DataFrame\n",
    "Example 2 shows how to drop certain rows from a pandas DataFrame.\n",
    "\n",
    "To achieve this, we can use logical operators as illustrated below:\n",
    "\n",
    "data_drop = data[data.x2 != \"c\"]                 # Drop row using logical condition\n",
    "print(data_drop)                                 # Print DataFrame without row\n",
    " \n",
    "\n",
    "table 3 DataFrame what is pandas python programming language\n",
    "\n",
    " \n",
    "\n",
    "Table 3 shows the output of the previous Python syntax: We have excluded the third row from our data set.\n",
    "\n",
    " \n",
    "\n",
    "Example 3: Calculate Mean for pandas DataFrame Column\n",
    "The pandas library can also be used to calculate certain descriptive statistics of the columns of a DataFrame.\n",
    "\n",
    "In this specific example, we calculate the mean value of the variable x3:\n",
    "\n",
    "data_mean = data[\"x3\"].mean()                    # Calculate average\n",
    "print(data_mean)                                 # Print average\n",
    "# 8.0\n",
    "The previous console output shows the mean value of our third column, i.e. 8.0.\n",
    "\n",
    " \n",
    "\n",
    "Video & Further Resources\n",
    "I have recently released a video on my YouTube channel, which explains the contents of this tutorial. You can find the video below.\n",
    "\n",
    " \n",
    "\n",
    "The YouTube video will be added soon.\n",
    "\n",
    " \n",
    "\n",
    "Furthermore, you may read the related articles on my website.\n",
    "\n",
    "pandas Library Tutorial in Python\n",
    "Change pandas DataFrames in Python\n",
    "DataFrame Manipulation Using pandas in Python\n",
    "Sort pandas DataFrame by Date in Python\n",
    "Count Unique Values by Group in Column of pandas DataFrame\n",
    "Insert Column at Specific Position of pandas DataFrame\n",
    "Check If Any Value is NaN in pandas DataFrame in Python\n",
    "Check if pandas DataFrame is Empty in Python\n",
    "All Python Programming Tutorials\n",
    " \n",
    "\n",
    "In summary: You have learned in this article how to apply the functions of the pandas library in the Python programming language. If you have any additional questions and/or comments, let me know in the comments section below.\n",
    "\n"
   ]
  },
  {
   "cell_type": "code",
   "execution_count": 1,
   "id": "66b8bc7f",
   "metadata": {},
   "outputs": [],
   "source": [
    "import pandas as pd                              # Import pandas library"
   ]
  },
  {
   "cell_type": "code",
   "execution_count": 2,
   "id": "1c6c0c63",
   "metadata": {},
   "outputs": [
    {
     "name": "stdout",
     "output_type": "stream",
     "text": [
      "   x1 x2  x3\n",
      "0   5  a  10\n",
      "1   6  b   9\n",
      "2   7  c   8\n",
      "3   8  d   7\n",
      "4   9  e   6\n"
     ]
    }
   ],
   "source": [
    "data = pd.DataFrame({\"x1\":range(5, 10),          # Create pandas DataFrame\n",
    "                     \"x2\":[\"a\", \"b\", \"c\", \"d\", \"e\"],\n",
    "                     \"x3\":range(10, 5, - 1)})\n",
    "print(data)                                      # Print pandas DataFrame"
   ]
  },
  {
   "cell_type": "code",
   "execution_count": 3,
   "id": "6c04ad92",
   "metadata": {},
   "outputs": [
    {
     "name": "stdout",
     "output_type": "stream",
     "text": [
      "['foo', 'bar', 'bar', 'foo', 'bar']\n"
     ]
    }
   ],
   "source": [
    "new_col = [\"foo\", \"bar\", \"bar\", \"foo\", \"bar\"]    # Create list\n",
    "print(new_col)                                   # Print list\n",
    "# ['foo', 'bar', 'bar', 'foo', 'bar']"
   ]
  },
  {
   "cell_type": "code",
   "execution_count": 4,
   "id": "f4457972",
   "metadata": {},
   "outputs": [
    {
     "name": "stdout",
     "output_type": "stream",
     "text": [
      "   x1 x2  x3 new_col\n",
      "0   5  a  10     foo\n",
      "1   6  b   9     bar\n",
      "2   7  c   8     bar\n",
      "3   8  d   7     foo\n",
      "4   9  e   6     bar\n"
     ]
    }
   ],
   "source": [
    "data_add = data.assign(new_col = new_col)        # Add new column\n",
    "print(data_add)                                  # Print DataFrame with new column"
   ]
  },
  {
   "cell_type": "code",
   "execution_count": 5,
   "id": "38d5e80d",
   "metadata": {},
   "outputs": [
    {
     "name": "stdout",
     "output_type": "stream",
     "text": [
      "   x1 x2  x3\n",
      "0   5  a  10\n",
      "1   6  b   9\n",
      "3   8  d   7\n",
      "4   9  e   6\n"
     ]
    }
   ],
   "source": [
    "data_drop = data[data.x2 != \"c\"]                 # Drop row using logical condition\n",
    "print(data_drop)                                 # Print DataFrame without row"
   ]
  },
  {
   "cell_type": "code",
   "execution_count": 6,
   "id": "9c365dee",
   "metadata": {},
   "outputs": [
    {
     "name": "stdout",
     "output_type": "stream",
     "text": [
      "8.0\n"
     ]
    }
   ],
   "source": [
    "data_mean = data[\"x3\"].mean()                    # Calculate average\n",
    "print(data_mean)                                 # Print average\n",
    "# 8.0"
   ]
  },
  {
   "cell_type": "markdown",
   "id": "f5e99fa8",
   "metadata": {},
   "source": [
    "At the top of the figure, two different separate data sets are shown. At the bottom of the figure, you can see four different joined versions of these two data sets:\n",
    "\n",
    "- Inner join: Keep only IDs that are contained in both data sets.\n",
    "- Outer join: Keep all IDs.\n",
    "- Left join: Keep only IDs that are contained in the first data set.\n",
    "- Right join: Keep only IDs that are contained in the second data set.\n",
    "\n",
    "All of these join-types will be applied in the following programming examples.\n",
    "\n"
   ]
  },
  {
   "cell_type": "code",
   "execution_count": 7,
   "id": "4b277620",
   "metadata": {},
   "outputs": [
    {
     "name": "stdout",
     "output_type": "stream",
     "text": [
      "     ID  x1 x2  x3\n",
      "0  1001   1  a  16\n",
      "1  1002   2  b  15\n",
      "2  1003   3  c  14\n",
      "3  1004   4  d  13\n",
      "4  1005   5  e  12\n",
      "5  1006   6  f  11\n"
     ]
    }
   ],
   "source": [
    "data1 = pd.DataFrame({\"ID\":range(1001, 1007),    # Create first pandas DataFrame\n",
    "                      \"x1\":range(1, 7),\n",
    "                      \"x2\":[\"a\", \"b\", \"c\", \"d\", \"e\", \"f\"],\n",
    "                      \"x3\":range(16, 10, - 1)})\n",
    "print(data1)                                     # Print first pandas DataFrame\n"
   ]
  },
  {
   "cell_type": "code",
   "execution_count": 8,
   "id": "470ad3b4",
   "metadata": {},
   "outputs": [
    {
     "name": "stdout",
     "output_type": "stream",
     "text": [
      "     ID y1  y2\n",
      "0  1004  x  10\n",
      "1  1005  y   8\n",
      "2  1006  x   6\n",
      "3  1007  y   4\n",
      "4  1008  x   2\n"
     ]
    }
   ],
   "source": [
    "data2 = pd.DataFrame({\"ID\":range(1004, 1009),    # Create second pandas DataFrame\n",
    "                      \"y1\":[\"x\", \"y\", \"x\", \"y\", \"x\"],\n",
    "                      \"y2\":range(10, 1, - 2)})\n",
    "print(data2)                                     # Print second pandas DataFrame"
   ]
  },
  {
   "cell_type": "code",
   "execution_count": 9,
   "id": "a341a564",
   "metadata": {},
   "outputs": [
    {
     "name": "stdout",
     "output_type": "stream",
     "text": [
      "     ID  x1 x2  x3 y1  y2\n",
      "0  1004   4  d  13  x  10\n",
      "1  1005   5  e  12  y   8\n",
      "2  1006   6  f  11  x   6\n"
     ]
    }
   ],
   "source": [
    "data_inner = pd.merge(data1,                     # Inner join\n",
    "                      data2,\n",
    "                      on = \"ID\",\n",
    "                      how = \"inner\")\n",
    "print(data_inner)                                # Print merged DataFrame"
   ]
  },
  {
   "cell_type": "code",
   "execution_count": 10,
   "id": "4065300c",
   "metadata": {},
   "outputs": [
    {
     "name": "stdout",
     "output_type": "stream",
     "text": [
      "     ID   x1   x2    x3   y1    y2\n",
      "0  1001  1.0    a  16.0  NaN   NaN\n",
      "1  1002  2.0    b  15.0  NaN   NaN\n",
      "2  1003  3.0    c  14.0  NaN   NaN\n",
      "3  1004  4.0    d  13.0    x  10.0\n",
      "4  1005  5.0    e  12.0    y   8.0\n",
      "5  1006  6.0    f  11.0    x   6.0\n",
      "6  1007  NaN  NaN   NaN    y   4.0\n",
      "7  1008  NaN  NaN   NaN    x   2.0\n"
     ]
    }
   ],
   "source": [
    "data_outer = pd.merge(data1,                     # Outer join\n",
    "                      data2,\n",
    "                      on = \"ID\",\n",
    "                      how = \"outer\")\n",
    "print(data_outer)                                # Print merged DataFrame"
   ]
  },
  {
   "cell_type": "code",
   "execution_count": 11,
   "id": "9e3fc79a",
   "metadata": {},
   "outputs": [
    {
     "name": "stdout",
     "output_type": "stream",
     "text": [
      "     ID  x1 x2  x3   y1    y2\n",
      "0  1001   1  a  16  NaN   NaN\n",
      "1  1002   2  b  15  NaN   NaN\n",
      "2  1003   3  c  14  NaN   NaN\n",
      "3  1004   4  d  13    x  10.0\n",
      "4  1005   5  e  12    y   8.0\n",
      "5  1006   6  f  11    x   6.0\n"
     ]
    }
   ],
   "source": [
    "data_left = pd.merge(data1,                      # Left join\n",
    "                      data2,\n",
    "                      on = \"ID\",\n",
    "                      how = \"left\")\n",
    "print(data_left)                                 # Print merged DataFrame"
   ]
  },
  {
   "cell_type": "code",
   "execution_count": 12,
   "id": "55c072f9",
   "metadata": {},
   "outputs": [
    {
     "name": "stdout",
     "output_type": "stream",
     "text": [
      "     ID   x1   x2    x3 y1  y2\n",
      "0  1004  4.0    d  13.0  x  10\n",
      "1  1005  5.0    e  12.0  y   8\n",
      "2  1006  6.0    f  11.0  x   6\n",
      "3  1007  NaN  NaN   NaN  y   4\n",
      "4  1008  NaN  NaN   NaN  x   2\n"
     ]
    }
   ],
   "source": [
    "data_right = pd.merge(data1,                     # Right join\n",
    "                      data2,\n",
    "                      on = \"ID\",\n",
    "                      how = \"right\")\n",
    "print(data_right)                                # Print merged DataFrame"
   ]
  },
  {
   "cell_type": "code",
   "execution_count": 13,
   "id": "12555c79",
   "metadata": {},
   "outputs": [
    {
     "name": "stdout",
     "output_type": "stream",
     "text": [
      "   x1  x2 group\n",
      "0   2   1     A\n",
      "1   7   2     B\n",
      "2   5   3     A\n",
      "3   7   4     A\n",
      "4   1   5     C\n",
      "5   5   6     B\n",
      "6   9   7     A\n"
     ]
    }
   ],
   "source": [
    "data = pd.DataFrame({'x1':[2, 7, 5, 7, 1, 5, 9],  # Create pandas DataFrame\n",
    "                     'x2':range(1, 8),\n",
    "                     'group':['A', 'B', 'A', 'A', 'C', 'B', 'A']})\n",
    "print(data)                           "
   ]
  },
  {
   "cell_type": "code",
   "execution_count": 14,
   "id": "99db741c",
   "metadata": {},
   "outputs": [
    {
     "name": "stdout",
     "output_type": "stream",
     "text": [
      "5.142857142857143\n"
     ]
    }
   ],
   "source": [
    "print(data['x1'].mean())                          # Get mean of one column"
   ]
  },
  {
   "cell_type": "code",
   "execution_count": 15,
   "id": "f96845de",
   "metadata": {},
   "outputs": [
    {
     "name": "stdout",
     "output_type": "stream",
     "text": [
      "x1    5.142857\n",
      "x2    4.000000\n",
      "dtype: float64\n"
     ]
    },
    {
     "name": "stderr",
     "output_type": "stream",
     "text": [
      "/var/folders/2c/19wbw1_d4pv7bl31_4pf2_xm0000gn/T/ipykernel_18765/450106433.py:1: FutureWarning: Dropping of nuisance columns in DataFrame reductions (with 'numeric_only=None') is deprecated; in a future version this will raise TypeError.  Select only valid columns before calling the reduction.\n",
      "  print(data.mean())                                # Get mean of all columns\n"
     ]
    }
   ],
   "source": [
    "print(data.mean())                                # Get mean of all columns"
   ]
  },
  {
   "cell_type": "code",
   "execution_count": 16,
   "id": "c684c5ef",
   "metadata": {},
   "outputs": [
    {
     "name": "stdout",
     "output_type": "stream",
     "text": [
      "             x1        x2\n",
      "count  7.000000  7.000000\n",
      "mean   5.142857  4.000000\n",
      "std    2.853569  2.160247\n",
      "min    1.000000  1.000000\n",
      "25%    3.500000  2.500000\n",
      "50%    5.000000  4.000000\n",
      "75%    7.000000  5.500000\n",
      "max    9.000000  7.000000\n"
     ]
    }
   ],
   "source": [
    "print(data.describe())      "
   ]
  },
  {
   "cell_type": "code",
   "execution_count": 17,
   "id": "00d3b57a",
   "metadata": {},
   "outputs": [
    {
     "name": "stdout",
     "output_type": "stream",
     "text": [
      "         x1    x2\n",
      "group            \n",
      "A      5.75  3.75\n",
      "B      6.00  4.00\n",
      "C      1.00  5.00\n"
     ]
    }
   ],
   "source": [
    "print(data.groupby('group').mean())               # Get mean by group"
   ]
  },
  {
   "cell_type": "code",
   "execution_count": 19,
   "id": "f5bd39c9",
   "metadata": {},
   "outputs": [
    {
     "name": "stdout",
     "output_type": "stream",
     "text": [
      "         x1                                              x2                  \\\n",
      "      count  mean       std  min   25%  50%  75%  max count  mean       std   \n",
      "group                                                                         \n",
      "A       4.0  5.75  2.986079  2.0  4.25  6.0  7.5  9.0   4.0  3.75  2.500000   \n",
      "B       2.0  6.00  1.414214  5.0  5.50  6.0  6.5  7.0   2.0  4.00  2.828427   \n",
      "C       1.0  1.00       NaN  1.0  1.00  1.0  1.0  1.0   1.0  5.00       NaN   \n",
      "\n",
      "                                 \n",
      "       min  25%  50%   75%  max  \n",
      "group                            \n",
      "A      1.0  2.5  3.5  4.75  7.0  \n",
      "B      2.0  3.0  4.0  5.00  6.0  \n",
      "C      5.0  5.0  5.0  5.00  5.0  \n"
     ]
    }
   ],
   "source": [
    "print(data.groupby('group').describe())             # Get descriptive stats by group"
   ]
  },
  {
   "cell_type": "code",
   "execution_count": 20,
   "id": "72b9156a",
   "metadata": {},
   "outputs": [
    {
     "name": "stdout",
     "output_type": "stream",
     "text": [
      "   x1  x2  x3\n",
      "0   6   2   8\n",
      "1   2   5   7\n",
      "2   7   7   6\n",
      "3   1   1   5\n",
      "4   9   3   4\n",
      "5   3   1   3\n",
      "6   4   2   2\n",
      "7   9   3   1\n"
     ]
    }
   ],
   "source": [
    "data = pd.DataFrame({'x1':[6, 2, 7, 1, 9, 3, 4, 9],  # Create example DataFrame\n",
    "                     'x2':[2, 5, 7, 1, 3, 1, 2, 3],\n",
    "                     'x3':range(8, 0, - 1)})\n",
    "print(data)                                          # Print example DataFrame"
   ]
  },
  {
   "cell_type": "code",
   "execution_count": 21,
   "id": "3f66f22d",
   "metadata": {},
   "outputs": [
    {
     "name": "stdout",
     "output_type": "stream",
     "text": [
      "0    16\n",
      "1    14\n",
      "2    20\n",
      "3     7\n",
      "4    16\n",
      "5     7\n",
      "6     8\n",
      "7    13\n",
      "dtype: int64\n"
     ]
    }
   ],
   "source": [
    "print(data.sum(axis = 1))                            # Get row sums"
   ]
  },
  {
   "cell_type": "code",
   "execution_count": null,
   "id": "d2077ab8",
   "metadata": {},
   "outputs": [],
   "source": []
  }
 ],
 "metadata": {
  "kernelspec": {
   "display_name": "Basics [py3.10]",
   "language": "python",
   "name": "basics_py310"
  },
  "language_info": {
   "codemirror_mode": {
    "name": "ipython",
    "version": 3
   },
   "file_extension": ".py",
   "mimetype": "text/x-python",
   "name": "python",
   "nbconvert_exporter": "python",
   "pygments_lexer": "ipython3",
   "version": "3.10.4"
  }
 },
 "nbformat": 4,
 "nbformat_minor": 5
}
