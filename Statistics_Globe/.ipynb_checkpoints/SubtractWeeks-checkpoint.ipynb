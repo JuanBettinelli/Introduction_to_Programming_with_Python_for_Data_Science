{
 "cells": [
  {
   "cell_type": "markdown",
   "id": "2a591502",
   "metadata": {},
   "source": [
    "https://statisticsglobe.com/add-subtract-weeks-from-date-python"
   ]
  },
  {
   "cell_type": "markdown",
   "id": "51ea9b6a",
   "metadata": {},
   "source": [
    "__Add & Subtract Weeks to & from Date in Python (2 Examples)__\n",
    " "
   ]
  },
  {
   "cell_type": "markdown",
   "id": "4c0ceff4",
   "metadata": {},
   "source": [
    "\n",
    "\n",
    "In this tutorial, I’ll explain how to add or remove weeks to/from a datetime object in the Python programming language.\n",
    "\n",
    "The page looks as follows:\n",
    "\n",
    "1) Example Data & Add-On Libraries\n",
    "2) Example 1: Add Specific Number of Weeks to Date\n",
    "3) Example 2: Subtract Specific Number of Weeks from Date\n",
    "4) Video & Further Resources\n",
    "If you want to learn more about these contents, keep reading…\n",
    "\n",
    " \n",
    "\n",
    "Example Data & Add-On Libraries\n",
    "First, we have to load datetime and timedelta from the datetime module:\n",
    "\n",
    "from datetime import datetime, timedelta                    # Import modules in Python\n",
    "We use the following example data as a basement for this Python programming tutorial:\n",
    "\n",
    "my_date = datetime.today()                                  # Create Example date\n",
    "print(my_date)                                              # Print actual date\n",
    "# 2022-06-10 15:40:02.298970\n",
    "The Python console output shows the datetime of today.\n",
    "\n",
    " \n",
    "\n",
    "Example 1: Add Specific Number of Weeks to Date\n",
    "In this example, I’ll explain how to add a certain number of weeks to our example date.\n",
    "\n",
    "For this, we can apply the timedelta function in combination with the weeks argument:\n",
    "\n",
    "my_date_weeks_added = my_date + timedelta(weeks = 14)       # Adding weeks using the timedelta function\n",
    "print(my_date_weeks_added)                                  # Show date object with added weeks\n",
    "# 2022-09-16 16:38:23.520823\n",
    "As demonstrated by the output above, 14 weeks have been added to our example datetime object.\n",
    "\n",
    " \n",
    "\n",
    "Example 2: Subtract Specific Number of Weeks from Date\n",
    "Of course, it’s also possible to remove weeks from a datetime object, this is what I’ll show you in the next example.\n",
    "\n",
    "my_date_weeks_subtracted = my_date - timedelta(weeks = 14)  # Subtracting days with the timedelta function\n",
    "print(my_date_weeks_subtracted)                             # Print date object with subtracted weeks\n",
    "# 2022-03-04 16:38:23.520823\n",
    "Considering the Python code above, we simply have changed the operator before our timedelta function from ‘+’ to ‘-‘ and the certain number of weeks will be subtracted.\n",
    "\n",
    " \n",
    "\n",
    "Video & Further Resources\n",
    "Would you like to know more about adding & subtracting a specific number of weeks to or from a date? Then you might want to have a look at the following video on my YouTube channel. In the video, I’m explaining the topics of this tutorial.\n",
    "\n",
    " \n",
    "\n",
    "The YouTube video will be added soon.\n",
    "\n",
    " \n",
    "\n",
    "Furthermore, you might want to have a look at some related articles on my website:\n",
    "\n",
    "Get Current Day of Week in Python – Number & Name (3 Examples)\n",
    "Calculate Time Difference Between Two datetime Objects in Python (Example)\n",
    "Add Days, Months & Years to datetime Object in Python (3 Examples)\n",
    "All Python Programming Examples\n",
    " \n",
    "\n",
    "To summarize: In this article, you have learned how to add & subtract weeks to/from a date in the Python programming language. Please tell me about it in the comments below, in case you have additional questions.\n",
    "\n"
   ]
  },
  {
   "cell_type": "code",
   "execution_count": 1,
   "id": "6d2295bb",
   "metadata": {},
   "outputs": [],
   "source": [
    "from datetime import datetime, timedelta                    # Import modules in Python"
   ]
  },
  {
   "cell_type": "code",
   "execution_count": 2,
   "id": "d4e04cdc",
   "metadata": {},
   "outputs": [
    {
     "name": "stdout",
     "output_type": "stream",
     "text": [
      "2022-07-20 19:14:28.931706\n"
     ]
    }
   ],
   "source": [
    "my_date = datetime.today()                                  # Create Example date\n",
    "print(my_date)                                              # Print actual date\n",
    "# 2022-06-10 15:40:02.298970"
   ]
  },
  {
   "cell_type": "code",
   "execution_count": 3,
   "id": "42bb4b8c",
   "metadata": {},
   "outputs": [
    {
     "name": "stdout",
     "output_type": "stream",
     "text": [
      "2022-10-26 19:14:28.931706\n"
     ]
    }
   ],
   "source": [
    "my_date_weeks_added = my_date + timedelta(weeks = 14)       # Adding weeks using the timedelta function\n",
    "print(my_date_weeks_added)                                  # Show date object with added weeks\n",
    "# 2022-09-16 16:38:23.520823\n"
   ]
  },
  {
   "cell_type": "code",
   "execution_count": 4,
   "id": "af4d4d33",
   "metadata": {},
   "outputs": [
    {
     "name": "stdout",
     "output_type": "stream",
     "text": [
      "2022-04-13 19:14:28.931706\n"
     ]
    }
   ],
   "source": [
    "my_date_weeks_subtracted = my_date - timedelta(weeks = 14)  # Subtracting days with the timedelta function\n",
    "print(my_date_weeks_subtracted)                             # Print date object with subtracted weeks\n",
    "# 2022-03-04 16:38:23.520823"
   ]
  },
  {
   "cell_type": "code",
   "execution_count": null,
   "id": "72027701",
   "metadata": {},
   "outputs": [],
   "source": []
  }
 ],
 "metadata": {
  "kernelspec": {
   "display_name": "Basics [py3.10]",
   "language": "python",
   "name": "basics_py310"
  },
  "language_info": {
   "codemirror_mode": {
    "name": "ipython",
    "version": 3
   },
   "file_extension": ".py",
   "mimetype": "text/x-python",
   "name": "python",
   "nbconvert_exporter": "python",
   "pygments_lexer": "ipython3",
   "version": "3.10.4"
  }
 },
 "nbformat": 4,
 "nbformat_minor": 5
}
