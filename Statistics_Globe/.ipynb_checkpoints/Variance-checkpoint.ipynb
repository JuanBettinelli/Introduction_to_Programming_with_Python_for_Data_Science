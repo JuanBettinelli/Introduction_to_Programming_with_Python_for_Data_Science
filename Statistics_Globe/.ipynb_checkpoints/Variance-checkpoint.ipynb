{
 "cells": [
  {
   "cell_type": "code",
   "execution_count": 1,
   "id": "3d062a0d",
   "metadata": {},
   "outputs": [
    {
     "name": "stdout",
     "output_type": "stream",
     "text": [
      "[1, 5, 3, 9, 5, 8, 3, 1, 1]\n"
     ]
    }
   ],
   "source": [
    "my_list = [1, 5, 3, 9, 5, 8, 3, 1, 1]           # Create example list\n",
    "print(my_list)                                  # Print example list\n",
    "# [1, 5, 3, 9, 5, 8, 3, 1, 1]"
   ]
  },
  {
   "cell_type": "code",
   "execution_count": 2,
   "id": "1646d06e",
   "metadata": {},
   "outputs": [],
   "source": [
    "import numpy as np                              # Load NumPy"
   ]
  },
  {
   "cell_type": "code",
   "execution_count": 3,
   "id": "375096e9",
   "metadata": {},
   "outputs": [
    {
     "name": "stdout",
     "output_type": "stream",
     "text": [
      "8.0\n"
     ]
    }
   ],
   "source": [
    "print(np.var(my_list))                          # Get var of list\n"
   ]
  },
  {
   "cell_type": "code",
   "execution_count": 4,
   "id": "def76768",
   "metadata": {},
   "outputs": [],
   "source": [
    "import pandas as pd                             # Import pandas library in Python\n"
   ]
  },
  {
   "cell_type": "code",
   "execution_count": 5,
   "id": "9f6db115",
   "metadata": {},
   "outputs": [
    {
     "name": "stdout",
     "output_type": "stream",
     "text": [
      "    x1  x2   x3 group\n",
      "0   32   5  100     A\n",
      "1   30   2  101     A\n",
      "2   28   7  102     B\n",
      "3   26   3  103     C\n",
      "4   24   1  104     B\n",
      "5   22   4  105     C\n",
      "6   20   3  106     C\n",
      "7   18   4  107     A\n",
      "8   16   4  108     C\n",
      "9   14   2  109     A\n",
      "10  12   3  110     C\n",
      "11  10   3  111     A\n",
      "12   8   1  112     B\n",
      "13   6   1  113     B\n",
      "14   4   7  114     B\n",
      "15   2   5  115     A\n"
     ]
    }
   ],
   "source": [
    "data = pd.DataFrame({'x1':range(32, 1, - 2),    # Create pandas DataFrame\n",
    "                     'x2':[5, 2, 7, 3, 1, 4, 3, 4, 4, 2, 3, 3, 1, 1, 7, 5],\n",
    "                     'x3':range(100, 116),\n",
    "                     'group':['A', 'A', 'B', 'C', 'B', 'C', 'C', 'A', 'C', 'A', 'C', 'A', 'B', 'B', 'B', 'A']})\n",
    "print(data)                                     # Print pandas DataFrame"
   ]
  },
  {
   "cell_type": "code",
   "execution_count": 6,
   "id": "e6d783a4",
   "metadata": {},
   "outputs": [
    {
     "name": "stdout",
     "output_type": "stream",
     "text": [
      "90.66666666666667\n"
     ]
    }
   ],
   "source": [
    "print(data['x1'].var())  "
   ]
  },
  {
   "cell_type": "code",
   "execution_count": 7,
   "id": "faafeffa",
   "metadata": {},
   "outputs": [
    {
     "name": "stdout",
     "output_type": "stream",
     "text": [
      "x1    90.666667\n",
      "x2     3.595833\n",
      "x3    22.666667\n",
      "dtype: float64\n"
     ]
    },
    {
     "name": "stderr",
     "output_type": "stream",
     "text": [
      "/var/folders/2c/19wbw1_d4pv7bl31_4pf2_xm0000gn/T/ipykernel_18928/2037073927.py:1: FutureWarning: Dropping of nuisance columns in DataFrame reductions (with 'numeric_only=None') is deprecated; in a future version this will raise TypeError.  Select only valid columns before calling the reduction.\n",
      "  print(data.var())                               # Get variance of all columns\n"
     ]
    }
   ],
   "source": [
    "print(data.var())                               # Get variance of all columns"
   ]
  },
  {
   "cell_type": "code",
   "execution_count": 8,
   "id": "a49e043c",
   "metadata": {},
   "outputs": [
    {
     "name": "stdout",
     "output_type": "stream",
     "text": [
      "0     2396.333333\n",
      "1     2604.333333\n",
      "2     2490.333333\n",
      "3     2743.000000\n",
      "4     2923.000000\n",
      "5     2902.333333\n",
      "6     3049.000000\n",
      "7     3121.000000\n",
      "8     3237.333333\n",
      "9     3436.333333\n",
      "10    3522.333333\n",
      "11    3652.333333\n",
      "12    3864.333333\n",
      "13    4003.000000\n",
      "14    3926.333333\n",
      "15    4146.333333\n",
      "dtype: float64\n"
     ]
    },
    {
     "name": "stderr",
     "output_type": "stream",
     "text": [
      "/var/folders/2c/19wbw1_d4pv7bl31_4pf2_xm0000gn/T/ipykernel_18928/1447325686.py:1: FutureWarning: Dropping of nuisance columns in DataFrame reductions (with 'numeric_only=None') is deprecated; in a future version this will raise TypeError.  Select only valid columns before calling the reduction.\n",
      "  print(data.var(axis = 1))                       # Get variance of rows\n"
     ]
    }
   ],
   "source": [
    "print(data.var(axis = 1))                       # Get variance of rows"
   ]
  },
  {
   "cell_type": "code",
   "execution_count": 9,
   "id": "7162a1c2",
   "metadata": {},
   "outputs": [
    {
     "name": "stdout",
     "output_type": "stream",
     "text": [
      "               x1    x2         x3\n",
      "group                             \n",
      "A      135.066667   1.9  33.766667\n",
      "B      124.000000  10.8  31.000000\n",
      "C       29.200000   0.3   7.300000\n"
     ]
    }
   ],
   "source": [
    "print(data.groupby('group').var())              # Get variance by group"
   ]
  },
  {
   "cell_type": "code",
   "execution_count": null,
   "id": "33bc5230",
   "metadata": {},
   "outputs": [],
   "source": []
  }
 ],
 "metadata": {
  "kernelspec": {
   "display_name": "Basics [py3.10]",
   "language": "python",
   "name": "basics_py310"
  },
  "language_info": {
   "codemirror_mode": {
    "name": "ipython",
    "version": 3
   },
   "file_extension": ".py",
   "mimetype": "text/x-python",
   "name": "python",
   "nbconvert_exporter": "python",
   "pygments_lexer": "ipython3",
   "version": "3.10.4"
  }
 },
 "nbformat": 4,
 "nbformat_minor": 5
}
