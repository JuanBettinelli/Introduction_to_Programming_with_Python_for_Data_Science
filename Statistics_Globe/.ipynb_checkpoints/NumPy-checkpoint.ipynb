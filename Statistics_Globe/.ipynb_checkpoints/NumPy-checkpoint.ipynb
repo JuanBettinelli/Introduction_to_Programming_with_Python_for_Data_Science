{
 "cells": [
  {
   "cell_type": "code",
   "execution_count": 1,
   "id": "be860d01",
   "metadata": {},
   "outputs": [],
   "source": [
    "import numpy as np                             # Load NumPy library"
   ]
  },
  {
   "cell_type": "code",
   "execution_count": 2,
   "id": "d752fcee",
   "metadata": {},
   "outputs": [
    {
     "name": "stdout",
     "output_type": "stream",
     "text": [
      "[[1 2 3]\n",
      " [4 5 6]]\n"
     ]
    }
   ],
   "source": [
    "my_array = np.array([[1, 2, 3], [4, 5, 6]])    # Create example array\n",
    "print(my_array)                                # Print example array"
   ]
  },
  {
   "cell_type": "code",
   "execution_count": 3,
   "id": "de3771a1",
   "metadata": {},
   "outputs": [
    {
     "name": "stdout",
     "output_type": "stream",
     "text": [
      "21\n"
     ]
    }
   ],
   "source": [
    "print(np.sum(my_array))                        # Get sum of all array values"
   ]
  },
  {
   "cell_type": "code",
   "execution_count": 4,
   "id": "f13d2d70",
   "metadata": {},
   "outputs": [
    {
     "name": "stdout",
     "output_type": "stream",
     "text": [
      "[5 7 9]\n"
     ]
    }
   ],
   "source": [
    "print(np.sum(my_array, axis = 0))              # Get sum of array columns"
   ]
  },
  {
   "cell_type": "code",
   "execution_count": 5,
   "id": "ef2089ea",
   "metadata": {},
   "outputs": [
    {
     "name": "stdout",
     "output_type": "stream",
     "text": [
      "[ 6 15]\n"
     ]
    }
   ],
   "source": [
    "print(np.sum(my_array, axis = 1))              # Get sum of array rows"
   ]
  },
  {
   "cell_type": "code",
   "execution_count": null,
   "id": "72e0087d",
   "metadata": {},
   "outputs": [],
   "source": []
  }
 ],
 "metadata": {
  "kernelspec": {
   "display_name": "Basics [py3.10]",
   "language": "python",
   "name": "basics_py310"
  },
  "language_info": {
   "codemirror_mode": {
    "name": "ipython",
    "version": 3
   },
   "file_extension": ".py",
   "mimetype": "text/x-python",
   "name": "python",
   "nbconvert_exporter": "python",
   "pygments_lexer": "ipython3",
   "version": "3.10.4"
  }
 },
 "nbformat": 4,
 "nbformat_minor": 5
}
