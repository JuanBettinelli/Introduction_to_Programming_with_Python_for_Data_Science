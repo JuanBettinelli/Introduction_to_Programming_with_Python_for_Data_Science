{
 "cells": [
  {
   "cell_type": "code",
   "execution_count": 1,
   "id": "85bb4e98",
   "metadata": {},
   "outputs": [],
   "source": [
    "# Create example string\n",
    "my_string = \"\\n     \\n  \\nThis is a test string in Python. \\nThis is another line. \\nAnd another line...\\n   \\n    \\n\""
   ]
  },
  {
   "cell_type": "code",
   "execution_count": 2,
   "id": "064d6559",
   "metadata": {},
   "outputs": [
    {
     "name": "stdout",
     "output_type": "stream",
     "text": [
      "\n",
      "     \n",
      "  \n",
      "This is a test string in Python. \n",
      "This is another line. \n",
      "And another line...\n",
      "   \n",
      "    \n",
      "\n"
     ]
    }
   ],
   "source": [
    "# Print example string to Python console\n",
    "print(my_string)"
   ]
  },
  {
   "cell_type": "code",
   "execution_count": 3,
   "id": "d0423003",
   "metadata": {},
   "outputs": [],
   "source": [
    "# Remove trailing and leading newlines from string\n",
    "my_string_updated_all = my_string.strip()"
   ]
  },
  {
   "cell_type": "code",
   "execution_count": 4,
   "id": "4b57865d",
   "metadata": {},
   "outputs": [
    {
     "name": "stdout",
     "output_type": "stream",
     "text": [
      "This is a test string in Python. \n",
      "This is another line. \n",
      "And another line...\n"
     ]
    }
   ],
   "source": [
    "# Print updated string\n",
    "print(my_string_updated_all)"
   ]
  },
  {
   "cell_type": "code",
   "execution_count": 5,
   "id": "d586c55a",
   "metadata": {},
   "outputs": [],
   "source": [
    "# Remove trailing newlines from string\n",
    "my_string_updated_trailing = my_string.rstrip()"
   ]
  },
  {
   "cell_type": "code",
   "execution_count": 6,
   "id": "d04ceaa7",
   "metadata": {},
   "outputs": [
    {
     "name": "stdout",
     "output_type": "stream",
     "text": [
      "\n",
      "     \n",
      "  \n",
      "This is a test string in Python. \n",
      "This is another line. \n",
      "And another line...\n"
     ]
    }
   ],
   "source": [
    "# Print updated string\n",
    "print(my_string_updated_trailing)"
   ]
  },
  {
   "cell_type": "code",
   "execution_count": 7,
   "id": "e7653ebc",
   "metadata": {},
   "outputs": [],
   "source": [
    "# Remove leading newlines from string\n",
    "my_string_updated_leading = my_string.lstrip()"
   ]
  },
  {
   "cell_type": "code",
   "execution_count": 8,
   "id": "e24643b8",
   "metadata": {},
   "outputs": [
    {
     "name": "stdout",
     "output_type": "stream",
     "text": [
      "This is a test string in Python. \n",
      "This is another line. \n",
      "And another line...\n",
      "   \n",
      "    \n",
      "\n"
     ]
    }
   ],
   "source": [
    "# Print updated string\n",
    "print(my_string_updated_leading)"
   ]
  },
  {
   "cell_type": "code",
   "execution_count": 9,
   "id": "4f4e67b7",
   "metadata": {},
   "outputs": [],
   "source": [
    "# Remove blank lines within the text\n",
    "my_string_2 = \"This is another example string with blank lines in between. \\n\\n\\nThis is the second line with text.\"\n"
   ]
  },
  {
   "cell_type": "code",
   "execution_count": 10,
   "id": "644e4e4d",
   "metadata": {},
   "outputs": [
    {
     "name": "stdout",
     "output_type": "stream",
     "text": [
      "This is another example string with blank lines in between. \n",
      "\n",
      "\n",
      "This is the second line with text.\n"
     ]
    }
   ],
   "source": [
    "# Print second example string to Python console\n",
    "print(my_string_2)"
   ]
  },
  {
   "cell_type": "code",
   "execution_count": 11,
   "id": "dd30d7d3",
   "metadata": {},
   "outputs": [],
   "source": [
    "# Remove newlines between text\n",
    "my_string_2_updated = my_string_2.replace(\"\\n\", \"\")\n"
   ]
  },
  {
   "cell_type": "code",
   "execution_count": 12,
   "id": "bf31bb96",
   "metadata": {},
   "outputs": [
    {
     "name": "stdout",
     "output_type": "stream",
     "text": [
      "This is another example string with blank lines in between. This is the second line with text.\n"
     ]
    }
   ],
   "source": [
    "# Print updated string\n",
    "print(my_string_2_updated)\n"
   ]
  },
  {
   "cell_type": "code",
   "execution_count": null,
   "id": "f5e28247",
   "metadata": {},
   "outputs": [],
   "source": []
  }
 ],
 "metadata": {
  "kernelspec": {
   "display_name": "Basics [py3.10]",
   "language": "python",
   "name": "basics_py310"
  },
  "language_info": {
   "codemirror_mode": {
    "name": "ipython",
    "version": 3
   },
   "file_extension": ".py",
   "mimetype": "text/x-python",
   "name": "python",
   "nbconvert_exporter": "python",
   "pygments_lexer": "ipython3",
   "version": "3.10.4"
  }
 },
 "nbformat": 4,
 "nbformat_minor": 5
}
