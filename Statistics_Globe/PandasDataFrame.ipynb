{
 "cells": [
  {
   "cell_type": "markdown",
   "id": "4c20511b",
   "metadata": {},
   "source": [
    "https://statisticsglobe.com/access-index-last-element-pandas-dataframe-python"
   ]
  },
  {
   "cell_type": "markdown",
   "id": "3fca2e57",
   "metadata": {},
   "source": [
    "Access Index of Last Element in pandas DataFrame in Python (4 Examples)\n",
    " \n",
    "\n",
    "In this tutorial, I’ll illustrate how to get access to the last element of a pandas DataFrame in the Python programming language.\n",
    "\n",
    "The tutorial consists of the following contents:\n",
    "\n",
    "1) Example Data & Libraries\n",
    "2) Example 1: Extract First Row from pandas DataFrame\n",
    "3) Example 2: Extract First Element of Column in pandas DataFrame\n",
    "4) Example 3: Extract Last Row from pandas DataFrame\n",
    "5) Example 4: Extract Last Element of Column in pandas DataFrame\n",
    "6) Video, Further Resources & Summary\n",
    "Let’s dive right into the examples…\n",
    "\n",
    " \n",
    "\n",
    "Example Data & Libraries\n",
    "First, we have to import the pandas library:\n",
    "\n",
    "import pandas as pd                                         # Load pandas library\n",
    "As a next step, we’ll also need to construct some data that we can use in the examples later on:\n",
    "\n",
    "data = pd.DataFrame({'x1':range(21, 26),                    # Create pandas DataFrame\n",
    "                     'x2':range(27, 22, - 1),\n",
    "                     'x3':['a', 'b', 'c', 'd', 'e'],\n",
    "                     'x4':['x', 'z', 'y', 'z', 'x']})\n",
    "print(data)                                                 # Print pandas DataFrame\n",
    " \n",
    "\n",
    "table 1 DataFrame access index last element pandas dataframe python\n",
    "\n",
    " \n",
    "\n",
    "Table 1 illustrates that our example DataFrame consists of five rows and four columns.\n",
    "\n",
    " \n",
    "\n",
    "Example 1: Extract First Row from pandas DataFrame\n",
    "In Example 1, I’ll illustrate how to access the first row of a pandas DataFrame in Python.\n",
    "\n",
    "To achieve this, we can use the iloc indexer as shown below:\n",
    "\n",
    "data_first_row = data.iloc[:1, :]                           # Using iloc indexer\n",
    "print(data_first_row)                                       # Print first row\n",
    " \n",
    "\n",
    "table 2 DataFrame access index last element pandas dataframe python\n",
    "\n",
    " \n",
    "\n",
    "Table 2 shows the output of the previous Python code – A pandas DataFrame with only the first row of our input data set.\n",
    "\n",
    " \n",
    "\n",
    "Example 2: Extract First Element of Column in pandas DataFrame\n",
    "In Example 2, I’ll illustrate how to access the index of the first element of a particular variable in a pandas DataFrame.\n",
    "\n",
    "We can do this by selecting a specific column (i.e. x3) and the index position 0 within the iloc indexer:\n",
    "\n",
    "column_first_element = data['x3'].iloc[0]                   # Using iloc indexer\n",
    "print(column_first_element)                                 # Print first element of column\n",
    "# a\n",
    "The previous Python code has returned the character “a”, i.e. the first element of the column x3.\n",
    "\n",
    " \n",
    "\n",
    "Example 3: Extract Last Row from pandas DataFrame\n",
    "This example explains how to get the last row of a pandas DataFrame.\n",
    "\n",
    "Once again, we can use the iloc indexer for this task. However, this time, we also have to identify the number of rows in our data set using the len function and the index attribute:\n",
    "\n",
    "data_last_row = data.iloc[len(data.index) - 1:, :]          # Using iloc indexer\n",
    "print(data_last_row)                                        # Print last row\n",
    " \n",
    "\n",
    "table 3 DataFrame access index last element pandas dataframe python\n",
    "\n",
    " \n",
    "\n",
    "In Table 3 you can see that we have created another one-line data set containing the last row of our input DataFrame.\n",
    "\n",
    " \n",
    "\n",
    "Example 4: Extract Last Element of Column in pandas DataFrame\n",
    "This example shows how to access the last element of a certain pandas DataFrame column.\n",
    "\n",
    "For this task, we can use the iloc indexer as shown below:\n",
    "\n",
    "column_last_element = data['x3'].iloc[len(data.index) - 1]  # Using iloc indexer\n",
    "print(column_last_element)                                  # Print last element of column\n",
    "# e\n",
    "The last data cell in the column x3 contains the character e.\n",
    "\n"
   ]
  },
  {
   "cell_type": "code",
   "execution_count": 2,
   "id": "44737e25",
   "metadata": {},
   "outputs": [],
   "source": [
    "import pandas as pd                                         # Load pandas library"
   ]
  },
  {
   "cell_type": "code",
   "execution_count": 8,
   "id": "ae19405a",
   "metadata": {},
   "outputs": [
    {
     "name": "stdout",
     "output_type": "stream",
     "text": [
      "   x1  x2 x3 x4\n",
      "0  21  27  a  x\n",
      "1  22  26  b  z\n",
      "2  23  25  c  y\n",
      "3  24  24  d  z\n",
      "4  25  23  e  x\n"
     ]
    }
   ],
   "source": [
    "data = pd.DataFrame({'x1':range(21, 26),                    # Create pandas DataFrame\n",
    "                     'x2':range(27, 22, - 1),\n",
    "                     'x3':['a', 'b', 'c', 'd', 'e'],\n",
    "                     'x4':['x', 'z', 'y', 'z', 'x']})\n",
    "print(data)                                                 # Print pandas DataFrame\n"
   ]
  },
  {
   "cell_type": "code",
   "execution_count": 9,
   "id": "687b698b",
   "metadata": {},
   "outputs": [
    {
     "name": "stdout",
     "output_type": "stream",
     "text": [
      "   x1  x2 x3 x4\n",
      "0  21  27  a  x\n"
     ]
    }
   ],
   "source": [
    "data_first_row = data.iloc[:1, :]                           # Using iloc indexer\n",
    "print(data_first_row)  "
   ]
  },
  {
   "cell_type": "code",
   "execution_count": 11,
   "id": "436cf204",
   "metadata": {},
   "outputs": [
    {
     "name": "stdout",
     "output_type": "stream",
     "text": [
      "   x1  x2 x3 x4\n",
      "4  25  23  e  x\n"
     ]
    }
   ],
   "source": [
    "data_last_row = data.iloc[len(data.index) - 1:, :]          # Using iloc indexer\n",
    "print(data_last_row)                                        # Print last row"
   ]
  },
  {
   "cell_type": "code",
   "execution_count": 15,
   "id": "3ade580f",
   "metadata": {},
   "outputs": [
    {
     "name": "stdout",
     "output_type": "stream",
     "text": [
      "a\n"
     ]
    }
   ],
   "source": [
    "column_first_element = data['x3'].iloc[0]                   # Using iloc indexer\n",
    "print(column_first_element)                                 # Print first element of column\n",
    "# a"
   ]
  },
  {
   "cell_type": "code",
   "execution_count": 14,
   "id": "4702ba8d",
   "metadata": {},
   "outputs": [
    {
     "name": "stdout",
     "output_type": "stream",
     "text": [
      "e\n"
     ]
    }
   ],
   "source": [
    "column_last_element = data['x3'].iloc[len(data.index) - 1]  # Using iloc indexer\n",
    "print(column_last_element)                                  # Print last element of column\n",
    "# e"
   ]
  },
  {
   "cell_type": "code",
   "execution_count": null,
   "id": "0ca3b32a",
   "metadata": {},
   "outputs": [],
   "source": []
  },
  {
   "cell_type": "code",
   "execution_count": null,
   "id": "7ca363a6",
   "metadata": {},
   "outputs": [],
   "source": []
  }
 ],
 "metadata": {
  "kernelspec": {
   "display_name": "Basics [py3.10]",
   "language": "python",
   "name": "basics_py310"
  },
  "language_info": {
   "codemirror_mode": {
    "name": "ipython",
    "version": 3
   },
   "file_extension": ".py",
   "mimetype": "text/x-python",
   "name": "python",
   "nbconvert_exporter": "python",
   "pygments_lexer": "ipython3",
   "version": "3.10.4"
  }
 },
 "nbformat": 4,
 "nbformat_minor": 5
}
