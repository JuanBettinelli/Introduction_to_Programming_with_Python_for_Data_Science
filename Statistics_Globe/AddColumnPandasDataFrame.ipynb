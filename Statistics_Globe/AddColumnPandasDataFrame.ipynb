{
 "cells": [
  {
   "cell_type": "markdown",
   "id": "6da0c59e",
   "metadata": {},
   "source": [
    "https://statisticsglobe.com/add-column-to-pandas-dataframe-in-python"
   ]
  },
  {
   "cell_type": "markdown",
   "id": "dad33965",
   "metadata": {},
   "source": [
    "__Add Column to pandas DataFrame in Python (2 Examples)__"
   ]
  },
  {
   "cell_type": "markdown",
   "id": "00f9b112",
   "metadata": {},
   "source": [
    "In this tutorial, I’ll show how to append a new column to a pandas DataFrame in the Python programming language.\n",
    "\n",
    "The tutorial consists of two examples for the addition of a new column to a pandas DataFrame. To be more precise, the tutorial will contain these contents:\n",
    "\n",
    "1) Example Data & Add-On Libraries\n",
    "2) Example 1: Append New Variable to pandas DataFrame Using assign() Function\n",
    "3) Example 2: Append New Variable to pandas DataFrame Using Square Brackets\n",
    "4) Video, Further Resources & Summary\n",
    "Let’s start right away!\n",
    "\n",
    " \n",
    "\n",
    "Example Data & Add-On Libraries\n",
    "We first need to load the pandas library to Python, to be able to use the functions that are contained in the library.\n",
    "\n",
    "import pandas as pd                                               # Load pandas\n",
    "The following pandas DataFrame is used as basement for this Python tutorial:\n",
    "\n",
    "data = pd.DataFrame({\"x1\":range(15, 20),                         # Create pandas DataFrame\n",
    "                     \"x2\":[\"a\", \"b\", \"c\", \"d\", \"e\"],\n",
    "                     \"x3\":range(5, 0, - 1)})\n",
    "print(data)                                                      # Print pandas DataFrame\n",
    " \n",
    "\n",
    "table 1 DataFrame add column pandas dataframe python\n",
    "\n",
    " \n",
    "\n",
    "Have a look at the table that got returned after running the previous syntax. It shows that our example data has five rows and three columns called “x1”, “x2”, and “x3”.\n",
    "\n",
    "Next, we have to create a list on Python that we can add as new column to our DataFrame:\n",
    "\n",
    "new_col = [\"new\", \"so_new\", \"very_new\", \"the_newest\", \"neeeew\"]  # Create list\n",
    "print(new_col)                                                   # Print list\n",
    "# ['new', 'so_new', 'very_new', 'the_newest', 'neeeew']\n",
    "Our example list contains several different character strings. Note that the length of this list is equal to the number of rows of our DataFrame.\n",
    "\n",
    " \n",
    "\n",
    "Example 1: Append New Variable to pandas DataFrame Using assign() Function\n",
    "Example 1 illustrates how to join a new column to a pandas DataFrame using the assign function in Python.\n",
    "\n",
    "Have a look at the Python syntax below:\n",
    "\n",
    "data_new1 = data.assign(new_col = new_col)                       # Add new column\n",
    "print(data_new1)                                                 # Print new DataFrame\n",
    " \n",
    "\n",
    "table 2 DataFrame add column pandas dataframe python\n",
    "\n",
    " \n",
    "\n",
    "After running the previous Python code, the pandas DataFrame with one additional variable shown in Table 2 has been constructed.\n",
    "\n",
    " \n",
    "\n",
    "Example 2: Append New Variable to pandas DataFrame Using Square Brackets\n",
    "The following Python programming syntax demonstrates how to use square brackets to concatenate a new variable to a pandas DataFrame vertically:\n",
    "\n",
    "data_new2 = data.copy()                                          # Create copy of original DataFrame\n",
    "data_new2[\"new_col\"] = new_col                                   # Add new column\n",
    "print(data_new2)                                                 # Print new DataFrame\n",
    " \n",
    "\n",
    "table 3 DataFrame add column pandas dataframe python\n",
    "\n",
    " \n",
    "\n",
    "After running the previous syntax, exactly the same DataFrame as in Example 1 has been created. However, this time we have used square brackets instead of the assign function.\n",
    "\n",
    " \n",
    "\n",
    "Video, Further Resources & Summary\n",
    "Do you want to learn more about the addition of new columns to a pandas DataFrame? Then I recommend having a look at the following video on Corey Schafer’s YouTube channel.\n",
    "\n",
    "In the video, he illustrates how to add and remove rows and columns to a pandas DataFrame in a live session:\n",
    "\n",
    " \n",
    "\n",
    "\n",
    " \n",
    "\n",
    "Furthermore, you might want to have a look at some of the other posts on my website.\n",
    "\n",
    "Introduction to the pandas Library in Python\n",
    "Insert Column at Specific Position of pandas DataFrame in Python\n",
    "Add Row to pandas DataFrame in Python\n",
    "Check if Column Exists in pandas DataFrame in Python\n",
    "Modify & Edit pandas DataFrames in Python\n",
    "pandas DataFrames Operations in Python\n",
    "All Python Programming Examples\n",
    " \n",
    "\n",
    "Summary: This post has illustrated how to merge, combine, and union a new variable to a pandas DataFrame in the Python programming language. If you have additional questions on how to cbind data in Python, tell me about it in the comments section.\n",
    "\n"
   ]
  },
  {
   "cell_type": "code",
   "execution_count": 2,
   "id": "0fe2a41a",
   "metadata": {},
   "outputs": [],
   "source": [
    "import pandas as pd                                               # Load pandas"
   ]
  },
  {
   "cell_type": "code",
   "execution_count": 8,
   "id": "c30b33ba",
   "metadata": {},
   "outputs": [
    {
     "name": "stdout",
     "output_type": "stream",
     "text": [
      "   x1 x2  x3\n",
      "0  15  a   5\n",
      "1  16  b   4\n",
      "2  17  c   3\n",
      "3  18  d   2\n",
      "4  19  e   1\n"
     ]
    }
   ],
   "source": [
    "data = pd.DataFrame({\"x1\":range(15, 20),                         # Create pandas DataFrame\n",
    "                     \"x2\":[\"a\", \"b\", \"c\", \"d\", \"e\"],\n",
    "                     \"x3\":range(5, 0, - 1)})\n",
    "print(data)                                                      # Print pandas DataFrame\n"
   ]
  },
  {
   "cell_type": "code",
   "execution_count": 7,
   "id": "3e0c2594",
   "metadata": {},
   "outputs": [
    {
     "name": "stdout",
     "output_type": "stream",
     "text": [
      "['new', 'so_new', 'very_new', 'the_newest', 'neeeew']\n"
     ]
    }
   ],
   "source": [
    "new_col = [\"new\", \"so_new\", \"very_new\", \"the_newest\", \"neeeew\"]  # Create list\n",
    "print(new_col)                                                   # Print list\n",
    "# ['new', 'so_new', 'very_new', 'the_newest', 'neeeew']"
   ]
  },
  {
   "cell_type": "code",
   "execution_count": 5,
   "id": "6eaa8c36",
   "metadata": {},
   "outputs": [
    {
     "name": "stdout",
     "output_type": "stream",
     "text": [
      "   x1 x2  x3     new_col\n",
      "0  15  a   5         new\n",
      "1  16  b   4      so_new\n",
      "2  17  c   3    very_new\n",
      "3  18  d   2  the_newest\n",
      "4  19  e   1      neeeew\n"
     ]
    }
   ],
   "source": [
    "data_new1 = data.assign(new_col = new_col)                       # Add new column\n",
    "print(data_new1) "
   ]
  },
  {
   "cell_type": "code",
   "execution_count": 6,
   "id": "54d3bee4",
   "metadata": {},
   "outputs": [
    {
     "name": "stdout",
     "output_type": "stream",
     "text": [
      "   x1 x2  x3     new_col\n",
      "0  15  a   5         new\n",
      "1  16  b   4      so_new\n",
      "2  17  c   3    very_new\n",
      "3  18  d   2  the_newest\n",
      "4  19  e   1      neeeew\n"
     ]
    }
   ],
   "source": [
    "data_new2 = data.copy()                                          # Create copy of original DataFrame\n",
    "data_new2[\"new_col\"] = new_col                                   # Add new column\n",
    "print(data_new2)         "
   ]
  },
  {
   "cell_type": "code",
   "execution_count": null,
   "id": "4fdaa2b0",
   "metadata": {},
   "outputs": [],
   "source": []
  }
 ],
 "metadata": {
  "kernelspec": {
   "display_name": "Basics [py3.10]",
   "language": "python",
   "name": "basics_py310"
  },
  "language_info": {
   "codemirror_mode": {
    "name": "ipython",
    "version": 3
   },
   "file_extension": ".py",
   "mimetype": "text/x-python",
   "name": "python",
   "nbconvert_exporter": "python",
   "pygments_lexer": "ipython3",
   "version": "3.10.4"
  }
 },
 "nbformat": 4,
 "nbformat_minor": 5
}
