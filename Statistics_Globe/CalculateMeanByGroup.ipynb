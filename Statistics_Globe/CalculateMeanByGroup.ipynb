{
 "cells": [
  {
   "cell_type": "markdown",
   "id": "a9714fd1",
   "metadata": {},
   "source": [
    "https://statisticsglobe.com/calculate-mean-group-python"
   ]
  },
  {
   "cell_type": "markdown",
   "id": "bf3147a8",
   "metadata": {},
   "source": [
    "__Calculate Mean by Group in Python (2 Examples)__\n",
    " \n",
    "\n",
    "In this article you’ll learn how to get the mean by group in the Python programming language.\n",
    "\n",
    "The content of the page looks as follows:\n",
    "\n",
    "1) Example Data & Add-On Libraries\n",
    "2) Example 1: Mean by Group in pandas DataFrame\n",
    "3) Example 2: Mean by Group & Subgroup in pandas DataFrame\n",
    "4) Video, Further Resources & Summary\n",
    "Here’s the step-by-step process…\n",
    "\n",
    " \n",
    "\n",
    "Example Data & Add-On Libraries\n",
    "We first need to import the pandas library, in order to use the functions that are included in the library:\n",
    "\n",
    "import pandas as pd                                  # Load pandas library\n",
    "The following data will be used as a basis for this Python programming language tutorial:\n",
    "\n",
    "data = pd.DataFrame({'x1':[6, 5, 3, 5, 2, 7, 2, 8],  # Create pandas DataFrame\n",
    "                     'x2':range(11, 19),\n",
    "                     'group1':['A', 'B', 'A', 'C', 'C', 'C', 'B', 'A'],\n",
    "                     'group2':['a', 'a', 'a', 'a', 'b', 'b', 'b', 'b']})\n",
    "print(data)                                          # Print pandas DataFrame\n",
    " \n",
    "\n",
    "table 1 DataFrame calculate mean group python programming language\n",
    "\n",
    " \n",
    "\n",
    "As you can see based on Table 1, our example data is a DataFrame containing eight rows and four columns.\n",
    "\n",
    " \n",
    "\n",
    "Example 1: Mean by Group in pandas DataFrame\n",
    "The following syntax illustrates how to calculate the mean of all pandas DataFrame columns by group.\n",
    "\n",
    "For this task, we can use the groupby and mean functions as shown below:\n",
    "\n",
    "print(data.groupby('group1').mean())                 # Get mean by group\n",
    "#               x1    x2\n",
    "# group1                \n",
    "# A       5.666667  14.0\n",
    "# B       3.500000  14.5\n",
    "# C       4.666667  15.0\n",
    "The previous console output shows the result of our Python syntax. You can see the averages for each group and column in our pandas DataFrame.\n",
    "\n",
    " \n",
    "\n",
    "Example 2: Mean by Group & Subgroup in pandas DataFrame\n",
    "Example 1 has shown how to get the mean for different groups based on one grouping column.\n",
    "\n",
    "Example 2, in contrast, demonstrates how to return the mean by group based on multiple group and subgroup columns.\n",
    "\n",
    "To achieve this, we have to specify a list of group columns within the groupby function.\n",
    "\n",
    "Consider the Python syntax below:\n",
    "\n",
    "print(data.groupby(['group1', 'group2']).mean())     # Get mean by multiple groups\n",
    "#                 x1    x2\n",
    "# group1 group2           \n",
    "# A      a       4.5  12.0\n",
    "#        b       8.0  18.0\n",
    "# B      a       5.0  12.0\n",
    "#        b       2.0  17.0\n",
    "# C      a       5.0  14.0\n",
    "#        b       4.5  15.5\n",
    "The previous output shows the mean values for each subgroup in both of our float columns.\n",
    "\n",
    " \n",
    "\n",
    "Video, Further Resources & Summary\n",
    "Do you want to learn more about the computation of the mean value by group? Then you could watch the following video on my YouTube channel. In the video, I’m explaining the examples of this article:\n",
    "\n",
    " \n",
    "\n",
    "\n",
    " \n",
    "\n",
    "Furthermore, you might have a look at some of the related posts on statisticsglobe.com:\n",
    "\n",
    "Calculate Mean in Python\n",
    "mean() Function of NumPy Library\n",
    "mean() Function of statistics Module in Python\n",
    "Harmonic Mean in Python\n",
    "Geometric Mean in Python\n",
    "Mean of Columns & Rows of pandas DataFrame in Python\n",
    "Summary Statistics of pandas DataFrame in Python\n",
    "Summary Statistics by Group of pandas DataFrame\n",
    "Introduction to the pandas Library in Python\n",
    "Python Programming Tutorials\n",
    " \n",
    "\n",
    "To summarize: This article has illustrated how to calculate and find the mean by group in the Python programming language. Don’t hesitate to tell me about it in the comments below, if you have any further comments and/or questions. In addition, please subscribe to my email newsletter to get updates on new articles."
   ]
  },
  {
   "cell_type": "code",
   "execution_count": 1,
   "id": "6294693c",
   "metadata": {},
   "outputs": [],
   "source": [
    "import pandas as pd                                  # Load pandas library"
   ]
  },
  {
   "cell_type": "code",
   "execution_count": 2,
   "id": "2c210fdb",
   "metadata": {},
   "outputs": [
    {
     "name": "stdout",
     "output_type": "stream",
     "text": [
      "   x1  x2 group1 group2\n",
      "0   6  11      A      a\n",
      "1   5  12      B      a\n",
      "2   3  13      A      a\n",
      "3   5  14      C      a\n",
      "4   2  15      C      b\n",
      "5   7  16      C      b\n",
      "6   2  17      B      b\n",
      "7   8  18      A      b\n"
     ]
    }
   ],
   "source": [
    "data = pd.DataFrame({'x1':[6, 5, 3, 5, 2, 7, 2, 8],  # Create pandas DataFrame\n",
    "                     'x2':range(11, 19),\n",
    "                     'group1':['A', 'B', 'A', 'C', 'C', 'C', 'B', 'A'],\n",
    "                     'group2':['a', 'a', 'a', 'a', 'b', 'b', 'b', 'b']})\n",
    "print(data)                                          # Print pandas DataFrame"
   ]
  },
  {
   "cell_type": "code",
   "execution_count": 3,
   "id": "48ef8495",
   "metadata": {},
   "outputs": [
    {
     "name": "stdout",
     "output_type": "stream",
     "text": [
      "              x1    x2\n",
      "group1                \n",
      "A       5.666667  14.0\n",
      "B       3.500000  14.5\n",
      "C       4.666667  15.0\n"
     ]
    }
   ],
   "source": [
    "print(data.groupby('group1').mean())                 # Get mean by group\n",
    "#               x1    x2\n",
    "# group1                \n",
    "# A       5.666667  14.0\n",
    "# B       3.500000  14.5\n",
    "# C       4.666667  15.0"
   ]
  },
  {
   "cell_type": "code",
   "execution_count": 4,
   "id": "952a2184",
   "metadata": {},
   "outputs": [
    {
     "name": "stdout",
     "output_type": "stream",
     "text": [
      "                x1    x2\n",
      "group1 group2           \n",
      "A      a       4.5  12.0\n",
      "       b       8.0  18.0\n",
      "B      a       5.0  12.0\n",
      "       b       2.0  17.0\n",
      "C      a       5.0  14.0\n",
      "       b       4.5  15.5\n"
     ]
    }
   ],
   "source": [
    "print(data.groupby(['group1', 'group2']).mean())     # Get mean by multiple groups\n",
    "#                 x1    x2\n",
    "# group1 group2           \n",
    "# A      a       4.5  12.0\n",
    "#        b       8.0  18.0\n",
    "# B      a       5.0  12.0\n",
    "#        b       2.0  17.0\n",
    "# C      a       5.0  14.0\n",
    "#        b       4.5  15.5"
   ]
  },
  {
   "cell_type": "code",
   "execution_count": null,
   "id": "8ce3e645",
   "metadata": {},
   "outputs": [],
   "source": []
  }
 ],
 "metadata": {
  "kernelspec": {
   "display_name": "Basics [py3.10]",
   "language": "python",
   "name": "basics_py310"
  },
  "language_info": {
   "codemirror_mode": {
    "name": "ipython",
    "version": 3
   },
   "file_extension": ".py",
   "mimetype": "text/x-python",
   "name": "python",
   "nbconvert_exporter": "python",
   "pygments_lexer": "ipython3",
   "version": "3.10.4"
  }
 },
 "nbformat": 4,
 "nbformat_minor": 5
}
