{
 "cells": [
  {
   "cell_type": "markdown",
   "id": "5556566c",
   "metadata": {},
   "source": [
    "https://statisticsglobe.com/calculate-mode-python"
   ]
  },
  {
   "cell_type": "markdown",
   "id": "fd2d13d9",
   "metadata": {},
   "source": [
    "__Calculate Mode in Python (4 Examples)__\n",
    " \n",
    "\n",
    "In this article, I’ll explain how to find the mode in the Python programming language.\n",
    "\n",
    "The page is structured as follows:\n",
    "\n",
    "1) Example 1: Mode of List Object\n",
    "2) Example 2: Mode of One Particular Column in pandas DataFrame\n",
    "3) Example 3: Mode of All Columns in pandas DataFrame\n",
    "4) Example 4: Mode by Group in pandas DataFrame\n",
    "5) Video, Further Resources & Summary\n",
    "You’re here for the answer, so let’s get straight to the Python code:\n",
    "\n",
    " \n",
    "\n",
    "Example 1: Mode of List Object\n",
    "In this example, I’ll demonstrate how to find the mode in a list object in the Python programming language.\n",
    "\n",
    "Let’s first create an example list:\n",
    "\n",
    "my_list = ['x', 'x', 'y', 'x', 'z', 'z']                              # Create example list\n",
    "print(my_list)                                                        # Print example list\n",
    "# ['x', 'x', 'y', 'x', 'z', 'z']\n",
    "In the next step, we have to import the statistics module:\n",
    "\n",
    "import statistics                                                     # Load statistics\n",
    "Now, we can apply the mode function provided by the statistics module to calculate the mode of our example list:\n",
    "\n",
    "print(statistics.mode(my_list))                                       # Get mode of list\n",
    "# x\n",
    "As you can see, the most common value in our list is the character x.\n",
    "\n",
    " \n",
    "\n",
    "Example 2: Mode of One Particular Column in pandas DataFrame\n",
    "The following Python programming syntax explains how to get the mode of a specific column in a pandas DataFrame.\n",
    "\n",
    "First, we have to import the pandas library:\n",
    "\n",
    "import pandas as pd                                                   # Load pandas library\n",
    "Next, we have to create an exemplifying pandas DataFrame:\n",
    "\n",
    "data = pd.DataFrame({'x1':[5, 2, 7, 3, 4, 4, 2, 3, 2, 1, 2, 5],       # Create pandas DataFrame\n",
    "                     'x2':['y', 'x', 'x', 'z', 'x', 'y', 'y', 'x', 'z', 'x', 'z', 'x'],\n",
    "                     'group':['A', 'C', 'B', 'B', 'A', 'C', 'A', 'A', 'C', 'B', 'B', 'A']})\n",
    "print(data)                                                           # Print pandas DataFrame\n",
    " \n",
    "\n",
    "table 1 DataFrame calculate mode python programming language\n",
    "\n",
    " \n",
    "\n",
    "By running the previous syntax, we have created Table 1, i.e. a new pandas DataFrame that contains three columns.\n",
    "\n",
    "Finally, we can apply the mode function to a certain column of our data set (i.e. x1) as shown below:\n",
    "\n",
    "print(data['x1'].mode())                                              # Get mode of one column\n",
    "# 0    2\n",
    "# dtype: int64\n",
    "The previous output shows that the mode of the variable x1 is 2.\n",
    "\n",
    " \n",
    "\n",
    "Example 3: Mode of All Columns in pandas DataFrame\n",
    "The following Python programming syntax shows how to return the most common value in each variable of our pandas DataFrame.\n",
    "\n",
    "Consider the Python syntax below:\n",
    "\n",
    "print(data.mode())                                                    # Get mode of all columns\n",
    "#    x1 x2 group\n",
    "# 0   2  x     A\n",
    "As you can see, the mode of the column x1 is 2, the mode of the column x2 is x, and the mode of the column group is A.\n",
    "\n",
    " \n",
    "\n",
    "Example 4: Mode by Group in pandas DataFrame\n",
    "In this example, I’ll explain how to GroupBy a pandas DataFrame and select the most common value.\n",
    "\n",
    "For this task, we have to use the groupby, agg, and value_counts functions as shown in the following Python code:\n",
    "\n",
    "print(data.groupby('group').agg(lambda x:x.value_counts().index[0]))  # Get mode by group\n",
    "#        x1 x2\n",
    "# group       \n",
    "# A       5  x\n",
    "# B       1  z\n",
    "# C       2  y\n",
    "The mode values for each column and group are shown in the output above.\n",
    "\n",
    " \n",
    "\n",
    "Video, Further Resources & Summary\n",
    "Would you like to learn more about the calculation of the mode in a list and a pandas DataFrame column? Then you may have a look at the following video that I have published on my YouTube channel. In the video, I explain the content of this article.\n",
    "\n",
    " \n",
    "\n",
    "The YouTube video will be added soon.\n",
    "\n",
    " \n",
    "\n",
    "Furthermore, you could have a look at the related tutorials on this homepage:\n",
    "\n",
    "Calculate Mode by Group in Python\n",
    "mode() & multimode() Functions of statistics Module\n",
    "Mode of NumPy Array in Python\n",
    "Mean of Columns & Rows of pandas DataFrame\n",
    "Calculate Median in Python\n",
    "Summary Statistics of pandas DataFrame in Python\n",
    "Introduction to the pandas Library in Python\n",
    "Python Programming Examples\n",
    " \n",
    "\n",
    "You have learned in this tutorial how to calculate the mode in a list or a pandas DataFrame column in Python programming. Tell me about it in the comments section below, if you have any further questions."
   ]
  },
  {
   "cell_type": "code",
   "execution_count": 10,
   "id": "c7f35dff",
   "metadata": {},
   "outputs": [
    {
     "name": "stdout",
     "output_type": "stream",
     "text": [
      "['x', 'x', 'y', 'x', 'z', 'z']\n"
     ]
    }
   ],
   "source": [
    "my_list = ['x', 'x', 'y', 'x', 'z', 'z']                              # Create example list\n",
    "print(my_list)                                                        # Print example list\n",
    "# ['x', 'x', 'y', 'x', 'z', 'z']"
   ]
  },
  {
   "cell_type": "code",
   "execution_count": 8,
   "id": "f0f75baf",
   "metadata": {},
   "outputs": [],
   "source": [
    "import statistics  "
   ]
  },
  {
   "cell_type": "code",
   "execution_count": 9,
   "id": "1c004089",
   "metadata": {},
   "outputs": [
    {
     "name": "stdout",
     "output_type": "stream",
     "text": [
      "z\n"
     ]
    }
   ],
   "source": [
    "print(statistics.mode(my_list))                                       # Get mode of list\n",
    "# x"
   ]
  },
  {
   "cell_type": "code",
   "execution_count": 11,
   "id": "178c381d",
   "metadata": {},
   "outputs": [],
   "source": [
    "import pandas as pd                                                   # Load pandas library"
   ]
  },
  {
   "cell_type": "code",
   "execution_count": 12,
   "id": "d3133f86",
   "metadata": {},
   "outputs": [
    {
     "name": "stdout",
     "output_type": "stream",
     "text": [
      "    x1 x2 group\n",
      "0    5  y     A\n",
      "1    2  x     C\n",
      "2    7  x     B\n",
      "3    3  z     B\n",
      "4    4  x     A\n",
      "5    4  y     C\n",
      "6    2  y     A\n",
      "7    3  x     A\n",
      "8    2  z     C\n",
      "9    1  x     B\n",
      "10   2  z     B\n",
      "11   5  x     A\n"
     ]
    }
   ],
   "source": [
    "\n",
    "data = pd.DataFrame({'x1':[5, 2, 7, 3, 4, 4, 2, 3, 2, 1, 2, 5],       # Create pandas DataFrame\n",
    "                     'x2':['y', 'x', 'x', 'z', 'x', 'y', 'y', 'x', 'z', 'x', 'z', 'x'],\n",
    "                     'group':['A', 'C', 'B', 'B', 'A', 'C', 'A', 'A', 'C', 'B', 'B', 'A']})\n",
    "print(data)                                                           "
   ]
  },
  {
   "cell_type": "code",
   "execution_count": 13,
   "id": "86d80666",
   "metadata": {},
   "outputs": [
    {
     "name": "stdout",
     "output_type": "stream",
     "text": [
      "0    2\n",
      "Name: x1, dtype: int64\n"
     ]
    }
   ],
   "source": [
    "print(data['x1'].mode())                                              # Get mode of one column\n",
    "# 0    2\n",
    "# dtype: int64"
   ]
  },
  {
   "cell_type": "code",
   "execution_count": 14,
   "id": "17c33360",
   "metadata": {},
   "outputs": [
    {
     "name": "stdout",
     "output_type": "stream",
     "text": [
      "   x1 x2 group\n",
      "0   2  x     A\n"
     ]
    }
   ],
   "source": [
    "print(data.mode())                                                    # Get mode of all columns\n",
    "#    x1 x2 group\n",
    "# 0   2  x     A"
   ]
  },
  {
   "cell_type": "code",
   "execution_count": 15,
   "id": "50990bb3",
   "metadata": {},
   "outputs": [
    {
     "name": "stdout",
     "output_type": "stream",
     "text": [
      "       x1 x2\n",
      "group       \n",
      "A       5  x\n",
      "B       7  x\n",
      "C       2  x\n"
     ]
    }
   ],
   "source": [
    "print(data.groupby('group').agg(lambda x:x.value_counts().index[0]))  # Get mode by group\n",
    "#        x1 x2\n",
    "# group       \n",
    "# A       5  x\n",
    "# B       1  z\n",
    "# C       2  y"
   ]
  },
  {
   "cell_type": "code",
   "execution_count": null,
   "id": "097e4cb1",
   "metadata": {},
   "outputs": [],
   "source": []
  }
 ],
 "metadata": {
  "kernelspec": {
   "display_name": "Basics [py3.10]",
   "language": "python",
   "name": "basics_py310"
  },
  "language_info": {
   "codemirror_mode": {
    "name": "ipython",
    "version": 3
   },
   "file_extension": ".py",
   "mimetype": "text/x-python",
   "name": "python",
   "nbconvert_exporter": "python",
   "pygments_lexer": "ipython3",
   "version": "3.10.4"
  }
 },
 "nbformat": 4,
 "nbformat_minor": 5
}
