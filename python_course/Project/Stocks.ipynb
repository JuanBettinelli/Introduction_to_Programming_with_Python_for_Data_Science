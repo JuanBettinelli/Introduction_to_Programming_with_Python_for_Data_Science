{
 "cells": [
  {
   "cell_type": "code",
   "execution_count": null,
   "id": "67efde70-14de-46ca-87d2-147fcfa581b9",
   "metadata": {},
   "outputs": [],
   "source": [
    "import random"
   ]
  },
  {
   "cell_type": "code",
   "execution_count": null,
   "id": "0d58692d-5517-4b76-8c39-bd0f9a0e821f",
   "metadata": {},
   "outputs": [],
   "source": [
    "students = [\"Alvaro\", \"Mateusz\", \"Jason\", \"Verena\",\n",
    "            \"Anzal\",\"Maurice\", \"Eric\", \"Masaya\",\n",
    "            \"Shun\", \"Laura\", \"Tasmin\", \"JJ\",\n",
    "            \"Juan\", \"Jonatan\", \"Frederic\", \"Vseslav\",\n",
    "            \"Dahyun\", \"Veysel\", \"Sofia\"]"
   ]
  },
  {
   "cell_type": "code",
   "execution_count": null,
   "id": "c0e35a1b-199a-471a-858e-ef04bc8fbf6a",
   "metadata": {},
   "outputs": [],
   "source": [
    "groups = []\n",
    "c = 0\n",
    "for i in range(1, 5):\n",
    "    if i < 2:\n",
    "        gr_size = 4\n",
    "    else:\n",
    "        gr_size = 5\n",
    "    \n",
    "    g = []\n",
    "    for _ in range(gr_size):\n",
    "        s = random.choice(students)\n",
    "        g.append(s)\n",
    "        students.remove(s)\n",
    "    groups.append(g)\n",
    "    "
   ]
  },
  {
   "cell_type": "code",
   "execution_count": null,
   "id": "d02d34e6-efe7-4c68-826e-87edce5f72c2",
   "metadata": {},
   "outputs": [],
   "source": [
    "for i, group in enumerate(groups):\n",
    "    char = \"\\'\"\n",
    "    print(f'Group {i+1}: {str(group)[1:-1].replace(char,\"\")}')\n",
    "print(f\"Did we miss so? {students}\")"
   ]
  },
  {
   "cell_type": "markdown",
   "id": "9350a11c-a683-442c-845f-f2154a4bcb15",
   "metadata": {},
   "source": [
    "---\n",
    "---\n",
    "---"
   ]
  },
  {
   "cell_type": "markdown",
   "id": "799916da-ffa8-46e9-87bb-14fe97cb22a9",
   "metadata": {},
   "source": [
    "# Quickest pandas starter:\n",
    "Pandas is the most used data transformation packages in python.\n",
    "You should use it as a starting point."
   ]
  },
  {
   "cell_type": "code",
   "execution_count": null,
   "id": "39397d2b-0bd8-4f79-b589-dc4ae8e48908",
   "metadata": {},
   "outputs": [],
   "source": [
    "import pandas as pd"
   ]
  },
  {
   "cell_type": "markdown",
   "id": "d2db8db4-00b4-4483-afaa-09c769822eda",
   "metadata": {},
   "source": [
    "## Read a CSV file"
   ]
  },
  {
   "cell_type": "code",
   "execution_count": null,
   "id": "4114cd27-a067-4689-ac18-8ebc433d3bde",
   "metadata": {},
   "outputs": [],
   "source": [
    "# check what is available in directory\n",
    "# `dir` is the command for windows\n",
    "# try \"!ls data\\\" for Mac or Linux\n",
    "!dir data\\"
   ]
  },
  {
   "cell_type": "code",
   "execution_count": null,
   "id": "d0327755-d4a2-4624-bd6e-f9b131fa78bf",
   "metadata": {},
   "outputs": [],
   "source": [
    "# read a csv file with pandas\n",
    "df = pd.read_csv(\"data/symbols_valid_meta.csv\")"
   ]
  },
  {
   "cell_type": "code",
   "execution_count": null,
   "id": "f87ce69e-3bb0-4ed5-a530-db8884bafb7c",
   "metadata": {},
   "outputs": [],
   "source": [
    "# print first lines\n",
    "df.head()"
   ]
  },
  {
   "cell_type": "code",
   "execution_count": null,
   "id": "c03886f6-2a1e-4efd-beaf-2f6561f2c8c4",
   "metadata": {},
   "outputs": [],
   "source": [
    "# dimensions of the dataset\n",
    "# 8049 rows (observations) and 12 columns (variables)\n",
    "df.shape"
   ]
  },
  {
   "cell_type": "code",
   "execution_count": null,
   "id": "08a15cdf-900f-44a7-82df-db407859918d",
   "metadata": {},
   "outputs": [],
   "source": [
    "# select a column\n",
    "df.Symbol.head()"
   ]
  },
  {
   "cell_type": "code",
   "execution_count": null,
   "id": "7172e8a7-8738-4409-9e02-5ee3b760a841",
   "metadata": {},
   "outputs": [],
   "source": [
    "# or \n",
    "df[\"Symbol\"].head()  # is mandatory when column name contains a space"
   ]
  },
  {
   "cell_type": "code",
   "execution_count": null,
   "id": "d397a505-c048-45e4-8f0a-4eb5fa48eba8",
   "metadata": {},
   "outputs": [],
   "source": [
    "# important datastructures in pandas\n",
    "print(type(asset))\n",
    "print(type(asset.Close))\n"
   ]
  },
  {
   "cell_type": "code",
   "execution_count": null,
   "id": "94017e43-70c5-4746-805c-4ec3aa0068fa",
   "metadata": {},
   "outputs": [],
   "source": [
    "# basic filtering\n",
    "# all rows where the ETF column\n",
    "# is equal to \"Y\"\n",
    "# adding df.head to just print the first two lines\n",
    "df[df.ETF == 'Y'].head(2)\n"
   ]
  },
  {
   "cell_type": "code",
   "execution_count": null,
   "id": "9b041164-e544-498b-b519-f1458afdadba",
   "metadata": {},
   "outputs": [],
   "source": [
    "df.ETF == \"Y\"  # full pd.Series if bool values"
   ]
  },
  {
   "cell_type": "code",
   "execution_count": null,
   "id": "fddb1eab-7bb7-4843-b7a4-032177761bab",
   "metadata": {},
   "outputs": [],
   "source": [
    "# we can filter for more conditions\n",
    "# let's select rows where 'Test Issue' is equal 'N'.\n",
    "# in Pandas you combine condition with '&' as you have two pd.Series that have to be evaluated\n",
    "# at the same time\n",
    "\n",
    "selector = (df.ETF == \"Y\") & (df[\"Test Issue\"] == \"N\")"
   ]
  },
  {
   "cell_type": "code",
   "execution_count": null,
   "id": "f8763a2d-14be-435a-a021-71b05dd66d9b",
   "metadata": {},
   "outputs": [],
   "source": [
    "# bool values with same length as the dataframe\n",
    "selector.head(5)"
   ]
  },
  {
   "cell_type": "code",
   "execution_count": null,
   "id": "0a021db7-6da9-4420-a089-4f5ef2731bfa",
   "metadata": {},
   "outputs": [],
   "source": [
    "selector.shape"
   ]
  },
  {
   "cell_type": "code",
   "execution_count": null,
   "id": "098a97b4-ddf3-432e-ba21-9aeab3ad3a77",
   "metadata": {},
   "outputs": [],
   "source": [
    "df[selector].head(2)"
   ]
  },
  {
   "cell_type": "markdown",
   "id": "19637fe3-a4fa-45ba-b571-5164fcb599cd",
   "metadata": {},
   "source": [
    "This means a DataFrame consists of columns that are in turn pandas Series',\n",
    "\n",
    "You can check\n",
    "`pd.Series?`\n",
    "or `pd.DataFrame?` to see what is all available for DataFrames and Series'.\n",
    "\n",
    "\n"
   ]
  },
  {
   "cell_type": "code",
   "execution_count": null,
   "id": "419166d2-b8e9-435d-8138-fe9c1269d379",
   "metadata": {},
   "outputs": [],
   "source": [
    "# pd.DataFrame?\n",
    "# pd.Series?"
   ]
  },
  {
   "cell_type": "markdown",
   "id": "882194d2-68ac-4525-a2da-05cad54094d1",
   "metadata": {},
   "source": [
    "### Cheat sheet\n",
    "- [Pandas cheat sheet](https://pandas.pydata.org/Pandas_Cheat_Sheet.pdf)"
   ]
  },
  {
   "cell_type": "markdown",
   "id": "1cf7081e-74b7-413b-9967-7fc93a166d7e",
   "metadata": {
    "tags": []
   },
   "source": [
    "# Start data exploration"
   ]
  },
  {
   "cell_type": "markdown",
   "id": "1bed9c39-bc77-4920-94e8-e8a48577b16c",
   "metadata": {},
   "source": [
    "## Lookup for specific assets for the example portfolio"
   ]
  },
  {
   "cell_type": "code",
   "execution_count": null,
   "id": "004f0eeb-e012-4a2a-b280-3c85448bda5d",
   "metadata": {},
   "outputs": [],
   "source": [
    "# print last 5 lines of the dataset\n",
    "df.tail(5)"
   ]
  },
  {
   "cell_type": "code",
   "execution_count": null,
   "id": "8a7d4efd-968b-47f6-b641-7d32783ee595",
   "metadata": {},
   "outputs": [],
   "source": [
    "# build example portfolio\n",
    "# random portfolio\n",
    "# df[df.ETF == 'N'] selects all lines that not ETFs\n",
    "# df.sample picks a sample of 5\n",
    "df[df.ETF == 'N'].sample(5)\n",
    "\n",
    "# well let's use some more commonly known companies..."
   ]
  },
  {
   "cell_type": "code",
   "execution_count": null,
   "id": "413ab019-bfbe-45ff-906b-ff5233e6a40b",
   "metadata": {},
   "outputs": [],
   "source": [
    "# build specific portfolio\n",
    "# simple lookups:\n",
    "# if the column name has a space sign, you need to use df[column_name] to select a column\n",
    "# df.apply acts as the `map` from plain python: you can execute a function on a column (default)\n",
    "# or on a row (\"axis\" argument)\n",
    "# You can always ask `df.apply?`\n",
    "# be cause I do not specific symbols or Company names\n",
    "# I need to look for a common nane in the Security Name string --> lambda expression\n",
    "\n",
    "# Get 5 Symbols for the test portfolio\n",
    "line_toyota = df[df[\"Security Name\"].apply(lambda name_str: \"Toyota\" in name_str)]\n",
    "\n",
    "# select the spefic column we are looking for\n",
    "symbol_toyota = line_toyota[\"Symbol\"].values[0]"
   ]
  },
  {
   "cell_type": "code",
   "execution_count": null,
   "id": "62a21196-db72-4fb0-a3f9-171c98d62bc4",
   "metadata": {},
   "outputs": [],
   "source": [
    "# lookup google\n",
    "# combine previous two lines\n",
    "line_ggle = df[df[\"Security Name\"].apply(lambda name_str: \"Alphabet\" in name_str)]\n"
   ]
  },
  {
   "cell_type": "code",
   "execution_count": null,
   "id": "702a4dab-e94a-4881-807d-8bbf5f5a721b",
   "metadata": {},
   "outputs": [],
   "source": [
    "# didn't work like the other select, because there are more options:\n",
    "# we chose Class A stock to get a vote\n",
    "line_ggle"
   ]
  },
  {
   "cell_type": "code",
   "execution_count": null,
   "id": "df394745-9bec-4df6-83af-28e0b33d6f73",
   "metadata": {},
   "outputs": [],
   "source": [
    "symbol_ggl = line_ggle[\"Symbol\"].values[1]"
   ]
  },
  {
   "cell_type": "code",
   "execution_count": null,
   "id": "e8c207dd-9fc1-4086-87e6-f8d4b075d431",
   "metadata": {},
   "outputs": [],
   "source": [
    "symbol_tsm = df[df[\"Security Name\"].apply(lambda name_str: \"Taiwan Semi\" in name_str)][\"Symbol\"].values[0]"
   ]
  },
  {
   "cell_type": "code",
   "execution_count": null,
   "id": "ffab9a95-1608-42ee-8470-71201d4f7402",
   "metadata": {},
   "outputs": [],
   "source": [
    "symbol_lg = df[df[\"Security Name\"].apply(lambda name_str: \"LG Display\" in name_str)][\"Symbol\"].values[0]"
   ]
  },
  {
   "cell_type": "code",
   "execution_count": null,
   "id": "52245fea-1389-45f3-a687-311b0eb3ec4b",
   "metadata": {},
   "outputs": [],
   "source": [
    "symbol_pp = df[df[\"Security Name\"].apply(lambda name_str: \"Plug Power\" in name_str)][\"Symbol\"].values[0]"
   ]
  },
  {
   "cell_type": "code",
   "execution_count": null,
   "id": "f1aada18-a102-40c3-a9c8-98006d5d0f78",
   "metadata": {},
   "outputs": [],
   "source": [
    "symbol_ed = df[df[\"Security Name\"].apply(lambda name_str: \"Consolidated Edison\" in name_str)][\"Symbol\"].values[0]"
   ]
  },
  {
   "cell_type": "code",
   "execution_count": null,
   "id": "e8a8fc2b-1d7c-4dc4-92e2-4a6e3f2c23ce",
   "metadata": {},
   "outputs": [],
   "source": [
    "# bit more complicated looksups\n",
    "# looking for ETF options\n",
    "# looking for every asset with \"MSCI\" and \"iShares\" in the \"Security Name\" columnm and is an ETF\n",
    "etf = df[(df[\"Security Name\"].apply(lambda x: \"Clean Energy\" in x and \"iShares\" in x)) & (df[\"ETF\"] == \"Y\")]\n"
   ]
  },
  {
   "cell_type": "code",
   "execution_count": null,
   "id": "4b410998-bed7-4735-9984-6edeaafa2f19",
   "metadata": {},
   "outputs": [],
   "source": [
    "etf"
   ]
  },
  {
   "cell_type": "code",
   "execution_count": null,
   "id": "5503cdc0-5bfa-4e86-a844-c198ccac89d8",
   "metadata": {},
   "outputs": [],
   "source": [
    "symbol_etf = etf[\"Symbol\"].values[0]"
   ]
  },
  {
   "cell_type": "code",
   "execution_count": null,
   "id": "b7344de3-011b-4584-afc6-fb5acc838c8a",
   "metadata": {},
   "outputs": [],
   "source": [
    "symbol_etf"
   ]
  },
  {
   "cell_type": "code",
   "execution_count": null,
   "id": "c6fa442f-4689-4807-a4fb-1ac22af68148",
   "metadata": {},
   "outputs": [],
   "source": [
    "# possible file format for configuration?\n",
    "import json"
   ]
  },
  {
   "cell_type": "code",
   "execution_count": null,
   "id": "807c17a9-8143-490c-9f52-08751b29fb28",
   "metadata": {},
   "outputs": [],
   "source": [
    "portfolio = {\n",
    "    \"symbols\": [symbol_ggl, symbol_toyota, symbol_tsm, symbol_lg, symbol_pp, symbol_ed, symbol_etf]\n",
    "}"
   ]
  },
  {
   "cell_type": "code",
   "execution_count": null,
   "id": "5a8c309b-5590-4ec9-96d1-3616614ca8ac",
   "metadata": {},
   "outputs": [],
   "source": [
    "json.dumps(portfolio)"
   ]
  },
  {
   "cell_type": "code",
   "execution_count": null,
   "id": "ab69e0cd-cb00-4271-b378-1361be6afbac",
   "metadata": {},
   "outputs": [],
   "source": [
    "# create file:\n",
    "# open a file from disk\n",
    "with open(\"portfolio.json\", \"w\") as f:\n",
    "    f.write(json.dumps(portfolio))\n",
    "\n",
    "# at this point the file is closed again to prevent any corruption of data"
   ]
  },
  {
   "cell_type": "code",
   "execution_count": null,
   "id": "2e550480-a3f1-4e83-83de-89f462d40e6a",
   "metadata": {},
   "outputs": [],
   "source": [
    "pd.read_csv(\"data/etfs/ICLN.csv\").head()"
   ]
  },
  {
   "cell_type": "markdown",
   "id": "21e44d74-af16-4ef0-9b86-aca157ed454b",
   "metadata": {},
   "source": [
    "## See what data is available"
   ]
  },
  {
   "cell_type": "code",
   "execution_count": null,
   "id": "1dcdb2df-b4b9-421b-85bd-8d9209282b1d",
   "metadata": {},
   "outputs": [],
   "source": [
    "asset = pd.read_csv(\"data/stocks/TSM.csv\")"
   ]
  },
  {
   "cell_type": "code",
   "execution_count": null,
   "id": "c583cc5a-e67d-41d3-bafa-689a7746301d",
   "metadata": {},
   "outputs": [],
   "source": [
    "# see what data is available for TSM\n",
    "asset.head()"
   ]
  },
  {
   "cell_type": "markdown",
   "id": "eb781edc-474f-48f9-9cfa-e559d14daba9",
   "metadata": {},
   "source": [
    "### Data structure per asset:\n",
    "The date for every symbol is saved in CSV format with common fields:\n",
    "\n",
    "  - **Date**: specifies trading date\n",
    "  - **Open**: opening price\n",
    "  - **High**: maximum price during the day\n",
    "  - **Low**: minimum price during the day\n",
    "  - **Close**: close price adjusted for splits\n",
    "  - **Adj** Close: adjusted close price adjusted for both dividends and splits.\n",
    "  - **Volume**: the number of shares that changed hands during a given day\n"
   ]
  }
 ],
 "metadata": {
  "kernelspec": {
   "display_name": "Stock Project",
   "language": "python",
   "name": "stock_project"
  },
  "language_info": {
   "codemirror_mode": {
    "name": "ipython",
    "version": 3
   },
   "file_extension": ".py",
   "mimetype": "text/x-python",
   "name": "python",
   "nbconvert_exporter": "python",
   "pygments_lexer": "ipython3",
   "version": "3.10.4"
  }
 },
 "nbformat": 4,
 "nbformat_minor": 5
}
