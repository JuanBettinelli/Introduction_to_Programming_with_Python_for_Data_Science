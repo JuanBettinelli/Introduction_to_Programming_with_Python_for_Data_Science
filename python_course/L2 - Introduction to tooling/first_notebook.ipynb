{
 "cells": [
  {
   "cell_type": "markdown",
   "metadata": {},
   "source": [
    "# Git"
   ]
  },
  {
   "cell_type": "markdown",
   "metadata": {},
   "source": [
    "## 1. Get an account:\n",
    "[Codeberg](https://codeberg.org/)\n",
    "\n",
    "### Why `codeberg?`\n",
    "from: [What is Codeberg?](https://docs.codeberg.org/getting-started/what-is-codeberg/)\n",
    "\n",
    "> # What is Codeberg?\n",
    ">\n",
    "> Codeberg is a democratic community-driven, non-profit software development platform operated by Codeberg e.V. and centered around Codeberg.org, a Gitea-based software forge.\n",
    ">\n",
    "> [...]\n",
    ">\n",
    "> # What is Codeberg e.V.?\n",
    ">\n",
    "> Codeberg e.V. is a registered non-profit association based in Berlin, Germany.\n"
   ]
  },
  {
   "cell_type": "markdown",
   "metadata": {},
   "source": [
    "## 2. Share your account information with me :)\n",
    "\n",
    "## 3. Get to know the UI\n",
    "* Note down all questions that might come up, we will discuss them together (help yourselves as good as possible)\n",
    "* Create a repository (name doesn't matter), read the options and allow for as much usage as possible\n",
    "* Create a new branch named `development`, make it the default branch (look for the corresponding setting)\n",
    "* add a new file with some random content to the `development` branch\n",
    "* open a pull requeste from the `development` branch to the `main` branch. \n",
    "* Merge the pull request (PR)\n",
    "* Clone the repository to your local computer and open the file.\n",
    "* Perform some changes and bring theses changes back into the remote repository\n",
    "* cross-check in the remote repository\n",
    "* check the other possibilities in your remote repository\n",
    "* Find a way to delete the remote repository **not your user account**\n"
   ]
  },
  {
   "cell_type": "markdown",
   "metadata": {},
   "source": [
    "## 4. Get the course repository\n",
    "\n",
    "- clone the [repository](https://codeberg.org/tube_python_2022/python_course.git)\n",
    "- You will not be able to directly make changes in the remote repository\n",
    "- There are two ways to be able to change the content of the `main` branch:\n",
    "  - Fork the full repository: choose fork in the UI and clone the forked repository (will have a different URL)\n",
    "  - Create a new branch in the remote repository and check it out on your local repository\n",
    "- open the `first_notebook.ipynb` from your fork or your branch and run it."
   ]
  },
  {
   "cell_type": "markdown",
   "metadata": {},
   "source": [
    "---\n",
    "---"
   ]
  },
  {
   "cell_type": "markdown",
   "metadata": {},
   "source": [
    "# Our first notebook"
   ]
  },
  {
   "cell_type": "markdown",
   "metadata": {},
   "source": [
    "Directly write text and execute code, in just one programm!\n",
    "\n",
    "Type in `print(\"Hello World\")` and press Shift + Enter"
   ]
  },
  {
   "cell_type": "code",
   "execution_count": null,
   "metadata": {},
   "outputs": [],
   "source": [
    "print(\"Hello world!\")"
   ]
  },
  {
   "cell_type": "markdown",
   "metadata": {},
   "source": [
    "There are different ways to execute a cell:\n",
    "* `Ctrl + Enter`: execute cell\n",
    "* `Shift + Enter`: execute cell and go to next cell\n",
    "* `Alt + Enter`: execute cell and add and select new cell below"
   ]
  },
  {
   "cell_type": "markdown",
   "metadata": {},
   "source": [
    "I almost exclusively use execution with at least selecting a new cell or directly add one."
   ]
  },
  {
   "cell_type": "markdown",
   "metadata": {},
   "source": [
    "Generally, there are tow modes in that the notebook can operate:\n",
    "* _edit mode_ (you can edit the content of cells), you can enter it by pressing `Enter`\n",
    "* _command mode_, sort of default state. You can enter it by pressing `ESC`\n",
    "\n",
    "There are different Shortcuts that work in the two modes.\n",
    "The commands to execute the cells remain the same. The most useful (subjective) in the command mode are:\n",
    "* `a` adds a cell __a__bove the current cell\n",
    "* `b` adds a cell __b__elow the current cell\n",
    "* `d-d` deletes current cell\n",
    "* `z` undo, especially deleting cells ;)\n",
    "* `m` change cell to Markdown-Cell --> Writing text in using markdown syntax.\n",
    "* `y` change cell to code cell\n",
    "* arrow keys for navigation\n",
    "* `c`, `x`, `(shift +) v` copy, cut, paste below (above) cells \n",
    "\n",
    "There is a lot more helpful stuff, which you could simply search for, on your favorite search engine.\n",
    "\n",
    "__Pro tip__: avoid clicking with your mouse at all costs. Obviously, you can, but using shortcuts saves a lot of time."
   ]
  },
  {
   "cell_type": "markdown",
   "metadata": {},
   "source": [
    "# Small exercises to get used to the notebooks\n",
    "\n",
    "You could use the notebooks as simple calculators. Type a couple of calculations mixed with some text.\n",
    "1. select the cell that reads `select to start practicing`, run and add a new cell\n",
    "2. type in a simple calculation, e.g. 1+1 and run the cell\n",
    "3. add another Cell below and run another calculation, e.g. 0.2 + 10 ** 2\n",
    "4. add a cell above and add Markdown text to it. E.g. `Let's run some more complicated calculations`.\n",
    "5. add another cell right after the last calculation adding some headlines in Markdown:\n",
    "\n",
    "```Markdown\n",
    "# Chapter\n",
    "## subchapter\n",
    "## subchapter\n",
    "# Chapter\n",
    "## subchapter\n",
    "### subsubchapter\n",
    "#### subsubsubchapter\n",
    "```\n",
    "6. add ten spacer cells\n",
    "7. remove all but one cell\n"
   ]
  },
  {
   "cell_type": "markdown",
   "metadata": {},
   "source": [
    "## Practise time"
   ]
  },
  {
   "cell_type": "markdown",
   "metadata": {},
   "source": [
    "select to start practicing"
   ]
  },
  {
   "cell_type": "markdown",
   "metadata": {},
   "source": []
  },
  {
   "cell_type": "markdown",
   "metadata": {},
   "source": []
  },
  {
   "cell_type": "markdown",
   "metadata": {},
   "source": []
  },
  {
   "cell_type": "code",
   "execution_count": null,
   "metadata": {},
   "outputs": [],
   "source": []
  },
  {
   "cell_type": "code",
   "execution_count": null,
   "metadata": {},
   "outputs": [],
   "source": []
  }
 ],
 "metadata": {
  "kernelspec": {
   "display_name": "Python 3 (ipykernel)",
   "language": "python",
   "name": "python3"
  },
  "language_info": {
   "codemirror_mode": {
    "name": "ipython",
    "version": 3
   },
   "file_extension": ".py",
   "mimetype": "text/x-python",
   "name": "python",
   "nbconvert_exporter": "python",
   "pygments_lexer": "ipython3",
   "version": "3.10.4"
  },
  "vscode": {
   "interpreter": {
    "hash": "095def003e60f68bea7738cf4a9eb5fae8da72ed580a6cc90eea3ff306bd7177"
   }
  }
 },
 "nbformat": 4,
 "nbformat_minor": 4
}
