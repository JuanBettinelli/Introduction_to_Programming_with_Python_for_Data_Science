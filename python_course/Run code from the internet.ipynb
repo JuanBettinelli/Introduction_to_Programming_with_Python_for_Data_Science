{
 "cells": [
  {
   "cell_type": "markdown",
   "id": "b7c946b9-6e83-4f6c-938d-a844c3250683",
   "metadata": {},
   "source": [
    "# how do I get downloaded code?"
   ]
  },
  {
   "cell_type": "markdown",
   "id": "0d2f270c-c0c8-4d11-a199-6a0dd701d3d8",
   "metadata": {},
   "source": [
    "Quick test of the code mentioned in [Stock prediction in python](https://towardsdatascience.com/stock-prediction-in-python-b66555171a2).\n",
    "\n",
    "* code only available for 'download' from the github repositort\n",
    "* `stocker` pypi package, the one installable by `pip install stocker` is something else\n",
    "* download the folder or just `the stocker.py` file to a location of you choice\n",
    "* mine is a folder for generic code that I would like to test\n",
    "* \"C:/Users/maxsc/Nextcloud/Projects/TUBE Summer university/Introduction to python/class_room_course/test_packages\"\n",
    "* append this path to the `sys.path` variable from the `sys` python module"
   ]
  },
  {
   "cell_type": "code",
   "execution_count": null,
   "id": "2538600f-2ccd-4170-9c6c-f9784c7e82ae",
   "metadata": {},
   "outputs": [],
   "source": [
    "import sys"
   ]
  },
  {
   "cell_type": "code",
   "execution_count": null,
   "id": "5ae423c8-7589-4b35-b589-8e83ab05770d",
   "metadata": {},
   "outputs": [],
   "source": [
    "# append location of the downloaded file\n",
    "sys.path.append(\"C:/Users/maxsc/Nextcloud/Projects/\"\n",
    "                + \"TUBE Summer university/Introduction to python/\"\n",
    "                + \"class_room_course/test_packages\")"
   ]
  },
  {
   "cell_type": "code",
   "execution_count": null,
   "id": "c64efd1a-0e1a-463d-bde2-17b02accaf89",
   "metadata": {},
   "outputs": [],
   "source": [
    "# beginning from the .../test_packages path that we just added, the folder structure is\n",
    "# --test_packages\n",
    "# -- -- stocker | <-- imported with `import stocker`\n",
    "# -- -- -- stocker.py | <-- imported with `from stocker import stocker`\n",
    "from stocker import stocker"
   ]
  },
  {
   "cell_type": "markdown",
   "id": "cc1920ed-ac3f-4b8c-bb98-9bae252ec89a",
   "metadata": {},
   "source": [
    "If you got some more erros (I did get some)\n",
    "**Error**: fbprophet not found...\n",
    "--> `conda install fbprophet`\n",
    "\n",
    "**Error**: pytrends\n",
    "--> `conda install pytrends`"
   ]
  },
  {
   "cell_type": "code",
   "execution_count": null,
   "id": "ee35c110-3004-4c21-84cc-46fd6e79fd0c",
   "metadata": {},
   "outputs": [],
   "source": [
    "g = Stocker(\"GOOGL\")"
   ]
  },
  {
   "cell_type": "code",
   "execution_count": null,
   "id": "ecaaa3e0-1bc7-4df7-9c99-b2cf12a2423f",
   "metadata": {},
   "outputs": [],
   "source": [
    "g.plot_stock()"
   ]
  },
  {
   "cell_type": "code",
   "execution_count": null,
   "id": "c7e98c1a-aa29-4465-b692-be23e07e8fd5",
   "metadata": {},
   "outputs": [],
   "source": [
    "g.plot_stock?"
   ]
  },
  {
   "cell_type": "code",
   "execution_count": null,
   "id": "9c2f83dd-1c90-4fe9-996f-ee6db55f1091",
   "metadata": {},
   "outputs": [],
   "source": [
    "g.plot_stock(stats=[\"Close\", \"Adj. Close\"],\n",
    "             plot_type=\"pct\")"
   ]
  },
  {
   "cell_type": "code",
   "execution_count": null,
   "id": "89c465ef-187f-471c-8cfe-27a75646e99a",
   "metadata": {},
   "outputs": [],
   "source": [
    "model, model_data = g.create_prophet_model(days=90)"
   ]
  },
  {
   "cell_type": "code",
   "execution_count": null,
   "id": "14d2cd4c-edac-4d7a-87ac-aec1c5bdc6e5",
   "metadata": {},
   "outputs": [],
   "source": []
  }
 ],
 "metadata": {
  "kernelspec": {
   "display_name": "stocker",
   "language": "python",
   "name": "stocker"
  },
  "language_info": {
   "codemirror_mode": {
    "name": "ipython",
    "version": 3
   },
   "file_extension": ".py",
   "mimetype": "text/x-python",
   "name": "python",
   "nbconvert_exporter": "python",
   "pygments_lexer": "ipython3",
   "version": "3.8.13"
  }
 },
 "nbformat": 4,
 "nbformat_minor": 5
}
