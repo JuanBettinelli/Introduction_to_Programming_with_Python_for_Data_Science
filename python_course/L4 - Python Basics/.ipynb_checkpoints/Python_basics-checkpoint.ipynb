{
 "cells": [
  {
   "cell_type": "code",
   "execution_count": null,
   "metadata": {
    "tags": []
   },
   "outputs": [],
   "source": [
    "from jupyterquiz import display_quiz"
   ]
  },
  {
   "cell_type": "markdown",
   "metadata": {},
   "source": [
    "# Contents\n",
    "- [Create a Jupyter kernel](#Before-we-start:-Jupyter-kernels)\n",
    "- [How can I get help?](#How-can-I-get-help?)\n",
    "  - [The python `help()` function](#The-python-help()-function)\n",
    "  - [Jupter notebooks shortcuts](#Jupter-notebooks-shortcuts)\n",
    "- [Python calculations and variables](#Python-calculations-and-variables)\n",
    "- [Data structures I](#Data-structures-I)\n",
    "  - [Lists](#Lists)\n",
    "    - [Indexing and slicing](Indexing-and-slicing)\n",
    "    - [Changing list content](Changing-list-content)\n",
    "    - [Other sequence methods](Other-sequence-methods)\n",
    "  - [Strings I](#Strings-I)\n",
    "  - [Mappings: dict](#Mappings:-dict)\n",
    "  - [Boolean](#Boolean)\n",
    "    - [Logical operators](#Logical-operators)\n",
    "    - [Comparisons](#Comparisons)\n",
    "- [Flow control](#Flow-control)\n",
    "  - [The `if` statement](#The-if-statement)\n",
    "  - [The `for` statement](#The-for-statement)\n",
    "  - [The `while` statement](#The-while-statement)\n",
    "  - [The `break`, `continue`, and `pass` statements](#The-break,-continue,-and-pass-statements)\n",
    "  - [The `else` clauses on loops](#The-else-clauses-on-loops)\n",
    "\n",
    "- [Functions](#Functions)\n",
    "  - [Function arguments](#Function-arguments)\n",
    "    - [Default arguments](#Default-arguments)\n",
    "    - [Positional vs keyword arguments](#Positional-vs-keyword-arguments)\n",
    "  - [Lambda expressions](#Lambda-expressions)\n",
    "- [Data structures II](#Data-structures-II)\n",
    "  - [Mutable and immutable objects](#Mutable-and-immutable-objects)\n",
    "  - [Sequences](#Sequences:-list,-tuple,-range)\n",
    "  - [Sets](#Sets)\n",
    "  - [Comprehensions](#Comprehensions)\n",
    "  - [Strings II](#Strings-II)\n",
    "    - [Helpful methods](#Helpful-methods)\n",
    "    - [Formatting](#Formatting)\n",
    "- [Modules](#Modules)\n",
    "- [Classes](#Classes)\n",
    "- [Exceptions](#Exceptions)\n",
    "- [Testing](#Testing)\n",
    "- [Further reads](#Further-reads)"
   ]
  },
  {
   "cell_type": "markdown",
   "metadata": {},
   "source": [
    "# Before we start: Jupyter kernels"
   ]
  },
  {
   "cell_type": "markdown",
   "metadata": {},
   "source": [
    "- We want to use all the specific installations from our virtual environment\n",
    "- We need to 'pack' those into a _Jupter kernel_\n",
    "- activate your environment in a terminal:\n",
    "```\n",
    "ipython kernel install --name basics_py310 --display-name \"Basics [py3.10]\" --user\n",
    "```\n",
    "- choose the _Basics [py3.10]_ kernel from the kernel list"
   ]
  },
  {
   "cell_type": "markdown",
   "metadata": {
    "tags": []
   },
   "source": [
    "# How can I get help?\n",
    "[Back to Contents](#Contents)"
   ]
  },
  {
   "cell_type": "markdown",
   "metadata": {},
   "source": [
    "## The python help() function"
   ]
  },
  {
   "cell_type": "markdown",
   "metadata": {},
   "source": [
    "Just to mention it: you do not need to use jupyter notebooks in order to use python.\n",
    "\n",
    "Just open up a terminal and type `python`. You will end in a python interactive session. You can exit the session by entering `exit()` command or pressing `Ctrl+d` (`command + d` on MacOS?).\n",
    "\n",
    "**Comment**: The only use case, I use the basic python session is to quickly test command syntax when I do not have a jupyter session running.\n",
    "\n",
    "However, as a new user, `python` doesn't let you totally alone\n",
    "```bash\n",
    ">> python\n",
    "Python 3.10.4 (main, Mar 31 2022, 08:41:55) [GCC 7.5.0] on linux\n",
    "Type \"help\", \"copyright\", \"credits\" or \"license\" for more information.\n",
    "\n",
    "```"
   ]
  },
  {
   "cell_type": "code",
   "execution_count": null,
   "metadata": {},
   "outputs": [],
   "source": [
    "help"
   ]
  },
  {
   "cell_type": "markdown",
   "metadata": {},
   "source": [
    "We can explore it a bit. Also to get used to some lingo"
   ]
  },
  {
   "cell_type": "code",
   "execution_count": null,
   "metadata": {},
   "outputs": [],
   "source": [
    "# beware this will, out of the box, not work in VS Code\n",
    "# You can use dedicated jupter or jupyter-lab sessions.\n",
    "help()"
   ]
  },
  {
   "cell_type": "markdown",
   "metadata": {},
   "source": [
    "**Summary: the interactive help is really useful, if you already know what to look for**\n",
    "\n",
    "**Comment**: I have never used it before ;)\n",
    "\n",
    "Except for:"
   ]
  },
  {
   "cell_type": "code",
   "execution_count": null,
   "metadata": {},
   "outputs": [],
   "source": [
    "help(print)"
   ]
  },
  {
   "cell_type": "markdown",
   "metadata": {},
   "source": [
    "## Jupter notebooks shortcuts"
   ]
  },
  {
   "cell_type": "markdown",
   "metadata": {},
   "source": [
    "In jupyter notebooks, there is an even faster way to get the documentation:"
   ]
  },
  {
   "cell_type": "code",
   "execution_count": null,
   "metadata": {},
   "outputs": [],
   "source": [
    "print?"
   ]
  },
  {
   "cell_type": "markdown",
   "metadata": {
    "tags": []
   },
   "source": [
    "# Python calculations and variables\n",
    "[Back to Contents](#Contents)\n",
    "\n",
    "Often called a 'scripting' language, `python` does not need compiled programms to be useful. This makes it very easy to start with.\n",
    "\n",
    "We did already calculation in our tooling setup tests:"
   ]
  },
  {
   "cell_type": "code",
   "execution_count": null,
   "metadata": {},
   "outputs": [],
   "source": [
    "1 + 1"
   ]
  },
  {
   "cell_type": "code",
   "execution_count": null,
   "metadata": {},
   "outputs": [],
   "source": [
    "# 4 squared\n",
    "4 ** 2"
   ]
  },
  {
   "cell_type": "code",
   "execution_count": null,
   "metadata": {},
   "outputs": [],
   "source": [
    "2 ** 4"
   ]
  },
  {
   "cell_type": "code",
   "execution_count": null,
   "metadata": {},
   "outputs": [],
   "source": [
    "# square-root of 16\n",
    "16 ** 0.5"
   ]
  },
  {
   "cell_type": "code",
   "execution_count": null,
   "metadata": {},
   "outputs": [],
   "source": [
    "# general math rules apply\n",
    "1 + 2 ** 2 * 3"
   ]
  },
  {
   "cell_type": "code",
   "execution_count": null,
   "metadata": {},
   "outputs": [],
   "source": [
    "(1 + 2) ** 2 * 3"
   ]
  },
  {
   "cell_type": "markdown",
   "metadata": {},
   "source": [
    "All the typical operations can be used: `+`, `-`, `*`, or `/`.\n",
    "\n",
    "- Integer numbers are of type `int` \n",
    "- Fractions have a `float` type\n",
    "- Complex number have type `complex` with imaginary symbol being `j`"
   ]
  },
  {
   "cell_type": "code",
   "execution_count": null,
   "metadata": {},
   "outputs": [],
   "source": [
    "int_a = 2\n",
    "float_b = 4.\n",
    "complex_c = 3j"
   ]
  },
  {
   "cell_type": "code",
   "execution_count": null,
   "metadata": {},
   "outputs": [],
   "source": [
    "print(type(int_a))\n",
    "print(type(float_b))\n",
    "print(type(complex_c))"
   ]
  },
  {
   "cell_type": "markdown",
   "metadata": {},
   "source": [
    "You can convert to other types by using `int`, `float`, or `complex` methods:"
   ]
  },
  {
   "cell_type": "code",
   "execution_count": null,
   "metadata": {},
   "outputs": [],
   "source": [
    "print(type(int(float_b)))\n",
    "print(type(float(int_a)))\n",
    "print(type(complex(float_b)))\n",
    "print(type(complex(int_a)))\n"
   ]
  },
  {
   "cell_type": "markdown",
   "metadata": {},
   "source": [
    "However, converting complex into other number types, will fail:"
   ]
  },
  {
   "cell_type": "code",
   "execution_count": null,
   "metadata": {},
   "outputs": [],
   "source": [
    "int(complex_c)"
   ]
  },
  {
   "cell_type": "code",
   "execution_count": null,
   "metadata": {},
   "outputs": [],
   "source": [
    "float(complex_c)"
   ]
  },
  {
   "cell_type": "markdown",
   "metadata": {},
   "source": [
    "I don't think, I ever used complex numbers type explicitly, yet. So, let's focus on `int` and `floats` for now:\n",
    "\n",
    "- Divisions (`/`) always print's a `float`\n",
    "  - This can be different in 3rd party implementations, where the resulting type may depend on the operator's input types \n",
    "- To do floor division and get an integer result (discarding any fractional result) you can use the `//` operator\n",
    "- The rest or remainder you can use `%` (modulo operation)\n",
    "- There is full support the `floats`: you can use different types for the calculations, e.g. mix `float` and `int` types.\n",
    "- `Float` allows to define _infinity_ values (`\"inf\"`) and _not a number_ values (`\"nan\"`)"
   ]
  },
  {
   "cell_type": "markdown",
   "metadata": {},
   "source": [
    "<div class=\"alert alert-block alert-warning\">\n",
    "<b>Example:</b> \n",
    "Let us investigate some example calculations.\n",
    "</div>"
   ]
  },
  {
   "cell_type": "code",
   "execution_count": null,
   "metadata": {
    "tags": []
   },
   "outputs": [],
   "source": [
    "17 / 3"
   ]
  },
  {
   "cell_type": "code",
   "execution_count": null,
   "metadata": {},
   "outputs": [],
   "source": [
    "17 // 3"
   ]
  },
  {
   "cell_type": "code",
   "execution_count": null,
   "metadata": {},
   "outputs": [],
   "source": [
    "17 % 3"
   ]
  },
  {
   "cell_type": "code",
   "execution_count": null,
   "metadata": {},
   "outputs": [],
   "source": [
    "(17 // 3) * 3 + 17 % 3"
   ]
  },
  {
   "cell_type": "code",
   "execution_count": null,
   "metadata": {},
   "outputs": [],
   "source": [
    "3 * 9"
   ]
  },
  {
   "cell_type": "code",
   "execution_count": null,
   "metadata": {},
   "outputs": [],
   "source": [
    "3. * 9"
   ]
  },
  {
   "cell_type": "code",
   "execution_count": null,
   "metadata": {},
   "outputs": [],
   "source": [
    "float(\"nan\")"
   ]
  },
  {
   "cell_type": "code",
   "execution_count": null,
   "metadata": {},
   "outputs": [],
   "source": [
    "float(\"inf\")"
   ]
  },
  {
   "cell_type": "code",
   "execution_count": null,
   "metadata": {},
   "outputs": [],
   "source": [
    "# You can use `_` to improve readability\n",
    "100_000"
   ]
  },
  {
   "cell_type": "code",
   "execution_count": null,
   "metadata": {},
   "outputs": [],
   "source": [
    "# or to troll, but don't do it. In reality this only burns money\n",
    "1_0_0_00_0"
   ]
  },
  {
   "cell_type": "markdown",
   "metadata": {},
   "source": [
    "---\n",
    "\n",
    "---"
   ]
  },
  {
   "cell_type": "code",
   "execution_count": null,
   "metadata": {
    "tags": []
   },
   "outputs": [],
   "source": [
    "display_quiz(\"quizzes/calculations_questions.json\")"
   ]
  },
  {
   "cell_type": "markdown",
   "metadata": {},
   "source": [
    "We can quickly test it:"
   ]
  },
  {
   "cell_type": "code",
   "execution_count": null,
   "metadata": {
    "tags": []
   },
   "outputs": [],
   "source": [
    "# check power function priority\n",
    "print(-3**2)\n",
    "print((-3)**2)\n",
    "# You can use the built-in function `type` to check an object's type\n",
    "print(\"Floor division using purely interger: \", 21 // 5, ',', type(21 // 5))\n",
    "print(\"Floor division btw. float and int: \", 21. // 5, ',', type(21. // 5))"
   ]
  },
  {
   "cell_type": "markdown",
   "metadata": {
    "tags": []
   },
   "source": [
    "---\n",
    "\n",
    "---"
   ]
  },
  {
   "cell_type": "markdown",
   "metadata": {},
   "source": [
    "Calculations itself are not exceptionally useful when you cannot store the results somehow.\n",
    "\n",
    "This can be achieved by __variables__. A variable tells the programm where a value is stored or, in other words, points to the memory location of the value.\n",
    "\n",
    "During iterative calculations the last printout is assigned to the `_` variable:"
   ]
  },
  {
   "cell_type": "code",
   "execution_count": null,
   "metadata": {},
   "outputs": [],
   "source": [
    "3 ** 6 % 16"
   ]
  },
  {
   "cell_type": "code",
   "execution_count": null,
   "metadata": {},
   "outputs": [],
   "source": [
    "# last printout\n",
    "_"
   ]
  },
  {
   "cell_type": "code",
   "execution_count": null,
   "metadata": {},
   "outputs": [],
   "source": [
    "# obviously still the same\n",
    "_"
   ]
  },
  {
   "cell_type": "code",
   "execution_count": null,
   "metadata": {},
   "outputs": [],
   "source": [
    "# You could also use the output\n",
    "_ + 2"
   ]
  },
  {
   "cell_type": "markdown",
   "metadata": {},
   "source": [
    "The value of the `_` variable, therefore, gets constantly overwritten. \n",
    "\n",
    "A more sustainable way is to use the `=` sign. However, not as an equal sign, but as an assignment operator. \n",
    "You can asign the result of a calculation or more generally anything to a _variable_."
   ]
  },
  {
   "cell_type": "code",
   "execution_count": null,
   "metadata": {},
   "outputs": [],
   "source": [
    "# assignments will not directly result in a printout\n",
    "a = 2\n",
    "b = 3.0\n",
    "result = (a ** 2 + b ** 2) ** 0.5\n",
    "# you need to add a print to see it in the same cell\n",
    "print(result)"
   ]
  },
  {
   "cell_type": "code",
   "execution_count": null,
   "metadata": {},
   "outputs": [],
   "source": [
    "# or use the next cell\n",
    "result"
   ]
  },
  {
   "cell_type": "markdown",
   "metadata": {},
   "source": [
    "Variables begin to exist with the assginment of a value. If you try to use a variable that don't exist, you will get an error."
   ]
  },
  {
   "cell_type": "code",
   "execution_count": null,
   "metadata": {},
   "outputs": [],
   "source": [
    "another_result_"
   ]
  },
  {
   "cell_type": "markdown",
   "metadata": {},
   "source": [
    "`is not defined` means that the Programm does not now what this statement should be. It is not defined how the program should use this 'statement', hence, it needs to fail.\n",
    "\n",
    "Python variables :\n",
    "- have to start with a letter (a-z, A-Z) or an underscore ('\\_')\n",
    "- cannot start with a number\n",
    "- only alpha-numerical charaters and underscrores are allowed (A-z, 0-9, and \\_)\n",
    "- variable names are case-sensitive (X and x are two different variables)"
   ]
  },
  {
   "cell_type": "markdown",
   "metadata": {},
   "source": [
    "<div class=\"alert alert-block alert-warning\">\n",
    "    <b> Examples: </b>Are those assignments legit?\n",
    "</div>"
   ]
  },
  {
   "cell_type": "code",
   "execution_count": null,
   "metadata": {},
   "outputs": [],
   "source": [
    "# Yes or no?\n",
    "_x1 = 1"
   ]
  },
  {
   "cell_type": "code",
   "execution_count": null,
   "metadata": {},
   "outputs": [],
   "source": [
    "# Yes or no?\n",
    "x_09X = 9"
   ]
  },
  {
   "cell_type": "code",
   "execution_count": null,
   "metadata": {
    "tags": []
   },
   "outputs": [],
   "source": [
    "# Yes or no?\n",
    "2_good = 2"
   ]
  },
  {
   "cell_type": "code",
   "execution_count": null,
   "metadata": {},
   "outputs": [],
   "source": [
    "# Yes or no?\n",
    "newResult_ = 5 % 4"
   ]
  },
  {
   "cell_type": "code",
   "execution_count": null,
   "metadata": {
    "tags": []
   },
   "outputs": [],
   "source": [
    "# Yes or no?\n",
    "too-good = 42"
   ]
  },
  {
   "cell_type": "code",
   "execution_count": null,
   "metadata": {
    "tags": []
   },
   "outputs": [],
   "source": [
    "my.new.var = 3"
   ]
  },
  {
   "cell_type": "markdown",
   "metadata": {},
   "source": [
    "\n"
   ]
  },
  {
   "cell_type": "markdown",
   "metadata": {
    "tags": []
   },
   "source": [
    "# Data structures I\n",
    "[Back to Contents](#Contents)\n",
    "\n",
    "Besides numerical types, there are other _data structures_ or _data types_ we can incorporate. The most common ones are _lists_ or arrays, _strings_, _dictionaries_, and _booleans_. \n"
   ]
  },
  {
   "cell_type": "markdown",
   "metadata": {
    "tags": []
   },
   "source": [
    "## Lists\n",
    "\n",
    "Lists are used to store collections items."
   ]
  },
  {
   "cell_type": "code",
   "execution_count": null,
   "metadata": {},
   "outputs": [],
   "source": [
    "# create an empty list:\n",
    "list()"
   ]
  },
  {
   "cell_type": "code",
   "execution_count": null,
   "metadata": {},
   "outputs": [],
   "source": [
    "# or just \n",
    "[]"
   ]
  },
  {
   "cell_type": "code",
   "execution_count": null,
   "metadata": {
    "tags": []
   },
   "outputs": [],
   "source": [
    "# Be aware of variable naming!!\n",
    "list = []  # my empty list"
   ]
  },
  {
   "cell_type": "markdown",
   "metadata": {},
   "source": [
    "![](facepalm-oh-no.gif)\n",
    "\n",
    "__We just broke python__\n",
    "\n",
    "<div class=\"alert alert-block alert-danger\">\n",
    "<b>Caution!</b> Never use keywords as variable names. This will break your code.\n",
    "</div>"
   ]
  },
  {
   "cell_type": "markdown",
   "metadata": {},
   "source": [
    "If this happens, you unfortunately need to restart the kernel. (press escape and two times 0)"
   ]
  },
  {
   "cell_type": "code",
   "execution_count": null,
   "metadata": {},
   "outputs": [],
   "source": [
    "# we just overwritten the built in list() method\n",
    "list()"
   ]
  },
  {
   "cell_type": "markdown",
   "metadata": {},
   "source": [
    "Useful tool to help you prevent this situation:\n",
    "\n",
    "The syntax highlighting in every modern editor or jupyter will help you to prevent these mistakes. \n",
    "Whenever you use a known method, function, or keyword (although you cannot overwrite keywords), it gets highlighted:\n",
    "```python\n",
    "list = [1, 2, 3]  # <-- highlighted\n",
    "```\n",
    "If you name variables, make sure they are not highlighted:\n",
    "```python\n",
    "list1 = [1, 2 ,3]  # <-- Not known, better!\n",
    "```"
   ]
  },
  {
   "cell_type": "code",
   "execution_count": null,
   "metadata": {},
   "outputs": [],
   "source": [
    "our_list = [1, 2, 3, 4, 5, 6, 7, 8, 9, 10]"
   ]
  },
  {
   "cell_type": "code",
   "execution_count": null,
   "metadata": {},
   "outputs": [],
   "source": [
    "# possible matrix respresentation\n",
    "l2 = [[1,2], [3,4]]"
   ]
  },
  {
   "cell_type": "code",
   "execution_count": null,
   "metadata": {},
   "outputs": [],
   "source": [
    "# check length of the list:\n",
    "len(our_list)"
   ]
  },
  {
   "cell_type": "code",
   "execution_count": null,
   "metadata": {},
   "outputs": [],
   "source": [
    "min(our_list)"
   ]
  },
  {
   "cell_type": "code",
   "execution_count": null,
   "metadata": {},
   "outputs": [],
   "source": [
    "sum(our_list)"
   ]
  },
  {
   "cell_type": "markdown",
   "metadata": {
    "tags": []
   },
   "source": [
    "### Indexing and slicing"
   ]
  },
  {
   "cell_type": "code",
   "execution_count": null,
   "metadata": {},
   "outputs": [],
   "source": [
    "our_list"
   ]
  },
  {
   "cell_type": "code",
   "execution_count": null,
   "metadata": {},
   "outputs": [],
   "source": [
    "# access items per index:\n",
    "our_list[1]"
   ]
  },
  {
   "cell_type": "code",
   "execution_count": null,
   "metadata": {},
   "outputs": [],
   "source": [
    "# squence indices start at 0\n",
    "our_list[0]"
   ]
  },
  {
   "cell_type": "code",
   "execution_count": null,
   "metadata": {},
   "outputs": [],
   "source": [
    "# so list indices count from from 0 to len(list)-1\n",
    "our_list[len(our_list)-1]"
   ]
  },
  {
   "cell_type": "code",
   "execution_count": null,
   "metadata": {},
   "outputs": [],
   "source": [
    "# you cannot get indices, that are not in the list:\n",
    "our_list[len(our_list)]"
   ]
  },
  {
   "cell_type": "code",
   "execution_count": null,
   "metadata": {},
   "outputs": [],
   "source": [
    "# start index from the end!\n",
    "our_list[-1]"
   ]
  },
  {
   "cell_type": "code",
   "execution_count": null,
   "metadata": {},
   "outputs": [],
   "source": [
    "# slicing, or getting parts of the sequence\n",
    "our_list[3:200]"
   ]
  },
  {
   "cell_type": "markdown",
   "metadata": {},
   "source": [
    "The slicing `l[i:j:s]` result excludes the `j-th` element of the list `l`.\n",
    "\n",
    "The definition is:\n",
    "\n",
    "The slice of s from `i` to `j` is defined as\n",
    "- the sequence of items with index `k` such that `i <= k < j`.\n",
    "- If `i` or `j` is greater than `len(s)`, use `len(s)`.\n",
    "- If `i` is omitted, use `0`.\n",
    "- If `j` is omitted, use len(s).\n",
    "- If `i` is greater than or equal to `j`, the slice is empty.\n",
    "- Slices can be defined step-wise using `[i:j:s]`, where `s` is `1` by default."
   ]
  },
  {
   "cell_type": "markdown",
   "metadata": {},
   "source": [
    "<div class=\"alert alert-block alert-warning\">\n",
    "<b>Examples:</b> Given our_list of <code>[1, 2, 3, 4, 5, 6, 7, 9, 10]</code>, and the prev. definitions, what are the results of the following slices?\n",
    "</div>\n"
   ]
  },
  {
   "cell_type": "code",
   "execution_count": null,
   "metadata": {
    "tags": []
   },
   "outputs": [],
   "source": [
    "display_quiz(\"quizzes/slicing_quizz.json\", shuffle_answers=True)"
   ]
  },
  {
   "cell_type": "code",
   "execution_count": null,
   "metadata": {},
   "outputs": [],
   "source": [
    "# slicing examples\n",
    "print(\"1: \", our_list[:])\n",
    "print(\"2: \", our_list[:200])\n",
    "print(\"3: \", our_list[:len(our_list)])"
   ]
  },
  {
   "cell_type": "markdown",
   "metadata": {},
   "source": [
    "<div class=\"alert alert-block alert-warning\">\n",
    "<b>Examples:</b> Given our_list of <code>[1, 2, 3, 4, 5, 6, 7, 9, 10]</code>, and the prev. definitions, what are the results of the following slices?\n",
    "</div>"
   ]
  },
  {
   "cell_type": "code",
   "execution_count": null,
   "metadata": {
    "tags": []
   },
   "outputs": [],
   "source": [
    "display_quiz(\"quizzes/slicing_quizz_2.json\", shuffle_answers=True)"
   ]
  },
  {
   "cell_type": "code",
   "execution_count": null,
   "metadata": {},
   "outputs": [],
   "source": [
    "# slicing examples)\n",
    "print(\"4: \", our_list[4:4])\n",
    "print(\"5: \", our_list[:3])\n",
    "print(\"6: \", our_list[8:9])"
   ]
  },
  {
   "cell_type": "markdown",
   "metadata": {},
   "source": [
    "<div class=\"alert alert-block alert-warning\">\n",
    "<b>Examples:</b> Given our_list of <code>[1, 2, 3, 4, 5, 6, 7, 8, 9, 10]</code>, and the prev. definitions, what are the results of the following slices?\n",
    "</div>"
   ]
  },
  {
   "cell_type": "code",
   "execution_count": null,
   "metadata": {
    "tags": []
   },
   "outputs": [],
   "source": [
    "display_quiz(\"quizzes/slicing_quizz_3.json\", shuffle_answers=True)"
   ]
  },
  {
   "cell_type": "code",
   "execution_count": null,
   "metadata": {},
   "outputs": [],
   "source": [
    "print(\"7: \", our_list[-3:-2])\n",
    "print(\"8: \", our_list[-2:])\n",
    "print(\"9: \", our_list[1:-1])\n",
    "print(\"10: \", our_list[-3:1])"
   ]
  },
  {
   "cell_type": "markdown",
   "metadata": {},
   "source": [
    "<div class=\"alert alert-block alert-warning\">\n",
    "<b>Examples:</b> Given our_list of <code>[1, 2, 3, 4, 5, 6, 7, 8, 9, 10]</code>, and the prev. definitions, what are the results of the following slices?\n",
    "</div>"
   ]
  },
  {
   "cell_type": "code",
   "execution_count": null,
   "metadata": {
    "tags": []
   },
   "outputs": [],
   "source": [
    "display_quiz(\"quizzes/slicing_quizz_4.json\", shuffle_answers=True)"
   ]
  },
  {
   "cell_type": "code",
   "execution_count": null,
   "metadata": {},
   "outputs": [],
   "source": [
    "print(\"11: \", our_list[5::2])\n",
    "print(\"12: \", our_list[::5])\n",
    "print(\"13: \", our_list[::15])"
   ]
  },
  {
   "cell_type": "code",
   "execution_count": null,
   "metadata": {},
   "outputs": [],
   "source": [
    "# Quick question during the break\n",
    "list(3)"
   ]
  },
  {
   "cell_type": "code",
   "execution_count": null,
   "metadata": {},
   "outputs": [],
   "source": [
    "list?"
   ]
  },
  {
   "cell_type": "markdown",
   "metadata": {},
   "source": [
    "We see that the list function does not work with integers.\n",
    "Instead the function can conver `iterables` to a list (e.g. tuples, ranges, sets that  we get to know a bit later)."
   ]
  },
  {
   "cell_type": "code",
   "execution_count": null,
   "metadata": {},
   "outputs": [],
   "source": [
    "# create a one item list use []\n",
    "l = [3]"
   ]
  },
  {
   "cell_type": "markdown",
   "metadata": {
    "tags": []
   },
   "source": [
    "### Changing list content\n",
    "Sometimes, it comes in handy to be able to change the content of a list, without creating a new list object."
   ]
  },
  {
   "cell_type": "code",
   "execution_count": null,
   "metadata": {},
   "outputs": [],
   "source": [
    "our_list = [1, 2, 3, 4, 5, 6, 7, 8, 9, 10]"
   ]
  },
  {
   "cell_type": "code",
   "execution_count": null,
   "metadata": {},
   "outputs": [],
   "source": [
    "# changing single values\n",
    "our_list[0] = -1"
   ]
  },
  {
   "cell_type": "code",
   "execution_count": null,
   "metadata": {},
   "outputs": [],
   "source": [
    "our_list"
   ]
  },
  {
   "cell_type": "code",
   "execution_count": null,
   "metadata": {},
   "outputs": [],
   "source": [
    "our_list[-1] = -10\n",
    "our_list"
   ]
  },
  {
   "cell_type": "code",
   "execution_count": null,
   "metadata": {},
   "outputs": [],
   "source": [
    "our_list[2:4] = [-3, -4]"
   ]
  },
  {
   "cell_type": "markdown",
   "metadata": {},
   "source": [
    "**Insert items**"
   ]
  },
  {
   "cell_type": "code",
   "execution_count": null,
   "metadata": {},
   "outputs": [],
   "source": [
    "# most commenly, appending items to list\n",
    "our_list.append(11)\n",
    "our_list"
   ]
  },
  {
   "cell_type": "code",
   "execution_count": null,
   "metadata": {},
   "outputs": [],
   "source": [
    "# extending a list\n",
    "our_list.extend([12, 13, 14])\n",
    "our_list"
   ]
  },
  {
   "cell_type": "code",
   "execution_count": null,
   "metadata": {},
   "outputs": [],
   "source": [
    "our_list + [15, 16, 17]"
   ]
  },
  {
   "cell_type": "code",
   "execution_count": null,
   "metadata": {},
   "outputs": [],
   "source": [
    "# equivalent to .extend\n",
    "our_list += [15, 16, 17]\n",
    "our_list"
   ]
  },
  {
   "cell_type": "code",
   "execution_count": null,
   "metadata": {},
   "outputs": [],
   "source": [
    "# multiply content of a list\n",
    "our_list = [1, 2, 3]\n",
    "our_list *= 2\n",
    "our_list"
   ]
  },
  {
   "cell_type": "code",
   "execution_count": null,
   "metadata": {},
   "outputs": [],
   "source": [
    "our_list * 2"
   ]
  },
  {
   "cell_type": "code",
   "execution_count": null,
   "metadata": {},
   "outputs": [],
   "source": [
    "our_list * 0"
   ]
  },
  {
   "cell_type": "code",
   "execution_count": null,
   "metadata": {},
   "outputs": [],
   "source": [
    "# inserting in the middle of the list\n",
    "our_list = [1, 4, 8]\n",
    "# single item insert\n",
    "our_list.insert(1, 2)\n",
    "print(our_list)\n",
    "# single or multiple item insert\n",
    "our_list[2:2] = [3]\n",
    "print(our_list)"
   ]
  },
  {
   "cell_type": "code",
   "execution_count": null,
   "metadata": {},
   "outputs": [],
   "source": [
    "our_list"
   ]
  },
  {
   "cell_type": "code",
   "execution_count": null,
   "metadata": {},
   "outputs": [],
   "source": [
    "# replacing the last\n",
    "our_list[-1:-1] = [5, 6, 7]\n",
    "print(our_list)"
   ]
  },
  {
   "cell_type": "code",
   "execution_count": null,
   "metadata": {},
   "outputs": [],
   "source": [
    "# inserting multiple items can change the list object extremely\n",
    "# you could basically replace all the items, easily\n",
    "our_list[:] = [9, 10, 11]\n",
    "our_list"
   ]
  },
  {
   "cell_type": "code",
   "execution_count": null,
   "metadata": {},
   "outputs": [],
   "source": [
    "# as this insert type already looks like the slicing, let's try\n",
    "# as you need same length to this,\n",
    "# which makes it a bit complicated\n",
    "our_list[::2] = [1,3]\n",
    "our_list"
   ]
  },
  {
   "cell_type": "code",
   "execution_count": null,
   "metadata": {},
   "outputs": [],
   "source": [
    "our_list[0] = 1\n",
    "our_list[-1] = 3"
   ]
  },
  {
   "cell_type": "markdown",
   "metadata": {},
   "source": [
    "**Deleting items from a list**"
   ]
  },
  {
   "cell_type": "code",
   "execution_count": null,
   "metadata": {},
   "outputs": [],
   "source": [
    "our_list = [1,2,3]\n",
    "our_list"
   ]
  },
  {
   "cell_type": "code",
   "execution_count": null,
   "metadata": {},
   "outputs": [],
   "source": [
    "# remove all elements\n",
    "our_list.clear()\n",
    "print(our_list)\n",
    "our_list = [1, 2, 3]\n",
    "our_list[:] = []\n",
    "print(our_list)\n",
    "our_list = [1, 2, 3]\n",
    "del our_list[:]\n",
    "print(our_list)\n"
   ]
  },
  {
   "cell_type": "code",
   "execution_count": null,
   "metadata": {},
   "outputs": [],
   "source": [
    "# removing elements\n",
    "our_list = [1, 2, 3, 4]\n",
    "our_list[1:3] = []\n",
    "print(our_list)\n",
    "\n",
    "# again slicing works\n",
    "our_list = [1, 2, 3, 4]\n",
    "del our_list[::2]\n",
    "print(our_list)\n",
    "\n",
    "# remove first occurance\n",
    "our_list = [1, 2, 3, 4, 3, 4]\n",
    "our_list.remove(3)\n",
    "print(our_list)\n"
   ]
  },
  {
   "cell_type": "code",
   "execution_count": null,
   "metadata": {},
   "outputs": [],
   "source": [
    "# remove item by index, value of item is print(ed\n",
    "our_list = [1, 2, 3]\n",
    "result = our_list.pop(0)\n",
    "print(result)\n",
    "our_list"
   ]
  },
  {
   "cell_type": "markdown",
   "metadata": {},
   "source": [
    "**Copying a list**"
   ]
  },
  {
   "cell_type": "code",
   "execution_count": null,
   "metadata": {},
   "outputs": [],
   "source": [
    "\n"
   ]
  },
  {
   "cell_type": "code",
   "execution_count": null,
   "metadata": {},
   "outputs": [],
   "source": [
    "our_list = [1, 2, 3]\n",
    "new_list = our_list\n",
    "\n",
    "new_list.append(4)\n",
    "our_list"
   ]
  },
  {
   "cell_type": "code",
   "execution_count": null,
   "metadata": {},
   "outputs": [],
   "source": [
    "# both variable refer to the same object\n",
    "print(id(our_list))\n",
    "id(new_list)"
   ]
  },
  {
   "cell_type": "markdown",
   "metadata": {},
   "source": [
    "<div class=\"alert alert-block alert-info\">\n",
    "<b>Note:</b> The naiive way results in two references pointing to the same objecet, hence, the <code>new_list</code> modification also changes <code>our_list</code>\n",
    "</div>\n"
   ]
  },
  {
   "cell_type": "code",
   "execution_count": null,
   "metadata": {},
   "outputs": [],
   "source": [
    "# to actually copy a list, use\n",
    "our_list = [1, 2, 3]\n",
    "new_list = our_list.copy()\n",
    "# or\n",
    "new_list_2 = our_list[:]\n",
    "\n",
    "new_list.append(4)\n",
    "new_list_2[len(new_list_2):len(new_list_2)] = [10, 100]\n",
    "\n",
    "# check, whether we have three different lists, now\n",
    "print(our_list)\n",
    "print(new_list)\n",
    "new_list_2"
   ]
  },
  {
   "cell_type": "code",
   "execution_count": null,
   "metadata": {},
   "outputs": [],
   "source": [
    "# you can reverse a list in place\n",
    "our_list.reverse()\n",
    "our_list"
   ]
  },
  {
   "cell_type": "code",
   "execution_count": null,
   "metadata": {},
   "outputs": [],
   "source": [
    "# finally, you can sort a list in place\n",
    "our_list = [5, 3, 6, 1, 10, 9]\n",
    "our_list.sort()\n",
    "print(our_list)\n",
    "our_list.sort(reverse=True)\n",
    "our_list"
   ]
  },
  {
   "cell_type": "code",
   "execution_count": null,
   "metadata": {},
   "outputs": [],
   "source": [
    "our_list"
   ]
  },
  {
   "cell_type": "code",
   "execution_count": null,
   "metadata": {},
   "outputs": [],
   "source": [
    "# using inf in sorting works\n",
    "l = [3, 4, 2, float(\"inf\"), 0]\n",
    "l.sort()\n",
    "l"
   ]
  },
  {
   "cell_type": "code",
   "execution_count": null,
   "metadata": {},
   "outputs": [],
   "source": [
    "# beware when sorting with nan values\n",
    "l = [ 1, 23, float(\"nan\"), 3]\n",
    "\n",
    "l.sort()\n",
    "\n",
    "l"
   ]
  },
  {
   "cell_type": "markdown",
   "metadata": {
    "tags": []
   },
   "source": [
    "### Other sequence methods\n",
    "There a couple of operations that are not specific to list, i.e. they also work for other sequences."
   ]
  },
  {
   "cell_type": "markdown",
   "metadata": {},
   "source": [
    "**Sequence contains item**"
   ]
  },
  {
   "cell_type": "code",
   "execution_count": null,
   "metadata": {},
   "outputs": [],
   "source": [
    "# Test if the item is in the sequence\n",
    "2 in our_list"
   ]
  },
  {
   "cell_type": "code",
   "execution_count": null,
   "metadata": {},
   "outputs": [],
   "source": [
    "9 in our_list"
   ]
  },
  {
   "cell_type": "code",
   "execution_count": null,
   "metadata": {},
   "outputs": [],
   "source": [
    "float(\"inf\") in [ 1, 2, float(\"inf\")]"
   ]
  },
  {
   "cell_type": "code",
   "execution_count": null,
   "metadata": {},
   "outputs": [],
   "source": [
    "# Test if the item is not in the sequence\n",
    "99 not in our_list"
   ]
  },
  {
   "cell_type": "code",
   "execution_count": null,
   "metadata": {},
   "outputs": [],
   "source": [
    "our_list"
   ]
  },
  {
   "cell_type": "code",
   "execution_count": null,
   "metadata": {},
   "outputs": [],
   "source": [
    "10 not in our_list"
   ]
  },
  {
   "cell_type": "markdown",
   "metadata": {},
   "source": [
    "**`Adding` (concatinating) and `multiplying`**\n",
    "These operation create new sequences."
   ]
  },
  {
   "cell_type": "code",
   "execution_count": null,
   "metadata": {},
   "outputs": [],
   "source": [
    "our_list + [11, 12, 13]"
   ]
  },
  {
   "cell_type": "code",
   "execution_count": null,
   "metadata": {},
   "outputs": [],
   "source": [
    "# is the original list modified?\n",
    "our_list"
   ]
  },
  {
   "cell_type": "code",
   "execution_count": null,
   "metadata": {},
   "outputs": [],
   "source": [
    "# `multiplying` or adding the sequence to itself n-times\n",
    "2 * our_list"
   ]
  },
  {
   "cell_type": "code",
   "execution_count": null,
   "metadata": {},
   "outputs": [],
   "source": [
    "our_list"
   ]
  },
  {
   "cell_type": "code",
   "execution_count": null,
   "metadata": {},
   "outputs": [],
   "source": [
    "# works with longer sequences, too\n",
    "l = [1, 2, 3] * 100\n",
    "# you can count the occurances of an item in a sequence with:\n",
    "# Beware that the individual items of a list are added,\n",
    "# not the list itself as an item\n",
    "print(l.count(1))\n",
    "print(l.count(2))\n",
    "print(l.count(3))\n",
    "print(l.count([1, 2, 3]))\n",
    "print(l[:6], \" \")"
   ]
  },
  {
   "cell_type": "code",
   "execution_count": null,
   "metadata": {},
   "outputs": [],
   "source": [
    "# negative multiplication?\n",
    "-5 * [2]"
   ]
  },
  {
   "cell_type": "markdown",
   "metadata": {},
   "source": [
    "**Min, max, and index functions**"
   ]
  },
  {
   "cell_type": "code",
   "execution_count": null,
   "metadata": {},
   "outputs": [],
   "source": [
    "# minimal value item\n",
    "min(our_list)"
   ]
  },
  {
   "cell_type": "code",
   "execution_count": null,
   "metadata": {},
   "outputs": [],
   "source": [
    "# maximum value item\n",
    "# max(sequence) is value based, not the index\n",
    "# len(squence)-1 gives you the maximum index\n",
    "\n",
    "max(our_list)"
   ]
  },
  {
   "cell_type": "code",
   "execution_count": null,
   "metadata": {},
   "outputs": [],
   "source": [
    "# get the index of a specific value"
   ]
  },
  {
   "cell_type": "code",
   "execution_count": null,
   "metadata": {},
   "outputs": [],
   "source": [
    "our_list"
   ]
  },
  {
   "cell_type": "code",
   "execution_count": null,
   "metadata": {},
   "outputs": [],
   "source": [
    "our_list.index(5)"
   ]
  },
  {
   "cell_type": "code",
   "execution_count": null,
   "metadata": {},
   "outputs": [],
   "source": [
    "our_list[3]"
   ]
  },
  {
   "cell_type": "code",
   "execution_count": null,
   "metadata": {},
   "outputs": [],
   "source": [
    "# index function, sometimes, allows for index slicing\n",
    "# with the `start`, and `stop` arguments\n",
    "our_list.index?"
   ]
  },
  {
   "cell_type": "code",
   "execution_count": null,
   "metadata": {},
   "outputs": [],
   "source": [
    "our_list = [6, 9, 6, 5, 3, 1]"
   ]
  },
  {
   "cell_type": "code",
   "execution_count": null,
   "metadata": {},
   "outputs": [],
   "source": [
    "# you could always slice first\n",
    "# but beware of the difference:\n",
    "print(our_list[2:8].index(6))  # prints 'relative' index\n",
    "print(our_list.index(6, 2, 8))  # prints 'absolute' index"
   ]
  },
  {
   "cell_type": "markdown",
   "metadata": {
    "tags": []
   },
   "source": [
    "## Strings I \n",
    "[Back to Contents](#Contents)\n",
    "\n",
    "A `string` is a sequence of `characters`, i.e. text variables.\n",
    "\n",
    "Text that starts with a `#` sign are comments, which will get ignored by python and are not string objects.\n",
    "\n",
    "As `string` variables are just sequences, many methods learnt in the list chapter can be used for strings aswell. Except for the `changing list content` chapter. In python, `strings`, once created cannot be changed.\n"
   ]
  },
  {
   "cell_type": "markdown",
   "metadata": {},
   "source": [
    "To define a string object, you can use:"
   ]
  },
  {
   "cell_type": "code",
   "execution_count": null,
   "metadata": {},
   "outputs": [],
   "source": [
    "s0 = 'this is a new \"string\"'\n",
    "s1 = \"this is a new 'string'\"\n",
    "s2 = '''this is a tripple quoted \"string\"'''\n",
    "s3 = \"\"\"this is a tripple \"double-quoted\" 'string'\"\"\""
   ]
  },
  {
   "cell_type": "code",
   "execution_count": null,
   "metadata": {},
   "outputs": [],
   "source": [
    "# ensure you use the different quotation sign in the text itself\n",
    "s0 = 'this is a new 'string''\n"
   ]
  },
  {
   "cell_type": "code",
   "execution_count": null,
   "metadata": {},
   "outputs": [],
   "source": [
    "print(s0)\n",
    "print(s1)\n",
    "print(s2)\n",
    "print(s3)"
   ]
  },
  {
   "cell_type": "markdown",
   "metadata": {},
   "source": [
    "only the `'''` pr `\"\"\"` quoted string definitions allow for multi-line strings."
   ]
  },
  {
   "cell_type": "code",
   "execution_count": null,
   "metadata": {},
   "outputs": [],
   "source": [
    "s = \"\"\"I can just write \n",
    "    over the line end and still be\n",
    "    in the same string\n",
    "object\"\"\""
   ]
  },
  {
   "cell_type": "code",
   "execution_count": null,
   "metadata": {},
   "outputs": [],
   "source": [
    "print(s)"
   ]
  },
  {
   "cell_type": "markdown",
   "metadata": {},
   "source": [
    "As you can see, formatting can sometimes be difficult.\n",
    "\n",
    "This is why, sometimes you will find something like\n"
   ]
  },
  {
   "cell_type": "code",
   "execution_count": null,
   "metadata": {},
   "outputs": [],
   "source": [
    "s = \"I cannot just write \\n\"\\\n",
    "    \"over the line end and still be \\n\"\\\n",
    "    \"in the same string \\n\"\\\n",
    "    \"object\""
   ]
  },
  {
   "cell_type": "code",
   "execution_count": null,
   "metadata": {},
   "outputs": [],
   "source": [
    "print(s)"
   ]
  },
  {
   "cell_type": "markdown",
   "metadata": {},
   "source": [
    "_or_"
   ]
  },
  {
   "cell_type": "code",
   "execution_count": null,
   "metadata": {},
   "outputs": [],
   "source": [
    "s = (\"I cannot just write \\n\"\n",
    "     \"over the line end and still be \\n\"\n",
    "     \"in the same string \\n\"\n",
    "     \"object\")"
   ]
  },
  {
   "cell_type": "code",
   "execution_count": null,
   "metadata": {},
   "outputs": [],
   "source": [
    "print(s)"
   ]
  },
  {
   "cell_type": "markdown",
   "metadata": {},
   "source": [
    "These methods work, as the `\\n` character marks a new line symbol and the `\\` marks a python code line break indicating that the next line still is part of one long command (Esp. used to not let command span over 80 (or a bit more) characters.\n",
    "\n",
    "The second definition shows that strings within a single expression, that are just separated by a whitespace will implicitly be joined to one."
   ]
  },
  {
   "cell_type": "markdown",
   "metadata": {},
   "source": [
    "### Exercise: String operations I"
   ]
  },
  {
   "cell_type": "markdown",
   "metadata": {},
   "source": [
    "Go back to the [Lists - Indexing and slicing](#Indexing-and-slicing) and [Lists - Other sequence methods](Other-sequence-methods) chapters and find at least two examples using string for each operation.\n",
    "\n",
    "Find the two operation that still work with strings from the [Lists - Changing list conten](#Changing-list-content) chapter."
   ]
  },
  {
   "cell_type": "markdown",
   "metadata": {},
   "source": [
    "Things that still work with strings:\n",
    "- indexing\n",
    "- slicing\n",
    "- multiplying, adding (*, +)"
   ]
  },
  {
   "cell_type": "markdown",
   "metadata": {},
   "source": [
    "Things that doesn't work anymore:\n",
    "- changing single values via indexing\n",
    "- sort, append, extend, insert, ..."
   ]
  },
  {
   "cell_type": "code",
   "execution_count": null,
   "metadata": {
    "tags": []
   },
   "outputs": [],
   "source": [
    "display_quiz(\"quizzes/string_vs_lists.json\")"
   ]
  },
  {
   "cell_type": "code",
   "execution_count": null,
   "metadata": {},
   "outputs": [],
   "source": [
    "l = [1, 2, 3]\n",
    "s = \"try\""
   ]
  },
  {
   "cell_type": "code",
   "execution_count": null,
   "metadata": {},
   "outputs": [],
   "source": [
    "print(l[0])\n",
    "print(l[0:1])\n",
    "print(s[0])\n",
    "print(s[0:1])"
   ]
  },
  {
   "cell_type": "markdown",
   "metadata": {},
   "source": [
    "There is no special _character_ type in python. All characters are strings (`str`). A list contains items of a type, so the indexing `l[0]` prints the object with its corresponding type, while `l[0:1]` slicing prints a `list` object with one item. In case of a string, this is still a string with one character."
   ]
  },
  {
   "cell_type": "markdown",
   "metadata": {
    "tags": []
   },
   "source": [
    "## Mappings: dict\n",
    "[Back to Contents](#Contents)\n",
    "\n",
    "Dictionaries (`dict`) are very useful data types. You can think of them as _key: value_ pairs with unique keys in a single dictionary."
   ]
  },
  {
   "cell_type": "code",
   "execution_count": null,
   "metadata": {},
   "outputs": [],
   "source": [
    "# to define, just use {}\n",
    "first_dict = {}\n",
    "first_dict"
   ]
  },
  {
   "cell_type": "code",
   "execution_count": null,
   "metadata": {},
   "outputs": [],
   "source": [
    "# add elements\n",
    "first_dict[\"Hans\"] = 42"
   ]
  },
  {
   "cell_type": "code",
   "execution_count": null,
   "metadata": {},
   "outputs": [],
   "source": [
    "# a key cannot be create without a value like this,\n",
    "# as the command is interpreted as the lookup\n",
    "first_dict[\"Pedda\"]"
   ]
  },
  {
   "cell_type": "code",
   "execution_count": null,
   "metadata": {},
   "outputs": [],
   "source": [
    "# get a value\n",
    "first_dict[\"Hans\"]"
   ]
  },
  {
   "cell_type": "code",
   "execution_count": null,
   "metadata": {},
   "outputs": [],
   "source": [
    "# possibly an even better way to get a value\n",
    "first_dict.get(\"Hans\")"
   ]
  },
  {
   "cell_type": "code",
   "execution_count": null,
   "metadata": {},
   "outputs": [],
   "source": [
    "# this way allows for default values\n",
    "# when a key is not present in the dict\n",
    "first_dict.get(\"Pedda\", -1)"
   ]
  },
  {
   "cell_type": "code",
   "execution_count": null,
   "metadata": {},
   "outputs": [],
   "source": [
    "first_dict[\"Pedda\"] = 25\n"
   ]
  },
  {
   "cell_type": "code",
   "execution_count": null,
   "metadata": {},
   "outputs": [],
   "source": [
    "first_dict"
   ]
  },
  {
   "cell_type": "markdown",
   "metadata": {},
   "source": [
    "<div class=\"alert alert-block alert-info\">\n",
    "    <b> Note: </b>From Python>=3.7 python dictionaries are <i>ordered</i> by default. I.e. the order in which you add items will remain throughout the lifecycle.\n",
    "</div>"
   ]
  },
  {
   "cell_type": "markdown",
   "metadata": {},
   "source": [
    "You can change or update values"
   ]
  },
  {
   "cell_type": "code",
   "execution_count": null,
   "metadata": {},
   "outputs": [],
   "source": [
    "first_dict[\"Pedda\"] = 32\n",
    "first_dict"
   ]
  },
  {
   "cell_type": "code",
   "execution_count": null,
   "metadata": {},
   "outputs": [],
   "source": [
    "first_dict.update({\"Pedda\": 31, \"Lars\": 19})\n",
    "first_dict"
   ]
  },
  {
   "cell_type": "code",
   "execution_count": null,
   "metadata": {},
   "outputs": [],
   "source": [
    "# just a different call with a list of key value pairs\n",
    "first_dict.update([(\"Hans\", 41), (39, \"Bob\")])\n",
    "first_dict"
   ]
  },
  {
   "cell_type": "markdown",
   "metadata": {},
   "source": [
    "You can see that the keys do not need to be of the same type, as long as they are unique.\n",
    "\n",
    "**Could you think of another property the keys should have?**"
   ]
  },
  {
   "cell_type": "markdown",
   "metadata": {
    "tags": []
   },
   "source": [
    "_The keys of a dictionary should not be able to change after creation or need to be hashable._"
   ]
  },
  {
   "cell_type": "code",
   "execution_count": null,
   "metadata": {},
   "outputs": [],
   "source": [
    "# remove an item, same as sequences\n",
    "# only the value is print(ed (dict.popitem()) will\n",
    "# print( the key value pair of the last item\n",
    "first_dict.pop(39)"
   ]
  },
  {
   "cell_type": "code",
   "execution_count": null,
   "metadata": {},
   "outputs": [],
   "source": [
    "# we already now `del`, too\n",
    "del first_dict[\"Hans\"]\n",
    "first_dict"
   ]
  },
  {
   "cell_type": "markdown",
   "metadata": {},
   "source": [
    "You can get back the (key, value) pairs or either the keys or the values separately."
   ]
  },
  {
   "cell_type": "code",
   "execution_count": null,
   "metadata": {},
   "outputs": [],
   "source": [
    "first_dict.items()"
   ]
  },
  {
   "cell_type": "code",
   "execution_count": null,
   "metadata": {},
   "outputs": [],
   "source": [
    "print(first_dict.keys())\n",
    "print(first_dict.values())"
   ]
  },
  {
   "cell_type": "code",
   "execution_count": null,
   "metadata": {},
   "outputs": [],
   "source": [
    "# you might often find casts to list here\n",
    "list(first_dict.values())"
   ]
  },
  {
   "cell_type": "code",
   "execution_count": null,
   "metadata": {},
   "outputs": [],
   "source": [
    "# Alternative ways to define a dictionary\n",
    "{1: 1, 2: 4, 3: 9, 4: \"no\", \"yes\": 5}"
   ]
  },
  {
   "cell_type": "code",
   "execution_count": null,
   "metadata": {},
   "outputs": [],
   "source": [
    "# create from a list of pairs\n",
    "dict([(\"Hans\", 42), (\"Pedda\", 31), (\"Lars\", 19)])"
   ]
  },
  {
   "cell_type": "code",
   "execution_count": null,
   "metadata": {},
   "outputs": [],
   "source": [
    "# sometimes you might only know the keys already\n",
    "dict.fromkeys([\"Hans\", \"Pedda\", \"Lars\"])"
   ]
  },
  {
   "cell_type": "code",
   "execution_count": null,
   "metadata": {},
   "outputs": [],
   "source": [
    "# of with some default value\n",
    "dict.fromkeys([\"Hans\", \"Pedda\", \"Lars\"], \"age to be filled\")"
   ]
  },
  {
   "cell_type": "code",
   "execution_count": 10,
   "metadata": {},
   "outputs": [
    {
     "data": {
      "text/plain": [
       "{'Hans': 42, 'Pedda': 31, 'Lars': 19}"
      ]
     },
     "execution_count": 10,
     "metadata": {},
     "output_type": "execute_result"
    }
   ],
   "source": [
    "# if the keys are 'just' strings (barely seen)\n",
    "dict(Hans=42, Pedda=31, Lars=19)"
   ]
  },
  {
   "cell_type": "markdown",
   "metadata": {},
   "source": [
    "<div class=\"alert alert-block alert-warning\">\n",
    "<b>Exercises:</b> \n",
    "\n",
    "Some exercises for dictionaries.    \n",
    "</div>"
   ]
  },
  {
   "cell_type": "markdown",
   "metadata": {},
   "source": [
    "- Print two information of the `song` dictionary using two different way to retrieve the dictionary values."
   ]
  },
  {
   "cell_type": "code",
   "execution_count": 11,
   "metadata": {},
   "outputs": [],
   "source": [
    "song = {\n",
    "    \"artist\": \"Eminem:\",\n",
    "    \"title\": \"Bad Guy\",\n",
    "    \"length\": \"7:14\",\n",
    "    \"release\": 2013\n",
    "}"
   ]
  },
  {
   "cell_type": "code",
   "execution_count": 12,
   "metadata": {},
   "outputs": [
    {
     "data": {
      "text/plain": [
       "dict_keys(['artist', 'title', 'length', 'release'])"
      ]
     },
     "execution_count": 12,
     "metadata": {},
     "output_type": "execute_result"
    }
   ],
   "source": [
    "song.keys()"
   ]
  },
  {
   "cell_type": "code",
   "execution_count": 13,
   "metadata": {},
   "outputs": [
    {
     "name": "stdout",
     "output_type": "stream",
     "text": [
      "artist ; Eminem:\n",
      "title ; Bad Guy\n"
     ]
    }
   ],
   "source": [
    "print(list(song.keys())[0], \";\", song[\"artist\"])\n",
    "print(list(song.keys())[1], \";\", song[\"title\"])"
   ]
  },
  {
   "cell_type": "markdown",
   "metadata": {},
   "source": [
    "- Convert the two lists into a dictionary"
   ]
  },
  {
   "cell_type": "code",
   "execution_count": 14,
   "metadata": {},
   "outputs": [],
   "source": [
    "keys = ['five', 'forty', 'eight']\n",
    "values = [10, 20, 30]"
   ]
  },
  {
   "cell_type": "code",
   "execution_count": 23,
   "metadata": {},
   "outputs": [
    {
     "data": {
      "text/plain": [
       "{'five': 10, 'forty': 20, 'eight': 30}"
      ]
     },
     "execution_count": 23,
     "metadata": {},
     "output_type": "execute_result"
    }
   ],
   "source": [
    "dict(zip(keys, values))"
   ]
  },
  {
   "cell_type": "markdown",
   "metadata": {},
   "source": [
    "- Merge the following dictionaries into one"
   ]
  },
  {
   "cell_type": "code",
   "execution_count": 24,
   "metadata": {},
   "outputs": [],
   "source": [
    "dict1 = {'five': 1, 'forty': 2, 'eight': 3}\n",
    "dict2 = {'six':4, 'eight': 9, 'twenty': 11}"
   ]
  },
  {
   "cell_type": "code",
   "execution_count": 25,
   "metadata": {},
   "outputs": [],
   "source": [
    "dict1.update(dict2)"
   ]
  },
  {
   "cell_type": "markdown",
   "metadata": {},
   "source": [
    "- Print the value of the 'physics' key"
   ]
  },
  {
   "cell_type": "code",
   "execution_count": 26,
   "metadata": {},
   "outputs": [],
   "source": [
    "uni = {\n",
    "    \"class\": {\n",
    "        \"student\": {\n",
    "            \"name\": \"Mike\",\n",
    "            \"marks\": {\n",
    "                \"physics\": 70,\n",
    "                \"math\": 45\n",
    "            }\n",
    "        }\n",
    "    }\n",
    "}"
   ]
  },
  {
   "cell_type": "code",
   "execution_count": 27,
   "metadata": {},
   "outputs": [
    {
     "name": "stdout",
     "output_type": "stream",
     "text": [
      "70\n"
     ]
    }
   ],
   "source": [
    "print(uni[\"class\"][\"student\"][\"marks\"][\"physics\"])"
   ]
  },
  {
   "cell_type": "markdown",
   "metadata": {},
   "source": [
    "- Check if the value 3 is a dictionary"
   ]
  },
  {
   "cell_type": "code",
   "execution_count": 30,
   "metadata": {},
   "outputs": [],
   "source": [
    "d = {\"a\": 54, \"b\": 11, \"c\": 3}"
   ]
  },
  {
   "cell_type": "code",
   "execution_count": 32,
   "metadata": {},
   "outputs": [
    {
     "data": {
      "text/plain": [
       "True"
      ]
     },
     "execution_count": 32,
     "metadata": {},
     "output_type": "execute_result"
    }
   ],
   "source": [
    "3 in d.values()"
   ]
  },
  {
   "cell_type": "markdown",
   "metadata": {},
   "source": [
    "- Rename the key `release` of the `song` dict to `year`."
   ]
  },
  {
   "cell_type": "code",
   "execution_count": 40,
   "metadata": {},
   "outputs": [
    {
     "ename": "KeyError",
     "evalue": "'release'",
     "output_type": "error",
     "traceback": [
      "\u001b[0;31m---------------------------------------------------------------------------\u001b[0m",
      "\u001b[0;31mKeyError\u001b[0m                                  Traceback (most recent call last)",
      "Input \u001b[0;32mIn [40]\u001b[0m, in \u001b[0;36m<cell line: 1>\u001b[0;34m()\u001b[0m\n\u001b[0;32m----> 1\u001b[0m song[\u001b[38;5;124m\"\u001b[39m\u001b[38;5;124myear\u001b[39m\u001b[38;5;124m\"\u001b[39m] \u001b[38;5;241m=\u001b[39m \u001b[43msong\u001b[49m\u001b[38;5;241;43m.\u001b[39;49m\u001b[43mpop\u001b[49m\u001b[43m(\u001b[49m\u001b[38;5;124;43m\"\u001b[39;49m\u001b[38;5;124;43mrelease\u001b[39;49m\u001b[38;5;124;43m\"\u001b[39;49m\u001b[43m)\u001b[49m\n",
      "\u001b[0;31mKeyError\u001b[0m: 'release'"
     ]
    }
   ],
   "source": [
    "song[\"year\"] = song.pop(\"release\")"
   ]
  },
  {
   "cell_type": "code",
   "execution_count": 41,
   "metadata": {},
   "outputs": [
    {
     "data": {
      "text/plain": [
       "{'artist': 'Eminem:', 'title': 'Bad Guy', 'length': '7:14', 'year': 2013}"
      ]
     },
     "execution_count": 41,
     "metadata": {},
     "output_type": "execute_result"
    }
   ],
   "source": [
    "song"
   ]
  },
  {
   "cell_type": "markdown",
   "metadata": {},
   "source": [
    "- Print the minimal value of a dict"
   ]
  },
  {
   "cell_type": "code",
   "execution_count": 42,
   "metadata": {},
   "outputs": [],
   "source": [
    "d = {\"a\": 54, \"b\": 11, \"c\": 3}\n"
   ]
  },
  {
   "cell_type": "code",
   "execution_count": 46,
   "metadata": {},
   "outputs": [
    {
     "data": {
      "text/plain": [
       "3"
      ]
     },
     "execution_count": 46,
     "metadata": {},
     "output_type": "execute_result"
    }
   ],
   "source": [
    " min(d.values())"
   ]
  },
  {
   "cell_type": "markdown",
   "metadata": {},
   "source": [
    "- Change the mark of Mike in physics to 100"
   ]
  },
  {
   "cell_type": "code",
   "execution_count": 47,
   "metadata": {},
   "outputs": [],
   "source": [
    "uni[\"class\"][\"student\"][\"marks\"][\"physics\"]=100"
   ]
  },
  {
   "cell_type": "markdown",
   "metadata": {
    "tags": []
   },
   "source": [
    "## Boolean"
   ]
  },
  {
   "cell_type": "markdown",
   "metadata": {},
   "source": [
    "Although a very simple type (only can be `True` or `False`), it holds a very important function: testing truth in statements.\n",
    "\n",
    "The two states are represented by:\n",
    "\n",
    "* `True` or `1` for true\n",
    "* `False` or `0` for false\n",
    "\n",
    "Note: Note the capital letter at the Start of `False` and `True`.\n",
    "\n",
    "Generally, built-in function that have a boolean results will alway print( either `1` / `True`, or `0` / `False`.\n",
    "There are important exceptions: \n"
   ]
  },
  {
   "cell_type": "markdown",
   "metadata": {},
   "source": [
    "### Logical operators"
   ]
  },
  {
   "cell_type": "markdown",
   "metadata": {},
   "source": [
    "Logical python operators ordered by ascending priority, meaning that `or` operations are evaluated first:\n",
    "\n",
    "| Operation || Result  |\n",
    "|---||---|\n",
    "| `x or y` || if x is false, then y, else x |\n",
    "| `x and y` || if x is false, then x, else y |\n",
    "| `not x` || if x is false, then True, else False |\n",
    "\n"
   ]
  },
  {
   "cell_type": "markdown",
   "metadata": {},
   "source": [
    "We can see, that the logical operators do not print( either `True` or `False`, but one of the operants (either `x` or `y`).\n",
    "\n",
    "In addition, `or` and `and` are _shot-circuit_ operators, i.e. the second arguments are __only__ evaluated when the first argument if false or true, respectively.\n",
    "\n",
    "As no type is specified for `x` or `y` how is their boolean state interpreted?\n",
    "  * by default, an object is considered `True` [^1]\n",
    "  * Some objects are considered to be false:\n",
    "    * `None` and `False`\n",
    "    * Numerical: `0`, `0.0`, `0j`\n",
    "    * Empty sequences or collections: `''`, `[]`, `{}`, \n",
    "  \n",
    "[^1] There are methods to change this behaviour for an object, but we will not go into detail, here "
   ]
  },
  {
   "cell_type": "markdown",
   "metadata": {},
   "source": [
    "### Comparisons\n"
   ]
  },
  {
   "cell_type": "markdown",
   "metadata": {},
   "source": [
    "Python allows the following comparison operations:\n",
    "\n",
    "| Operation | Meaning  |\n",
    "|---|---|\n",
    "| `<` | strictly less than |\n",
    "| `<=` | less than or equal |\n",
    "| `>` | strictly greater than |\n",
    "| `>=` | greater than or equal |\n",
    "| `==` | value equality |\n",
    "| `!=` | not equal |\n",
    "| `is` | object identity |\n",
    "| `is not` | negated object identity |\n",
    "\n",
    "All comparisons have the __same priority__ and can be chained together arbitrarily. E.g. `x < y <= z` is equivalent to `x < y and y <= z`, except that `y` is evaluated only once. In both cases, `z` is not evaluated at all when `x < y` is found to be false.\n",
    "\n",
    "Objects of different types, except different numeric types, never compare equal.\n"
   ]
  },
  {
   "cell_type": "markdown",
   "metadata": {},
   "source": [
    "<div class=\"alert alert-block alert-info\">\n",
    "<b>Note:</b> \n",
    "    There is a difference between <code>==</code> and <code>is</code>. <br> <br>\n",
    "    The <code>==</code> is a value based equal, i.e. have the two (potentially different) objects the same value. <br><br>\n",
    "    <code>is</code> is reference based, i.e. do the references point to the same object.\n",
    "    The difference can be seen in the following example:\n",
    "</div>"
   ]
  },
  {
   "cell_type": "code",
   "execution_count": null,
   "metadata": {},
   "outputs": [],
   "source": [
    "list1 = [1, 2, 3]\n",
    "list2 = list1\n",
    "list3 = list(list1)\n",
    "\n",
    "print(list1 == list2)\n",
    "print(list2 == list3)\n",
    "\n",
    "print(list1 is list2)\n",
    "print(list2 is list3)"
   ]
  },
  {
   "cell_type": "markdown",
   "metadata": {},
   "source": [
    "While all three lists have the same values, only `list1` and `list2` point actually to the same object. We can check this with the `id` function"
   ]
  },
  {
   "cell_type": "code",
   "execution_count": null,
   "metadata": {},
   "outputs": [],
   "source": [
    "# convert adress to hex for a bit better readability\n",
    "print(\"list 1: \", hex(id(list1)))\n",
    "print(\"list 2: \", hex(id(list2)))\n",
    "print(\"list 3: \", hex(id(list3)))"
   ]
  },
  {
   "cell_type": "markdown",
   "metadata": {},
   "source": [
    "<div class=\"alert alert-block alert-warning\">\n",
    "<b>Examples:</b> \n",
    "Let's go trough some examples: <br>\n",
    "</div>"
   ]
  },
  {
   "cell_type": "code",
   "execution_count": null,
   "metadata": {},
   "outputs": [],
   "source": [
    "2 > 1"
   ]
  },
  {
   "cell_type": "code",
   "execution_count": null,
   "metadata": {},
   "outputs": [],
   "source": [
    "1 > 1"
   ]
  },
  {
   "cell_type": "code",
   "execution_count": null,
   "metadata": {},
   "outputs": [],
   "source": [
    "1 <= 1"
   ]
  },
  {
   "cell_type": "code",
   "execution_count": null,
   "metadata": {},
   "outputs": [],
   "source": [
    "1.0 == 1"
   ]
  },
  {
   "cell_type": "code",
   "execution_count": null,
   "metadata": {},
   "outputs": [],
   "source": [
    "True and True"
   ]
  },
  {
   "cell_type": "code",
   "execution_count": null,
   "metadata": {},
   "outputs": [],
   "source": [
    "True and False"
   ]
  },
  {
   "cell_type": "code",
   "execution_count": null,
   "metadata": {},
   "outputs": [],
   "source": [
    "False or True"
   ]
  },
  {
   "cell_type": "markdown",
   "metadata": {
    "tags": []
   },
   "source": [
    "\n",
    "# Flow control\n",
    "[Back to Contents](#Contents)\n",
    "\n",
    "As soon as we know how to ask for the truth of states we can start to run our code based on conditons and, hence, control the flow of our programme even more."
   ]
  },
  {
   "cell_type": "markdown",
   "metadata": {},
   "source": [
    "## The `if` statement"
   ]
  },
  {
   "cell_type": "code",
   "execution_count": 50,
   "metadata": {},
   "outputs": [],
   "source": [
    "# let us enable to get some (pseudo) random numbers\n",
    "import random"
   ]
  },
  {
   "cell_type": "code",
   "execution_count": 51,
   "metadata": {},
   "outputs": [
    {
     "name": "stdout",
     "output_type": "stream",
     "text": [
      "drawn a  negative  number, : -12\n"
     ]
    }
   ],
   "source": [
    "some_number = random.randint(-100,100)\n",
    "# implicitly in assignments\n",
    "flag = \"positive\" if some_number > 0 else \"negative\"\n",
    "if some_number < 0:\n",
    "    print(\"drawn a \", flag,\n",
    "          \" number, :\", some_number)\n",
    "elif some_number > 0:\n",
    "    print(\"drawn a \", flag,\n",
    "          \" number: \", some_number)\n",
    "else:\n",
    "    # an assert statement ensures an condition\n",
    "    # in this case an error is raised when\n",
    "    # -some_number != +some_number, which is fancy\n",
    "    # writing for some_number == 0\n",
    "    assert(-some_number == +some_number)\n",
    "    print(\"You draw zero: \", some_number)"
   ]
  },
  {
   "cell_type": "markdown",
   "metadata": {},
   "source": [
    "There could be as many `elif` statements as you like. The `else` part is executed whenever no previous condition was found to be true (neither the `if` nor any `elif` statements)"
   ]
  },
  {
   "cell_type": "markdown",
   "metadata": {},
   "source": [
    "<div class=\"alert alert-block alert-warning\">\n",
    "<b>Exercises:</b> \n",
    "</div>\n",
    "\n",
    "- Correct the following code:\n",
    "\n",
    "```python\n",
    "break_point = 5\n",
    "\n",
    "if break_point > 3\n",
    "    print(\"hit the breaks\")\n",
    "else\n",
    "    print(\"go on.\")\n",
    "```\n",
    "\n",
    "- Test if the first an the last entry if a list are equal\n",
    "\n",
    "```python\n",
    "l1 = [1, 2, 3, 4, 1]\n",
    "l2 = [1, 2, 3, 4, 5]\n",
    "```\n",
    "\n",
    "- Test if a number is the same as the reversed number (e.g. 121 is the same the reversed number. 123 is not the same as 321."
   ]
  },
  {
   "cell_type": "code",
   "execution_count": 55,
   "metadata": {},
   "outputs": [
    {
     "name": "stdout",
     "output_type": "stream",
     "text": [
      "hit the breaks\n"
     ]
    }
   ],
   "source": [
    "break_point = 5\n",
    "\n",
    "if break_point > 3:\n",
    "    print(\"hit the breaks\")\n",
    "else:\n",
    "    print(\"go on.\")"
   ]
  },
  {
   "cell_type": "code",
   "execution_count": 72,
   "metadata": {},
   "outputs": [
    {
     "name": "stdout",
     "output_type": "stream",
     "text": [
      "true\n",
      "false\n"
     ]
    }
   ],
   "source": [
    "l1 = [1, 2, 3, 4, 1]\n",
    "l2 = [1, 2, 3, 4, 5]\n",
    "\n",
    "for x in [l1, l2]:\n",
    "    if x[0] == x[(len(x)-1)]:\n",
    "        print(\"true\")\n",
    "    else:\n",
    "        print(\"false\")"
   ]
  },
  {
   "cell_type": "code",
   "execution_count": 88,
   "metadata": {},
   "outputs": [
    {
     "name": "stdout",
     "output_type": "stream",
     "text": [
      "true\n",
      "false\n"
     ]
    }
   ],
   "source": [
    "Number = [\"121\",\"123\"]\n",
    "for y in Number:\n",
    "    if y[0::1] == y[-1::-1]:\n",
    "        print(\"true\")\n",
    "    else:\n",
    "        print(\"false\")"
   ]
  },
  {
   "cell_type": "markdown",
   "metadata": {},
   "source": [
    "## The `for` statement\n",
    "\n",
    "The `for` statement or `for`-loop iterates over the items of any sequence."
   ]
  },
  {
   "cell_type": "code",
   "execution_count": null,
   "metadata": {},
   "outputs": [],
   "source": [
    "# iterate over lists\n",
    "ml = [\"my\", \"cat\", \"eats\"]\n",
    "for word in ml:\n",
    "    print(word, end=' ')"
   ]
  },
  {
   "cell_type": "code",
   "execution_count": 89,
   "metadata": {},
   "outputs": [
    {
     "name": "stdout",
     "output_type": "stream",
     "text": [
      "Hans\n",
      "Pedda\n",
      "Lars\n",
      "==========\n",
      "42\n",
      "31\n",
      "19\n",
      "==========\n",
      "remember .items()?  ('Hans', 42)\n",
      "Hans ,  42\n",
      "Pedda ,  31\n",
      "Lars ,  19\n"
     ]
    }
   ],
   "source": [
    "# iterate over dictionaries\n",
    "# over items\n",
    "md = {\"Hans\": 42, \"Pedda\": 31, \"Lars\": 19}\n",
    "\n",
    "# by default only iterate over keys\n",
    "for k in md:\n",
    "    print(k)\n",
    "\n",
    "print(10*\"=\")\n",
    "\n",
    "# you can iterate over the values\n",
    "for v in md.values():\n",
    "    print(v)\n",
    "    \n",
    "print(10*\"=\")\n",
    "\n",
    "# most commonly used, as you have the keys and values\n",
    "print(\"remember .items()? \", list(md.items())[0])\n",
    "# you can directly iterate over those pairs, via:\n",
    "for k,v in md.items():\n",
    "    print(k, \", \", v)"
   ]
  },
  {
   "cell_type": "code",
   "execution_count": null,
   "metadata": {},
   "outputs": [],
   "source": [
    "# iterate over strings (if you really want it)\n",
    "# if we have to, let's learn about `enumerate`\n",
    "for i, l in enumerate(\"Why would you do this?\"):\n",
    "    # implicit if also work in function calls\n",
    "    print(l, end=\"\\n\" if (i>9 and i%10 == 0) else \"\")"
   ]
  },
  {
   "cell_type": "markdown",
   "metadata": {},
   "source": [
    "If you need a counter in a for loop, you can can use `enumerate` with in _iterable_, as is gives you a pair of (counter, item), by default, starts with `0` and can, therefore, be thought of as the index indicator."
   ]
  },
  {
   "cell_type": "code",
   "execution_count": null,
   "metadata": {},
   "outputs": [],
   "source": [
    "# if you just want to loop over a sequence of numbers\n",
    "# you can use the built-in `range` function\n",
    "\n",
    "print(list(range(10)))"
   ]
  },
  {
   "cell_type": "code",
   "execution_count": null,
   "metadata": {},
   "outputs": [],
   "source": [
    "# the possible arguments work similar to the slicing logic\n",
    "range?"
   ]
  },
  {
   "cell_type": "code",
   "execution_count": null,
   "metadata": {},
   "outputs": [],
   "source": [
    "list(range(0, 11))"
   ]
  },
  {
   "cell_type": "code",
   "execution_count": null,
   "metadata": {},
   "outputs": [],
   "source": [
    "list(range(0, 10, 3))"
   ]
  },
  {
   "cell_type": "code",
   "execution_count": null,
   "metadata": {},
   "outputs": [],
   "source": [
    "list(range(100, -11, -10))"
   ]
  },
  {
   "cell_type": "code",
   "execution_count": null,
   "metadata": {},
   "outputs": [],
   "source": [
    "# Why do we use a list cast?\n",
    "range(10)"
   ]
  },
  {
   "cell_type": "markdown",
   "metadata": {},
   "source": [
    "Actually `range` is a specific data type, which acts similar to a list, but actually never creates the a list itself."
   ]
  },
  {
   "cell_type": "markdown",
   "metadata": {},
   "source": [
    "## The `while` statement \n",
    "\n",
    "The `while`-loop starts with a condition and ends whenever the condition is not fulfilled anymore:"
   ]
  },
  {
   "cell_type": "code",
   "execution_count": null,
   "metadata": {},
   "outputs": [],
   "source": [
    "numbers = []\n",
    "num_drawn = 0\n",
    "while num_drawn < 10:\n",
    "    numbers.append(random.randint(-10,10))    \n",
    "    num_drawn += 1"
   ]
  },
  {
   "cell_type": "code",
   "execution_count": null,
   "metadata": {},
   "outputs": [],
   "source": [
    "numbers"
   ]
  },
  {
   "cell_type": "markdown",
   "metadata": {},
   "source": [
    "Sometimes `while` and `for` loops are similar and could be translated into each other:"
   ]
  },
  {
   "cell_type": "code",
   "execution_count": null,
   "metadata": {},
   "outputs": [],
   "source": [
    "# the equivalent for loop to the prev. while loop\n",
    "# in these instances the for loop should be used\n",
    "numbers = []\n",
    "for i in range(10):\n",
    "    numbers.append(random.randint(-10,10))\n",
    "numbers"
   ]
  },
  {
   "cell_type": "code",
   "execution_count": null,
   "metadata": {
    "tags": []
   },
   "outputs": [],
   "source": [
    "# however the while loop has other use cases\n",
    "input_wrong = True\n",
    "while input_wrong:\n",
    "    in_ = input(\"Please type in 3 characters string\"\n",
    "                \" not using all the same characters\")\n",
    "    if len(in_) != 3:\n",
    "        print(\"Please enter a 3 character string! \\n\"\n",
    "              \"Try again\")\n",
    "    elif in_[0] == in_[1] == in_[2]:\n",
    "        print(\"Please use different characters!\")\n",
    "        print(\"Try again!\")\n",
    "    else:\n",
    "        print(\"Thanks a lot. Enjoy\")\n",
    "        input_wrong = False"
   ]
  },
  {
   "cell_type": "markdown",
   "metadata": {},
   "source": [
    "Generally, whenever you now a break condition, but do not now how long it will take or how many iterations are necessary, a `while` loop is the better choice.\n"
   ]
  },
  {
   "cell_type": "markdown",
   "metadata": {},
   "source": [
    "## The `break`, `continue`, and `pass` statements\n",
    "\n",
    "The `break` statement _breaks_ the innermost enclosing `while` of `for` loop.\n",
    "\n",
    "The `continue` statement immediately skips to the next iteration ignoring all following code lines in the current iteration:"
   ]
  },
  {
   "cell_type": "code",
   "execution_count": null,
   "metadata": {},
   "outputs": [],
   "source": [
    "for num in range(2,10):\n",
    "    if num % 2 == 0:\n",
    "        print(\"Found an even number\", num)\n",
    "        continue\n",
    "    if num %7 == 0:\n",
    "        print(\"First multiple of seven found:\", num)\n",
    "        print(\"End!\")\n",
    "        break\n",
    "    print(\"Found an odd number\", num)"
   ]
  },
  {
   "cell_type": "markdown",
   "metadata": {},
   "source": [
    "The `pass` statement does exactly nothing!\n",
    "\n",
    "It can be used when a statement is required syntactically but the program requires no action. For example:"
   ]
  },
  {
   "cell_type": "code",
   "execution_count": null,
   "metadata": {},
   "outputs": [],
   "source": [
    "while True:\n",
    "    pass  # need a keyboard interrupt to end (or interrupt kernel)"
   ]
  },
  {
   "cell_type": "code",
   "execution_count": null,
   "metadata": {},
   "outputs": [],
   "source": [
    "if input_correct := 1:\n",
    "    print(\"I absolutely know what to do\")\n",
    "else:\n",
    "    pass # Reminder: Still need to figure out what to do"
   ]
  },
  {
   "cell_type": "markdown",
   "metadata": {},
   "source": [
    "**Remark**: I was to lazy to define `input_correct` before using it. Normally, this would result in an error:"
   ]
  },
  {
   "cell_type": "code",
   "execution_count": null,
   "metadata": {},
   "outputs": [],
   "source": [
    "if input_false:\n",
    "    print(\"now wrong:\")"
   ]
  },
  {
   "cell_type": "markdown",
   "metadata": {},
   "source": [
    "With python 3.8 the _walrus_ (`:=`) operator was introduced which allows the definition and assignments in statements. "
   ]
  },
  {
   "cell_type": "markdown",
   "metadata": {},
   "source": [
    "## The `else` clauses on loops\n",
    "In python, loops can have else clauses. These code blocks are executed whenever a loops have finished \"correctly\". So whenever the iterable was exhausted (for `for` loops) or the break condition became true (`while` loops). The `else` block is not evaluated when the loops is interrupted by a `break` statement.\n",
    "\n",
    "This is exemplified by the following loop, which searches for prime numbers:"
   ]
  },
  {
   "cell_type": "code",
   "execution_count": null,
   "metadata": {},
   "outputs": [],
   "source": [
    "# test numbers for primes\n",
    "for n in range(2, 8):\n",
    "    # try deviding\n",
    "    for x in range(2, n):\n",
    "        if n % x == 0:\n",
    "            print(n, 'equals', x, '*', n // x)\n",
    "            break\n",
    "    else:\n",
    "        # loop fell through without finding a factor\n",
    "        print(n, 'is a prime number')\n"
   ]
  },
  {
   "cell_type": "markdown",
   "metadata": {},
   "source": [
    "Notice that the `else` block is indented on the same level as the `for` loop. That might look weird on first sight, if you do not know the concept."
   ]
  },
  {
   "cell_type": "markdown",
   "metadata": {
    "tags": []
   },
   "source": [
    "\n",
    "## The `match` statement\n",
    "\n",
    "The `match` statement was introduced in python 3.10. Hence, you will not see it a lot in code, yet. \n",
    "That is why we will not go in details here.\n",
    "You can read about it in:\n",
    "- [Python doc: Tutorial - The match statement](https://docs.python.org/3.10/tutorial/controlflow.html#match-statements)\n",
    "- [Python ref: match](https://docs.python.org/3.10/reference/compound_stmts.html#the-match-statement)\n",
    "\n",
    "We will just have a look a two examples from the documentations, to see what it is meant to use for.\n",
    "\n",
    "The `match` statement takes an expression and compares its value to successive patterns given as one or more case blocks. It can also extract components (sequence elements or object attributes) from the value into variables."
   ]
  },
  {
   "cell_type": "code",
   "execution_count": null,
   "metadata": {},
   "outputs": [],
   "source": [
    "# simplest use case, similar to `switch` in C or Java\n",
    "http_status = 404\n",
    "match http_status:\n",
    "    case 400:\n",
    "        print(\"Bad request\")\n",
    "    case 404:\n",
    "        print(\"Not found\")\n",
    "    case 418:\n",
    "        print(\"I'm a teapot\")\n",
    "    case _:\n",
    "        print(\"Something's wrong with the internet\")"
   ]
  },
  {
   "cell_type": "code",
   "execution_count": null,
   "metadata": {},
   "outputs": [],
   "source": [
    "# a bit more complicated\n",
    "flag = False\n",
    "match (100, 200):\n",
    "    case (100, 300):  # Mismatch: 200 != 300\n",
    "        print('Case 1')\n",
    "    case (100, 200) if flag:  # Successful match, but guard fails\n",
    "        print('Case 2')\n",
    "    case (100, y):  # Matches and binds y to 200\n",
    "        print(f'Case 3, y: {y}')\n",
    "    case _:  # Pattern not attempted\n",
    "        print('Case 4, I match anything!')\n",
    "\n",
    "# Beware y is only defined when case case 3 was evaluated\n",
    "print(\"Extracted: \", y)"
   ]
  },
  {
   "cell_type": "markdown",
   "metadata": {},
   "source": [
    "<div class=\"alert alert-block alert-warning\">\n",
    "<b>Exercises:</b> \n",
    "    Solve the following exercises using conditions and loops\n",
    "</div>"
   ]
  },
  {
   "cell_type": "markdown",
   "metadata": {},
   "source": [
    "- Calculate the sum of all the numbers before a given number in a variable called `n`. E.g. for `n = 10` the result should be 55\n",
    "- Print a multiplication matrix for the number 1 to 10:\n",
    "```\n",
    "1 2 3 4 5 ...\n",
    "2 4 6 8 10 ...\n",
    "3 6 9 12 15 ...l = [\"mango\", \"banana\", \"apple\", \"orange\"]\n",
    "...\n",
    "```\n",
    "- Display number that can be divided by 6 from a list\n",
    "- Print only the even indexed character of the string\n",
    "- Print the sum of the previous number and the current number for all numbers 0...10\n",
    "- Calculate the power of 3 of all number from 1 to a given number in a variable called `n`\n",
    "- Print a pattern like\n",
    "```\n",
    "1\n",
    "1 2\n",
    "1 2 3\n",
    "1 2 3 4 \n",
    "1 2 3 4 5\n",
    "```\n",
    "- Print only entries from a list that are greater than a given number in a variable `n`\n",
    "- Print all entries of the following list except \"apple\"\n",
    "```\n",
    "l = [\"mango\", \"banana\", \"apple\", \"orange\"]\n",
    "```\n"
   ]
  },
  {
   "cell_type": "code",
   "execution_count": null,
   "metadata": {},
   "outputs": [
    {
     "name": "stdout",
     "output_type": "stream",
     "text": [
      "1\n",
      "2\n",
      "3\n",
      "4\n",
      "5\n",
      "6\n",
      "7\n",
      "8\n",
      "9\n",
      "10\n",
      "55\n"
     ]
    }
   ],
   "source": [
    "x = 0\n",
    "o =0\n",
    "n=10\n",
    "l= [1,2,3,4,5,6,7,8,9,10,11,12]\n",
    "while l[x] <= n:\n",
    "    print(l[x])\n",
    "    o +=l[x]\n",
    "    x += 1\n",
    "    \n",
    "print(o)\n",
    "    \n",
    "\n",
    "    \n",
    "    "
   ]
  },
  {
   "cell_type": "code",
   "execution_count": 122,
   "metadata": {},
   "outputs": [
    {
     "name": "stdout",
     "output_type": "stream",
     "text": [
      "[1, 2, 3, 4, 5, 6, 7, 8, 9, 10] 1\n",
      "[2, 4, 6, 8, 10, 12, 14, 16, 18, 20] 2\n",
      "[3, 6, 9, 12, 15, 18, 21, 24, 27, 30] 3\n",
      "[4, 8, 12, 16, 20, 24, 28, 32, 36, 40] 4\n",
      "[5, 10, 15, 20, 25, 30, 35, 40, 45, 50] 5\n",
      "[6, 12, 18, 24, 30, 36, 42, 48, 54, 60] 6\n",
      "[7, 14, 21, 28, 35, 42, 49, 56, 63, 70] 7\n",
      "[8, 16, 24, 32, 40, 48, 56, 64, 72, 80] 8\n",
      "[9, 18, 27, 36, 45, 54, 63, 72, 81, 90] 9\n"
     ]
    }
   ],
   "source": [
    "l= [1,2,3,4,5,6,7,8,9,10]\n",
    "k= [1,2,3,4,5,6,7,8,9,10]\n",
    "i=1\n",
    "j=0\n",
    "while i < 10:\n",
    "    for j in range(len(l)):\n",
    "        k[j] = l[j]* i\n",
    "        j += 1\n",
    "    print(k, i)\n",
    "    i += 1\n",
    "    "
   ]
  },
  {
   "cell_type": "code",
   "execution_count": 127,
   "metadata": {},
   "outputs": [
    {
     "name": "stdout",
     "output_type": "stream",
     "text": [
      "6\n",
      "12\n"
     ]
    }
   ],
   "source": [
    "l= [1, 3 , 6 , 12, 13]\n",
    "for element in l:\n",
    "    if element % 6 ==0:\n",
    "        print(element)\n"
   ]
  },
  {
   "cell_type": "code",
   "execution_count": 133,
   "metadata": {},
   "outputs": [
    {
     "name": "stdout",
     "output_type": "stream",
     "text": [
      "t\n",
      "i\n",
      " \n",
      "s\n",
      "a\n",
      "t\n",
      "s\n"
     ]
    }
   ],
   "source": [
    "s = \"this is a test\"\n",
    "for i, char in enumerate(s):\n",
    "    if i % 2 == 0:\n",
    "        print(char)"
   ]
  },
  {
   "cell_type": "code",
   "execution_count": 135,
   "metadata": {},
   "outputs": [
    {
     "name": "stdout",
     "output_type": "stream",
     "text": [
      "0\n",
      "1 + 0\n",
      "1\n",
      "2 + 1\n",
      "3\n",
      "3 + 2\n",
      "5\n",
      "4 + 3\n",
      "7\n",
      "5 + 4\n",
      "9\n",
      "6 + 5\n",
      "11\n",
      "7 + 6\n",
      "13\n",
      "8 + 7\n",
      "15\n",
      "9 + 8\n",
      "17\n"
     ]
    }
   ],
   "source": [
    "prev = None\n",
    "for i in range(10):\n",
    "    if i == 0:\n",
    "        print(0)\n",
    "    else:\n",
    "        print(i, \"+\", prev)\n",
    "        print(i+prev)\n",
    "    prev = i"
   ]
  },
  {
   "cell_type": "code",
   "execution_count": 144,
   "metadata": {},
   "outputs": [
    {
     "name": "stdout",
     "output_type": "stream",
     "text": [
      "0\n",
      "1\n",
      "8\n",
      "27\n",
      "64\n",
      "125\n",
      "216\n",
      "343\n",
      "512\n",
      "729\n"
     ]
    }
   ],
   "source": [
    "n = 10\n",
    "i = 0\n",
    "for i in range(n):\n",
    "    print(i**3)\n",
    "    i+=1\n",
    "    "
   ]
  },
  {
   "cell_type": "code",
   "execution_count": 147,
   "metadata": {},
   "outputs": [
    {
     "name": "stdout",
     "output_type": "stream",
     "text": [
      "[0]\n",
      "[0, 1]\n",
      "[0, 1, 2]\n",
      "[0, 1, 2, 3]\n",
      "[0, 1, 2, 3, 4]\n",
      "[0, 1, 2, 3, 4, 5]\n",
      "[0, 1, 2, 3, 4, 5, 6]\n",
      "[0, 1, 2, 3, 4, 5, 6, 7]\n",
      "[0, 1, 2, 3, 4, 5, 6, 7, 8]\n",
      "[0, 1, 2, 3, 4, 5, 6, 7, 8, 9]\n"
     ]
    }
   ],
   "source": [
    "n = 10\n",
    "i = 0\n",
    "l = []\n",
    "for i in range(n):\n",
    "    l.append(i)\n",
    "    print(l)\n",
    "    i+=1"
   ]
  },
  {
   "cell_type": "code",
   "execution_count": 165,
   "metadata": {},
   "outputs": [
    {
     "name": "stdout",
     "output_type": "stream",
     "text": [
      "4\n",
      "5\n",
      "6\n",
      "7\n",
      "8\n",
      "9\n",
      "10\n",
      "11\n",
      "12\n"
     ]
    }
   ],
   "source": [
    "l= [1,2,3,4,5,6,7,8,9,10,11,12]\n",
    "n = 3\n",
    "i=0\n",
    "\n",
    "for i in range(len(l)):\n",
    "    if l[i] > n:\n",
    "        print(l[i])\n"
   ]
  },
  {
   "cell_type": "code",
   "execution_count": 177,
   "metadata": {},
   "outputs": [
    {
     "name": "stdout",
     "output_type": "stream",
     "text": [
      "mango\n",
      "banana\n",
      "orange\n"
     ]
    }
   ],
   "source": [
    "l = [\"mango\", \"banana\", \"apple\", \"orange\"]\n",
    "for elements in l:\n",
    "    if elements == \"apple\":\n",
    "        continue\n",
    "    print(elements)\n"
   ]
  },
  {
   "cell_type": "markdown",
   "metadata": {},
   "source": [
    "# Functions\n",
    "[Back to Contents](#Contents)\n",
    "\n",
    "Functions are used to enable convenient code re-use. Generally, whenever you find that you need to use code more than once, think about defining a function you can use whenever you like.\n",
    "\n",
    "We will have a look at two function definitions and discuss the differences:"
   ]
  },
  {
   "cell_type": "code",
   "execution_count": null,
   "metadata": {},
   "outputs": [],
   "source": [
    "def fib(n):\n",
    "    a, b = 0, 1\n",
    "    while a < n:\n",
    "        print(a, end=' ')\n",
    "        a, b = b, a+b\n"
   ]
  },
  {
   "cell_type": "code",
   "execution_count": null,
   "metadata": {},
   "outputs": [],
   "source": [
    "def print_fib_series(max_num: int) -> None:\n",
    "    \"\"\"Print a Fibonacci series up to max_num.\n",
    "    \n",
    "    Args:\n",
    "        max_num - number up to which the Fibonacci series is printed.\n",
    "    \"\"\"\n",
    "    # Start conditions\n",
    "    a, b = 0, 1\n",
    "    while a < max_num:\n",
    "        print(a, end=' ')\n",
    "        a, b = b, a+b\n",
    "    return None  # this is also not best practice."
   ]
  },
  {
   "cell_type": "markdown",
   "metadata": {},
   "source": [
    "Let's dicuss what we can see:\n",
    "- the `def` keyword signals the beginning of a new function creation or _definition_\n",
    "- a function definition has to look like:\n",
    "  ```python\n",
    "  def funtion_name(arguments: type_hints) -> return_type_hint:\n",
    "      \"\"\"doc string\"\"\"\n",
    "      # well, do something clever\n",
    "      return  # return anything back\n",
    "  ```  \n",
    "- the `fib` function shows the bare minimum for the function to work\n",
    "- the `print_fib_series` shows the best practice to write a python function. A lot is not needed, but do you think it helps to understand the function and make it more maintainable?\n",
    "- docstrings come right after the function definition. Why have 'em? See below.\n",
    "- Type hints `argument: type` can be used to clarify expected types going in or out (` -> type`) a function. Python will not use those, but many editors can check them. Helps in development.\n",
    "- You can use comments to clarify ideas in the code\n",
    "- `return` allows for the function to give back a value or object. Default is `None`. Hence, `return None` is mostly use for function that normally would return a value. Otherwise, it would not be written in the function. \n",
    "\n",
    "Coming back to docstrings:"
   ]
  },
  {
   "cell_type": "code",
   "execution_count": null,
   "metadata": {},
   "outputs": [],
   "source": [
    "fib?"
   ]
  },
  {
   "cell_type": "code",
   "execution_count": null,
   "metadata": {},
   "outputs": [],
   "source": [
    "print_fib_series?"
   ]
  },
  {
   "cell_type": "markdown",
   "metadata": {},
   "source": [
    "<div class=\"alert alert-block alert-info\">\n",
    "<b>Note:</b> \n",
    "    You will hear the terms <i>function</i> and <i>method</i>. The difference is that <i>methods</i>, generally, belong to an object. E.g. for <code>list().append</code>: <code>append</code> is a <i>method</i> of a list object. \n",
    "</div>\n"
   ]
  },
  {
   "cell_type": "markdown",
   "metadata": {},
   "source": [
    "## Function arguments\n",
    "\n",
    "An important part of a function definition are the arguments given to a function. This defines how a user or programm can use the function. There are several way to define those."
   ]
  },
  {
   "cell_type": "markdown",
   "metadata": {},
   "source": [
    "### Default arguments\n",
    "Default arguments allow to use the function with less specificly defined arguments.\n",
    "\n",
    "In our current definition, we cannot use the `print_fib_series` without defining the `max_num` argument"
   ]
  },
  {
   "cell_type": "code",
   "execution_count": null,
   "metadata": {},
   "outputs": [],
   "source": [
    "print_fib_series()"
   ]
  },
  {
   "cell_type": "markdown",
   "metadata": {},
   "source": [
    "This can be changed by defining a default argument"
   ]
  },
  {
   "cell_type": "code",
   "execution_count": null,
   "metadata": {},
   "outputs": [],
   "source": [
    "def print_fib_series(max_num: int = 14) -> None:\n",
    "    \"\"\"Print a Fibonacci series up to max_num.\n",
    "    \n",
    "    Args:\n",
    "        max_num - number up to which the Fibonacci\n",
    "                  series is printed (Default: 14).\n",
    "    \"\"\"\n",
    "    # Start conditionsFunction\n",
    "    a, b = 0, 1\n",
    "    while a < max_num:\n",
    "        print(a, end=' ')\n",
    "        a, b = b, a+b"
   ]
  },
  {
   "cell_type": "code",
   "execution_count": null,
   "metadata": {},
   "outputs": [],
   "source": [
    "# simply call without arguments\n",
    "print_fib_series()"
   ]
  },
  {
   "cell_type": "code",
   "execution_count": null,
   "metadata": {},
   "outputs": [],
   "source": [
    "# call with a positional argument\n",
    "print_fib_series(5)"
   ]
  },
  {
   "cell_type": "code",
   "execution_count": null,
   "metadata": {},
   "outputs": [],
   "source": [
    "# call with a keyword argument\n",
    "print_fib_series(max_num=20)"
   ]
  },
  {
   "cell_type": "markdown",
   "metadata": {},
   "source": [
    "### Positional vs keyword arguments\n",
    "How can these different ways of calling a function be utilized?\n",
    "\n",
    "We need a function with more than one argument to see that. E.g. a confirmation function:"
   ]
  },
  {
   "cell_type": "code",
   "execution_count": null,
   "metadata": {},
   "outputs": [],
   "source": [
    "def ask_ok(prompt: str, retries: int = 3,\n",
    "           reminder: str = 'Please try again.') -> bool:\n",
    "    \"\"\" Asks for user confirmation.\n",
    "    \n",
    "    Args:\n",
    "       - prompt: Text shown for confirmation\n",
    "       - retries: Number of possible retries per call\n",
    "                  (Default: 3)\n",
    "       - reminder: Text to remind the user of restrictions.\n",
    "                   (Default: 'Please try again.')\n",
    "    Return:\n",
    "       - bool for confirmation\n",
    "       - raise: ValueError when number of bad inputs\n",
    "                greater than retries\n",
    "    \"\"\"\n",
    "    while True:\n",
    "        ok = input(prompt)\n",
    "        if ok in ('y', 'ye', 'yes'):\n",
    "            return True\n",
    "        if ok in ('n', 'no', 'nop', 'nope'):\n",
    "            return False\n",
    "        retries = retries - 1\n",
    "        if retries <= 0:\n",
    "            # Dangerous to return a value as all\n",
    "            # Values can be interpreted as True or False\n",
    "            # Hence, return or raise an Error\n",
    "            raise ValueError('invalid user response')\n",
    "        print(reminder)"
   ]
  },
  {
   "cell_type": "markdown",
   "metadata": {},
   "source": [
    "Here, we have defined one mandatory argument `prompt` and two optional arguments `retries` and `reminder`.\n",
    "\n",
    "These arguments can be provided either via positional or via keyword (or named) arguments:"
   ]
  },
  {
   "cell_type": "code",
   "execution_count": null,
   "metadata": {},
   "outputs": [],
   "source": [
    "# purely positional\n",
    "ask_ok(\"Want to confirm that? [y/n]\",\n",
    "       2,\n",
    "       \"Please only answer mit yes [y] or no [n]\")"
   ]
  },
  {
   "cell_type": "code",
   "execution_count": null,
   "metadata": {
    "tags": []
   },
   "outputs": [],
   "source": [
    "# the order has to follow the argument definition\n",
    "# else it can go wrong:\n",
    "ask_ok(\"Want to confirm that? [y/n]\",\n",
    "       \"Please only answer mit yes [y] or no [n]\",\n",
    "       2)"
   ]
  },
  {
   "cell_type": "code",
   "execution_count": null,
   "metadata": {
    "tags": []
   },
   "outputs": [],
   "source": [
    "# skipping an named argument is not possible\n",
    "# still the second argument will be interpreted as\n",
    "# the `retries` input.\n",
    "ask_ok(\"Want to confirm that? [y/n]\",\n",
    "       \"Please only answer mit yes [y] or no [n]\")"
   ]
  },
  {
   "cell_type": "code",
   "execution_count": null,
   "metadata": {},
   "outputs": [],
   "source": [
    "# purely keyword / named\n",
    "ask_ok(prompt=\"Want to confirm that? [y/n]\",\n",
    "       retries=2,\n",
    "       reminder=\"Please only answer mit yes [y] or no [n]\")"
   ]
  },
  {
   "cell_type": "code",
   "execution_count": null,
   "metadata": {},
   "outputs": [],
   "source": [
    "# for keyword arguments the order does not matter\n",
    "ask_ok(reminder=\"Please only answer mit yes [y] or no [n]\",\n",
    "       prompt=\"Want to confirm that? [y/n]\",\n",
    "       retries=2)"
   ]
  },
  {
   "cell_type": "code",
   "execution_count": null,
   "metadata": {},
   "outputs": [],
   "source": [
    "# positional and keyword\n",
    "ask_ok(\"Want to confirm that? [y/n]\",\n",
    "       retries=2,\n",
    "       reminder=\"Please only answer mit yes [y] or no [n]\")"
   ]
  },
  {
   "cell_type": "code",
   "execution_count": null,
   "metadata": {},
   "outputs": [],
   "source": [
    "# if you use positional and keyword arguments,\n",
    "# you can only start with positional and not mixing\n",
    "# with keyword arguments\n",
    "ask_ok(prompt=\"Want to confirm that? [y/n]\",\n",
    "       2,\n",
    "       reminder=\"Please only answer mit yes [y] or no [n]\")"
   ]
  },
  {
   "cell_type": "code",
   "execution_count": null,
   "metadata": {},
   "outputs": [],
   "source": [
    "# positional arguments can be passed using lists\n",
    "# keyword arguments can be passed using dicts\n",
    "# this is very handy for passing configurations to\n",
    "# functions (those often come as dicts or lists)\n",
    "confirm_config_list = [\"Want to confirm that? [y/n]\",\n",
    "                       2,\n",
    "                       \"Please only answer mit yes [y] or no [n]\"]\n",
    "confirm_config = {\n",
    "    \"prompt\": \"Want to confirm that? [y/n]\",\n",
    "    \"retries\": 2,\n",
    "    \"reminder\": \"Please only answer mit yes [y] or no [n]\"\n",
    "}"
   ]
  },
  {
   "cell_type": "code",
   "execution_count": null,
   "metadata": {},
   "outputs": [],
   "source": [
    "ask_ok(*confirm_config_list)"
   ]
  },
  {
   "cell_type": "code",
   "execution_count": null,
   "metadata": {},
   "outputs": [],
   "source": [
    "ask_ok(**confirm_config)"
   ]
  },
  {
   "cell_type": "markdown",
   "metadata": {},
   "source": [
    "You will find similar constructs in function definitions, too.\n",
    "```python\n",
    "def ask_ok(prompt: str,\n",
    "           *args,\n",
    "           retries: int = 3,\n",
    "           reminder: str = 'Please try again.',\n",
    "           **kwargs) -> bool:\n",
    "```\n",
    "What do they do?\n",
    "As you might have guessed:\n",
    "- `args` stands for (positional) arguments\n",
    "- `kwargs` stands for keyword arguments\n",
    "\n",
    "`args` allows to give an arbitrary number of positional arguments to the function including zero argments. As positional arguments are a) mandatory and b) have to specified before keyword arguments, `*args` is not as widely used. \n",
    "\n",
    "`**kwargs` allows to give an arbitrary number of keyword arguments to the function. This is especially useful for passing keyword arguments to inner function calls without defining them in the own function call."
   ]
  },
  {
   "cell_type": "code",
   "execution_count": null,
   "metadata": {},
   "outputs": [],
   "source": [
    "def ask_ok(prompt: str,\n",
    "           #*args, # defining args here, forces retries and reminder to be keyword parameters\n",
    "           retries: int = 3,\n",
    "           reminder: str = 'Please try again.',\n",
    "           *args, # defining args here, forces retries and reminder to be given as positional parameters in function call\n",
    "           **kwargs) -> bool:\n",
    "    \"\"\" Asks for user confirmation.\n",
    "    \n",
    "    Args:\n",
    "       - prompt: Text shown for confirmation\n",
    "       - retries: Number of possible retries per call\n",
    "                  (Default: 3)\n",
    "       - reminder: Text to remind the user of restrictions.\n",
    "                   (Default: 'Please try again.')\n",
    "       - args: printed before confirmation\n",
    "       - kwargs: passed to print function for reminder.\n",
    "    Return:\n",
    "       - bool for confirmation\n",
    "       - raise: ValueError when number of bad inputs\n",
    "                greater than retries\n",
    "    \"\"\"\n",
    "    while True:\n",
    "        print(\"len args :\", len(args))\n",
    "        print(args)\n",
    "        ok = input(prompt)\n",
    "        if ok in ('y', 'ye', 'yes'):\n",
    "            return True\n",
    "        if ok in ('n', 'no', 'nop', 'nope'):\n",
    "            return False\n",
    "        retries = retries - 1\n",
    "        if retries <= 0:\n",
    "            # Dangerous to return a value as all\n",
    "            # Values can be interpreted as True or False\n",
    "            # Hence, return or raise an Error\n",
    "            raise ValueError('invalid user response')\n",
    "        print(reminder, **kwargs)"
   ]
  },
  {
   "cell_type": "code",
   "execution_count": null,
   "metadata": {
    "tags": []
   },
   "outputs": [],
   "source": [
    "ask_ok(\"Want to confirm that? [y/n]\",\n",
    "       # \"You just entered\", \"your pin code...\",\n",
    "       2,\n",
    "       \"Please only answer mit yes [y] or no [n]\",\n",
    "       \"You just entered\", \"your pin code...\",\n",
    "       end=\"  \\\\\\\\\\\\\\ \\n\")"
   ]
  },
  {
   "cell_type": "markdown",
   "metadata": {},
   "source": [
    "## Lambda expressions\n",
    "_Lambda_ expressions are anonymous functions limited to a single expression.\n",
    "\n",
    "Lambda expressions are often used as inline calculations or selections, where you do not want to create new object or more lines of code."
   ]
  },
  {
   "cell_type": "code",
   "execution_count": null,
   "metadata": {},
   "outputs": [],
   "source": [
    "pairs = [[4, 'four'], [1, 'one'], [3, 'three'], [2, 'two']]\n",
    "pairs.sort()\n",
    "pairs"
   ]
  },
  {
   "cell_type": "code",
   "execution_count": null,
   "metadata": {},
   "outputs": [],
   "source": [
    "pairs.sort(key=lambda pair: pair[1])\n",
    "pairs"
   ]
  },
  {
   "cell_type": "code",
   "execution_count": null,
   "metadata": {},
   "outputs": [],
   "source": [
    "# Very hand inline calculations in map operations\n",
    "# very common in data science toolings\n",
    "map?"
   ]
  },
  {
   "cell_type": "code",
   "execution_count": null,
   "metadata": {},
   "outputs": [],
   "source": [
    "list(map(lambda x: (x+2)**2, [1, 2, 3, 4]))"
   ]
  },
  {
   "cell_type": "markdown",
   "metadata": {},
   "source": [
    "<div class=\"alert alert-block alert-info\">\n",
    "<b>Note:</b> \n",
    "    Avoid <i>defining</i> a lambda: <code>f = lambda x: x**2</code>. Here, you should use a function: <code>def f(x): x**2</code>. \n",
    "</div>\n"
   ]
  },
  {
   "cell_type": "markdown",
   "metadata": {},
   "source": [
    "<div class=\"alert alert-block alert-warning\">\n",
    "<b>Exercises:</b> \n",
    "    Define functions to solve the exercises.\n",
    "</div>"
   ]
  },
  {
   "cell_type": "markdown",
   "metadata": {},
   "source": [
    "\n",
    "- Write a function that takes two arguments `name` and `age` and prints the values\n",
    "- Write a function that return the sum and the difference of two input arguments `x` and `y`\n",
    "- Write a function that prints the keys and values of the following dict:\n",
    "```\n",
    "d = {\n",
    "\"python\": 1,\n",
    "\"c#\": 4,\n",
    "\"java\": 2,\n",
    "\"C++\":3\n",
    "}\n",
    "```\n",
    "- Write a function that calculated the factorial of input `n`. Make `n` using a default value of 10.\n",
    "- Write a function that calculates the square-root of every item in a list using a `map`.\n",
    "- What do you think, can functions call themselves?\n",
    "- Write a function that takes a string argument and returns the most commen character in that string.\n",
    "\n"
   ]
  }
 ],
 "metadata": {
  "interpreter": {
   "hash": "42f96776423ce5bcf2cefb347649114e609c38f4a27a8ff6e0a36df6e1e19a22"
  },
  "kernelspec": {
   "display_name": "Basics [py3.10]",
   "language": "python",
   "name": "basics_py310"
  },
  "language_info": {
   "codemirror_mode": {
    "name": "ipython",
    "version": 3
   },
   "file_extension": ".py",
   "mimetype": "text/x-python",
   "name": "python",
   "nbconvert_exporter": "python",
   "pygments_lexer": "ipython3",
   "version": "3.10.4"
  },
  "toc-autonumbering": true,
  "toc-showcode": true,
  "toc-showmarkdowntxt": true,
  "toc-showtags": true
 },
 "nbformat": 4,
 "nbformat_minor": 4
}
