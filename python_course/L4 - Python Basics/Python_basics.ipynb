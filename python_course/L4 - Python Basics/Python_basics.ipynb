{
 "cells": [
  {
   "cell_type": "code",
   "execution_count": null,
   "metadata": {
    "tags": []
   },
   "outputs": [],
   "source": [
    "from jupyterquiz import display_quiz"
   ]
  },
  {
   "cell_type": "markdown",
   "metadata": {},
   "source": [
    "# Contents\n",
    "- [Create a Jupyter kernel](#Before-we-start:-Jupyter-kernels)\n",
    "- [How can I get help?](#How-can-I-get-help?)\n",
    "  - [The python `help()` function](#The-python-help()-function)\n",
    "  - [Jupter notebooks shortcuts](#Jupter-notebooks-shortcuts)\n",
    "- [Python calculations and variables](#Python-calculations-and-variables)\n",
    "- [Data structures I](#Data-structures-I)\n",
    "  - [Lists](#Lists)\n",
    "    - [Indexing and slicing](Indexing-and-slicing)\n",
    "    - [Changing list content](Changing-list-content)\n",
    "    - [Other sequence methods](Other-sequence-methods)\n",
    "  - [Strings I](#Strings-I)\n",
    "  - [Mappings: dict](#Mappings:-dict)\n",
    "  - [Boolean](#Boolean)\n",
    "    - [Logical operators](#Logical-operators)\n",
    "    - [Comparisons](#Comparisons)\n",
    "- [Flow control](#Flow-control)\n",
    "  - [The `if` statement](#The-if-statement)\n",
    "  - [The `for` statement](#The-for-statement)\n",
    "  - [The `while` statement](#The-while-statement)\n",
    "  - [The `break`, `continue`, and `pass` statements](#The-break,-continue,-and-pass-statements)\n",
    "  - [The `else` clauses on loops](#The-else-clauses-on-loops)\n",
    "\n",
    "- [Functions](#Functions)\n",
    "  - [Function arguments](#Function-arguments)\n",
    "    - [Default arguments](#Default-arguments)\n",
    "    - [Positional vs keyword arguments](#Positional-vs-keyword-arguments)\n",
    "  - [Lambda expressions](#Lambda-expressions)\n",
    "- [Data structures II](#Data-structures-II)\n",
    "  - [Mutable and immutable objects](#Mutable-and-immutable-objects)\n",
    "  - [Sequences](#Sequences:-list,-tuple,-range)\n",
    "  - [Sets](#Sets)\n",
    "  - [Comprehensions](#Comprehensions)\n",
    "  - [Strings II](#Strings-II)\n",
    "    - [Helpful methods](#Helpful-methods)\n",
    "    - [Formatting](#Formatting)\n",
    "- [Classes](#Classes)\n",
    "- [Modules](#Modules)\n",
    "- [Further reads](#Further-reads)"
   ]
  },
  {
   "cell_type": "markdown",
   "metadata": {},
   "source": [
    "# Before we start: Jupyter kernels"
   ]
  },
  {
   "cell_type": "markdown",
   "metadata": {},
   "source": [
    "- We want to use all the specific installations from our virtual environment\n",
    "- We need to 'pack' those into a _Jupter kernel_\n",
    "- activate your environment in a terminal:\n",
    "```\n",
    "ipython kernel install --name basics_py310 --display-name \"Basics [py3.10]\" --user\n",
    "```\n",
    "- choose the _Basics [py3.10]_ kernel from the kernel list"
   ]
  },
  {
   "cell_type": "markdown",
   "metadata": {
    "tags": []
   },
   "source": [
    "# How can I get help?\n",
    "[Back to Contents](#Contents)"
   ]
  },
  {
   "cell_type": "markdown",
   "metadata": {},
   "source": [
    "## The python help() function"
   ]
  },
  {
   "cell_type": "markdown",
   "metadata": {},
   "source": [
    "Just to mention it: you do not need to use jupyter notebooks in order to use python.\n",
    "\n",
    "Just open up a terminal and type `python`. You will end in a python interactive session. You can exit the session by entering `exit()` command or pressing `Ctrl+d` (`command + d` on MacOS?).\n",
    "\n",
    "**Comment**: The only use case, I use the basic python session is to quickly test command syntax when I do not have a jupyter session running.\n",
    "\n",
    "However, as a new user, `python` doesn't let you totally alone\n",
    "```bash\n",
    ">> python\n",
    "Python 3.10.4 (main, Mar 31 2022, 08:41:55) [GCC 7.5.0] on linux\n",
    "Type \"help\", \"copyright\", \"credits\" or \"license\" for more information.\n",
    "\n",
    "```"
   ]
  },
  {
   "cell_type": "code",
   "execution_count": null,
   "metadata": {},
   "outputs": [],
   "source": [
    "help"
   ]
  },
  {
   "cell_type": "markdown",
   "metadata": {},
   "source": [
    "We can explore it a bit. Also to get used to some lingo"
   ]
  },
  {
   "cell_type": "code",
   "execution_count": null,
   "metadata": {},
   "outputs": [],
   "source": [
    "# beware this will, out of the box, not work in VS Code\n",
    "# You can use dedicated jupter or jupyter-lab sessions.\n",
    "help()"
   ]
  },
  {
   "cell_type": "markdown",
   "metadata": {},
   "source": [
    "**Summary: the interactive help is really useful, if you already know what to look for**\n",
    "\n",
    "**Comment**: I have never used it before ;)\n",
    "\n",
    "Except for:"
   ]
  },
  {
   "cell_type": "code",
   "execution_count": null,
   "metadata": {},
   "outputs": [],
   "source": [
    "help(print)"
   ]
  },
  {
   "cell_type": "markdown",
   "metadata": {},
   "source": [
    "## Jupter notebooks shortcuts"
   ]
  },
  {
   "cell_type": "markdown",
   "metadata": {},
   "source": [
    "In jupyter notebooks, there is an even faster way to get the documentation:"
   ]
  },
  {
   "cell_type": "code",
   "execution_count": null,
   "metadata": {},
   "outputs": [],
   "source": [
    "print?"
   ]
  },
  {
   "cell_type": "markdown",
   "metadata": {
    "tags": []
   },
   "source": [
    "# Python calculations and variables\n",
    "[Back to Contents](#Contents)\n",
    "\n",
    "Often called a 'scripting' language, `python` does not need compiled programms to be useful. This makes it very easy to start with.\n",
    "\n",
    "We did already calculation in our tooling setup tests:"
   ]
  },
  {
   "cell_type": "code",
   "execution_count": null,
   "metadata": {},
   "outputs": [],
   "source": [
    "1 + 1"
   ]
  },
  {
   "cell_type": "code",
   "execution_count": null,
   "metadata": {},
   "outputs": [],
   "source": [
    "# 4 squared\n",
    "4 ** 2"
   ]
  },
  {
   "cell_type": "code",
   "execution_count": null,
   "metadata": {},
   "outputs": [],
   "source": [
    "2 ** 4"
   ]
  },
  {
   "cell_type": "code",
   "execution_count": null,
   "metadata": {},
   "outputs": [],
   "source": [
    "# square-root of 16\n",
    "16 ** 0.5"
   ]
  },
  {
   "cell_type": "code",
   "execution_count": null,
   "metadata": {},
   "outputs": [],
   "source": [
    "# general math rules apply\n",
    "1 + 2 ** 2 * 3"
   ]
  },
  {
   "cell_type": "code",
   "execution_count": null,
   "metadata": {},
   "outputs": [],
   "source": [
    "(1 + 2) ** 2 * 3"
   ]
  },
  {
   "cell_type": "markdown",
   "metadata": {},
   "source": [
    "All the typical operations can be used: `+`, `-`, `*`, or `/`.\n",
    "\n",
    "- Integer numbers are of type `int` \n",
    "- Fractions have a `float` type\n",
    "- Complex number have type `complex` with imaginary symbol being `j`"
   ]
  },
  {
   "cell_type": "code",
   "execution_count": null,
   "metadata": {},
   "outputs": [],
   "source": [
    "int_a = 2\n",
    "float_b = 4.\n",
    "complex_c = 3j"
   ]
  },
  {
   "cell_type": "code",
   "execution_count": null,
   "metadata": {},
   "outputs": [],
   "source": [
    "print(type(int_a))\n",
    "print(type(float_b))\n",
    "print(type(complex_c))"
   ]
  },
  {
   "cell_type": "markdown",
   "metadata": {},
   "source": [
    "You can convert to other types by using `int`, `float`, or `complex` methods:"
   ]
  },
  {
   "cell_type": "code",
   "execution_count": null,
   "metadata": {},
   "outputs": [],
   "source": [
    "print(type(int(float_b)))\n",
    "print(type(float(int_a)))\n",
    "print(type(complex(float_b)))\n",
    "print(type(complex(int_a)))\n"
   ]
  },
  {
   "cell_type": "markdown",
   "metadata": {},
   "source": [
    "However, converting complex into other number types, will fail:"
   ]
  },
  {
   "cell_type": "code",
   "execution_count": null,
   "metadata": {},
   "outputs": [],
   "source": [
    "int(complex_c)"
   ]
  },
  {
   "cell_type": "code",
   "execution_count": null,
   "metadata": {},
   "outputs": [],
   "source": [
    "float(complex_c)"
   ]
  },
  {
   "cell_type": "markdown",
   "metadata": {},
   "source": [
    "I don't think, I ever used complex numbers type explicitly, yet. So, let's focus on `int` and `floats` for now:\n",
    "\n",
    "- Divisions (`/`) always print's a `float`\n",
    "  - This can be different in 3rd party implementations, where the resulting type may depend on the operator's input types \n",
    "- To do floor division and get an integer result (discarding any fractional result) you can use the `//` operator\n",
    "- The rest or remainder you can use `%` (modulo operation)\n",
    "- There is full support the `floats`: you can use different types for the calculations, e.g. mix `float` and `int` types.\n",
    "- `Float` allows to define _infinity_ values (`\"inf\"`) and _not a number_ values (`\"nan\"`)"
   ]
  },
  {
   "cell_type": "markdown",
   "metadata": {},
   "source": [
    "<div class=\"alert alert-block alert-warning\">\n",
    "<b>Example:</b> \n",
    "Let us investigate some example calculations.\n",
    "</div>"
   ]
  },
  {
   "cell_type": "code",
   "execution_count": null,
   "metadata": {
    "tags": []
   },
   "outputs": [],
   "source": [
    "17 / 3"
   ]
  },
  {
   "cell_type": "code",
   "execution_count": null,
   "metadata": {},
   "outputs": [],
   "source": [
    "17 // 3"
   ]
  },
  {
   "cell_type": "code",
   "execution_count": null,
   "metadata": {},
   "outputs": [],
   "source": [
    "17 % 3"
   ]
  },
  {
   "cell_type": "code",
   "execution_count": null,
   "metadata": {},
   "outputs": [],
   "source": [
    "(17 // 3) * 3 + 17 % 3"
   ]
  },
  {
   "cell_type": "code",
   "execution_count": null,
   "metadata": {},
   "outputs": [],
   "source": [
    "3 * 9"
   ]
  },
  {
   "cell_type": "code",
   "execution_count": null,
   "metadata": {},
   "outputs": [],
   "source": [
    "3. * 9"
   ]
  },
  {
   "cell_type": "code",
   "execution_count": null,
   "metadata": {},
   "outputs": [],
   "source": [
    "float(\"nan\")"
   ]
  },
  {
   "cell_type": "code",
   "execution_count": null,
   "metadata": {},
   "outputs": [],
   "source": [
    "float(\"inf\")"
   ]
  },
  {
   "cell_type": "code",
   "execution_count": null,
   "metadata": {},
   "outputs": [],
   "source": [
    "# You can use `_` to improve readability\n",
    "100_000"
   ]
  },
  {
   "cell_type": "code",
   "execution_count": null,
   "metadata": {},
   "outputs": [],
   "source": [
    "# or to troll, but don't do it. In reality this only burns money\n",
    "1_0_0_00_0"
   ]
  },
  {
   "cell_type": "markdown",
   "metadata": {},
   "source": [
    "---\n",
    "\n",
    "---"
   ]
  },
  {
   "cell_type": "code",
   "execution_count": null,
   "metadata": {
    "tags": []
   },
   "outputs": [],
   "source": [
    "display_quiz(\"quizzes/calculations_questions.json\")"
   ]
  },
  {
   "cell_type": "markdown",
   "metadata": {},
   "source": [
    "We can quickly test it:"
   ]
  },
  {
   "cell_type": "code",
   "execution_count": null,
   "metadata": {
    "tags": []
   },
   "outputs": [],
   "source": [
    "# check power function priority\n",
    "print(-3**2)\n",
    "print((-3)**2)\n",
    "# You can use the built-in function `type` to check an object's type\n",
    "print(\"Floor division using purely interger: \", 21 // 5, ',', type(21 // 5))\n",
    "print(\"Floor division btw. float and int: \", 21. // 5, ',', type(21. // 5))"
   ]
  },
  {
   "cell_type": "markdown",
   "metadata": {
    "tags": []
   },
   "source": [
    "---\n",
    "\n",
    "---"
   ]
  },
  {
   "cell_type": "markdown",
   "metadata": {},
   "source": [
    "Calculations itself are not exceptionally useful when you cannot store the results somehow.\n",
    "\n",
    "This can be achieved by __variables__. A variable tells the programm where a value is stored or, in other words, points to the memory location of the value.\n",
    "\n",
    "During iterative calculations the last printout is assigned to the `_` variable:"
   ]
  },
  {
   "cell_type": "code",
   "execution_count": null,
   "metadata": {},
   "outputs": [],
   "source": [
    "3 ** 6 % 16"
   ]
  },
  {
   "cell_type": "code",
   "execution_count": null,
   "metadata": {},
   "outputs": [],
   "source": [
    "# last printout\n",
    "_"
   ]
  },
  {
   "cell_type": "code",
   "execution_count": null,
   "metadata": {},
   "outputs": [],
   "source": [
    "# obviously still the same\n",
    "_"
   ]
  },
  {
   "cell_type": "code",
   "execution_count": null,
   "metadata": {},
   "outputs": [],
   "source": [
    "# You could also use the output\n",
    "_ + 2"
   ]
  },
  {
   "cell_type": "markdown",
   "metadata": {},
   "source": [
    "The value of the `_` variable, therefore, gets constantly overwritten. \n",
    "\n",
    "A more sustainable way is to use the `=` sign. However, not as an equal sign, but as an assignment operator. \n",
    "You can asign the result of a calculation or more generally anything to a _variable_."
   ]
  },
  {
   "cell_type": "code",
   "execution_count": null,
   "metadata": {},
   "outputs": [],
   "source": [
    "# assignments will not directly result in a printout\n",
    "a = 2\n",
    "b = 3.0\n",
    "result = (a ** 2 + b ** 2) ** 0.5\n",
    "# you need to add a print to see it in the same cell\n",
    "print(result)"
   ]
  },
  {
   "cell_type": "code",
   "execution_count": null,
   "metadata": {},
   "outputs": [],
   "source": [
    "# or use the next cell\n",
    "result"
   ]
  },
  {
   "cell_type": "markdown",
   "metadata": {},
   "source": [
    "Variables begin to exist with the assginment of a value. If you try to use a variable that don't exist, you will get an error."
   ]
  },
  {
   "cell_type": "code",
   "execution_count": null,
   "metadata": {},
   "outputs": [],
   "source": [
    "another_result_"
   ]
  },
  {
   "cell_type": "markdown",
   "metadata": {},
   "source": [
    "`is not defined` means that the Programm does not now what this statement should be. It is not defined how the program should use this 'statement', hence, it needs to fail.\n",
    "\n",
    "Python variables :\n",
    "- have to start with a letter (a-z, A-Z) or an underscore ('\\_')\n",
    "- cannot start with a number\n",
    "- only alpha-numerical charaters and underscrores are allowed (A-z, 0-9, and \\_)\n",
    "- variable names are case-sensitive (X and x are two different variables)"
   ]
  },
  {
   "cell_type": "markdown",
   "metadata": {},
   "source": [
    "<div class=\"alert alert-block alert-warning\">\n",
    "    <b> Examples: </b>Are those assignments legit?\n",
    "</div>"
   ]
  },
  {
   "cell_type": "code",
   "execution_count": null,
   "metadata": {},
   "outputs": [],
   "source": [
    "# Yes or no?\n",
    "_x1 = 1"
   ]
  },
  {
   "cell_type": "code",
   "execution_count": null,
   "metadata": {},
   "outputs": [],
   "source": [
    "# Yes or no?\n",
    "x_09X = 9"
   ]
  },
  {
   "cell_type": "code",
   "execution_count": null,
   "metadata": {
    "tags": []
   },
   "outputs": [],
   "source": [
    "# Yes or no?\n",
    "2_good = 2"
   ]
  },
  {
   "cell_type": "code",
   "execution_count": null,
   "metadata": {},
   "outputs": [],
   "source": [
    "# Yes or no?\n",
    "newResult_ = 5 % 4"
   ]
  },
  {
   "cell_type": "code",
   "execution_count": null,
   "metadata": {
    "tags": []
   },
   "outputs": [],
   "source": [
    "# Yes or no?\n",
    "too-good = 42"
   ]
  },
  {
   "cell_type": "code",
   "execution_count": null,
   "metadata": {
    "tags": []
   },
   "outputs": [],
   "source": [
    "my.new.var = 3"
   ]
  },
  {
   "cell_type": "markdown",
   "metadata": {},
   "source": [
    "\n"
   ]
  },
  {
   "cell_type": "markdown",
   "metadata": {
    "tags": []
   },
   "source": [
    "# Data structures I\n",
    "[Back to Contents](#Contents)\n",
    "\n",
    "Besides numerical types, there are other _data structures_ or _data types_ we can incorporate. The most common ones are _lists_ or arrays, _strings_, _dictionaries_, and _booleans_. \n"
   ]
  },
  {
   "cell_type": "markdown",
   "metadata": {
    "tags": []
   },
   "source": [
    "## Lists\n",
    "\n",
    "Lists are used to store collections items."
   ]
  },
  {
   "cell_type": "code",
   "execution_count": null,
   "metadata": {},
   "outputs": [],
   "source": [
    "# create an empty list:\n",
    "list()"
   ]
  },
  {
   "cell_type": "code",
   "execution_count": null,
   "metadata": {},
   "outputs": [],
   "source": [
    "# or just \n",
    "[]"
   ]
  },
  {
   "cell_type": "code",
   "execution_count": null,
   "metadata": {
    "tags": []
   },
   "outputs": [],
   "source": [
    "# Be aware of variable naming!!\n",
    "list = []  # my empty list"
   ]
  },
  {
   "cell_type": "markdown",
   "metadata": {},
   "source": [
    "![](facepalm-oh-no.gif)\n",
    "\n",
    "__We just broke python__\n",
    "\n",
    "<div class=\"alert alert-block alert-danger\">\n",
    "<b>Caution!</b> Never use keywords as variable names. This will break your code.\n",
    "</div>"
   ]
  },
  {
   "cell_type": "markdown",
   "metadata": {},
   "source": [
    "If this happens, you unfortunately need to restart the kernel. (press escape and two times 0)"
   ]
  },
  {
   "cell_type": "code",
   "execution_count": null,
   "metadata": {},
   "outputs": [],
   "source": [
    "# we just overwritten the built in list() method\n",
    "list()"
   ]
  },
  {
   "cell_type": "markdown",
   "metadata": {},
   "source": [
    "Useful tool to help you prevent this situation:\n",
    "\n",
    "The syntax highlighting in every modern editor or jupyter will help you to prevent these mistakes. \n",
    "Whenever you use a known method, function, or keyword (although you cannot overwrite keywords), it gets highlighted:\n",
    "```python\n",
    "list = [1, 2, 3]  # <-- highlighted\n",
    "```\n",
    "If you name variables, make sure they are not highlighted:\n",
    "```python\n",
    "list1 = [1, 2 ,3]  # <-- Not known, better!\n",
    "```"
   ]
  },
  {
   "cell_type": "code",
   "execution_count": null,
   "metadata": {},
   "outputs": [],
   "source": [
    "our_list = [1, 2, 3, 4, 5, 6, 7, 8, 9, 10]"
   ]
  },
  {
   "cell_type": "code",
   "execution_count": null,
   "metadata": {},
   "outputs": [],
   "source": [
    "# possible matrix respresentation\n",
    "l2 = [[1,2], [3,4]]"
   ]
  },
  {
   "cell_type": "code",
   "execution_count": null,
   "metadata": {},
   "outputs": [],
   "source": [
    "# check length of the list:\n",
    "len(our_list)"
   ]
  },
  {
   "cell_type": "code",
   "execution_count": null,
   "metadata": {},
   "outputs": [],
   "source": [
    "min(our_list)"
   ]
  },
  {
   "cell_type": "code",
   "execution_count": null,
   "metadata": {},
   "outputs": [],
   "source": [
    "sum(our_list)"
   ]
  },
  {
   "cell_type": "markdown",
   "metadata": {
    "tags": []
   },
   "source": [
    "### Indexing and slicing"
   ]
  },
  {
   "cell_type": "code",
   "execution_count": null,
   "metadata": {},
   "outputs": [],
   "source": [
    "our_list"
   ]
  },
  {
   "cell_type": "code",
   "execution_count": null,
   "metadata": {},
   "outputs": [],
   "source": [
    "# access items per index:\n",
    "our_list[1]"
   ]
  },
  {
   "cell_type": "code",
   "execution_count": null,
   "metadata": {},
   "outputs": [],
   "source": [
    "# squence indices start at 0\n",
    "our_list[0]"
   ]
  },
  {
   "cell_type": "code",
   "execution_count": null,
   "metadata": {},
   "outputs": [],
   "source": [
    "# so list indices count from from 0 to len(list)-1\n",
    "our_list[len(our_list)-1]"
   ]
  },
  {
   "cell_type": "code",
   "execution_count": null,
   "metadata": {},
   "outputs": [],
   "source": [
    "# you cannot get indices, that are not in the list:\n",
    "our_list[len(our_list)]"
   ]
  },
  {
   "cell_type": "code",
   "execution_count": null,
   "metadata": {},
   "outputs": [],
   "source": [
    "# start index from the end!\n",
    "our_list[-1]"
   ]
  },
  {
   "cell_type": "code",
   "execution_count": null,
   "metadata": {},
   "outputs": [],
   "source": [
    "# slicing, or getting parts of the sequence\n",
    "our_list[3:200]"
   ]
  },
  {
   "cell_type": "markdown",
   "metadata": {},
   "source": [
    "The slicing `l[i:j:s]` result excludes the `j-th` element of the list `l`.\n",
    "\n",
    "The definition is:\n",
    "\n",
    "The slice of s from `i` to `j` is defined as\n",
    "- the sequence of items with index `k` such that `i <= k < j`.\n",
    "- If `i` or `j` is greater than `len(s)`, use `len(s)`.\n",
    "- If `i` is omitted, use `0`.\n",
    "- If `j` is omitted, use len(s).\n",
    "- If `i` is greater than or equal to `j`, the slice is empty.\n",
    "- Slices can be defined step-wise using `[i:j:s]`, where `s` is `1` by default."
   ]
  },
  {
   "cell_type": "markdown",
   "metadata": {},
   "source": [
    "<div class=\"alert alert-block alert-warning\">\n",
    "<b>Examples:</b> Given our_list of <code>[1, 2, 3, 4, 5, 6, 7, 9, 10]</code>, and the prev. definitions, what are the results of the following slices?\n",
    "</div>\n"
   ]
  },
  {
   "cell_type": "code",
   "execution_count": null,
   "metadata": {
    "tags": []
   },
   "outputs": [],
   "source": [
    "display_quiz(\"quizzes/slicing_quizz.json\", shuffle_answers=True)"
   ]
  },
  {
   "cell_type": "code",
   "execution_count": null,
   "metadata": {},
   "outputs": [],
   "source": [
    "# slicing examples\n",
    "print(\"1: \", our_list[:])\n",
    "print(\"2: \", our_list[:200])\n",
    "print(\"3: \", our_list[:len(our_list)])"
   ]
  },
  {
   "cell_type": "markdown",
   "metadata": {},
   "source": [
    "<div class=\"alert alert-block alert-warning\">\n",
    "<b>Examples:</b> Given our_list of <code>[1, 2, 3, 4, 5, 6, 7, 9, 10]</code>, and the prev. definitions, what are the results of the following slices?\n",
    "</div>"
   ]
  },
  {
   "cell_type": "code",
   "execution_count": null,
   "metadata": {
    "tags": []
   },
   "outputs": [],
   "source": [
    "display_quiz(\"quizzes/slicing_quizz_2.json\", shuffle_answers=True)"
   ]
  },
  {
   "cell_type": "code",
   "execution_count": null,
   "metadata": {},
   "outputs": [],
   "source": [
    "# slicing examples)\n",
    "print(\"4: \", our_list[4:4])\n",
    "print(\"5: \", our_list[:3])\n",
    "print(\"6: \", our_list[8:9])"
   ]
  },
  {
   "cell_type": "markdown",
   "metadata": {},
   "source": [
    "<div class=\"alert alert-block alert-warning\">\n",
    "<b>Examples:</b> Given our_list of <code>[1, 2, 3, 4, 5, 6, 7, 8, 9, 10]</code>, and the prev. definitions, what are the results of the following slices?\n",
    "</div>"
   ]
  },
  {
   "cell_type": "code",
   "execution_count": null,
   "metadata": {
    "tags": []
   },
   "outputs": [],
   "source": [
    "display_quiz(\"quizzes/slicing_quizz_3.json\", shuffle_answers=True)"
   ]
  },
  {
   "cell_type": "code",
   "execution_count": null,
   "metadata": {},
   "outputs": [],
   "source": [
    "print(\"7: \", our_list[-3:-2])\n",
    "print(\"8: \", our_list[-2:])\n",
    "print(\"9: \", our_list[1:-1])\n",
    "print(\"10: \", our_list[-3:1])"
   ]
  },
  {
   "cell_type": "markdown",
   "metadata": {},
   "source": [
    "<div class=\"alert alert-block alert-warning\">\n",
    "<b>Examples:</b> Given our_list of <code>[1, 2, 3, 4, 5, 6, 7, 8, 9, 10]</code>, and the prev. definitions, what are the results of the following slices?\n",
    "</div>"
   ]
  },
  {
   "cell_type": "code",
   "execution_count": null,
   "metadata": {
    "tags": []
   },
   "outputs": [],
   "source": [
    "display_quiz(\"quizzes/slicing_quizz_4.json\", shuffle_answers=True)"
   ]
  },
  {
   "cell_type": "code",
   "execution_count": null,
   "metadata": {},
   "outputs": [],
   "source": [
    "print(\"11: \", our_list[5::2])\n",
    "print(\"12: \", our_list[::5])\n",
    "print(\"13: \", our_list[::15])"
   ]
  },
  {
   "cell_type": "code",
   "execution_count": null,
   "metadata": {},
   "outputs": [],
   "source": [
    "# Quick question during the break\n",
    "list(3)"
   ]
  },
  {
   "cell_type": "code",
   "execution_count": null,
   "metadata": {},
   "outputs": [],
   "source": [
    "list?"
   ]
  },
  {
   "cell_type": "markdown",
   "metadata": {},
   "source": [
    "We see that the list function does not work with integers.\n",
    "Instead the function can conver `iterables` to a list (e.g. tuples, ranges, sets that  we get to know a bit later)."
   ]
  },
  {
   "cell_type": "code",
   "execution_count": null,
   "metadata": {},
   "outputs": [],
   "source": [
    "# create a one item list use []\n",
    "l = [3]"
   ]
  },
  {
   "cell_type": "markdown",
   "metadata": {
    "tags": []
   },
   "source": [
    "### Changing list content\n",
    "Sometimes, it comes in handy to be able to change the content of a list, without creating a new list object."
   ]
  },
  {
   "cell_type": "code",
   "execution_count": null,
   "metadata": {},
   "outputs": [],
   "source": [
    "our_list = [1, 2, 3, 4, 5, 6, 7, 8, 9, 10]"
   ]
  },
  {
   "cell_type": "code",
   "execution_count": null,
   "metadata": {},
   "outputs": [],
   "source": [
    "# changing single values\n",
    "our_list[0] = -1"
   ]
  },
  {
   "cell_type": "code",
   "execution_count": null,
   "metadata": {},
   "outputs": [],
   "source": [
    "our_list"
   ]
  },
  {
   "cell_type": "code",
   "execution_count": null,
   "metadata": {},
   "outputs": [],
   "source": [
    "our_list[-1] = -10\n",
    "our_list"
   ]
  },
  {
   "cell_type": "code",
   "execution_count": null,
   "metadata": {},
   "outputs": [],
   "source": [
    "our_list[2:4] = [-3, -4]"
   ]
  },
  {
   "cell_type": "markdown",
   "metadata": {},
   "source": [
    "**Insert items**"
   ]
  },
  {
   "cell_type": "code",
   "execution_count": null,
   "metadata": {},
   "outputs": [],
   "source": [
    "# most commenly, appending items to list\n",
    "our_list.append(11)\n",
    "our_list"
   ]
  },
  {
   "cell_type": "code",
   "execution_count": null,
   "metadata": {},
   "outputs": [],
   "source": [
    "# extending a list\n",
    "our_list.extend([12, 13, 14])\n",
    "our_list"
   ]
  },
  {
   "cell_type": "code",
   "execution_count": null,
   "metadata": {},
   "outputs": [],
   "source": [
    "our_list + [15, 16, 17]"
   ]
  },
  {
   "cell_type": "code",
   "execution_count": null,
   "metadata": {},
   "outputs": [],
   "source": [
    "# equivalent to .extend\n",
    "our_list += [15, 16, 17]\n",
    "our_list"
   ]
  },
  {
   "cell_type": "code",
   "execution_count": null,
   "metadata": {},
   "outputs": [],
   "source": [
    "# multiply content of a list\n",
    "our_list = [1, 2, 3]\n",
    "our_list *= 2\n",
    "our_list"
   ]
  },
  {
   "cell_type": "code",
   "execution_count": null,
   "metadata": {},
   "outputs": [],
   "source": [
    "our_list * 2"
   ]
  },
  {
   "cell_type": "code",
   "execution_count": null,
   "metadata": {},
   "outputs": [],
   "source": [
    "our_list * 0"
   ]
  },
  {
   "cell_type": "code",
   "execution_count": null,
   "metadata": {},
   "outputs": [],
   "source": [
    "# inserting in the middle of the list\n",
    "our_list = [1, 4, 8]\n",
    "# single item insert\n",
    "our_list.insert(1, 2)\n",
    "print(our_list)\n",
    "# single or multiple item insert\n",
    "our_list[2:2] = [3]\n",
    "print(our_list)"
   ]
  },
  {
   "cell_type": "code",
   "execution_count": null,
   "metadata": {},
   "outputs": [],
   "source": [
    "our_list"
   ]
  },
  {
   "cell_type": "code",
   "execution_count": null,
   "metadata": {},
   "outputs": [],
   "source": [
    "# replacing the last\n",
    "our_list[-1:-1] = [5, 6, 7]\n",
    "print(our_list)"
   ]
  },
  {
   "cell_type": "code",
   "execution_count": null,
   "metadata": {},
   "outputs": [],
   "source": [
    "# inserting multiple items can change the list object extremely\n",
    "# you could basically replace all the items, easily\n",
    "our_list[:] = [9, 10, 11]\n",
    "our_list"
   ]
  },
  {
   "cell_type": "code",
   "execution_count": null,
   "metadata": {},
   "outputs": [],
   "source": [
    "# as this insert type already looks like the slicing, let's try\n",
    "# as you need same length to this,\n",
    "# which makes it a bit complicated\n",
    "our_list[::2] = [1,3]\n",
    "our_list"
   ]
  },
  {
   "cell_type": "code",
   "execution_count": null,
   "metadata": {},
   "outputs": [],
   "source": [
    "our_list[0] = 1\n",
    "our_list[-1] = 3"
   ]
  },
  {
   "cell_type": "markdown",
   "metadata": {},
   "source": [
    "**Deleting items from a list**"
   ]
  },
  {
   "cell_type": "code",
   "execution_count": null,
   "metadata": {},
   "outputs": [],
   "source": [
    "our_list = [1,2,3]\n",
    "our_list"
   ]
  },
  {
   "cell_type": "code",
   "execution_count": null,
   "metadata": {},
   "outputs": [],
   "source": [
    "# remove all elements\n",
    "our_list.clear()\n",
    "print(our_list)\n",
    "our_list = [1, 2, 3]\n",
    "our_list[:] = []\n",
    "print(our_list)\n",
    "our_list = [1, 2, 3]\n",
    "del our_list[:]\n",
    "print(our_list)\n"
   ]
  },
  {
   "cell_type": "code",
   "execution_count": null,
   "metadata": {},
   "outputs": [],
   "source": [
    "# removing elements\n",
    "our_list = [1, 2, 3, 4]\n",
    "our_list[1:3] = []\n",
    "print(our_list)\n",
    "\n",
    "# again slicing works\n",
    "our_list = [1, 2, 3, 4]\n",
    "del our_list[::2]\n",
    "print(our_list)\n",
    "\n",
    "# remove first occurance\n",
    "our_list = [1, 2, 3, 4, 3, 4]\n",
    "our_list.remove(3)\n",
    "print(our_list)\n"
   ]
  },
  {
   "cell_type": "code",
   "execution_count": null,
   "metadata": {},
   "outputs": [],
   "source": [
    "# remove item by index, value of item is print(ed\n",
    "our_list = [1, 2, 3]\n",
    "result = our_list.pop(0)\n",
    "print(result)\n",
    "our_list"
   ]
  },
  {
   "cell_type": "markdown",
   "metadata": {},
   "source": [
    "**Copying a list**"
   ]
  },
  {
   "cell_type": "code",
   "execution_count": null,
   "metadata": {},
   "outputs": [],
   "source": [
    "\n"
   ]
  },
  {
   "cell_type": "code",
   "execution_count": null,
   "metadata": {},
   "outputs": [],
   "source": [
    "our_list = [1, 2, 3]\n",
    "new_list = our_list\n",
    "\n",
    "new_list.append(4)\n",
    "our_list"
   ]
  },
  {
   "cell_type": "code",
   "execution_count": null,
   "metadata": {},
   "outputs": [],
   "source": [
    "# both variable refer to the same object\n",
    "print(id(our_list))\n",
    "id(new_list)"
   ]
  },
  {
   "cell_type": "markdown",
   "metadata": {},
   "source": [
    "<div class=\"alert alert-block alert-info\">\n",
    "<b>Note:</b> The naiive way results in two references pointing to the same objecet, hence, the <code>new_list</code> modification also changes <code>our_list</code>\n",
    "</div>\n"
   ]
  },
  {
   "cell_type": "code",
   "execution_count": null,
   "metadata": {},
   "outputs": [],
   "source": [
    "# to actually copy a list, use\n",
    "our_list = [1, 2, 3]\n",
    "new_list = our_list.copy()\n",
    "# or\n",
    "new_list_2 = our_list[:]\n",
    "\n",
    "new_list.append(4)\n",
    "new_list_2[len(new_list_2):len(new_list_2)] = [10, 100]\n",
    "\n",
    "# check, whether we have three different lists, now\n",
    "print(our_list)\n",
    "print(new_list)\n",
    "new_list_2"
   ]
  },
  {
   "cell_type": "code",
   "execution_count": null,
   "metadata": {},
   "outputs": [],
   "source": [
    "# you can reverse a list in place\n",
    "our_list.reverse()\n",
    "our_list"
   ]
  },
  {
   "cell_type": "code",
   "execution_count": null,
   "metadata": {},
   "outputs": [],
   "source": [
    "# finally, you can sort a list in place\n",
    "our_list = [5, 3, 6, 1, 10, 9]\n",
    "our_list.sort()\n",
    "print(our_list)\n",
    "our_list.sort(reverse=True)\n",
    "our_list"
   ]
  },
  {
   "cell_type": "code",
   "execution_count": null,
   "metadata": {},
   "outputs": [],
   "source": [
    "our_list"
   ]
  },
  {
   "cell_type": "code",
   "execution_count": null,
   "metadata": {},
   "outputs": [],
   "source": [
    "# using inf in sorting works\n",
    "l = [3, 4, 2, float(\"inf\"), 0]\n",
    "l.sort()\n",
    "l"
   ]
  },
  {
   "cell_type": "code",
   "execution_count": null,
   "metadata": {},
   "outputs": [],
   "source": [
    "# beware when sorting with nan values\n",
    "l = [ 1, 23, float(\"nan\"), 3]\n",
    "\n",
    "l.sort()\n",
    "\n",
    "l"
   ]
  },
  {
   "cell_type": "markdown",
   "metadata": {
    "tags": []
   },
   "source": [
    "### Other sequence methods\n",
    "There a couple of operations that are not specific to list, i.e. they also work for other sequences."
   ]
  },
  {
   "cell_type": "markdown",
   "metadata": {},
   "source": [
    "**Sequence contains item**"
   ]
  },
  {
   "cell_type": "code",
   "execution_count": null,
   "metadata": {},
   "outputs": [],
   "source": [
    "# Test if the item is in the sequence\n",
    "2 in our_list"
   ]
  },
  {
   "cell_type": "code",
   "execution_count": null,
   "metadata": {},
   "outputs": [],
   "source": [
    "9 in our_list"
   ]
  },
  {
   "cell_type": "code",
   "execution_count": null,
   "metadata": {},
   "outputs": [],
   "source": [
    "float(\"inf\") in [ 1, 2, float(\"inf\")]"
   ]
  },
  {
   "cell_type": "code",
   "execution_count": null,
   "metadata": {},
   "outputs": [],
   "source": [
    "# Test if the item is not in the sequence\n",
    "99 not in our_list"
   ]
  },
  {
   "cell_type": "code",
   "execution_count": null,
   "metadata": {},
   "outputs": [],
   "source": [
    "our_list"
   ]
  },
  {
   "cell_type": "code",
   "execution_count": null,
   "metadata": {},
   "outputs": [],
   "source": [
    "10 not in our_list"
   ]
  },
  {
   "cell_type": "markdown",
   "metadata": {},
   "source": [
    "**`Adding` (concatinating) and `multiplying`**\n",
    "These operation create new sequences."
   ]
  },
  {
   "cell_type": "code",
   "execution_count": null,
   "metadata": {},
   "outputs": [],
   "source": [
    "our_list + [11, 12, 13]"
   ]
  },
  {
   "cell_type": "code",
   "execution_count": null,
   "metadata": {},
   "outputs": [],
   "source": [
    "# is the original list modified?\n",
    "our_list"
   ]
  },
  {
   "cell_type": "code",
   "execution_count": null,
   "metadata": {},
   "outputs": [],
   "source": [
    "# `multiplying` or adding the sequence to itself n-times\n",
    "2 * our_list"
   ]
  },
  {
   "cell_type": "code",
   "execution_count": null,
   "metadata": {},
   "outputs": [],
   "source": [
    "our_list"
   ]
  },
  {
   "cell_type": "code",
   "execution_count": null,
   "metadata": {},
   "outputs": [],
   "source": [
    "# works with longer sequences, too\n",
    "l = [1, 2, 3] * 100\n",
    "# you can count the occurances of an item in a sequence with:\n",
    "# Beware that the individual items of a list are added,\n",
    "# not the list itself as an item\n",
    "print(l.count(1))\n",
    "print(l.count(2))\n",
    "print(l.count(3))\n",
    "print(l.count([1, 2, 3]))\n",
    "print(l[:6], \" \")"
   ]
  },
  {
   "cell_type": "code",
   "execution_count": null,
   "metadata": {},
   "outputs": [],
   "source": [
    "# negative multiplication?\n",
    "-5 * [2]"
   ]
  },
  {
   "cell_type": "markdown",
   "metadata": {},
   "source": [
    "**Min, max, and index functions**"
   ]
  },
  {
   "cell_type": "code",
   "execution_count": null,
   "metadata": {},
   "outputs": [],
   "source": [
    "# minimal value item\n",
    "min(our_list)"
   ]
  },
  {
   "cell_type": "code",
   "execution_count": null,
   "metadata": {},
   "outputs": [],
   "source": [
    "# maximum value item\n",
    "# max(sequence) is value based, not the index\n",
    "# len(squence)-1 gives you the maximum index\n",
    "\n",
    "max(our_list)"
   ]
  },
  {
   "cell_type": "code",
   "execution_count": null,
   "metadata": {},
   "outputs": [],
   "source": [
    "# get the index of a specific value"
   ]
  },
  {
   "cell_type": "code",
   "execution_count": null,
   "metadata": {},
   "outputs": [],
   "source": [
    "our_list"
   ]
  },
  {
   "cell_type": "code",
   "execution_count": null,
   "metadata": {},
   "outputs": [],
   "source": [
    "our_list.index(5)"
   ]
  },
  {
   "cell_type": "code",
   "execution_count": null,
   "metadata": {},
   "outputs": [],
   "source": [
    "our_list[3]"
   ]
  },
  {
   "cell_type": "code",
   "execution_count": null,
   "metadata": {},
   "outputs": [],
   "source": [
    "# index function, sometimes, allows for index slicing\n",
    "# with the `start`, and `stop` arguments\n",
    "our_list.index?"
   ]
  },
  {
   "cell_type": "code",
   "execution_count": null,
   "metadata": {},
   "outputs": [],
   "source": [
    "our_list = [6, 9, 6, 5, 3, 1]"
   ]
  },
  {
   "cell_type": "code",
   "execution_count": null,
   "metadata": {},
   "outputs": [],
   "source": [
    "# you could always slice first\n",
    "# but beware of the difference:\n",
    "print(our_list[2:8].index(6))  # prints 'relative' index\n",
    "print(our_list.index(6, 2, 8))  # prints 'absolute' index"
   ]
  },
  {
   "cell_type": "markdown",
   "metadata": {
    "tags": []
   },
   "source": [
    "## Strings I \n",
    "[Back to Contents](#Contents)\n",
    "\n",
    "A `string` is a sequence of `characters`, i.e. text variables.\n",
    "\n",
    "Text that starts with a `#` sign are comments, which will get ignored by python and are not string objects.\n",
    "\n",
    "As `string` variables are just sequences, many methods learnt in the list chapter can be used for strings aswell. Except for the `changing list content` chapter. In python, `strings`, once created cannot be changed.\n"
   ]
  },
  {
   "cell_type": "markdown",
   "metadata": {},
   "source": [
    "To define a string object, you can use:"
   ]
  },
  {
   "cell_type": "code",
   "execution_count": null,
   "metadata": {},
   "outputs": [],
   "source": [
    "s0 = 'this is a new \"string\"'\n",
    "s1 = \"this is a new 'string'\"\n",
    "s2 = '''this is a tripple quoted \"string\"'''\n",
    "s3 = \"\"\"this is a tripple \"double-quoted\" 'string'\"\"\""
   ]
  },
  {
   "cell_type": "code",
   "execution_count": null,
   "metadata": {},
   "outputs": [],
   "source": [
    "# ensure you use the different quotation sign in the text itself\n",
    "s0 = 'this is a new 'string''\n"
   ]
  },
  {
   "cell_type": "code",
   "execution_count": null,
   "metadata": {},
   "outputs": [],
   "source": [
    "print(s0)\n",
    "print(s1)\n",
    "print(s2)\n",
    "print(s3)"
   ]
  },
  {
   "cell_type": "markdown",
   "metadata": {},
   "source": [
    "only the `'''` pr `\"\"\"` quoted string definitions allow for multi-line strings."
   ]
  },
  {
   "cell_type": "code",
   "execution_count": null,
   "metadata": {},
   "outputs": [],
   "source": [
    "s = \"\"\"I can just write \n",
    "    over the line end and still be\n",
    "    in the same string\n",
    "object\"\"\""
   ]
  },
  {
   "cell_type": "code",
   "execution_count": null,
   "metadata": {},
   "outputs": [],
   "source": [
    "print(s)"
   ]
  },
  {
   "cell_type": "markdown",
   "metadata": {},
   "source": [
    "As you can see, formatting can sometimes be difficult.\n",
    "\n",
    "This is why, sometimes you will find something like\n"
   ]
  },
  {
   "cell_type": "code",
   "execution_count": null,
   "metadata": {},
   "outputs": [],
   "source": [
    "s = \"I cannot just write \\n\"\\\n",
    "    \"over the line end and still be \\n\"\\\n",
    "    \"in the same string \\n\"\\\n",
    "    \"object\""
   ]
  },
  {
   "cell_type": "code",
   "execution_count": null,
   "metadata": {},
   "outputs": [],
   "source": [
    "print(s)"
   ]
  },
  {
   "cell_type": "markdown",
   "metadata": {},
   "source": [
    "_or_"
   ]
  },
  {
   "cell_type": "code",
   "execution_count": null,
   "metadata": {},
   "outputs": [],
   "source": [
    "s = (\"I cannot just write \\n\"\n",
    "     \"over the line end and still be \\n\"\n",
    "     \"in the same string \\n\"\n",
    "     \"object\")"
   ]
  },
  {
   "cell_type": "code",
   "execution_count": null,
   "metadata": {},
   "outputs": [],
   "source": [
    "print(s)"
   ]
  },
  {
   "cell_type": "markdown",
   "metadata": {},
   "source": [
    "These methods work, as the `\\n` character marks a new line symbol and the `\\` marks a python code line break indicating that the next line still is part of one long command (Esp. used to not let command span over 80 (or a bit more) characters.\n",
    "\n",
    "The second definition shows that strings within a single expression, that are just separated by a whitespace will implicitly be joined to one."
   ]
  },
  {
   "cell_type": "markdown",
   "metadata": {},
   "source": [
    "### Exercise: String operations I"
   ]
  },
  {
   "cell_type": "markdown",
   "metadata": {},
   "source": [
    "Go back to the [Lists - Indexing and slicing](#Indexing-and-slicing) and [Lists - Other sequence methods](Other-sequence-methods) chapters and find at least two examples using string for each operation.\n",
    "\n",
    "Find the two operation that still work with strings from the [Lists - Changing list conten](#Changing-list-content) chapter."
   ]
  },
  {
   "cell_type": "markdown",
   "metadata": {},
   "source": [
    "Things that still work with strings:\n",
    "- indexing\n",
    "- slicing\n",
    "- multiplying, adding (*, +)"
   ]
  },
  {
   "cell_type": "markdown",
   "metadata": {},
   "source": [
    "Things that doesn't work anymore:\n",
    "- changing single values via indexing\n",
    "- sort, append, extend, insert, ..."
   ]
  },
  {
   "cell_type": "code",
   "execution_count": null,
   "metadata": {
    "tags": []
   },
   "outputs": [],
   "source": [
    "display_quiz(\"quizzes/string_vs_lists.json\")"
   ]
  },
  {
   "cell_type": "code",
   "execution_count": null,
   "metadata": {},
   "outputs": [],
   "source": [
    "l = [1, 2, 3]\n",
    "s = \"try\""
   ]
  },
  {
   "cell_type": "code",
   "execution_count": null,
   "metadata": {},
   "outputs": [],
   "source": [
    "print(l[0])\n",
    "print(l[0:1])\n",
    "print(s[0])\n",
    "print(s[0:1])"
   ]
  },
  {
   "cell_type": "markdown",
   "metadata": {},
   "source": [
    "There is no special _character_ type in python. All characters are strings (`str`). A list contains items of a type, so the indexing `l[0]` prints the object with its corresponding type, while `l[0:1]` slicing prints a `list` object with one item. In case of a string, this is still a string with one character."
   ]
  },
  {
   "cell_type": "markdown",
   "metadata": {
    "tags": []
   },
   "source": [
    "## Mappings: dict\n",
    "[Back to Contents](#Contents)\n",
    "\n",
    "Dictionaries (`dict`) are very useful data types. You can think of them as _key: value_ pairs with unique keys in a single dictionary."
   ]
  },
  {
   "cell_type": "code",
   "execution_count": 2,
   "metadata": {},
   "outputs": [
    {
     "data": {
      "text/plain": [
       "{}"
      ]
     },
     "execution_count": 2,
     "metadata": {},
     "output_type": "execute_result"
    }
   ],
   "source": [
    "# to define, just use {}\n",
    "first_dict = {}\n",
    "first_dict"
   ]
  },
  {
   "cell_type": "code",
   "execution_count": 3,
   "metadata": {},
   "outputs": [],
   "source": [
    "# add elements\n",
    "first_dict[\"Hans\"] = 42"
   ]
  },
  {
   "cell_type": "code",
   "execution_count": 4,
   "metadata": {},
   "outputs": [
    {
     "ename": "KeyError",
     "evalue": "'Pedda'",
     "output_type": "error",
     "traceback": [
      "\u001b[0;31m---------------------------------------------------------------------------\u001b[0m",
      "\u001b[0;31mKeyError\u001b[0m                                  Traceback (most recent call last)",
      "\u001b[1;32m/Users/juanbettinelli/Documents/UniPython/python_course/L4 - Python Basics/Python_basics.ipynb Cell 367'\u001b[0m in \u001b[0;36m<cell line: 3>\u001b[0;34m()\u001b[0m\n\u001b[1;32m      <a href='vscode-notebook-cell:/Users/juanbettinelli/Documents/UniPython/python_course/L4%20-%20Python%20Basics/Python_basics.ipynb#ch0000366?line=0'>1</a>\u001b[0m \u001b[39m# a key cannot be create without a value like this,\u001b[39;00m\n\u001b[1;32m      <a href='vscode-notebook-cell:/Users/juanbettinelli/Documents/UniPython/python_course/L4%20-%20Python%20Basics/Python_basics.ipynb#ch0000366?line=1'>2</a>\u001b[0m \u001b[39m# as the command is interpreted as the lookup\u001b[39;00m\n\u001b[0;32m----> <a href='vscode-notebook-cell:/Users/juanbettinelli/Documents/UniPython/python_course/L4%20-%20Python%20Basics/Python_basics.ipynb#ch0000366?line=2'>3</a>\u001b[0m first_dict[\u001b[39m\"\u001b[39;49m\u001b[39mPedda\u001b[39;49m\u001b[39m\"\u001b[39;49m]\n",
      "\u001b[0;31mKeyError\u001b[0m: 'Pedda'"
     ]
    }
   ],
   "source": [
    "# a key cannot be create without a value like this,\n",
    "# as the command is interpreted as the lookup\n",
    "first_dict[\"Pedda\"]"
   ]
  },
  {
   "cell_type": "code",
   "execution_count": 5,
   "metadata": {},
   "outputs": [
    {
     "data": {
      "text/plain": [
       "42"
      ]
     },
     "execution_count": 5,
     "metadata": {},
     "output_type": "execute_result"
    }
   ],
   "source": [
    "# get a value\n",
    "first_dict[\"Hans\"]"
   ]
  },
  {
   "cell_type": "code",
   "execution_count": 6,
   "metadata": {},
   "outputs": [
    {
     "data": {
      "text/plain": [
       "42"
      ]
     },
     "execution_count": 6,
     "metadata": {},
     "output_type": "execute_result"
    }
   ],
   "source": [
    "# possibly an even better way to get a value\n",
    "first_dict.get(\"Hans\")"
   ]
  },
  {
   "cell_type": "code",
   "execution_count": 7,
   "metadata": {},
   "outputs": [
    {
     "data": {
      "text/plain": [
       "-1"
      ]
     },
     "execution_count": 7,
     "metadata": {},
     "output_type": "execute_result"
    }
   ],
   "source": [
    "# this way allows for default values\n",
    "# when a key is not present in the dict\n",
    "first_dict.get(\"Pedda\", -1)"
   ]
  },
  {
   "cell_type": "code",
   "execution_count": 8,
   "metadata": {},
   "outputs": [],
   "source": [
    "first_dict[\"Pedda\"] = 25\n"
   ]
  },
  {
   "cell_type": "code",
   "execution_count": 9,
   "metadata": {},
   "outputs": [
    {
     "data": {
      "text/plain": [
       "{'Hans': 42, 'Pedda': 25}"
      ]
     },
     "execution_count": 9,
     "metadata": {},
     "output_type": "execute_result"
    }
   ],
   "source": [
    "first_dict"
   ]
  },
  {
   "cell_type": "markdown",
   "metadata": {},
   "source": [
    "<div class=\"alert alert-block alert-info\">\n",
    "    <b> Note: </b>From Python>=3.7 python dictionaries are <i>ordered</i> by default. I.e. the order in which you add items will remain throughout the lifecycle.\n",
    "</div>"
   ]
  },
  {
   "cell_type": "markdown",
   "metadata": {},
   "source": [
    "You can change or update values"
   ]
  },
  {
   "cell_type": "code",
   "execution_count": 10,
   "metadata": {},
   "outputs": [
    {
     "data": {
      "text/plain": [
       "{'Hans': 42, 'Pedda': 32}"
      ]
     },
     "execution_count": 10,
     "metadata": {},
     "output_type": "execute_result"
    }
   ],
   "source": [
    "first_dict[\"Pedda\"] = 32\n",
    "first_dict"
   ]
  },
  {
   "cell_type": "code",
   "execution_count": 11,
   "metadata": {},
   "outputs": [
    {
     "data": {
      "text/plain": [
       "{'Hans': 42, 'Pedda': 31, 'Lars': 19}"
      ]
     },
     "execution_count": 11,
     "metadata": {},
     "output_type": "execute_result"
    }
   ],
   "source": [
    "first_dict.update({\"Pedda\": 31, \"Lars\": 19})\n",
    "first_dict"
   ]
  },
  {
   "cell_type": "code",
   "execution_count": 12,
   "metadata": {},
   "outputs": [
    {
     "data": {
      "text/plain": [
       "{'Hans': 41, 'Pedda': 31, 'Lars': 19, 39: 'Bob'}"
      ]
     },
     "execution_count": 12,
     "metadata": {},
     "output_type": "execute_result"
    }
   ],
   "source": [
    "# just a different call with a list of key value pairs\n",
    "first_dict.update([(\"Hans\", 41), (39, \"Bob\")])\n",
    "first_dict"
   ]
  },
  {
   "cell_type": "markdown",
   "metadata": {},
   "source": [
    "You can see that the keys do not need to be of the same type, as long as they are unique.\n",
    "\n",
    "**Could you think of another property the keys should have?**"
   ]
  },
  {
   "cell_type": "markdown",
   "metadata": {
    "tags": []
   },
   "source": [
    "_The keys of a dictionary should not be able to change after creation or need to be hashable._"
   ]
  },
  {
   "cell_type": "code",
   "execution_count": 13,
   "metadata": {},
   "outputs": [
    {
     "data": {
      "text/plain": [
       "'Bob'"
      ]
     },
     "execution_count": 13,
     "metadata": {},
     "output_type": "execute_result"
    }
   ],
   "source": [
    "# remove an item, same as sequences\n",
    "# only the value is print(ed (dict.popitem()) will\n",
    "# print( the key value pair of the last item\n",
    "first_dict.pop(39)"
   ]
  },
  {
   "cell_type": "code",
   "execution_count": 14,
   "metadata": {},
   "outputs": [
    {
     "data": {
      "text/plain": [
       "{'Pedda': 31, 'Lars': 19}"
      ]
     },
     "execution_count": 14,
     "metadata": {},
     "output_type": "execute_result"
    }
   ],
   "source": [
    "# we already now `del`, too\n",
    "del first_dict[\"Hans\"]\n",
    "first_dict"
   ]
  },
  {
   "cell_type": "markdown",
   "metadata": {},
   "source": [
    "You can get back the (key, value) pairs or either the keys or the values separately."
   ]
  },
  {
   "cell_type": "code",
   "execution_count": 15,
   "metadata": {},
   "outputs": [
    {
     "data": {
      "text/plain": [
       "dict_items([('Pedda', 31), ('Lars', 19)])"
      ]
     },
     "execution_count": 15,
     "metadata": {},
     "output_type": "execute_result"
    }
   ],
   "source": [
    "first_dict.items()"
   ]
  },
  {
   "cell_type": "code",
   "execution_count": 16,
   "metadata": {},
   "outputs": [
    {
     "name": "stdout",
     "output_type": "stream",
     "text": [
      "dict_keys(['Pedda', 'Lars'])\n",
      "dict_values([31, 19])\n"
     ]
    }
   ],
   "source": [
    "print(first_dict.keys())\n",
    "print(first_dict.values())"
   ]
  },
  {
   "cell_type": "code",
   "execution_count": 17,
   "metadata": {},
   "outputs": [
    {
     "data": {
      "text/plain": [
       "[31, 19]"
      ]
     },
     "execution_count": 17,
     "metadata": {},
     "output_type": "execute_result"
    }
   ],
   "source": [
    "# you might often find casts to list here\n",
    "list(first_dict.values())"
   ]
  },
  {
   "cell_type": "code",
   "execution_count": 18,
   "metadata": {},
   "outputs": [
    {
     "data": {
      "text/plain": [
       "{1: 1, 2: 4, 3: 9, 4: 'no', 'yes': 5}"
      ]
     },
     "execution_count": 18,
     "metadata": {},
     "output_type": "execute_result"
    }
   ],
   "source": [
    "# Alternative ways to define a dictionary\n",
    "{1: 1, 2: 4, 3: 9, 4: \"no\", \"yes\": 5}"
   ]
  },
  {
   "cell_type": "code",
   "execution_count": 19,
   "metadata": {},
   "outputs": [
    {
     "data": {
      "text/plain": [
       "{'Hans': 42, 'Pedda': 31, 'Lars': 19}"
      ]
     },
     "execution_count": 19,
     "metadata": {},
     "output_type": "execute_result"
    }
   ],
   "source": [
    "# create from a list of pairs\n",
    "dict([(\"Hans\", 42), (\"Pedda\", 31), (\"Lars\", 19)])"
   ]
  },
  {
   "cell_type": "code",
   "execution_count": 20,
   "metadata": {},
   "outputs": [
    {
     "data": {
      "text/plain": [
       "{'Hans': None, 'Pedda': None, 'Lars': None}"
      ]
     },
     "execution_count": 20,
     "metadata": {},
     "output_type": "execute_result"
    }
   ],
   "source": [
    "# sometimes you might only know the keys already\n",
    "dict.fromkeys([\"Hans\", \"Pedda\", \"Lars\"])"
   ]
  },
  {
   "cell_type": "code",
   "execution_count": 21,
   "metadata": {},
   "outputs": [
    {
     "data": {
      "text/plain": [
       "{'Hans': 'age to be filled',\n",
       " 'Pedda': 'age to be filled',\n",
       " 'Lars': 'age to be filled'}"
      ]
     },
     "execution_count": 21,
     "metadata": {},
     "output_type": "execute_result"
    }
   ],
   "source": [
    "# of with some default value\n",
    "dict.fromkeys([\"Hans\", \"Pedda\", \"Lars\"], \"age to be filled\")"
   ]
  },
  {
   "cell_type": "code",
   "execution_count": 22,
   "metadata": {},
   "outputs": [
    {
     "data": {
      "text/plain": [
       "{'Hans': 42, 'Pedda': 31, 'Lars': 19}"
      ]
     },
     "execution_count": 22,
     "metadata": {},
     "output_type": "execute_result"
    }
   ],
   "source": [
    "# if the keys are 'just' strings (barely seen)\n",
    "dict(Hans=42, Pedda=31, Lars=19)"
   ]
  },
  {
   "cell_type": "markdown",
   "metadata": {},
   "source": [
    "<div class=\"alert alert-block alert-warning\">\n",
    "<b>Exercises:</b> \n",
    "\n",
    "Some exercises for dictionaries.    \n",
    "</div>"
   ]
  },
  {
   "cell_type": "markdown",
   "metadata": {},
   "source": [
    "- Print two information of the `song` dictionary using two different way to retrieve the dictionary values."
   ]
  },
  {
   "cell_type": "code",
   "execution_count": null,
   "metadata": {},
   "outputs": [],
   "source": [
    "song = {\n",
    "    \"artist\": \"Eminem\",\n",
    "    \"title\": \"Bad Guy\",\n",
    "    \"length\": \"7:14\",\n",
    "    \"release\": 2013\n",
    "}"
   ]
  },
  {
   "cell_type": "code",
   "execution_count": null,
   "metadata": {},
   "outputs": [],
   "source": [
    "song.keys()"
   ]
  },
  {
   "cell_type": "code",
   "execution_count": null,
   "metadata": {},
   "outputs": [],
   "source": [
    "print(list(song.keys())[0], \":\", song[\"artist\"])\n",
    "print(list(song.keys())[1], \":\", song.get(\"title\"))"
   ]
  },
  {
   "cell_type": "markdown",
   "metadata": {},
   "source": [
    "- Convert the two lists into a dictionary"
   ]
  },
  {
   "cell_type": "code",
   "execution_count": null,
   "metadata": {},
   "outputs": [],
   "source": [
    "keys = ['five', 'forty', 'eight']\n",
    "values = [10, 20, 30]\n"
   ]
  },
  {
   "cell_type": "code",
   "execution_count": null,
   "metadata": {},
   "outputs": [],
   "source": [
    "d = {}"
   ]
  },
  {
   "cell_type": "code",
   "execution_count": null,
   "metadata": {},
   "outputs": [],
   "source": [
    "dict(zip(keys, values))"
   ]
  },
  {
   "cell_type": "markdown",
   "metadata": {},
   "source": [
    "- Merge the following dictionaries into one"
   ]
  },
  {
   "cell_type": "code",
   "execution_count": null,
   "metadata": {},
   "outputs": [],
   "source": [
    "dict1 = {'five': 1, 'forty': 2, 'eight': 3}\n",
    "dict2 = {'six':4, 'eight': 9, 'twenty': 11}"
   ]
  },
  {
   "cell_type": "code",
   "execution_count": null,
   "metadata": {},
   "outputs": [],
   "source": [
    "dict1.update(dict2)"
   ]
  },
  {
   "cell_type": "code",
   "execution_count": null,
   "metadata": {},
   "outputs": [],
   "source": [
    "dict1"
   ]
  },
  {
   "cell_type": "markdown",
   "metadata": {},
   "source": [
    "- Print the value of the 'physics' key"
   ]
  },
  {
   "cell_type": "code",
   "execution_count": null,
   "metadata": {},
   "outputs": [],
   "source": [
    "uni = {\n",
    "    \"class\": {\n",
    "        \"student\": {\n",
    "            \"name\": \"Mike\",\n",
    "            \"marks\": {\n",
    "                \"physics\": 70,\n",
    "                \"math\": 45\n",
    "            }\n",
    "        }\n",
    "    }\n",
    "}"
   ]
  },
  {
   "cell_type": "code",
   "execution_count": null,
   "metadata": {},
   "outputs": [],
   "source": [
    "print(uni[\"class\"][\"student\"][\"marks\"][\"physics\"])"
   ]
  },
  {
   "cell_type": "markdown",
   "metadata": {},
   "source": [
    "- Check if the value 3 is a dictionary"
   ]
  },
  {
   "cell_type": "code",
   "execution_count": null,
   "metadata": {},
   "outputs": [],
   "source": [
    "d = {\"a\": 54, \"b\": 11, \"c\": 3}"
   ]
  },
  {
   "cell_type": "code",
   "execution_count": 23,
   "metadata": {},
   "outputs": [
    {
     "ename": "NameError",
     "evalue": "name 'd' is not defined",
     "output_type": "error",
     "traceback": [
      "\u001b[0;31m---------------------------------------------------------------------------\u001b[0m",
      "\u001b[0;31mNameError\u001b[0m                                 Traceback (most recent call last)",
      "\u001b[1;32m/Users/juanbettinelli/Documents/UniPython/python_course/L4 - Python Basics/Python_basics.ipynb Cell 446'\u001b[0m in \u001b[0;36m<cell line: 1>\u001b[0;34m()\u001b[0m\n\u001b[0;32m----> <a href='vscode-notebook-cell:/Users/juanbettinelli/Documents/UniPython/python_course/L4%20-%20Python%20Basics/Python_basics.ipynb#ch0000445?line=0'>1</a>\u001b[0m \u001b[39m3\u001b[39m \u001b[39min\u001b[39;00m d\u001b[39m.\u001b[39mkeys()\n",
      "\u001b[0;31mNameError\u001b[0m: name 'd' is not defined"
     ]
    }
   ],
   "source": [
    "3 in d.keys()"
   ]
  },
  {
   "cell_type": "code",
   "execution_count": null,
   "metadata": {},
   "outputs": [],
   "source": [
    "3 in d.values()"
   ]
  },
  {
   "cell_type": "markdown",
   "metadata": {},
   "source": [
    "- Rename the key `release` of the `song` dict to `year`."
   ]
  },
  {
   "cell_type": "code",
   "execution_count": null,
   "metadata": {},
   "outputs": [],
   "source": [
    "song"
   ]
  },
  {
   "cell_type": "code",
   "execution_count": null,
   "metadata": {},
   "outputs": [],
   "source": [
    "song[\"year\"] = song.pop(\"release\")"
   ]
  },
  {
   "cell_type": "code",
   "execution_count": null,
   "metadata": {},
   "outputs": [],
   "source": [
    "# ordering will change, though\n",
    "song[\"name\"] = song.pop(\"title\")"
   ]
  },
  {
   "cell_type": "code",
   "execution_count": null,
   "metadata": {},
   "outputs": [],
   "source": [
    "song"
   ]
  },
  {
   "cell_type": "code",
   "execution_count": null,
   "metadata": {},
   "outputs": [],
   "source": [
    "rel = song[\"year\"]"
   ]
  },
  {
   "cell_type": "code",
   "execution_count": null,
   "metadata": {},
   "outputs": [],
   "source": [
    "del song[\"year\"]"
   ]
  },
  {
   "cell_type": "code",
   "execution_count": null,
   "metadata": {},
   "outputs": [],
   "source": [
    "song[\"release\"] = rel"
   ]
  },
  {
   "cell_type": "code",
   "execution_count": null,
   "metadata": {},
   "outputs": [],
   "source": [
    "song"
   ]
  },
  {
   "cell_type": "markdown",
   "metadata": {},
   "source": [
    "- Print the minimal value of a dict"
   ]
  },
  {
   "cell_type": "code",
   "execution_count": null,
   "metadata": {},
   "outputs": [],
   "source": [
    "d = {\"a\": 54, \"b\": 11, \"c\": 3}\n"
   ]
  },
  {
   "cell_type": "code",
   "execution_count": null,
   "metadata": {},
   "outputs": [],
   "source": [
    "list(d.values())[:2]"
   ]
  },
  {
   "cell_type": "code",
   "execution_count": null,
   "metadata": {},
   "outputs": [],
   "source": [
    "min(d.values())"
   ]
  },
  {
   "cell_type": "code",
   "execution_count": null,
   "metadata": {},
   "outputs": [],
   "source": [
    "max(d.values())"
   ]
  },
  {
   "cell_type": "markdown",
   "metadata": {},
   "source": [
    "- Change the mark of Mike in physics to 100"
   ]
  },
  {
   "cell_type": "code",
   "execution_count": null,
   "metadata": {},
   "outputs": [],
   "source": [
    "uni[\"class\"][\"student\"][\"marks\"][\"physics\"] = 100"
   ]
  },
  {
   "cell_type": "code",
   "execution_count": null,
   "metadata": {},
   "outputs": [],
   "source": [
    "uni"
   ]
  },
  {
   "cell_type": "markdown",
   "metadata": {
    "tags": []
   },
   "source": [
    "## Boolean"
   ]
  },
  {
   "cell_type": "markdown",
   "metadata": {},
   "source": [
    "Although a very simple type (only can be `True` or `False`), it holds a very important function: testing truth in statements.\n",
    "\n",
    "The two states are represented by:\n",
    "\n",
    "* `True` or `1` for true\n",
    "* `False` or `0` for false\n",
    "\n",
    "Note: Note the capital letter at the Start of `False` and `True`.\n",
    "\n",
    "Generally, built-in function that have a boolean results will alway print( either `1` / `True`, or `0` / `False`.\n",
    "There are important exceptions: \n"
   ]
  },
  {
   "cell_type": "markdown",
   "metadata": {},
   "source": [
    "### Logical operators"
   ]
  },
  {
   "cell_type": "markdown",
   "metadata": {},
   "source": [
    "Logical python operators ordered by ascending priority, meaning that `or` operations are evaluated first:\n",
    "\n",
    "| Operation || Result  |\n",
    "|---||---|\n",
    "| `x or y` || if x is false, then y, else x |\n",
    "| `x and y` || if x is false, then x, else y |\n",
    "| `not x` || if x is false, then True, else False |\n",
    "\n"
   ]
  },
  {
   "cell_type": "markdown",
   "metadata": {},
   "source": [
    "We can see, that the logical operators do not print( either `True` or `False`, but one of the operants (either `x` or `y`).\n",
    "\n",
    "In addition, `or` and `and` are _shot-circuit_ operators, i.e. the second arguments are __only__ evaluated when the first argument if false or true, respectively.\n",
    "\n",
    "As no type is specified for `x` or `y` how is their boolean state interpreted?\n",
    "  * by default, an object is considered `True` [^1]\n",
    "  * Some objects are considered to be false:\n",
    "    * `None` and `False`\n",
    "    * Numerical: `0`, `0.0`, `0j`\n",
    "    * Empty sequences or collections: `''`, `[]`, `{}`, \n",
    "  \n",
    "[^1] There are methods to change this behaviour for an object, but we will not go into detail, here "
   ]
  },
  {
   "cell_type": "code",
   "execution_count": null,
   "metadata": {},
   "outputs": [],
   "source": [
    "l = [1]"
   ]
  },
  {
   "cell_type": "code",
   "execution_count": null,
   "metadata": {},
   "outputs": [],
   "source": [
    "bool(l)"
   ]
  },
  {
   "cell_type": "code",
   "execution_count": null,
   "metadata": {},
   "outputs": [],
   "source": [
    "bool([])"
   ]
  },
  {
   "cell_type": "code",
   "execution_count": null,
   "metadata": {},
   "outputs": [],
   "source": [
    "bool(None)"
   ]
  },
  {
   "cell_type": "markdown",
   "metadata": {},
   "source": [
    "### Comparisons\n"
   ]
  },
  {
   "cell_type": "markdown",
   "metadata": {},
   "source": [
    "Python allows the following comparison operations:\n",
    "\n",
    "| Operation | Meaning  |\n",
    "|---|---|\n",
    "| `<` | strictly less than |\n",
    "| `<=` | less than or equal |\n",
    "| `>` | strictly greater than |\n",
    "| `>=` | greater than or equal |\n",
    "| `==` | value equality |\n",
    "| `!=` | not equal |\n",
    "| `is` | object identity |\n",
    "| `is not` | negated object identity |\n",
    "\n",
    "All comparisons have the __same priority__ and can be chained together arbitrarily. E.g. `x < y <= z` is equivalent to `x < y and y <= z`, except that `y` is evaluated only once. In both cases, `z` is not evaluated at all when `x < y` is found to be false.\n",
    "\n",
    "Objects of different types, except different numeric types, never compare equal.\n"
   ]
  },
  {
   "cell_type": "markdown",
   "metadata": {},
   "source": [
    "<div class=\"alert alert-block alert-info\">\n",
    "<b>Note:</b> \n",
    "    There is a difference between <code>==</code> and <code>is</code>. <br> <br>\n",
    "    The <code>==</code> is a value based equal, i.e. have the two (potentially different) objects the same value. <br><br>\n",
    "    <code>is</code> is reference based, i.e. do the references point to the same object.\n",
    "    The difference can be seen in the following example:\n",
    "</div>"
   ]
  },
  {
   "cell_type": "code",
   "execution_count": null,
   "metadata": {},
   "outputs": [],
   "source": [
    "list1 = [1, 2, 3]\n",
    "list2 = list1\n",
    "list3 = list(list1)\n",
    "\n",
    "print(list1 == list2)\n",
    "print(list2 == list3)\n",
    "\n",
    "print(list1 is list2)\n",
    "print(list2 is list3)"
   ]
  },
  {
   "cell_type": "markdown",
   "metadata": {},
   "source": [
    "While all three lists have the same values, only `list1` and `list2` point actually to the same object. We can check this with the `id` function"
   ]
  },
  {
   "cell_type": "code",
   "execution_count": null,
   "metadata": {},
   "outputs": [],
   "source": [
    "# convert adress to hex for a bit better readability\n",
    "print(\"list 1: \", hex(id(list1)))\n",
    "print(\"list 2: \", hex(id(list2)))\n",
    "print(\"list 3: \", hex(id(list3)))"
   ]
  },
  {
   "cell_type": "markdown",
   "metadata": {},
   "source": [
    "<div class=\"alert alert-block alert-warning\">\n",
    "<b>Examples:</b> \n",
    "Let's go trough some examples: <br>\n",
    "</div>"
   ]
  },
  {
   "cell_type": "code",
   "execution_count": null,
   "metadata": {},
   "outputs": [],
   "source": [
    "2 > 1"
   ]
  },
  {
   "cell_type": "code",
   "execution_count": null,
   "metadata": {},
   "outputs": [],
   "source": [
    "1 > 1"
   ]
  },
  {
   "cell_type": "code",
   "execution_count": null,
   "metadata": {},
   "outputs": [],
   "source": [
    "1 <= 1"
   ]
  },
  {
   "cell_type": "code",
   "execution_count": null,
   "metadata": {},
   "outputs": [],
   "source": [
    "1.0 == 1"
   ]
  },
  {
   "cell_type": "code",
   "execution_count": null,
   "metadata": {},
   "outputs": [],
   "source": [
    "True and True"
   ]
  },
  {
   "cell_type": "code",
   "execution_count": null,
   "metadata": {},
   "outputs": [],
   "source": [
    "True and False"
   ]
  },
  {
   "cell_type": "code",
   "execution_count": null,
   "metadata": {},
   "outputs": [],
   "source": [
    "False or True"
   ]
  },
  {
   "cell_type": "code",
   "execution_count": null,
   "metadata": {},
   "outputs": [],
   "source": []
  },
  {
   "cell_type": "code",
   "execution_count": null,
   "metadata": {
    "tags": []
   },
   "outputs": [],
   "source": [
    "display_quiz(\"quizzes/comparisons_1.json\", shuffle_answers=True)"
   ]
  },
  {
   "cell_type": "code",
   "execution_count": null,
   "metadata": {},
   "outputs": [],
   "source": [
    "print(True and False or True)\n",
    "print(False or \"Let's go\")\n",
    "print(True or \"Hi\")\n",
    "print(list() and \"Hi\")\n",
    "print(True and {})"
   ]
  },
  {
   "cell_type": "code",
   "execution_count": null,
   "metadata": {
    "tags": []
   },
   "outputs": [],
   "source": [
    "display_quiz(\"quizzes/comparisons_2.json\", shuffle_answers=True)"
   ]
  },
  {
   "cell_type": "code",
   "execution_count": null,
   "metadata": {},
   "outputs": [],
   "source": [
    "print([True == 1, False == 0])\n",
    "print([1, 1.0] == [True, True] == [1.0, True])\n",
    "print([ list() == [], list() is []])\n",
    "print(1.0e-72 * 1e72 == 1)\n",
    "print(False == None)\n",
    "print(False is None)\n",
    "print(0 == None)\n",
    "print(1 < 5 or 2 > True)\n",
    "print(True - True >= False and \"Hi\")"
   ]
  },
  {
   "cell_type": "code",
   "execution_count": null,
   "metadata": {},
   "outputs": [],
   "source": [
    "True - True"
   ]
  },
  {
   "cell_type": "code",
   "execution_count": null,
   "metadata": {},
   "outputs": [],
   "source": [
    "0 >= False"
   ]
  },
  {
   "cell_type": "code",
   "execution_count": null,
   "metadata": {},
   "outputs": [],
   "source": [
    "True and \"Hi\""
   ]
  },
  {
   "cell_type": "markdown",
   "metadata": {
    "tags": []
   },
   "source": [
    "\n",
    "# Flow control\n",
    "[Back to Contents](#Contents)\n",
    "\n",
    "As soon as we know how to ask for the truth of states we can start to run our code based on conditons and, hence, control the flow of our programme even more."
   ]
  },
  {
   "cell_type": "markdown",
   "metadata": {},
   "source": [
    "## The `if` statement"
   ]
  },
  {
   "cell_type": "code",
   "execution_count": null,
   "metadata": {},
   "outputs": [],
   "source": [
    "# let us enable to get some (pseudo) random numbers\n",
    "import random"
   ]
  },
  {
   "cell_type": "code",
   "execution_count": null,
   "metadata": {},
   "outputs": [],
   "source": [
    "some_number = random.randint(-100,100)\n",
    "# implicitly in assignments\n",
    "flag = \"positive\" if some_number > 0 else \"negative\"\n",
    "# if-keyword condition:\n",
    "#     #indented-code\n",
    "# elif condition:\n",
    "#     #indented-code\n",
    "# else:\n",
    "#     # rest of indented-code\n",
    "if some_number < 0:\n",
    "    print(\"drawn a \", flag,\n",
    "          \" number, :\", some_number)\n",
    "elif some_number > 0:\n",
    "    print(\"drawn a \", flag,\n",
    "          \" number: \", some_number)\n",
    "else:\n",
    "    # an assert statement ensures an condition\n",
    "    # in this case an error is raised when\n",
    "    # -some_number != +some_number, which is fancy\n",
    "    # writing for some_number == 0\n",
    "    assert(-some_number == +some_number)\n",
    "    print(\"You draw zero: \", some_number)"
   ]
  },
  {
   "cell_type": "markdown",
   "metadata": {},
   "source": [
    "There could be as many `elif` statements as you like. The `else` part is executed whenever no previous condition was found to be true (neither the `if` nor any `elif` statements)"
   ]
  },
  {
   "cell_type": "markdown",
   "metadata": {},
   "source": [
    "<div class=\"alert alert-block alert-warning\">\n",
    "<b>Exercises:</b> \n",
    "</div>\n",
    "\n",
    "- Correct the following code:\n",
    "\n",
    "```python\n",
    "break_point = 5\n",
    "\n",
    "if break_point > 3\n",
    "    print(\"hit the breaks\")\n",
    "else\n",
    "    print(\"go on.\")\n",
    "```"
   ]
  },
  {
   "cell_type": "code",
   "execution_count": null,
   "metadata": {},
   "outputs": [],
   "source": [
    "break_point = 5\n",
    "\n",
    "if break_point > 3:\n",
    "    print(\"hit the breaks\")\n",
    "else:\n",
    "    print(\"go on.\")"
   ]
  },
  {
   "cell_type": "markdown",
   "metadata": {},
   "source": [
    "- Test if the first and the last entry of a list are equal\n",
    "\n",
    "```python\n",
    "l1 = [1, 2, 3, 4, 1]\n",
    "l2 = [1, 2, 3, 4, 5]\n",
    "```\n"
   ]
  },
  {
   "cell_type": "code",
   "execution_count": null,
   "metadata": {},
   "outputs": [],
   "source": [
    "l1 = [1, 2, 3, 4, 1]\n",
    "l2 = [1, 2, 3, 4, 5]\n",
    "\n",
    "if l1[0] == l1[-1]:\n",
    "    print(\"equal\")\n",
    "    \n",
    "l2[0] == l2[-1]"
   ]
  },
  {
   "cell_type": "markdown",
   "metadata": {},
   "source": [
    "- Test if a number is the same as the reversed number (e.g. 121 is the same the reversed number. 123 is not the same as 321."
   ]
  },
  {
   "cell_type": "code",
   "execution_count": null,
   "metadata": {},
   "outputs": [],
   "source": [
    "n = 121\n",
    "\n",
    "n_ = str(n)"
   ]
  },
  {
   "cell_type": "code",
   "execution_count": null,
   "metadata": {},
   "outputs": [],
   "source": [
    "n_[::-1]"
   ]
  },
  {
   "cell_type": "code",
   "execution_count": null,
   "metadata": {},
   "outputs": [],
   "source": [
    "n_ == n_[::-1]"
   ]
  },
  {
   "cell_type": "code",
   "execution_count": null,
   "metadata": {},
   "outputs": [],
   "source": [
    "int(n_)"
   ]
  },
  {
   "cell_type": "markdown",
   "metadata": {},
   "source": [
    "## The `for` statement\n",
    "\n",
    "The `for` statement or `for`-loop iterates over the items of any sequence."
   ]
  },
  {
   "cell_type": "code",
   "execution_count": null,
   "metadata": {},
   "outputs": [],
   "source": [
    "# iterate over lists\n",
    "ml = [\"my\", \"cat\", \"eats\"]\n",
    "for word in ml:\n",
    "    print(word, end=' ')"
   ]
  },
  {
   "cell_type": "code",
   "execution_count": null,
   "metadata": {},
   "outputs": [],
   "source": [
    "# iterate over dictionaries\n",
    "# over items\n",
    "md = {\"Hans\": 42, \"Pedda\": 31, \"Lars\": 19}\n",
    "\n",
    "# by default only iterate over keys\n",
    "for k in md:\n",
    "    print(k)\n",
    "\n",
    "print(10*\"=\")\n",
    "\n",
    "# you can iterate over the values\n",
    "for v in md.values():\n",
    "    print(v)\n",
    "    \n",
    "print(10*\"=\")\n",
    "\n",
    "# most commonly used, as you have the keys and values\n",
    "print(\"remember .items()? \", list(md.items())[0])\n",
    "# you can directly iterate over those pairs, via:\n",
    "for k, v in md.items():\n",
    "    print(k, \", \", v)"
   ]
  },
  {
   "cell_type": "code",
   "execution_count": null,
   "metadata": {},
   "outputs": [],
   "source": [
    "for word in ml:\n",
    "    print(word)"
   ]
  },
  {
   "cell_type": "code",
   "execution_count": null,
   "metadata": {},
   "outputs": [],
   "source": [
    "for item in md.items():\n",
    "    print(item)\n",
    "    print(item[0])"
   ]
  },
  {
   "cell_type": "code",
   "execution_count": null,
   "metadata": {
    "tags": []
   },
   "outputs": [],
   "source": [
    "i = 0\n",
    "for char in \"Why would you do this?\":\n",
    "    print(counter)\n",
    "    print(i)\n",
    "    i+=1\n",
    "    print(\"--\")"
   ]
  },
  {
   "cell_type": "code",
   "execution_count": null,
   "metadata": {},
   "outputs": [],
   "source": [
    "# iterate over strings (if you really want it)\n",
    "# if we have to, let's learn about `enumerate`\n",
    "for i, char in enumerate(\"Why would you do this?\"):\n",
    "    # implicit if also work in function calls\n",
    "    print(char, end=\"\\n\" if (i>9 and i%10 == 0) else \"\")"
   ]
  },
  {
   "cell_type": "markdown",
   "metadata": {},
   "source": [
    "If you need a counter in a for loop, you can can use `enumerate` with in _iterable_, as is gives you a pair of (counter, item), by default, starts with `0` and can, therefore, be thought of as the index indicator."
   ]
  },
  {
   "cell_type": "code",
   "execution_count": null,
   "metadata": {},
   "outputs": [],
   "source": [
    "# if you just want to loop over a sequence of numbers\n",
    "# you can use the built-in `range` function\n",
    "\n",
    "print(list(range(10)))"
   ]
  },
  {
   "cell_type": "code",
   "execution_count": null,
   "metadata": {},
   "outputs": [],
   "source": [
    "# the possible arguments work similar to the slicing logic\n",
    "range?"
   ]
  },
  {
   "cell_type": "code",
   "execution_count": null,
   "metadata": {},
   "outputs": [],
   "source": [
    "list(range(0, 11))"
   ]
  },
  {
   "cell_type": "code",
   "execution_count": null,
   "metadata": {},
   "outputs": [],
   "source": [
    "list(range(0, 10, 3))"
   ]
  },
  {
   "cell_type": "code",
   "execution_count": null,
   "metadata": {},
   "outputs": [],
   "source": [
    "list(range(100, -11, -10))"
   ]
  },
  {
   "cell_type": "code",
   "execution_count": null,
   "metadata": {},
   "outputs": [],
   "source": [
    "# Why do we use a list cast?\n",
    "range(10)"
   ]
  },
  {
   "cell_type": "markdown",
   "metadata": {},
   "source": [
    "Actually `range` is a specific data type, which acts similar to a list, but actually never creates the a list itself."
   ]
  },
  {
   "cell_type": "markdown",
   "metadata": {},
   "source": [
    "## The `while` statement \n",
    "\n",
    "The `while`-loop starts with a condition and ends whenever the condition is not fulfilled anymore:"
   ]
  },
  {
   "cell_type": "code",
   "execution_count": null,
   "metadata": {},
   "outputs": [],
   "source": [
    "numbers = []\n",
    "num_drawn = 0\n",
    "while num_drawn < 10:\n",
    "    numbers.append(random.randint(-10,10))    \n",
    "    num_drawn += 1"
   ]
  },
  {
   "cell_type": "code",
   "execution_count": null,
   "metadata": {},
   "outputs": [],
   "source": [
    "numbers"
   ]
  },
  {
   "cell_type": "markdown",
   "metadata": {},
   "source": [
    "Sometimes `while` and `for` loops are similar and could be translated into each other:"
   ]
  },
  {
   "cell_type": "code",
   "execution_count": null,
   "metadata": {},
   "outputs": [],
   "source": [
    "# the equivalent for loop to the prev. while loop\n",
    "# in these instances the for loop should be used\n",
    "numbers = []\n",
    "for i in range(10):\n",
    "    numbers.append(random.randint(-10,10))\n",
    "numbers"
   ]
  },
  {
   "cell_type": "code",
   "execution_count": null,
   "metadata": {
    "tags": []
   },
   "outputs": [],
   "source": [
    "# however the while loop has other use cases\n",
    "input_wrong = True\n",
    "while input_wrong:\n",
    "    in_ = input(\"Please type in 3 characters string\"\n",
    "                \" not using all the same characters\")\n",
    "    if len(in_) != 3:\n",
    "        print(\"Please enter a 3 character string! \\n\"\n",
    "              \"Try again\")\n",
    "    elif in_[0] == in_[1] == in_[2]:\n",
    "        print(\"Please use different characters!\")\n",
    "        print(\"Try again!\")\n",
    "    else:\n",
    "        print(\"Thanks a lot. Enjoy\")\n",
    "        input_wrong = False"
   ]
  },
  {
   "cell_type": "markdown",
   "metadata": {},
   "source": [
    "Generally, whenever you now a break condition, but do not now how long it will take or how many iterations are necessary, a `while` loop is the better choice.\n"
   ]
  },
  {
   "cell_type": "markdown",
   "metadata": {},
   "source": [
    "## The `break`, `continue`, and `pass` statements\n",
    "\n",
    "The `break` statement _breaks_ the innermost enclosing `while` of `for` loop.\n",
    "\n",
    "The `continue` statement immediately skips to the next iteration ignoring all following code lines in the current iteration:"
   ]
  },
  {
   "cell_type": "code",
   "execution_count": null,
   "metadata": {},
   "outputs": [],
   "source": [
    "for num in range(2,10):\n",
    "    if num % 2 == 0:\n",
    "        print(\"Found an even number\", num)\n",
    "        continue\n",
    "    if num %7 == 0:\n",
    "        print(\"First multiple of seven found:\", num)\n",
    "        print(\"End!\")\n",
    "        break\n",
    "    print(\"Found an odd number\", num)"
   ]
  },
  {
   "cell_type": "markdown",
   "metadata": {},
   "source": [
    "The `pass` statement does exactly nothing!\n",
    "\n",
    "It can be used when a statement is required syntactically but the program requires no action. For example:"
   ]
  },
  {
   "cell_type": "code",
   "execution_count": null,
   "metadata": {},
   "outputs": [],
   "source": [
    "# breaking out of the innermost loop:\n",
    "for i in range(3):\n",
    "    print(\"i:\", i, end=' ')\n",
    "    for j in range(3):\n",
    "        if j > 1: \n",
    "            break\n",
    "        print(\"\\tj:\", j)"
   ]
  },
  {
   "cell_type": "code",
   "execution_count": null,
   "metadata": {
    "tags": []
   },
   "outputs": [],
   "source": [
    "while True:\n",
    "    pass  # need a keyboard interrupt to end (or interrupt kernel)"
   ]
  },
  {
   "cell_type": "code",
   "execution_count": null,
   "metadata": {},
   "outputs": [],
   "source": [
    "if 1:\n",
    "    print(\"I absolutely know what to do\")\n",
    "else:\n",
    "    pass # Reminder: Still need to figure out what to do"
   ]
  },
  {
   "cell_type": "markdown",
   "metadata": {},
   "source": [
    "## The `else` clauses on loops\n",
    "In python, loops can have else clauses. These code blocks are executed whenever a loops have finished \"correctly\". So whenever the iterable was exhausted (for `for` loops) or the break condition became true (`while` loops). The `else` block is not evaluated when the loops is interrupted by a `break` statement.\n",
    "\n",
    "This is exemplified by the following loop, which searches for prime numbers:"
   ]
  },
  {
   "cell_type": "code",
   "execution_count": null,
   "metadata": {},
   "outputs": [],
   "source": [
    "# test numbers for primes\n",
    "for n in range(2, 8):\n",
    "    # try deviding  \n",
    "    # jump to here, whenever break is executed\n",
    "    for x in range(2, n):\n",
    "        if n % x == 0:\n",
    "            print(n, 'equals', x, '*', n // x)\n",
    "            prime_found = False\n",
    "            break\n",
    "    else:\n",
    "        # execute the next line when no break is executed in \n",
    "        # the for loop above\n",
    "        print(n, 'is a prime number')\n",
    "        "
   ]
  },
  {
   "cell_type": "markdown",
   "metadata": {},
   "source": [
    "Notice that the `else` block is indented on the same level as the `for` loop. That might look weird on first sight, if you do not know the concept."
   ]
  },
  {
   "cell_type": "markdown",
   "metadata": {
    "tags": []
   },
   "source": [
    "\n",
    "## The `match` statement\n",
    "\n",
    "The `match` statement was introduced in python 3.10. Hence, you will not see it a lot in code, yet. \n",
    "That is why we will not go in details here.\n",
    "You can read about it in:\n",
    "- [Python doc: Tutorial - The match statement](https://docs.python.org/3.10/tutorial/controlflow.html#match-statements)\n",
    "- [Python ref: match](https://docs.python.org/3.10/reference/compound_stmts.html#the-match-statement)\n",
    "\n",
    "We will just have a look a two examples from the documentations, to see what it is meant to use for.\n",
    "\n",
    "The `match` statement takes an expression and compares its value to successive patterns given as one or more case blocks. It can also extract components (sequence elements or object attributes) from the value into variables."
   ]
  },
  {
   "cell_type": "code",
   "execution_count": null,
   "metadata": {},
   "outputs": [],
   "source": [
    "# simplest use case, similar to `switch` in C or Java\n",
    "http_status = 404\n",
    "match http_status:\n",
    "    case 400:\n",
    "        print(\"Bad request\")\n",
    "    case 404:\n",
    "        print(\"Not found\")\n",
    "    case 418:\n",
    "        print(\"I'm a teapot\")\n",
    "    case _:\n",
    "        print(\"Something's wrong with the internet\")"
   ]
  },
  {
   "cell_type": "code",
   "execution_count": null,
   "metadata": {},
   "outputs": [],
   "source": [
    "# a bit more complicated\n",
    "flag = False\n",
    "match (100, 200):\n",
    "    case (100, 300):  # Mismatch: 200 != 300\n",
    "        print('Case 1')\n",
    "    case (100, 200) if flag:  # Successful match, but guard fails\n",
    "        print('Case 2')\n",
    "    case (100, y):  # Matches and binds y to 200\n",
    "        print(f'Case 3, y: {y}')\n",
    "    case _:  # Pattern not attempted\n",
    "        print('Case 4, I match anything!')\n",
    "\n",
    "# Beware y is only defined when case case 3 was evaluated\n",
    "print(\"Extracted: \", y)"
   ]
  },
  {
   "cell_type": "markdown",
   "metadata": {},
   "source": [
    "<div class=\"alert alert-block alert-warning\">\n",
    "<b>Exercises:</b> \n",
    "    Solve the following exercises using conditions and loops\n",
    "</div>"
   ]
  },
  {
   "cell_type": "markdown",
   "metadata": {},
   "source": [
    "- Calculate the sum of all the numbers before a given number in a variable called `n`. E.g. for `n = 10` the result should be 55"
   ]
  },
  {
   "cell_type": "code",
   "execution_count": null,
   "metadata": {},
   "outputs": [],
   "source": [
    "n = 10\n",
    "\n",
    "[1, 2, 3, 4, 5, 6, 7, 8, 9]\n",
    "res = 0\n",
    "for i in l:\n",
    "    res = res + i\n",
    "\n",
    "print(res)"
   ]
  },
  {
   "cell_type": "markdown",
   "metadata": {},
   "source": [
    "- Print a multiplication matrix for the numbers from 1 to 10:\n",
    "```\n",
    "1 2 3 4 5 ...\n",
    "2 4 6 8 10 ...\n",
    "3 6 9 12 15 ...\n",
    "...\n",
    "```"
   ]
  },
  {
   "cell_type": "code",
   "execution_count": null,
   "metadata": {},
   "outputs": [],
   "source": [
    "for i in range(1,11):\n",
    "    for j in range(1,11):\n",
    "        m = i*j\n",
    "        if m <= 9:\n",
    "            print(str(m) + \" \", end=\" \")\n",
    "        else:\n",
    "            print(m, end=\" \")\n",
    "    print()\n"
   ]
  },
  {
   "cell_type": "markdown",
   "metadata": {},
   "source": [
    "- Display all the numbers that can be divided by 6 from a list\n"
   ]
  },
  {
   "cell_type": "code",
   "execution_count": null,
   "metadata": {},
   "outputs": [],
   "source": [
    "l = [1, 6, 12, 16, 30]\n",
    "\n",
    "for element in l:\n",
    "    if element % 6 == 0:\n",
    "        print(element)"
   ]
  },
  {
   "cell_type": "markdown",
   "metadata": {},
   "source": [
    "- Print only the even indexed characters of the string"
   ]
  },
  {
   "cell_type": "code",
   "execution_count": null,
   "metadata": {},
   "outputs": [],
   "source": [
    "s = \"test string\"\n",
    "\n",
    "for i in range(0, len(s), 2):\n",
    "    print(s[i])\n",
    "\n",
    "print(\"---\")\n",
    "for i, char in enumerate(s):\n",
    "    if i % 2 == 0:\n",
    "        print(char)"
   ]
  },
  {
   "cell_type": "markdown",
   "metadata": {},
   "source": [
    "- Print the sum of the previous number and the current number for all numbers 0...10\n",
    "  - for 0 feel free to print something\n",
    "  - for 1 print 0+1\n",
    "  - for 2 print 1+2"
   ]
  },
  {
   "cell_type": "code",
   "execution_count": null,
   "metadata": {},
   "outputs": [],
   "source": [
    "prev = None\n",
    "for i in range(11):\n",
    "    if i==0:\n",
    "        print(0)\n",
    "    else:\n",
    "        print(i, \"+\" , prev, \"=\") \n",
    "        print(i + prev)\n",
    "    prev = i"
   ]
  },
  {
   "cell_type": "markdown",
   "metadata": {},
   "source": [
    "- Calculate n to the power of 3 of all number from 1 to a given number in a variable called `n`\n"
   ]
  },
  {
   "cell_type": "code",
   "execution_count": null,
   "metadata": {},
   "outputs": [],
   "source": [
    "n = 3\n",
    "for i in range(1,n+1):\n",
    "    print(i**3)"
   ]
  },
  {
   "cell_type": "markdown",
   "metadata": {},
   "source": [
    "- Print a pattern like\n",
    "```\n",
    "1\n",
    "1 2\n",
    "1 2 3\n",
    "1 2 3 4 \n",
    "1 2 3 4 5\n",
    "```"
   ]
  },
  {
   "cell_type": "code",
   "execution_count": null,
   "metadata": {},
   "outputs": [],
   "source": [
    "for i in range(1, 6):\n",
    "    for j in range(1, i+1):\n",
    "        print(j, end=\" \")\n",
    "    print()\n",
    "\n",
    "print(\"-----\")\n",
    "    \n",
    "# illegal first solution which came to mind\n",
    "# -> passing lists via * not yet introduced. (see functions chapter)\n",
    "for i in range(1, 6):\n",
    "    print(*list(range(1,i+1)))"
   ]
  },
  {
   "cell_type": "markdown",
   "metadata": {},
   "source": [
    "- Print only entries from a list that are greater than a given number in a variable `n`"
   ]
  },
  {
   "cell_type": "code",
   "execution_count": null,
   "metadata": {},
   "outputs": [],
   "source": [
    "l = [5, 3, 6]\n",
    "n = 4\n",
    "for number in l:\n",
    "    if number > n: print(number)"
   ]
  },
  {
   "cell_type": "markdown",
   "metadata": {},
   "source": [
    "- Print all entries of the following list except \"apple\"\n",
    "```\n",
    "l = [\"mango\", \"banana\", \"apple\", \"orange\"]\n",
    "```"
   ]
  },
  {
   "cell_type": "code",
   "execution_count": null,
   "metadata": {},
   "outputs": [],
   "source": [
    "l = [\"mango\", \"banana\", \"apple\", \"orange\"]\n",
    "for word in l:\n",
    "    if word == \"apple\":\n",
    "        continue\n",
    "    print(word)"
   ]
  },
  {
   "cell_type": "markdown",
   "metadata": {},
   "source": [
    "**Couple of questions**\n",
    "- What is the difference between the `while` and the `for` loop?\n",
    "- How do the definitions look like?\n",
    "- What are the use cases for the `break`, `pass`, and `continue` keywords?\n",
    "- What does an `else` clause after a `while` or `for` loop do?\n",
    "  - gets executed when no `break` was triggered in the loop"
   ]
  },
  {
   "cell_type": "markdown",
   "metadata": {
    "tags": []
   },
   "source": [
    "# Functions\n",
    "[Back to Contents](#Contents)\n",
    "\n",
    "Functions are used to enable convenient code re-use. Generally, whenever you find that you need to use code more than once, think about defining a function you can use whenever you like.\n",
    "\n",
    "Functions have to be defined, before use!\n",
    "\n",
    "We will have a look at two function definitions and discuss the differences:"
   ]
  },
  {
   "cell_type": "code",
   "execution_count": 2,
   "metadata": {},
   "outputs": [],
   "source": [
    "def fib(n):\n",
    "    a, b = 0, 1\n",
    "    while a < n:\n",
    "        print(a, end=' ')\n",
    "        a, b = b, a+b\n",
    "    return None  # default return value"
   ]
  },
  {
   "cell_type": "code",
   "execution_count": 3,
   "metadata": {},
   "outputs": [],
   "source": [
    "def print_fib_series(max_num: int) -> None:\n",
    "    \"\"\"Print a Fibonacci series up to max_num.\n",
    "    \n",
    "    Args:\n",
    "        max_num - number up to which the Fibonacci series is printed.\n",
    "    \"\"\"\n",
    "    # Start conditions\n",
    "    a, b = 0, 1\n",
    "    while a < max_num:\n",
    "        print(a, end=' ')\n",
    "        a, b = b, a+b\n",
    "    return None"
   ]
  },
  {
   "cell_type": "markdown",
   "metadata": {},
   "source": [
    "Let's dicuss what we can see:\n",
    "- the `def` keyword signals the beginning of a new function creation or _definition_\n",
    "- a function definition has to look like:\n",
    "  ```python\n",
    "  def funtion_name(arguments: type_hints) -> return_type_hint:\n",
    "      \"\"\"doc string\"\"\"\n",
    "      # well, do something clever\n",
    "      return  # return anything back\n",
    "  ```  \n",
    "- the `fib` function shows the bare minimum for the function to work\n",
    "- the `print_fib_series` shows the best practice to write a python function. A lot is not needed, but do you think it helps to understand the function and make it more maintainable?\n",
    "- docstrings come right after the function definition. Why have 'em? See below.\n",
    "- Type hints `argument: type` can be used to clarify expected types going in or out (` -> type`) a function. Python will not use those, but many editors can check them. Helps in development.\n",
    "- You can use comments to clarify ideas in the code\n",
    "- `return` allows for the function to give back a value or object. Default is `None`. Hence, `return None` is mostly use for function that normally would return a value. Otherwise, it would not be written in the function. \n",
    "\n",
    "Coming back to docstrings:"
   ]
  },
  {
   "cell_type": "code",
   "execution_count": 4,
   "metadata": {},
   "outputs": [
    {
     "data": {
      "text/plain": [
       "\u001b[1;31mSignature:\u001b[0m \u001b[0mfib\u001b[0m\u001b[1;33m(\u001b[0m\u001b[0mn\u001b[0m\u001b[1;33m)\u001b[0m\u001b[1;33m\u001b[0m\u001b[1;33m\u001b[0m\u001b[0m\n",
       "\u001b[1;31mDocstring:\u001b[0m <no docstring>\n",
       "\u001b[1;31mFile:\u001b[0m      c:\\users\\maxsc\\appdata\\local\\temp\\ipykernel_2288\\1152112488.py\n",
       "\u001b[1;31mType:\u001b[0m      function\n"
      ]
     },
     "metadata": {},
     "output_type": "display_data"
    }
   ],
   "source": [
    "fib?"
   ]
  },
  {
   "cell_type": "code",
   "execution_count": 5,
   "metadata": {},
   "outputs": [
    {
     "data": {
      "text/plain": [
       "\u001b[1;31mSignature:\u001b[0m \u001b[0mprint_fib_series\u001b[0m\u001b[1;33m(\u001b[0m\u001b[0mmax_num\u001b[0m\u001b[1;33m:\u001b[0m \u001b[0mint\u001b[0m\u001b[1;33m)\u001b[0m \u001b[1;33m->\u001b[0m \u001b[1;32mNone\u001b[0m\u001b[1;33m\u001b[0m\u001b[1;33m\u001b[0m\u001b[0m\n",
       "\u001b[1;31mDocstring:\u001b[0m\n",
       "Print a Fibonacci series up to max_num.\n",
       "\n",
       "Args:\n",
       "    max_num - number up to which the Fibonacci series is printed.\n",
       "\u001b[1;31mFile:\u001b[0m      c:\\users\\maxsc\\appdata\\local\\temp\\ipykernel_2288\\3180361190.py\n",
       "\u001b[1;31mType:\u001b[0m      function\n"
      ]
     },
     "metadata": {},
     "output_type": "display_data"
    }
   ],
   "source": [
    "print_fib_series?"
   ]
  },
  {
   "cell_type": "code",
   "execution_count": 9,
   "metadata": {},
   "outputs": [],
   "source": [
    "# Write an easier function\n",
    "def print_hello(name):\n",
    "    print(f\"hello, {name}\")\n",
    "    "
   ]
  },
  {
   "cell_type": "code",
   "execution_count": 11,
   "metadata": {},
   "outputs": [
    {
     "name": "stdout",
     "output_type": "stream",
     "text": [
      "hello, Jane\n"
     ]
    }
   ],
   "source": [
    "print_hello(\"Jane\")"
   ]
  },
  {
   "cell_type": "markdown",
   "metadata": {},
   "source": [
    "<div class=\"alert alert-block alert-warning\">\n",
    "<b>Exercises:</b> \n",
    "    Define functions to solve the exercises.\n",
    "</div>"
   ]
  },
  {
   "cell_type": "code",
   "execution_count": null,
   "metadata": {},
   "outputs": [],
   "source": []
  },
  {
   "cell_type": "markdown",
   "metadata": {},
   "source": [
    "- Write a function taking two arguments and returning the sum of them "
   ]
  },
  {
   "cell_type": "code",
<<<<<<< HEAD
   "execution_count": 1,
   "metadata": {},
   "outputs": [],
   "source": [
    "def print_sum(a,b) -> None:\n",
=======
   "execution_count": 23,
   "metadata": {},
   "outputs": [],
   "source": [
    "def print_sum(a: [int, str],\n",
    "              b: [int, str]) -> None:\n",
    "    \"\"\" prints sum of two arguments\n",
    "    \n",
    "    Args:\n",
    "        a\n",
    "        b\n",
    "    \n",
    "    Example:\n",
    "        >> print_sum(1, 2)\n",
    "        >> 3\n",
    "    \"\"\"\n",
>>>>>>> master
    "    print(a+b)"
   ]
  },
  {
   "cell_type": "code",
<<<<<<< HEAD
   "execution_count": 2,
=======
   "execution_count": 24,
   "metadata": {},
   "outputs": [
    {
     "data": {
      "text/plain": [
       "\u001b[1;31mSignature:\u001b[0m\n",
       "\u001b[0mprint_sum\u001b[0m\u001b[1;33m(\u001b[0m\u001b[1;33m\n",
       "\u001b[0m    \u001b[0ma\u001b[0m\u001b[1;33m:\u001b[0m \u001b[1;33m[\u001b[0m\u001b[1;33m<\u001b[0m\u001b[1;32mclass\u001b[0m \u001b[1;34m'int'\u001b[0m\u001b[1;33m>\u001b[0m\u001b[1;33m,\u001b[0m \u001b[1;33m<\u001b[0m\u001b[1;32mclass\u001b[0m \u001b[1;34m'str'\u001b[0m\u001b[1;33m>\u001b[0m\u001b[1;33m]\u001b[0m\u001b[1;33m,\u001b[0m\u001b[1;33m\n",
       "\u001b[0m    \u001b[0mb\u001b[0m\u001b[1;33m:\u001b[0m \u001b[1;33m[\u001b[0m\u001b[1;33m<\u001b[0m\u001b[1;32mclass\u001b[0m \u001b[1;34m'int'\u001b[0m\u001b[1;33m>\u001b[0m\u001b[1;33m,\u001b[0m \u001b[1;33m<\u001b[0m\u001b[1;32mclass\u001b[0m \u001b[1;34m'str'\u001b[0m\u001b[1;33m>\u001b[0m\u001b[1;33m]\u001b[0m\u001b[1;33m,\u001b[0m\u001b[1;33m\n",
       "\u001b[0m\u001b[1;33m)\u001b[0m \u001b[1;33m->\u001b[0m \u001b[1;32mNone\u001b[0m\u001b[1;33m\u001b[0m\u001b[1;33m\u001b[0m\u001b[0m\n",
       "\u001b[1;31mDocstring:\u001b[0m\n",
       "prints sum of two arguments\n",
       "\n",
       "Args:\n",
       "    a\n",
       "    b\n",
       "\n",
       "Example:\n",
       "    >> print_sum(1, 2)\n",
       "    >> 3\n",
       "\u001b[1;31mFile:\u001b[0m      c:\\users\\maxsc\\appdata\\local\\temp\\ipykernel_2288\\2021098117.py\n",
       "\u001b[1;31mType:\u001b[0m      function\n"
      ]
     },
     "metadata": {},
     "output_type": "display_data"
    }
   ],
   "source": [
    "print_sum?"
   ]
  },
  {
   "cell_type": "code",
   "execution_count": 19,
>>>>>>> master
   "metadata": {},
   "outputs": [
    {
     "name": "stdout",
     "output_type": "stream",
     "text": [
      "ab\n"
     ]
    }
   ],
   "source": [
    "ret = print_sum(\"a\", \"b\")"
   ]
<<<<<<< HEAD
=======
  },
  {
   "cell_type": "code",
   "execution_count": 17,
   "metadata": {},
   "outputs": [
    {
     "name": "stdout",
     "output_type": "stream",
     "text": [
      "None\n"
     ]
    }
   ],
   "source": [
    "print(ret)"
   ]
>>>>>>> master
  },
  {
   "cell_type": "markdown",
   "metadata": {},
   "source": [
    "- Write a function that takes a list as input and returns the first value"
   ]
  },
  {
   "cell_type": "code",
<<<<<<< HEAD
   "execution_count": 3,
   "metadata": {},
   "outputs": [],
   "source": [
    "def first_value(a :list) -> any:\n",
    "    return a[0]"
=======
   "execution_count": 31,
   "metadata": {},
   "outputs": [],
   "source": [
    "def first_value(a: list) -> any:\n",
    "    return a[0] if a else None"
>>>>>>> master
   ]
  },
  {
   "cell_type": "code",
<<<<<<< HEAD
   "execution_count": 4,
   "metadata": {},
   "outputs": [
    {
     "data": {
      "text/plain": [
       "1"
      ]
     },
     "execution_count": 4,
     "metadata": {},
     "output_type": "execute_result"
    }
   ],
   "source": [
    "first_value([1,2 ,3])"
=======
   "execution_count": 33,
   "metadata": {},
   "outputs": [
    {
     "name": "stdout",
     "output_type": "stream",
     "text": [
      "None\n"
     ]
    }
   ],
   "source": [
    "print(first_value([]))"
>>>>>>> master
   ]
  },
  {
   "cell_type": "markdown",
   "metadata": {},
   "source": [
    "- Write a function that takes a dictionary and a string. The function should validate if the string is a key of the dictionary. Print whether the key is already in use or not."
   ]
  },
  {
   "cell_type": "code",
<<<<<<< HEAD
   "execution_count": 6,
   "metadata": {},
   "outputs": [],
   "source": [
    "def check_key(test_dict: dict, key : str) -> None:\n",
    "    if key in test_dict.keys():\n",
    "        print(\"key in use\")\n",
    "    else:\n",
    "        print(\"key not in use\")"
=======
   "execution_count": 43,
   "metadata": {},
   "outputs": [],
   "source": [
    "def check_key(test_dict: dict, key: str) -> None:\n",
    "    if key in test_dict.keys():\n",
    "        print(\"Key in use\")\n",
    "    else:\n",
    "        print(\"Key not in use\")"
>>>>>>> master
   ]
  },
  {
   "cell_type": "code",
<<<<<<< HEAD
   "execution_count": 7,
=======
   "execution_count": 44,
>>>>>>> master
   "metadata": {},
   "outputs": [
    {
     "name": "stdout",
     "output_type": "stream",
     "text": [
<<<<<<< HEAD
      "key in use\n"
=======
      "Key in use\n"
>>>>>>> master
     ]
    }
   ],
   "source": [
<<<<<<< HEAD
    "check_key({\"a\":1}, \"a\")"
=======
    "check_key({\"a\": 1}, \"a\")"
>>>>>>> master
   ]
  },
  {
   "cell_type": "markdown",
   "metadata": {},
   "source": [
    "<div class=\"alert alert-block alert-info\">\n",
    "<b>Note:</b> \n",
    "    You will hear the terms <i>function</i> and <i>method</i>. The difference is that <i>methods</i>, generally, belong to an object. E.g. for <code>list().append</code>: <code>append</code> is a <i>method</i> of a list object. \n",
    "</div>\n"
   ]
  },
  {
   "cell_type": "markdown",
   "metadata": {},
   "source": [
    "## Function arguments\n",
    "\n",
    "An important part of a function definition are the arguments given to a function. This defines how a user or programm can use the function. There are several way to define those."
   ]
  },
  {
   "cell_type": "markdown",
   "metadata": {},
   "source": [
    "### Default arguments\n",
    "Default arguments allow to use the function with less specificly defined arguments.\n",
    "\n",
    "In our current definition, we cannot use the `print_fib_series` without defining the `max_num` argument"
   ]
  },
  {
   "cell_type": "code",
   "execution_count": 45,
   "metadata": {},
   "outputs": [
    {
     "ename": "TypeError",
     "evalue": "print_fib_series() missing 1 required positional argument: 'max_num'",
     "output_type": "error",
     "traceback": [
      "\u001b[1;31m---------------------------------------------------------------------------\u001b[0m",
      "\u001b[1;31mTypeError\u001b[0m                                 Traceback (most recent call last)",
      "Input \u001b[1;32mIn [45]\u001b[0m, in \u001b[0;36m<cell line: 1>\u001b[1;34m()\u001b[0m\n\u001b[1;32m----> 1\u001b[0m \u001b[43mprint_fib_series\u001b[49m\u001b[43m(\u001b[49m\u001b[43m)\u001b[49m\n",
      "\u001b[1;31mTypeError\u001b[0m: print_fib_series() missing 1 required positional argument: 'max_num'"
     ]
    }
   ],
   "source": [
    "print_fib_series()"
   ]
  },
  {
   "cell_type": "markdown",
   "metadata": {},
   "source": [
    "This can be changed by defining a default argument"
   ]
  },
  {
   "cell_type": "code",
<<<<<<< HEAD
   "execution_count": 8,
=======
   "execution_count": 46,
>>>>>>> master
   "metadata": {},
   "outputs": [],
   "source": [
    "def print_fib_series(max_num: int = 14) -> None:\n",
    "    \"\"\"Print a Fibonacci series up to max_num.\n",
    "    \n",
    "    Args:\n",
    "        max_num - number up to which the Fibonacci\n",
    "                  series is printed (Default: 14).\n",
    "    \"\"\"\n",
    "    # Start conditionsFunction\n",
    "    a, b = 0, 1\n",
    "    while a < max_num:\n",
    "        print(a, end=' ')\n",
    "        a, b = b, a+b"
   ]
  },
  {
   "cell_type": "code",
<<<<<<< HEAD
   "execution_count": 9,
=======
   "execution_count": 47,
>>>>>>> master
   "metadata": {},
   "outputs": [
    {
     "name": "stdout",
     "output_type": "stream",
     "text": [
      "0 1 1 2 3 5 8 13 "
     ]
    }
   ],
   "source": [
    "# simply call without arguments\n",
    "print_fib_series()"
   ]
  },
  {
   "cell_type": "code",
<<<<<<< HEAD
   "execution_count": 10,
=======
   "execution_count": 48,
>>>>>>> master
   "metadata": {},
   "outputs": [
    {
     "name": "stdout",
     "output_type": "stream",
     "text": [
      "0 1 1 2 3 "
     ]
    }
   ],
   "source": [
    "# call with a positional argument\n",
    "print_fib_series(5)"
   ]
  },
  {
   "cell_type": "code",
<<<<<<< HEAD
   "execution_count": 11,
=======
   "execution_count": 50,
>>>>>>> master
   "metadata": {},
   "outputs": [
    {
     "name": "stdout",
     "output_type": "stream",
     "text": [
      "0 1 1 2 3 5 8 13 21 "
     ]
    }
   ],
   "source": [
    "# call with a keyword argument\n",
    "print_fib_series(max_num=22)"
   ]
  },
  {
   "cell_type": "markdown",
   "metadata": {},
   "source": [
    "### Positional vs keyword arguments\n",
    "How can these different ways of calling a function be utilized?\n",
    "\n",
    "We need a function with more than one argument to see that. E.g. a confirmation function:"
   ]
  },
  {
   "cell_type": "code",
<<<<<<< HEAD
   "execution_count": 12,
=======
   "execution_count": 54,
   "metadata": {},
   "outputs": [],
   "source": [
    "def print_sum(a, b=2):\n",
    "    print(a+b)"
   ]
  },
  {
   "cell_type": "code",
   "execution_count": 59,
>>>>>>> master
   "metadata": {},
   "outputs": [],
   "source": [
    "def ask_ok(prompt: str, retries: int = 3,\n",
    "           reminder: str = 'Please try again.') -> bool:\n",
    "    \"\"\" Asks for user confirmation.\n",
    "    \n",
    "    Args:\n",
    "       - prompt: Text shown for confirmation\n",
    "       - retries: Number of possible retries per call\n",
    "                  (Default: 3)\n",
    "       - reminder: Text to remind the user of restrictions.\n",
    "                   (Default: 'Please try again.')\n",
    "    Return:\n",
    "       - bool for confirmation\n",
    "       - -1 when number of bad inputs greater than retries\n",
    "    \"\"\"\n",
    "    while True:\n",
    "        ok = input(prompt)\n",
    "        if ok in ('y', 'ye', 'yes'):\n",
    "            return True\n",
    "        if ok in ('n', 'no', 'nop', 'nope'):\n",
    "            return False\n",
    "        retries = retries - 1\n",
    "        if retries <= 0:\n",
    "            return -1\n",
    "        print(reminder)"
   ]
  },
  {
   "cell_type": "markdown",
   "metadata": {},
   "source": [
    "Here, we have defined one mandatory argument `prompt` and two optional arguments `retries` and `reminder`.\n",
    "\n",
    "These arguments can be provided either via positional or via keyword (or named) arguments:"
   ]
  },
  {
   "cell_type": "code",
<<<<<<< HEAD
   "execution_count": 16,
   "metadata": {},
   "outputs": [
    {
     "name": "stdout",
     "output_type": "stream",
     "text": [
      "Want to confirm that? [y/n] o\n"
=======
   "execution_count": 63,
   "metadata": {},
   "outputs": [
    {
     "name": "stdin",
     "output_type": "stream",
     "text": [
      "Want to confirm that? [y/n] iuafeaf\n"
>>>>>>> master
     ]
    },
    {
     "name": "stdout",
     "output_type": "stream",
     "text": [
      "Please only answer mit yes [y] or no [n]\n"
     ]
    },
    {
<<<<<<< HEAD
     "name": "stdout",
     "output_type": "stream",
     "text": [
      "Want to confirm that? [y/n] 0\n"
=======
     "name": "stdin",
     "output_type": "stream",
     "text": [
      "Want to confirm that? [y/n] y\n"
>>>>>>> master
     ]
    },
    {
     "data": {
      "text/plain": [
<<<<<<< HEAD
       "-1"
      ]
     },
     "execution_count": 16,
=======
       "True"
      ]
     },
     "execution_count": 63,
>>>>>>> master
     "metadata": {},
     "output_type": "execute_result"
    }
   ],
   "source": [
    "# purely positional\n",
    "ask_ok(\"Want to confirm that? [y/n]\",\n",
    "       2,\n",
    "       \"Please only answer mit yes [y] or no [n]\")"
   ]
  },
  {
   "cell_type": "code",
<<<<<<< HEAD
   "execution_count": 15,
=======
   "execution_count": 64,
>>>>>>> master
   "metadata": {
    "collapsed": true,
    "jupyter": {
     "outputs_hidden": true
    },
    "tags": []
   },
   "outputs": [
    {
<<<<<<< HEAD
     "name": "stdout",
     "output_type": "stream",
     "text": [
      "Want to confirm that? [y/n] n\n"
     ]
    },
    {
     "data": {
      "text/plain": [
       "False"
      ]
     },
     "execution_count": 15,
     "metadata": {},
     "output_type": "execute_result"
=======
     "name": "stdin",
     "output_type": "stream",
     "text": [
      "Want to confirm that? [y/n] adfdf\n"
     ]
    },
    {
     "ename": "TypeError",
     "evalue": "unsupported operand type(s) for -: 'str' and 'int'",
     "output_type": "error",
     "traceback": [
      "\u001b[1;31m---------------------------------------------------------------------------\u001b[0m",
      "\u001b[1;31mTypeError\u001b[0m                                 Traceback (most recent call last)",
      "Input \u001b[1;32mIn [64]\u001b[0m, in \u001b[0;36m<cell line: 3>\u001b[1;34m()\u001b[0m\n\u001b[0;32m      1\u001b[0m \u001b[38;5;66;03m# the order has to follow the argument definition\u001b[39;00m\n\u001b[0;32m      2\u001b[0m \u001b[38;5;66;03m# else it can go wrong:\u001b[39;00m\n\u001b[1;32m----> 3\u001b[0m \u001b[43mask_ok\u001b[49m\u001b[43m(\u001b[49m\u001b[38;5;124;43m\"\u001b[39;49m\u001b[38;5;124;43mWant to confirm that? [y/n]\u001b[39;49m\u001b[38;5;124;43m\"\u001b[39;49m\u001b[43m,\u001b[49m\n\u001b[0;32m      4\u001b[0m \u001b[43m       \u001b[49m\u001b[38;5;124;43m\"\u001b[39;49m\u001b[38;5;124;43mPlease only answer mit yes [y] or no [n]\u001b[39;49m\u001b[38;5;124;43m\"\u001b[39;49m\u001b[43m,\u001b[49m\n\u001b[0;32m      5\u001b[0m \u001b[43m       \u001b[49m\u001b[38;5;241;43m2\u001b[39;49m\u001b[43m)\u001b[49m\n",
      "Input \u001b[1;32mIn [59]\u001b[0m, in \u001b[0;36mask_ok\u001b[1;34m(prompt, retries, reminder)\u001b[0m\n\u001b[0;32m     19\u001b[0m \u001b[38;5;28;01mif\u001b[39;00m ok \u001b[38;5;129;01min\u001b[39;00m (\u001b[38;5;124m'\u001b[39m\u001b[38;5;124mn\u001b[39m\u001b[38;5;124m'\u001b[39m, \u001b[38;5;124m'\u001b[39m\u001b[38;5;124mno\u001b[39m\u001b[38;5;124m'\u001b[39m, \u001b[38;5;124m'\u001b[39m\u001b[38;5;124mnop\u001b[39m\u001b[38;5;124m'\u001b[39m, \u001b[38;5;124m'\u001b[39m\u001b[38;5;124mnope\u001b[39m\u001b[38;5;124m'\u001b[39m):\n\u001b[0;32m     20\u001b[0m     \u001b[38;5;28;01mreturn\u001b[39;00m \u001b[38;5;28;01mFalse\u001b[39;00m\n\u001b[1;32m---> 21\u001b[0m retries \u001b[38;5;241m=\u001b[39m \u001b[43mretries\u001b[49m\u001b[43m \u001b[49m\u001b[38;5;241;43m-\u001b[39;49m\u001b[43m \u001b[49m\u001b[38;5;241;43m1\u001b[39;49m\n\u001b[0;32m     22\u001b[0m \u001b[38;5;28;01mif\u001b[39;00m retries \u001b[38;5;241m<\u001b[39m\u001b[38;5;241m=\u001b[39m \u001b[38;5;241m0\u001b[39m:\n\u001b[0;32m     23\u001b[0m     \u001b[38;5;28;01mreturn\u001b[39;00m \u001b[38;5;241m-\u001b[39m\u001b[38;5;241m1\u001b[39m\n",
      "\u001b[1;31mTypeError\u001b[0m: unsupported operand type(s) for -: 'str' and 'int'"
     ]
>>>>>>> master
    }
   ],
   "source": [
    "# the order has to follow the argument definition\n",
    "# else it can go wrong:\n",
    "ask_ok(\"Want to confirm that? [y/n]\",\n",
    "       \"Please only answer mit yes [y] or no [n]\",\n",
    "       2)"
   ]
  },
  {
   "cell_type": "code",
   "execution_count": 65,
   "metadata": {
    "collapsed": true,
    "jupyter": {
     "outputs_hidden": true
    },
    "tags": []
   },
   "outputs": [
    {
     "name": "stdin",
     "output_type": "stream",
     "text": [
      "Want to confirm that? [y/n] jgaf\n"
     ]
    },
    {
     "ename": "TypeError",
     "evalue": "unsupported operand type(s) for -: 'str' and 'int'",
     "output_type": "error",
     "traceback": [
      "\u001b[1;31m---------------------------------------------------------------------------\u001b[0m",
      "\u001b[1;31mTypeError\u001b[0m                                 Traceback (most recent call last)",
      "Input \u001b[1;32mIn [65]\u001b[0m, in \u001b[0;36m<cell line: 4>\u001b[1;34m()\u001b[0m\n\u001b[0;32m      1\u001b[0m \u001b[38;5;66;03m# skipping an named argument is not possible\u001b[39;00m\n\u001b[0;32m      2\u001b[0m \u001b[38;5;66;03m# still the second argument will be interpreted as\u001b[39;00m\n\u001b[0;32m      3\u001b[0m \u001b[38;5;66;03m# the `retries` input.\u001b[39;00m\n\u001b[1;32m----> 4\u001b[0m \u001b[43mask_ok\u001b[49m\u001b[43m(\u001b[49m\u001b[38;5;124;43m\"\u001b[39;49m\u001b[38;5;124;43mWant to confirm that? [y/n]\u001b[39;49m\u001b[38;5;124;43m\"\u001b[39;49m\u001b[43m,\u001b[49m\n\u001b[0;32m      5\u001b[0m \u001b[43m       \u001b[49m\u001b[38;5;124;43m\"\u001b[39;49m\u001b[38;5;124;43mPlease only answer mit yes [y] or no [n]\u001b[39;49m\u001b[38;5;124;43m\"\u001b[39;49m\u001b[43m)\u001b[49m\n",
      "Input \u001b[1;32mIn [59]\u001b[0m, in \u001b[0;36mask_ok\u001b[1;34m(prompt, retries, reminder)\u001b[0m\n\u001b[0;32m     19\u001b[0m \u001b[38;5;28;01mif\u001b[39;00m ok \u001b[38;5;129;01min\u001b[39;00m (\u001b[38;5;124m'\u001b[39m\u001b[38;5;124mn\u001b[39m\u001b[38;5;124m'\u001b[39m, \u001b[38;5;124m'\u001b[39m\u001b[38;5;124mno\u001b[39m\u001b[38;5;124m'\u001b[39m, \u001b[38;5;124m'\u001b[39m\u001b[38;5;124mnop\u001b[39m\u001b[38;5;124m'\u001b[39m, \u001b[38;5;124m'\u001b[39m\u001b[38;5;124mnope\u001b[39m\u001b[38;5;124m'\u001b[39m):\n\u001b[0;32m     20\u001b[0m     \u001b[38;5;28;01mreturn\u001b[39;00m \u001b[38;5;28;01mFalse\u001b[39;00m\n\u001b[1;32m---> 21\u001b[0m retries \u001b[38;5;241m=\u001b[39m \u001b[43mretries\u001b[49m\u001b[43m \u001b[49m\u001b[38;5;241;43m-\u001b[39;49m\u001b[43m \u001b[49m\u001b[38;5;241;43m1\u001b[39;49m\n\u001b[0;32m     22\u001b[0m \u001b[38;5;28;01mif\u001b[39;00m retries \u001b[38;5;241m<\u001b[39m\u001b[38;5;241m=\u001b[39m \u001b[38;5;241m0\u001b[39m:\n\u001b[0;32m     23\u001b[0m     \u001b[38;5;28;01mreturn\u001b[39;00m \u001b[38;5;241m-\u001b[39m\u001b[38;5;241m1\u001b[39m\n",
      "\u001b[1;31mTypeError\u001b[0m: unsupported operand type(s) for -: 'str' and 'int'"
     ]
    }
   ],
   "source": [
    "# skipping an named argument is not possible\n",
    "# still the second argument will be interpreted as\n",
    "# the `retries` input.\n",
    "ask_ok(\"Want to confirm that? [y/n]\",\n",
    "       \"Please only answer mit yes [y] or no [n]\")"
   ]
  },
  {
   "cell_type": "code",
   "execution_count": 69,
   "metadata": {
    "collapsed": true,
    "jupyter": {
     "outputs_hidden": true
    },
    "tags": []
   },
   "outputs": [
    {
     "name": "stdin",
     "output_type": "stream",
     "text": [
      "Want to confirm that? [y/n] adgsfg\n"
     ]
    },
    {
     "ename": "TypeError",
     "evalue": "unsupported operand type(s) for -: 'str' and 'int'",
     "output_type": "error",
     "traceback": [
      "\u001b[1;31m---------------------------------------------------------------------------\u001b[0m",
      "\u001b[1;31mTypeError\u001b[0m                                 Traceback (most recent call last)",
      "Input \u001b[1;32mIn [69]\u001b[0m, in \u001b[0;36m<cell line: 5>\u001b[1;34m()\u001b[0m\n\u001b[0;32m      3\u001b[0m retries\u001b[38;5;241m=\u001b[39m\u001b[38;5;241m2\u001b[39m\n\u001b[0;32m      4\u001b[0m reminder\u001b[38;5;241m=\u001b[39m\u001b[38;5;124m\"\u001b[39m\u001b[38;5;124mPlease only answer mit yes [y] or no [n]\u001b[39m\u001b[38;5;124m\"\u001b[39m\n\u001b[1;32m----> 5\u001b[0m \u001b[43mask_ok\u001b[49m\u001b[43m(\u001b[49m\u001b[43mprompt\u001b[49m\u001b[43m,\u001b[49m\n\u001b[0;32m      6\u001b[0m \u001b[43m       \u001b[49m\u001b[43mreminder\u001b[49m\u001b[43m,\u001b[49m\n\u001b[0;32m      7\u001b[0m \u001b[43m       \u001b[49m\u001b[43mretries\u001b[49m\u001b[43m)\u001b[49m\n",
      "Input \u001b[1;32mIn [59]\u001b[0m, in \u001b[0;36mask_ok\u001b[1;34m(prompt, retries, reminder)\u001b[0m\n\u001b[0;32m     19\u001b[0m \u001b[38;5;28;01mif\u001b[39;00m ok \u001b[38;5;129;01min\u001b[39;00m (\u001b[38;5;124m'\u001b[39m\u001b[38;5;124mn\u001b[39m\u001b[38;5;124m'\u001b[39m, \u001b[38;5;124m'\u001b[39m\u001b[38;5;124mno\u001b[39m\u001b[38;5;124m'\u001b[39m, \u001b[38;5;124m'\u001b[39m\u001b[38;5;124mnop\u001b[39m\u001b[38;5;124m'\u001b[39m, \u001b[38;5;124m'\u001b[39m\u001b[38;5;124mnope\u001b[39m\u001b[38;5;124m'\u001b[39m):\n\u001b[0;32m     20\u001b[0m     \u001b[38;5;28;01mreturn\u001b[39;00m \u001b[38;5;28;01mFalse\u001b[39;00m\n\u001b[1;32m---> 21\u001b[0m retries \u001b[38;5;241m=\u001b[39m \u001b[43mretries\u001b[49m\u001b[43m \u001b[49m\u001b[38;5;241;43m-\u001b[39;49m\u001b[43m \u001b[49m\u001b[38;5;241;43m1\u001b[39;49m\n\u001b[0;32m     22\u001b[0m \u001b[38;5;28;01mif\u001b[39;00m retries \u001b[38;5;241m<\u001b[39m\u001b[38;5;241m=\u001b[39m \u001b[38;5;241m0\u001b[39m:\n\u001b[0;32m     23\u001b[0m     \u001b[38;5;28;01mreturn\u001b[39;00m \u001b[38;5;241m-\u001b[39m\u001b[38;5;241m1\u001b[39m\n",
      "\u001b[1;31mTypeError\u001b[0m: unsupported operand type(s) for -: 'str' and 'int'"
     ]
    }
   ],
   "source": [
    "# purely keyword / named\n",
    "prompt=\"Want to confirm that? [y/n]\"\n",
    "retries=2\n",
    "reminder=\"Please only answer mit yes [y] or no [n]\"\n",
    "ask_ok(prompt,\n",
    "       reminder,\n",
    "       retries)"
   ]
  },
  {
   "cell_type": "code",
   "execution_count": 67,
   "metadata": {},
   "outputs": [
    {
     "name": "stdin",
     "output_type": "stream",
     "text": [
      "Want to confirm that? [y/n] asfmgadf\n"
     ]
    },
    {
     "name": "stdout",
     "output_type": "stream",
     "text": [
      "Please only answer mit yes [y] or no [n]\n"
     ]
    },
    {
     "name": "stdin",
     "output_type": "stream",
     "text": [
      "Want to confirm that? [y/n] y\n"
     ]
    },
    {
     "data": {
      "text/plain": [
       "True"
      ]
     },
     "execution_count": 67,
     "metadata": {},
     "output_type": "execute_result"
    }
   ],
   "source": [
    "# for keyword arguments the order does not matter\n",
    "ask_ok(reminder=\"Please only answer mit yes [y] or no [n]\",\n",
    "       prompt=\"Want to confirm that? [y/n]\",\n",
    "       retries=2)"
   ]
  },
  {
   "cell_type": "code",
   "execution_count": 68,
   "metadata": {},
   "outputs": [
    {
     "name": "stdin",
     "output_type": "stream",
     "text": [
      "Want to confirm that? [y/n] n\n"
     ]
    },
    {
     "data": {
      "text/plain": [
       "False"
      ]
     },
     "execution_count": 68,
     "metadata": {},
     "output_type": "execute_result"
    }
   ],
   "source": [
    "# positional and keyword\n",
    "ask_ok(\"Want to confirm that? [y/n]\",\n",
    "       retries=2,\n",
    "       reminder=\"Please only answer mit yes [y] or no [n]\")"
   ]
  },
  {
   "cell_type": "code",
   "execution_count": 70,
   "metadata": {},
   "outputs": [
    {
     "ename": "SyntaxError",
     "evalue": "positional argument follows keyword argument (4235000140.py, line 6)",
     "output_type": "error",
     "traceback": [
      "\u001b[1;36m  Input \u001b[1;32mIn [70]\u001b[1;36m\u001b[0m\n\u001b[1;33m    reminder=\"Please only answer mit yes [y] or no [n]\")\u001b[0m\n\u001b[1;37m                                                       ^\u001b[0m\n\u001b[1;31mSyntaxError\u001b[0m\u001b[1;31m:\u001b[0m positional argument follows keyword argument\n"
     ]
    }
   ],
   "source": [
    "# if you use positional and keyword arguments,\n",
    "# you can only start with positional and not mixing\n",
    "# with keyword arguments\n",
    "ask_ok(prompt=\"Want to confirm that? [y/n]\",\n",
    "       2,\n",
    "       reminder=\"Please only answer mit yes [y] or no [n]\")"
   ]
  },
  {
   "cell_type": "code",
   "execution_count": 71,
   "metadata": {},
   "outputs": [],
   "source": [
    "# positional arguments can be passed using lists\n",
    "# keyword arguments can be passed using dicts\n",
    "# this is very handy for passing configurations to\n",
    "# functions (those often come as dicts or lists)\n",
    "confirm_config_list = [\"Want to confirm that? [y/n]\",\n",
    "                       2,\n",
    "                       \"Please only answer mit yes [y] or no [n]\"]\n",
    "confirm_config = {\n",
    "    \"prompt\": \"Want to confirm that? [y/n]\",\n",
    "    \"retries\": 2,\n",
    "    \"reminder\": \"Please only answer mit yes [y] or no [n]\"\n",
    "}"
   ]
  },
  {
   "cell_type": "code",
   "execution_count": 72,
   "metadata": {},
   "outputs": [
    {
     "name": "stdin",
     "output_type": "stream",
     "text": [
      "Want to confirm that? [y/n] hkjhsdf\n"
     ]
    },
    {
     "name": "stdout",
     "output_type": "stream",
     "text": [
      "Please only answer mit yes [y] or no [n]\n"
     ]
    },
    {
     "name": "stdin",
     "output_type": "stream",
     "text": [
      "Want to confirm that? [y/n] y\n"
     ]
    },
    {
     "data": {
      "text/plain": [
       "True"
      ]
     },
     "execution_count": 72,
     "metadata": {},
     "output_type": "execute_result"
    }
   ],
   "source": [
    "# passing arguments from a list\n",
    "ask_ok(*confirm_config_list)"
   ]
  },
  {
   "cell_type": "code",
   "execution_count": 73,
   "metadata": {},
   "outputs": [
    {
     "name": "stdin",
     "output_type": "stream",
     "text": [
      "Want to confirm that? [y/n] kjsdf\n"
     ]
    },
    {
     "name": "stdout",
     "output_type": "stream",
     "text": [
      "Please only answer mit yes [y] or no [n]\n"
     ]
    },
    {
     "name": "stdin",
     "output_type": "stream",
     "text": [
      "Want to confirm that? [y/n] y\n"
     ]
    },
    {
     "data": {
      "text/plain": [
       "True"
      ]
     },
     "execution_count": 73,
     "metadata": {},
     "output_type": "execute_result"
    }
   ],
   "source": [
    "# passing named arguments from a dict\n",
    "ask_ok(**confirm_config)"
   ]
  },
  {
   "cell_type": "markdown",
   "metadata": {},
   "source": [
    "You will find similar constructs in function definitions, too.\n",
    "```python\n",
    "def ask_ok(prompt: str,\n",
    "           *args,\n",
    "           retries: int = 3,\n",
    "           reminder: str = 'Please try again.',\n",
    "           **kwargs) -> bool:\n",
    "```\n",
    "What do they do?\n",
    "As you might have guessed:\n",
    "- `args` stands for (positional) arguments\n",
    "- `kwargs` stands for keyword arguments\n",
    "\n",
    "`args` allows to give an arbitrary number of positional arguments to the function including zero argments. As positional arguments are a) mandatory and b) have to specified before keyword arguments, `*args` is not as widely used. \n",
    "\n",
    "`**kwargs` allows to give an arbitrary number of keyword arguments to the function. This is especially useful for passing keyword arguments to inner function calls without defining them in the own function call."
   ]
  },
  {
   "cell_type": "code",
   "execution_count": 74,
   "metadata": {},
   "outputs": [],
   "source": [
    "def ask_ok(prompt: str,\n",
    "           #*args, # defining args here, forces retries and reminder to be keyword parameters\n",
    "           retries: int = 3,\n",
    "           reminder: str = 'Please try again.',\n",
    "           *args, # defining args here, forces retries and reminder to be given as positional parameters in function call\n",
    "           **kwargs) -> bool:\n",
    "    \"\"\" Asks for user confirmation.\n",
    "    \n",
    "    Args:\n",
    "       - prompt: Text shown for confirmation\n",
    "       - retries: Number of possible retries per call\n",
    "                  (Default: 3)\n",
    "       - reminder: Text to remind the user of restrictions.\n",
    "                   (Default: 'Please try again.')\n",
    "       - args: printed before confirmation\n",
    "       - kwargs: passed to print function for reminder.\n",
    "    Return:\n",
    "       - bool for confirmation\n",
    "       - raise: ValueError when number of bad inputs\n",
    "                greater than retries\n",
    "    \"\"\"\n",
    "    while True:\n",
    "        print(\"len args :\", len(args))\n",
    "        print(args)\n",
    "        ok = input(prompt)\n",
    "        if ok in ('y', 'ye', 'yes'):\n",
    "            return True\n",
    "        if ok in ('n', 'no', 'nop', 'nope'):\n",
    "            return False\n",
    "        retries = retries - 1\n",
    "        if retries <= 0:\n",
    "            # Dangerous to return a value as all\n",
    "            # Values can be interpreted as True or False\n",
    "            # Hence, return or raise an Error\n",
    "            raise ValueError('invalid user response')\n",
    "        print(reminder, **kwargs)"
   ]
  },
  {
   "cell_type": "code",
   "execution_count": 75,
   "metadata": {
    "tags": []
   },
   "outputs": [
    {
     "name": "stdout",
     "output_type": "stream",
     "text": [
      "len args : 2\n",
      "('You just entered', 'your pin code...')\n"
     ]
    },
    {
     "name": "stdin",
     "output_type": "stream",
     "text": [
      "Want to confirm that? [y/n] khfdfs\n"
     ]
    },
    {
     "name": "stdout",
     "output_type": "stream",
     "text": [
      "Please only answer mit yes [y] or no [n]  \\\\\\\\ \n",
      "len args : 2\n",
      "('You just entered', 'your pin code...')\n"
     ]
    },
    {
     "name": "stdin",
     "output_type": "stream",
     "text": [
      "Want to confirm that? [y/n] y\n"
     ]
    },
    {
     "data": {
      "text/plain": [
       "True"
      ]
     },
     "execution_count": 75,
     "metadata": {},
     "output_type": "execute_result"
    }
   ],
   "source": [
    "ask_ok(\"Want to confirm that? [y/n]\",\n",
    "       # \"You just entered\", \"your pin code...\",\n",
    "       2,\n",
    "       \"Please only answer mit yes [y] or no [n]\",\n",
    "       \"You just entered\", \"your pin code...\",\n",
    "       end=\"  \\\\\\\\\\\\\\ \\n\")"
   ]
  },
  {
   "cell_type": "markdown",
   "metadata": {},
   "source": [
    "## Lambda expressions\n",
    "_Lambda_ expressions are anonymous functions limited to a single expression.\n",
    "\n",
    "Lambda expressions are often used as inline calculations or selections, where you do not want to create new object or more lines of code."
   ]
  },
  {
   "cell_type": "code",
   "execution_count": 77,
   "metadata": {},
   "outputs": [
    {
     "data": {
      "text/plain": [
       "[[1, 'one'], [2, 'two'], [3, 'three'], [4, 'four']]"
      ]
     },
     "execution_count": 77,
     "metadata": {},
     "output_type": "execute_result"
    }
   ],
   "source": [
    "pairs = [[4, 'four'], [1, 'one'], [3, 'three'], [2, 'two']]\n",
    "pairs.sort()\n",
    "pairs"
   ]
  },
  {
   "cell_type": "code",
   "execution_count": 78,
   "metadata": {},
   "outputs": [
    {
     "data": {
      "text/plain": [
       "[[4, 'four'], [1, 'one'], [3, 'three'], [2, 'two']]"
      ]
     },
     "execution_count": 78,
     "metadata": {},
     "output_type": "execute_result"
    }
   ],
   "source": [
    "pairs.sort(key=lambda pair: pair[1])\n",
    "pairs"
   ]
  },
  {
   "cell_type": "code",
<<<<<<< HEAD
   "execution_count": 36,
=======
   "execution_count": 79,
>>>>>>> master
   "metadata": {},
   "outputs": [
    {
     "data": {
      "text/plain": [
<<<<<<< HEAD
       "\u001b[0;31mInit signature:\u001b[0m \u001b[0mmap\u001b[0m\u001b[0;34m(\u001b[0m\u001b[0mself\u001b[0m\u001b[0;34m,\u001b[0m \u001b[0;34m/\u001b[0m\u001b[0;34m,\u001b[0m \u001b[0;34m*\u001b[0m\u001b[0margs\u001b[0m\u001b[0;34m,\u001b[0m \u001b[0;34m**\u001b[0m\u001b[0mkwargs\u001b[0m\u001b[0;34m)\u001b[0m\u001b[0;34m\u001b[0m\u001b[0;34m\u001b[0m\u001b[0m\n",
       "\u001b[0;31mDocstring:\u001b[0m     \n",
=======
       "\u001b[1;31mInit signature:\u001b[0m \u001b[0mmap\u001b[0m\u001b[1;33m(\u001b[0m\u001b[0mself\u001b[0m\u001b[1;33m,\u001b[0m \u001b[1;33m/\u001b[0m\u001b[1;33m,\u001b[0m \u001b[1;33m*\u001b[0m\u001b[0margs\u001b[0m\u001b[1;33m,\u001b[0m \u001b[1;33m**\u001b[0m\u001b[0mkwargs\u001b[0m\u001b[1;33m)\u001b[0m\u001b[1;33m\u001b[0m\u001b[1;33m\u001b[0m\u001b[0m\n",
       "\u001b[1;31mDocstring:\u001b[0m     \n",
>>>>>>> master
       "map(func, *iterables) --> map object\n",
       "\n",
       "Make an iterator that computes the function using arguments from\n",
       "each of the iterables.  Stops when the shortest iterable is exhausted.\n",
<<<<<<< HEAD
       "\u001b[0;31mType:\u001b[0m           type\n",
       "\u001b[0;31mSubclasses:\u001b[0m     \n"
=======
       "\u001b[1;31mType:\u001b[0m           type\n",
       "\u001b[1;31mSubclasses:\u001b[0m     \n"
>>>>>>> master
      ]
     },
     "metadata": {},
     "output_type": "display_data"
    }
   ],
   "source": [
    "# Very hand inline calculations in map operations\n",
    "# very common in data science toolings\n",
    "map?"
   ]
  },
  {
   "cell_type": "code",
   "execution_count": 80,
   "metadata": {},
   "outputs": [
    {
     "data": {
      "text/plain": [
       "[9, 16, 25, 36]"
      ]
     },
     "execution_count": 80,
     "metadata": {},
     "output_type": "execute_result"
    }
   ],
   "source": [
    "list(map(lambda x: (x+2)**2, [1, 2, 3, 4]))"
   ]
  },
  {
   "cell_type": "markdown",
   "metadata": {},
   "source": [
    "<div class=\"alert alert-block alert-info\">\n",
    "<b>Note:</b> \n",
    "    Avoid <i>defining</i> a lambda: <code>f = lambda x: x**2</code>. Here, you should use a function: <code>def f(x): x**2</code>. \n",
    "</div>\n"
   ]
  },
  {
   "cell_type": "markdown",
   "metadata": {},
   "source": [
    "<div class=\"alert alert-block alert-warning\">\n",
    "<b>Exercises:</b> \n",
    "    Define functions to solve the exercises.\n",
    "</div>"
   ]
  },
  {
   "cell_type": "markdown",
   "metadata": {},
   "source": [
    "- Write a function that takes two arguments `name` and `age` and prints the values"
   ]
  },
  {
   "cell_type": "code",
   "execution_count": 25,
   "metadata": {},
   "outputs": [],
   "source": [
    "def find_value(name : str, age : str) -> any:\n",
    "    if str(name): \n",
    "        print(\"name = string\")\n",
    "        return int(age)\n",
    "    else:\n",
    "        return int(name), int(age)"
   ]
  },
  {
   "cell_type": "code",
   "execution_count": 26,
   "metadata": {},
   "outputs": [
    {
     "name": "stdout",
     "output_type": "stream",
     "text": [
      "name = string\n",
      "4\n"
     ]
    }
   ],
   "source": [
    "print(find_value(\"test\",4))"
   ]
  },
  {
   "cell_type": "markdown",
   "metadata": {},
   "source": [
    "- Write a function that return the sum and the difference of two input arguments `x` and `y`"
   ]
  },
  {
   "cell_type": "code",
   "execution_count": 30,
   "metadata": {},
   "outputs": [],
   "source": [
    "def sum_dif(a,b): \n",
    "    return a+b, a-b"
   ]
  },
  {
   "cell_type": "code",
   "execution_count": 31,
   "metadata": {},
   "outputs": [
    {
     "name": "stdout",
     "output_type": "stream",
     "text": [
      "(3, -1)\n"
     ]
    }
   ],
   "source": [
    "print(sum_dif(1,2))"
   ]
  },
  {
   "cell_type": "markdown",
   "metadata": {},
   "source": [
    "- Write a function that prints the keys and values of the following dict:\n",
    "```\n",
    "d = {\n",
    "\"python\": 1,\n",
    "\"c#\": 4,\n",
    "\"java\": 2,\n",
    "\"C++\":3\n",
    "}\n",
    "```\n"
   ]
  },
  {
   "cell_type": "code",
   "execution_count": 44,
   "metadata": {},
   "outputs": [
    {
     "name": "stdout",
     "output_type": "stream",
     "text": [
      "{'python': 1, 'c#': 4, 'java': 2, 'C++': 3}\n"
     ]
    }
   ],
   "source": [
    "def print_dict(**a)->None:\n",
    "    print(a)\n",
    "\n",
    "d = {\n",
    "\"python\": 1,\n",
    "\"c#\": 4,\n",
    "\"java\": 2,\n",
    "\"C++\":3\n",
    "}\n",
    "\n",
    "print_dict(**d)"
   ]
  },
  {
   "cell_type": "markdown",
   "metadata": {},
   "source": [
    "- Write a function that calculated the factorial of input `n`. Make `n` using a default value of 10."
   ]
  },
  {
   "cell_type": "code",
   "execution_count": 2,
   "metadata": {},
   "outputs": [
    {
     "name": "stdout",
     "output_type": "stream",
     "text": [
      "6\n"
     ]
    }
   ],
   "source": [
    "def cal_fac(i : int =10, f=1) -> int:\n",
    "    while i != 0:\n",
    "        f = f * i\n",
    "        i-=1\n",
    "    return f\n",
    "        \n",
    "print(cal_fac(3))"
   ]
  },
  {
   "cell_type": "markdown",
   "metadata": {},
   "source": [
    "- Write a function that calculates the square-root of every item in a list using a `map`."
   ]
  },
  {
   "cell_type": "code",
   "execution_count": 3,
   "metadata": {},
   "outputs": [
    {
     "data": {
      "text/plain": [
       "[1.0, 1.4142135623730951, 1.7320508075688772, 2.0]"
      ]
     },
     "execution_count": 3,
     "metadata": {},
     "output_type": "execute_result"
    }
   ],
   "source": [
    "list(map(lambda x: x**0.5, [1, 2, 3, 4]))"
   ]
  },
  {
   "cell_type": "markdown",
   "metadata": {},
   "source": [
    "- What do you think, can functions call themselves?\n"
   ]
  },
  {
   "cell_type": "code",
   "execution_count": 5,
   "metadata": {},
   "outputs": [
    {
     "name": "stdout",
     "output_type": "stream",
     "text": [
      "Yes\n"
     ]
    }
   ],
   "source": [
    "print(\"Yes\")"
   ]
  },
  {
   "cell_type": "code",
   "execution_count": null,
   "metadata": {},
   "outputs": [],
   "source": [
    "def sum_number(n):\n",
    "    num = n\n",
    "    if num:\n",
    "        return num + sum_number(num-1)\n",
    "    else:\n",
    "        return num"
   ]
  },
  {
   "cell_type": "markdown",
   "metadata": {},
   "source": [
    "- Sort the list [[1, 4], [2,3], [3,2]] according to the second entry of the list using a lambda function. Hint `list.sort?`\n"
   ]
  },
  {
   "cell_type": "code",
   "execution_count": 7,
   "metadata": {},
   "outputs": [
    {
     "data": {
      "text/plain": [
       "[[3, 2], [2, 3], [1, 4]]"
      ]
     },
     "execution_count": 7,
     "metadata": {},
     "output_type": "execute_result"
    }
   ],
   "source": [
    "l = [[1, 4], [2,3], [3,2]]\n",
    "\n",
    "l.sort(key=lambda i: i[1])\n",
    "l"
   ]
  },
  {
   "cell_type": "markdown",
   "metadata": {},
   "source": [
    "---"
   ]
  },
  {
   "cell_type": "markdown",
   "metadata": {},
   "source": [
    "# Data structures II\n",
    "[Back to Contents](#Contents)\n",
    "\n",
    "After we know a bit more about python, we can come back to data structures once again. We add some more information to the structures we already know and introduce a couple of new ones.\n"
   ]
  },
  {
   "cell_type": "markdown",
   "metadata": {},
   "source": [
    "## Mutable and immutable objects\n",
    "Up to now, we talked of object that can be changed and ones that cannot be changed.\n",
    "\n",
    "The word used in programming is _mutable_, therefore, we decide:\n",
    "\n",
    "- _mutable objects_: Objects whose values can be changed once created. E.g. lists or dictionaries\n",
    "\n",
    "- _immutable objects_: Objects whose values cannot be changed once created. E.g. int, float, or ...?\n"
   ]
  },
  {
   "cell_type": "markdown",
   "metadata": {},
   "source": [
    "All clear? ... Wait what?"
   ]
  },
  {
   "cell_type": "code",
   "execution_count": 8,
   "metadata": {},
   "outputs": [
    {
     "data": {
      "text/plain": [
       "10"
      ]
     },
     "execution_count": 8,
     "metadata": {},
     "output_type": "execute_result"
    }
   ],
   "source": [
    "x = 10\n",
    "x"
   ]
  },
  {
   "cell_type": "code",
   "execution_count": 9,
   "metadata": {},
   "outputs": [
    {
     "data": {
      "text/plain": [
       "11"
      ]
     },
     "execution_count": 9,
     "metadata": {},
     "output_type": "execute_result"
    }
   ],
   "source": [
    "x = 11\n",
    "x"
   ]
  },
  {
   "cell_type": "markdown",
   "metadata": {},
   "source": [
    "Didn't I just changed the value?"
   ]
  },
  {
   "cell_type": "code",
   "execution_count": 10,
   "metadata": {},
   "outputs": [
    {
     "name": "stdout",
     "output_type": "stream",
     "text": [
      "x-Value:  10  mem-adr:  0x7f9888d38210\n",
      "x-Value:  11  mem-adr:  0x7f9888d38230\n"
     ]
    }
   ],
   "source": [
    "x = 10\n",
    "print(\"x-Value: \", x, \" mem-adr: \", hex(id(x)))\n",
    "x = 11\n",
    "print(\"x-Value: \", x, \" mem-adr: \", hex(id(x)))"
   ]
  },
  {
   "cell_type": "code",
   "execution_count": 11,
   "metadata": {},
   "outputs": [
    {
     "name": "stdout",
     "output_type": "stream",
     "text": [
      "y-Value:  11  mem-adr:  0x7f9888d38230\n"
     ]
    }
   ],
   "source": [
    "y = int(11.0)\n",
    "print(\"y-Value: \", y, \" mem-adr: \", hex(id(y)))"
   ]
  },
  {
   "cell_type": "markdown",
   "metadata": {},
   "source": [
    "<div class=\"alert alert-block alert-info\">\n",
    "<b>Note:</b> \n",
    "    Memory addresses of y and x variables both defines as integer of value 11 are <b> identical </b>. This marks an immutable object. Same is true for e.g. strings (that is why not all list functions worked in the previous exercises), floats, or tuples.\n",
    "</div>\n"
   ]
  },
  {
   "cell_type": "markdown",
   "metadata": {},
   "source": [
    "In contrast, mutable objects values can be altered:"
   ]
  },
  {
   "cell_type": "code",
   "execution_count": 12,
   "metadata": {},
   "outputs": [
    {
     "name": "stdout",
     "output_type": "stream",
     "text": [
      "[1, 3, 5]  at  0x7f9890906040\n"
     ]
    }
   ],
   "source": [
    "my_list = [1, 3, 5]\n",
    "print(my_list, \" at \", hex(id(my_list)))"
   ]
  },
  {
   "cell_type": "code",
   "execution_count": 13,
   "metadata": {},
   "outputs": [
    {
     "name": "stdout",
     "output_type": "stream",
     "text": [
      "[1, 3, 5, 7]  at  0x7f9890906040\n"
     ]
    }
   ],
   "source": [
    "my_list.append(7)\n",
    "print(my_list, \" at \", hex(id(my_list)))"
   ]
  },
  {
   "cell_type": "code",
   "execution_count": 14,
   "metadata": {},
   "outputs": [
    {
     "name": "stdout",
     "output_type": "stream",
     "text": [
      "[0, 3, 5, 7]  at  0x7f9890906040\n"
     ]
    }
   ],
   "source": [
    "my_list[0] = 0\n",
    "print(my_list, \" at \", hex(id(my_list)))"
   ]
  },
  {
   "cell_type": "markdown",
   "metadata": {},
   "source": [
    "Beware some alteration will result in new lists"
   ]
  },
  {
   "cell_type": "code",
   "execution_count": 15,
   "metadata": {},
   "outputs": [
    {
     "name": "stdout",
     "output_type": "stream",
     "text": [
      "[0, 3, 5, 7, 9, 11]  at  0x7f989091ae00\n"
     ]
    }
   ],
   "source": [
    "my_list = my_list + [9, 11]\n",
    "print(my_list, \" at \", hex(id(my_list)))"
   ]
  },
  {
   "cell_type": "code",
   "execution_count": 16,
   "metadata": {},
   "outputs": [
    {
     "name": "stdout",
     "output_type": "stream",
     "text": [
      "[0, 3, 5, 7, 9, 11]  at  0x7f989091ae00\n"
     ]
    }
   ],
   "source": [
    "# simple new variable only is a new reference to the object in memory\n",
    "new_list = my_list\n",
    "print(new_list, \" at \", hex(id(new_list)))"
   ]
  },
  {
   "cell_type": "code",
   "execution_count": 17,
   "metadata": {},
   "outputs": [
    {
     "name": "stdout",
     "output_type": "stream",
     "text": [
      "[0, 3, 5, 7, 9, 11]  at  0x7f989104b000\n"
     ]
    }
   ],
   "source": [
    "# you can use `copy` to actually create a new list with those values\n",
    "new_list = my_list.copy()\n",
    "print(new_list, \" at \", hex(id(new_list)))"
   ]
  },
  {
   "cell_type": "code",
   "execution_count": 18,
   "metadata": {},
   "outputs": [
    {
     "name": "stdout",
     "output_type": "stream",
     "text": [
      "[0, 3, 5, 7, 9, 11]  at  0x7f9890af5240\n"
     ]
    }
   ],
   "source": [
    "# creating a list with the same values creates completely new list\n",
    "new_list = [0, 3, 5, 7, 9, 11]\n",
    "print(new_list, \" at \", hex(id(new_list)))"
   ]
  },
  {
   "cell_type": "markdown",
   "metadata": {},
   "source": [
    "What happens if "
   ]
  },
  {
   "cell_type": "code",
   "execution_count": 19,
   "metadata": {},
   "outputs": [
    {
     "name": "stdout",
     "output_type": "stream",
     "text": [
      "{1: {1: [1, 2, 3]}, 2: {2: [1, 2, 3]}, 3: {3: [1, 2, 3]}}  at  0x7f9890436500\n"
     ]
    }
   ],
   "source": [
    "my_dict = {1: {1: [1, 2, 3]}, 2: {2: [1, 2, 3]}, 3: {3: [1, 2, 3]}}\n",
    "print(my_dict, \" at \", hex(id(my_dict)))"
   ]
  },
  {
   "cell_type": "code",
   "execution_count": 20,
   "metadata": {},
   "outputs": [
    {
     "name": "stdout",
     "output_type": "stream",
     "text": [
      "{1: {1: [1, 2, 3]}, 2: {2: [1, 2, 3]}, 3: {3: [1, 2, 3]}}  at  0x7f9890fb8200\n"
     ]
    }
   ],
   "source": [
    "new_dict = my_dict.copy()\n",
    "print(new_dict, \" at \", hex(id(new_dict)))"
   ]
  },
  {
   "cell_type": "markdown",
   "metadata": {},
   "source": [
    "**What do you think happens?**"
   ]
  },
  {
   "cell_type": "code",
   "execution_count": 21,
   "metadata": {},
   "outputs": [],
   "source": [
    "my_dict[1][1][0] = 10"
   ]
  },
  {
   "cell_type": "code",
   "execution_count": 22,
   "metadata": {},
   "outputs": [
    {
     "name": "stdout",
     "output_type": "stream",
     "text": [
      "{1: {1: [10, 2, 3]}, 2: {2: [1, 2, 3]}, 3: {3: [1, 2, 3]}}\n",
      "{1: {1: [10, 2, 3]}, 2: {2: [1, 2, 3]}, 3: {3: [1, 2, 3]}}\n"
     ]
    }
   ],
   "source": [
    "print(my_dict)\n",
    "print(new_dict)"
   ]
  },
  {
   "cell_type": "markdown",
   "metadata": {},
   "source": [
    "**And now?**"
   ]
  },
  {
   "cell_type": "code",
   "execution_count": 23,
   "metadata": {},
   "outputs": [],
   "source": [
    "my_dict[2] = \"empty\""
   ]
  },
  {
   "cell_type": "code",
   "execution_count": 24,
   "metadata": {},
   "outputs": [
    {
     "name": "stdout",
     "output_type": "stream",
     "text": [
      "{1: {1: [10, 2, 3]}, 2: 'empty', 3: {3: [1, 2, 3]}}\n",
      "{1: {1: [10, 2, 3]}, 2: {2: [1, 2, 3]}, 3: {3: [1, 2, 3]}}\n"
     ]
    }
   ],
   "source": [
    "print(my_dict)\n",
    "print(new_dict)"
   ]
  },
  {
   "cell_type": "markdown",
   "metadata": {},
   "source": [
    "**Now?**"
   ]
  },
  {
   "cell_type": "code",
   "execution_count": 25,
   "metadata": {},
   "outputs": [],
   "source": [
    "my_dict[3][3] = \"no list\""
   ]
  },
  {
   "cell_type": "code",
   "execution_count": 26,
   "metadata": {},
   "outputs": [
    {
     "name": "stdout",
     "output_type": "stream",
     "text": [
      "{1: {1: [10, 2, 3]}, 2: 'empty', 3: {3: 'no list'}}\n",
      "{1: {1: [10, 2, 3]}, 2: {2: [1, 2, 3]}, 3: {3: 'no list'}}\n"
     ]
    }
   ],
   "source": [
    "print(my_dict)\n",
    "print(new_dict)"
   ]
  },
  {
   "cell_type": "markdown",
   "metadata": {},
   "source": [
    "<div class=\"alert alert-block alert-info\">\n",
    "<b>Note:</b> \n",
    "    When you copy a composed object, e.g. the dictionary containing other dictionaries or lists, only a new 'outer' object is created, while the 'inner' objects references are kept. If you want a full copy of the composed object, use the <i>deepcopy</i> function from the <i>copy</i> module.\n",
    "</div>\n"
   ]
  },
  {
   "cell_type": "code",
   "execution_count": 27,
   "metadata": {},
   "outputs": [],
   "source": [
    "import copy\n",
    "new_dict = copy.deepcopy(my_dict)"
   ]
  },
  {
   "cell_type": "code",
   "execution_count": 28,
   "metadata": {},
   "outputs": [
    {
     "name": "stdout",
     "output_type": "stream",
     "text": [
      "{1: {1: [10, 2, 3]}, 2: 'empty', 3: {3: 'no list'}}\n",
      "{1: {1: [10, 2, 3]}, 2: 'empty', 3: {3: 'no list'}}\n"
     ]
    }
   ],
   "source": [
    "print(my_dict)\n",
    "print(new_dict)"
   ]
  },
  {
   "cell_type": "code",
   "execution_count": 29,
   "metadata": {},
   "outputs": [],
   "source": [
    "my_dict[1][1][0] = 100"
   ]
  },
  {
   "cell_type": "code",
   "execution_count": 30,
   "metadata": {},
   "outputs": [
    {
     "name": "stdout",
     "output_type": "stream",
     "text": [
      "{1: {1: [100, 2, 3]}, 2: 'empty', 3: {3: 'no list'}}\n",
      "{1: {1: [10, 2, 3]}, 2: 'empty', 3: {3: 'no list'}}\n"
     ]
    }
   ],
   "source": [
    "print(my_dict)\n",
    "print(new_dict)"
   ]
  },
  {
   "cell_type": "markdown",
   "metadata": {},
   "source": [
    "## Sequences: list, tuple, range\n",
    "[Back to contents](#Contents)\n",
    "\n",
    "The data type `list` and `string` are two examples of the sequqnce data type, i.e. an ordered collection of items.\n",
    "\n",
    "There is an immutable equivalent to the `list`: the `tuple`.\n",
    "\n",
    "While lists often contain homogeneous objects and are iterated over (e.g. list of integers), tuples often contain heterogeneous objects and are often unpacked or indexed."
   ]
  },
  {
   "cell_type": "code",
   "execution_count": 32,
   "metadata": {},
   "outputs": [
    {
     "data": {
      "text/plain": [
       "(1, 'hi', 4.23, 990)"
      ]
     },
     "execution_count": 32,
     "metadata": {},
     "output_type": "execute_result"
    }
   ],
   "source": [
    "t = 1, \"hi\", 4.23\n",
    "t"
   ]
  },
  {
   "cell_type": "markdown",
   "metadata": {},
   "source": [
    "So tuples are marked with parantheses."
   ]
  },
  {
   "cell_type": "code",
   "execution_count": 33,
   "metadata": {},
   "outputs": [
    {
     "data": {
      "text/plain": [
       "(1, 2, 3)"
      ]
     },
     "execution_count": 33,
     "metadata": {},
     "output_type": "execute_result"
    }
   ],
   "source": [
    "t = (1, 2, 3)\n",
    "t"
   ]
  },
  {
   "cell_type": "code",
   "execution_count": 34,
   "metadata": {},
   "outputs": [
    {
     "ename": "TypeError",
     "evalue": "'tuple' object does not support item assignment",
     "output_type": "error",
     "traceback": [
      "\u001b[0;31m---------------------------------------------------------------------------\u001b[0m",
      "\u001b[0;31mTypeError\u001b[0m                                 Traceback (most recent call last)",
      "\u001b[1;32m/Users/juanbettinelli/Documents/UniPython/python_course/L4 - Python Basics/Python_basics.ipynb Cell 460'\u001b[0m in \u001b[0;36m<cell line: 2>\u001b[0;34m()\u001b[0m\n\u001b[1;32m      <a href='vscode-notebook-cell:/Users/juanbettinelli/Documents/UniPython/python_course/L4%20-%20Python%20Basics/Python_basics.ipynb#ch0000459?line=0'>1</a>\u001b[0m \u001b[39m# immutability\u001b[39;00m\n\u001b[0;32m----> <a href='vscode-notebook-cell:/Users/juanbettinelli/Documents/UniPython/python_course/L4%20-%20Python%20Basics/Python_basics.ipynb#ch0000459?line=1'>2</a>\u001b[0m t[\u001b[39m0\u001b[39m] \u001b[39m=\u001b[39m \u001b[39m\"\u001b[39m\u001b[39mhi\u001b[39m\u001b[39m\"\u001b[39m\n",
      "\u001b[0;31mTypeError\u001b[0m: 'tuple' object does not support item assignment"
     ]
    }
   ],
   "source": [
    "# immutability\n",
    "t[0] = \"hi\""
   ]
  },
  {
   "cell_type": "code",
   "execution_count": 35,
   "metadata": {},
   "outputs": [
    {
     "data": {
      "text/plain": [
       "('hi', [1, 2, 3], 3.14)"
      ]
     },
     "execution_count": 35,
     "metadata": {},
     "output_type": "execute_result"
    }
   ],
   "source": [
    "# what about mutable data types in the tuple?\n",
    "t = \"hi\", [1, 2, 3], 3.14\n",
    "t"
   ]
  },
  {
   "cell_type": "code",
   "execution_count": 36,
   "metadata": {},
   "outputs": [
    {
     "data": {
      "text/plain": [
       "('hi', [1, 2, 3, 3], 3.14)"
      ]
     },
     "execution_count": 36,
     "metadata": {},
     "output_type": "execute_result"
    }
   ],
   "source": [
    "# can we change the list?\n",
    "t[1].append(3)\n",
    "t"
   ]
  },
  {
   "cell_type": "markdown",
   "metadata": {},
   "source": [
    "So we can modify mutable objects in mutable data structures, as long as the object reference does not change.\n",
    "\n",
    "A special case is to create tuples with single or no entry:"
   ]
  },
  {
   "cell_type": "code",
   "execution_count": 37,
   "metadata": {},
   "outputs": [
    {
     "data": {
      "text/plain": [
       "1"
      ]
     },
     "execution_count": 37,
     "metadata": {},
     "output_type": "execute_result"
    }
   ],
   "source": [
    "# this is an integer\n",
    "x = (1)\n",
    "x"
   ]
  },
  {
   "cell_type": "code",
   "execution_count": 38,
   "metadata": {},
   "outputs": [
    {
     "data": {
      "text/plain": [
       "(1,)"
      ]
     },
     "execution_count": 38,
     "metadata": {},
     "output_type": "execute_result"
    }
   ],
   "source": [
    "# you need to do\n",
    "x = (1,)\n",
    "x"
   ]
  },
  {
   "cell_type": "code",
   "execution_count": 39,
   "metadata": {},
   "outputs": [],
   "source": [
    "# or"
   ]
  },
  {
   "cell_type": "code",
   "execution_count": 40,
   "metadata": {},
   "outputs": [
    {
     "data": {
      "text/plain": [
       "(1,)"
      ]
     },
     "execution_count": 40,
     "metadata": {},
     "output_type": "execute_result"
    }
   ],
   "source": [
    "x = 1,\n",
    "x"
   ]
  },
  {
   "cell_type": "code",
   "execution_count": 41,
   "metadata": {},
   "outputs": [
    {
     "data": {
      "text/plain": [
       "1"
      ]
     },
     "execution_count": 41,
     "metadata": {},
     "output_type": "execute_result"
    }
   ],
   "source": [
    "len(x)"
   ]
  },
  {
   "cell_type": "code",
   "execution_count": 42,
   "metadata": {},
   "outputs": [
    {
     "data": {
      "text/plain": [
       "()"
      ]
     },
     "execution_count": 42,
     "metadata": {},
     "output_type": "execute_result"
    }
   ],
   "source": [
    "# an empty tuple can be created as \n",
    "x = ()\n",
    "x"
   ]
  },
  {
   "cell_type": "code",
   "execution_count": 43,
   "metadata": {},
   "outputs": [
    {
     "name": "stdout",
     "output_type": "stream",
     "text": [
      "('hi', [1, 2, 3], 3.14)\n",
      "hi  -  [1, 2, 3]  -  3.14\n"
     ]
    }
   ],
   "source": [
    "# tuples are automatically packed:\n",
    "t = \"hi\", [1, 2, 3], 3.14\n",
    "print(t)\n",
    "\n",
    "# you can unpack them, too\n",
    "x, y, z = t\n",
    "print(x, \" - \",y, \" - \", z)"
   ]
  },
  {
   "cell_type": "markdown",
   "metadata": {},
   "source": [
    "Another immutable sequence is the `range` type. It is mainly used for looping over a specific number of times in for loops."
   ]
  },
  {
   "cell_type": "code",
   "execution_count": 46,
   "metadata": {},
   "outputs": [],
   "source": [
    "r = range(10)"
   ]
  },
  {
   "cell_type": "code",
   "execution_count": 47,
   "metadata": {},
   "outputs": [
    {
     "name": "stdout",
     "output_type": "stream",
     "text": [
      "range(0, 10)\n"
     ]
    }
   ],
   "source": [
    "print(r)"
   ]
  },
  {
   "cell_type": "code",
   "execution_count": 48,
   "metadata": {},
   "outputs": [
    {
     "data": {
      "text/plain": [
       "[0, 1, 2, 3, 4, 5, 6, 7, 8, 9]"
      ]
     },
     "execution_count": 48,
     "metadata": {},
     "output_type": "execute_result"
    }
   ],
   "source": [
    "list(r)"
   ]
  },
  {
   "cell_type": "markdown",
   "metadata": {},
   "source": [
    "The difference to the `list` is, that `range` always takes the same small memory, as it does not create the full list of numbers but holds the calculation logic to dynamically create the next number.\n",
    "\n",
    "You can create a range of different `range` objects ;)"
   ]
  },
  {
   "cell_type": "code",
   "execution_count": 49,
   "metadata": {},
   "outputs": [
    {
     "name": "stdout",
     "output_type": "stream",
     "text": [
      "\u001b[0;31mInit signature:\u001b[0m \u001b[0mrange\u001b[0m\u001b[0;34m(\u001b[0m\u001b[0mself\u001b[0m\u001b[0;34m,\u001b[0m \u001b[0;34m/\u001b[0m\u001b[0;34m,\u001b[0m \u001b[0;34m*\u001b[0m\u001b[0margs\u001b[0m\u001b[0;34m,\u001b[0m \u001b[0;34m**\u001b[0m\u001b[0mkwargs\u001b[0m\u001b[0;34m)\u001b[0m\u001b[0;34m\u001b[0m\u001b[0;34m\u001b[0m\u001b[0m\n",
      "\u001b[0;31mDocstring:\u001b[0m     \n",
      "range(stop) -> range object\n",
      "range(start, stop[, step]) -> range object\n",
      "\n",
      "Return an object that produces a sequence of integers from start (inclusive)\n",
      "to stop (exclusive) by step.  range(i, j) produces i, i+1, i+2, ..., j-1.\n",
      "start defaults to 0, and stop is omitted!  range(4) produces 0, 1, 2, 3.\n",
      "These are exactly the valid indices for a list of 4 elements.\n",
      "When step is given, it specifies the increment (or decrement).\n",
      "\u001b[0;31mType:\u001b[0m           type\n",
      "\u001b[0;31mSubclasses:\u001b[0m     \n"
     ]
    }
   ],
   "source": [
    "# the logic is similar to indexing:\n",
    "range?"
   ]
  },
  {
   "cell_type": "code",
   "execution_count": 50,
   "metadata": {},
   "outputs": [
    {
     "data": {
      "text/plain": [
       "[0, 5, 10, 15]"
      ]
     },
     "execution_count": 50,
     "metadata": {},
     "output_type": "execute_result"
    }
   ],
   "source": [
    "list(range(0, 20, 5))"
   ]
  },
  {
   "cell_type": "code",
   "execution_count": 51,
   "metadata": {},
   "outputs": [
    {
     "data": {
      "text/plain": [
       "[20, 19, 18, 17, 16, 15, 14, 13, 12, 11]"
      ]
     },
     "execution_count": 51,
     "metadata": {},
     "output_type": "execute_result"
    }
   ],
   "source": [
    "list(range(20, 10, -1))"
   ]
  },
  {
   "cell_type": "markdown",
   "metadata": {},
   "source": [
    "## Sets\n",
    "[Back to contents](#Contents)\n",
    "\n",
    "A set is an unordered collection with no duplicate elements.\n",
    "\n",
    "\n",
    "Basic uses include membership testing and eliminating duplicate entries.\n",
    "\n",
    "Curly braces or the set() function can be used to create sets.\n",
    "\n"
   ]
  },
  {
   "cell_type": "code",
   "execution_count": 52,
   "metadata": {},
   "outputs": [],
   "source": [
    "basket = {\"apple\", \"orange\",\n",
    "          \"apple\", \"pear\",\n",
    "          \"orange\", \"banana\"}"
   ]
  },
  {
   "cell_type": "code",
   "execution_count": 53,
   "metadata": {},
   "outputs": [
    {
     "name": "stdout",
     "output_type": "stream",
     "text": [
      "{'pear', 'apple', 'banana', 'orange'}\n"
     ]
    }
   ],
   "source": [
    "print(basket)"
   ]
  },
  {
   "cell_type": "code",
   "execution_count": 54,
   "metadata": {},
   "outputs": [
    {
     "data": {
      "text/plain": [
       "True"
      ]
     },
     "execution_count": 54,
     "metadata": {},
     "output_type": "execute_result"
    }
   ],
   "source": [
    "# membership testing:\n",
    "\"pear\" in basket"
   ]
  },
  {
   "cell_type": "code",
   "execution_count": 55,
   "metadata": {},
   "outputs": [
    {
     "data": {
      "text/plain": [
       "False"
      ]
     },
     "execution_count": 55,
     "metadata": {},
     "output_type": "execute_result"
    }
   ],
   "source": [
    "\"plum\" in basket"
   ]
  },
  {
   "cell_type": "markdown",
   "metadata": {},
   "source": [
    "Set objects also support mathematical operations like union, intersection, difference, and symmetric difference.\n"
   ]
  },
  {
   "cell_type": "code",
   "execution_count": 56,
   "metadata": {},
   "outputs": [],
   "source": [
    "set_a = set(\"abracadabra\")\n",
    "set_b = set(\"Bazinga\")"
   ]
  },
  {
   "cell_type": "code",
   "execution_count": 57,
   "metadata": {},
   "outputs": [
    {
     "name": "stdout",
     "output_type": "stream",
     "text": [
      "{'c', 'd', 'a', 'r', 'b'}\n",
      "{'B', 'a', 'i', 'n', 'g', 'z'}\n"
     ]
    }
   ],
   "source": [
    "print(set_a)\n",
    "print(set_b)\n"
   ]
  },
  {
   "cell_type": "code",
   "execution_count": 58,
   "metadata": {},
   "outputs": [
    {
     "data": {
      "text/plain": [
       "{'b', 'c', 'd', 'r'}"
      ]
     },
     "execution_count": 58,
     "metadata": {},
     "output_type": "execute_result"
    }
   ],
   "source": [
    "# letters in set_a but not in set_b\n",
    "set_a - set_b"
   ]
  },
  {
   "cell_type": "code",
   "execution_count": 59,
   "metadata": {},
   "outputs": [
    {
     "data": {
      "text/plain": [
       "{'B', 'a', 'b', 'c', 'd', 'g', 'i', 'n', 'r', 'z'}"
      ]
     },
     "execution_count": 59,
     "metadata": {},
     "output_type": "execute_result"
    }
   ],
   "source": [
    "# letters in set_a or set_b\n",
    "set_a | set_b"
   ]
  },
  {
   "cell_type": "code",
   "execution_count": 60,
   "metadata": {},
   "outputs": [
    {
     "data": {
      "text/plain": [
       "{'a'}"
      ]
     },
     "execution_count": 60,
     "metadata": {},
     "output_type": "execute_result"
    }
   ],
   "source": [
    "# letters in both set_a and set_b\n",
    "set_a & set_b"
   ]
  },
  {
   "cell_type": "code",
   "execution_count": 61,
   "metadata": {},
   "outputs": [
    {
     "data": {
      "text/plain": [
       "{'B', 'b', 'c', 'd', 'g', 'i', 'n', 'r', 'z'}"
      ]
     },
     "execution_count": 61,
     "metadata": {},
     "output_type": "execute_result"
    }
   ],
   "source": [
    "# letters ind set_a or set_b but not in both\n",
    "set_a ^ set_b"
   ]
  },
  {
   "cell_type": "markdown",
   "metadata": {},
   "source": [
    "## Comprehensions\n",
    "[Back to contents](#Contents)\n",
    "\n",
    "Python supports a concise syntax to generate e.g. lists, dicts, tuples, or set: the comprehension.\n",
    "\n",
    "Let's suppose we want to have a list of squared values from 1 to 10.\n",
    "Normally you would do something like this:"
   ]
  },
  {
   "cell_type": "code",
   "execution_count": 62,
   "metadata": {},
   "outputs": [
    {
     "name": "stdout",
     "output_type": "stream",
     "text": [
      "[1, 4, 9, 16, 25, 36, 49, 64, 81, 100]\n"
     ]
    }
   ],
   "source": [
    "result = []\n",
    "for i in range(1,11):\n",
    "    result.append(i**2)\n",
    "print(result)"
   ]
  },
  {
   "cell_type": "markdown",
   "metadata": {},
   "source": [
    "The so-called list comprehensions look like:"
   ]
  },
  {
   "cell_type": "code",
   "execution_count": 63,
   "metadata": {},
   "outputs": [
    {
     "name": "stdout",
     "output_type": "stream",
     "text": [
      "[1, 4, 9, 16, 25, 36, 49, 64, 81, 100]\n"
     ]
    }
   ],
   "source": [
    "res = [x**2 for x  in range(1,11)]\n",
    "print(res)"
   ]
  },
  {
   "cell_type": "markdown",
   "metadata": {},
   "source": [
    "If you don\"t right away love it, you will learn to love it.\n",
    "I am telling you coming from C++ :)"
   ]
  },
  {
   "cell_type": "markdown",
   "metadata": {},
   "source": [
    "Comprehensions are not restricted to simple for looping."
   ]
  },
  {
   "cell_type": "code",
   "execution_count": 64,
   "metadata": {},
   "outputs": [
    {
     "data": {
      "text/plain": [
       "[1, 9, 25, 49, 81]"
      ]
     },
     "execution_count": 64,
     "metadata": {},
     "output_type": "execute_result"
    }
   ],
   "source": [
    "# add a condition (only odd squared values)\n",
    "[x**2 for x in range(1, 11) if x % 2 == 1]"
   ]
  },
  {
   "cell_type": "code",
   "execution_count": 66,
   "metadata": {},
   "outputs": [
    {
     "data": {
      "text/plain": [
       "[1, 0, 9, 0, 25, 0, 49, 0, 81, 0]"
      ]
     },
     "execution_count": 66,
     "metadata": {},
     "output_type": "execute_result"
    }
   ],
   "source": [
    "# add an else to the comprehension\n",
    "[x**2 if x % 2 == 1 else 0 for x in range(1, 11)]"
   ]
  },
  {
   "cell_type": "code",
   "execution_count": 67,
   "metadata": {},
   "outputs": [
    {
     "data": {
      "text/plain": [
       "[9, 0, 81]"
      ]
     },
     "execution_count": 67,
     "metadata": {},
     "output_type": "execute_result"
    }
   ],
   "source": [
    "# actually you can add another if\n",
    "# these are two separate things:\n",
    "# if-else in the beginning can be considered a conditional in the output\n",
    "# if at the end is a filter condition on the input\n",
    "[x**2 if x % 2 == 1 else 0 for x in range(1, 11) if x % 3 == 0]"
   ]
  },
  {
   "cell_type": "markdown",
   "metadata": {},
   "source": [
    "You can think of the syntax in terms of:\n",
    "\n",
    "`[output_expression() for-loop if-filtering]`\n",
    "\n",
    "In this sense the above \"double-if\" is equivalent to:"
   ]
  },
  {
   "cell_type": "code",
   "execution_count": 68,
   "metadata": {},
   "outputs": [
    {
     "data": {
      "text/plain": [
       "[9, 0, 81]"
      ]
     },
     "execution_count": 68,
     "metadata": {},
     "output_type": "execute_result"
    }
   ],
   "source": [
    "res = []\n",
    "def output_expression(x):\n",
    "    # if condition in \"output\"\n",
    "    return x**2 if x % 2 ==1 else 0\n",
    "\n",
    "for i in range(1,11):\n",
    "    # if condition for input\n",
    "    if i % 3 == 0:\n",
    "        res.append(output_expression(i))\n",
    "        \n",
    "res"
   ]
  },
  {
   "cell_type": "markdown",
   "metadata": {},
   "source": [
    "<div class=\"alert alert-block alert-warning\">\n",
    "<b>Example / Exercise:</b> Try to get a couple of comprehensions going yourself. Please help each other out! Time box:\n",
    "    \n",
    "Couple of preparations first:\n",
    "- list_a = [1, 2, 3]\n",
    "- list_b = [1, 2, 3]\n",
    "- quote = \"The way to get started is to quit talking and begin doing\" # Walt Disney\n",
    "- cpu_freqs = [\"800MHz\", \"1200MHz\", \"2.5GHz\", \"3.133GHz\"]\n",
    "    \n",
    "Using list comprehensions:\n",
    "    \n",
    "1) Convert all integers of `list_a` to strings.\n",
    "2) Count the spaces in the quote. \n",
    "3) Create a list of the lengths of the single words of the quote.\n",
    "4) Create a list of words that are longer than three characters.\n",
    "5) From `list_a` and `list_b` create a list of tuples which reads like: [(1,1), (1,2), (1,3), (2,1), (2,2),...]\n",
    "6) From `list_a` and `list_b` create a list of tuples which reads like: [(1,1), (2,2), (3,3)]\n",
    "7) Convert the CPU frequencies into a list of numerical values in GHz without dimension string (\"Ghz\", \"MHz\")\n",
    "    \n",
    "Hands up, when you typed in the input lists and string.\n",
    "\n",
    "Timebox: 20min! Help each other.\n",
    "</div>"
   ]
  },
  {
   "cell_type": "code",
   "execution_count": 96,
   "metadata": {},
   "outputs": [
    {
     "data": {
      "text/plain": [
       "[(1, 1), (2, 2), (3, 3)]"
      ]
     },
     "execution_count": 96,
     "metadata": {},
     "output_type": "execute_result"
    }
   ],
   "source": [
    "list_a = [1, 2, 3]\n",
    "list_b = [1, 2, 3]\n",
    "quote = \"The way to get started is to quit talking and begin doing\" # Walt Disney\n",
    "cpu_freqs = [\"800MHz\", \"1200MHz\", \"2.5GHz\", \"3.133GHz\"]\n",
    "\n",
    "import random\n",
    "\n",
    "\n",
    "#1)\n",
    "[str(i) for i in list_a]\n",
    "#2)\n",
    "quote.count(\" \")\n",
    "#3)\n",
    "len([space for space in quote if space == \" \"])\n",
    "\n",
    "#4) \n",
    "[len(word) for word in quote.split(\" \")]\n",
    "\n",
    "[word for word in quote.split(\" \") if len(word)>3]\n",
    "\n",
    "#5)\n",
    "[(i, j) for i in list_a for j in list_b]\n",
    "\n",
    "#6)\n",
    "list(zip(list_a, list_b))\n",
    "\n",
    "[(a,b)for a, b in zip(list_a, list_b)]\n",
    "\n"
   ]
  },
  {
   "cell_type": "code",
   "execution_count": 98,
   "metadata": {},
   "outputs": [
    {
     "ename": "TypeError",
     "evalue": "unsupported operand type(s) for /: 'str' and 'int'",
     "output_type": "error",
     "traceback": [
      "\u001b[0;31m---------------------------------------------------------------------------\u001b[0m",
      "\u001b[0;31mTypeError\u001b[0m                                 Traceback (most recent call last)",
      "\u001b[1;32m/Users/juanbettinelli/Documents/UniPython/python_course/L4 - Python Basics/Python_basics.ipynb Cell 505'\u001b[0m in \u001b[0;36m<cell line: 3>\u001b[0;34m()\u001b[0m\n\u001b[1;32m      <a href='vscode-notebook-cell:/Users/juanbettinelli/Documents/UniPython/python_course/L4%20-%20Python%20Basics/Python_basics.ipynb#ch0000594?line=0'>1</a>\u001b[0m \u001b[39m#7)\u001b[39;00m\n\u001b[1;32m      <a href='vscode-notebook-cell:/Users/juanbettinelli/Documents/UniPython/python_course/L4%20-%20Python%20Basics/Python_basics.ipynb#ch0000594?line=1'>2</a>\u001b[0m cpu_freqs\n\u001b[0;32m----> <a href='vscode-notebook-cell:/Users/juanbettinelli/Documents/UniPython/python_course/L4%20-%20Python%20Basics/Python_basics.ipynb#ch0000594?line=2'>3</a>\u001b[0m [\u001b[39mfloat\u001b[39m(freq[:\u001b[39m-\u001b[39m\u001b[39m3\u001b[39m]\u001b[39m/\u001b[39m\u001b[39m1000\u001b[39m) \u001b[39mif\u001b[39;00m freq[\u001b[39m-\u001b[39m\u001b[39m3\u001b[39m:] \u001b[39m==\u001b[39m \u001b[39m\"\u001b[39m\u001b[39mMHz\u001b[39m\u001b[39m\"\u001b[39m \u001b[39melse\u001b[39;00m \u001b[39mfloat\u001b[39m(freq[:\u001b[39m-\u001b[39m\u001b[39m3\u001b[39m]) \u001b[39mfor\u001b[39;00m freq \u001b[39min\u001b[39;00m cpu_freqs]\n",
      "\u001b[1;32m/Users/juanbettinelli/Documents/UniPython/python_course/L4 - Python Basics/Python_basics.ipynb Cell 505'\u001b[0m in \u001b[0;36m<listcomp>\u001b[0;34m(.0)\u001b[0m\n\u001b[1;32m      <a href='vscode-notebook-cell:/Users/juanbettinelli/Documents/UniPython/python_course/L4%20-%20Python%20Basics/Python_basics.ipynb#ch0000594?line=0'>1</a>\u001b[0m \u001b[39m#7)\u001b[39;00m\n\u001b[1;32m      <a href='vscode-notebook-cell:/Users/juanbettinelli/Documents/UniPython/python_course/L4%20-%20Python%20Basics/Python_basics.ipynb#ch0000594?line=1'>2</a>\u001b[0m cpu_freqs\n\u001b[0;32m----> <a href='vscode-notebook-cell:/Users/juanbettinelli/Documents/UniPython/python_course/L4%20-%20Python%20Basics/Python_basics.ipynb#ch0000594?line=2'>3</a>\u001b[0m [\u001b[39mfloat\u001b[39m(freq[:\u001b[39m-\u001b[39;49m\u001b[39m3\u001b[39;49m]\u001b[39m/\u001b[39;49m\u001b[39m1000\u001b[39;49m) \u001b[39mif\u001b[39;00m freq[\u001b[39m-\u001b[39m\u001b[39m3\u001b[39m:] \u001b[39m==\u001b[39m \u001b[39m\"\u001b[39m\u001b[39mMHz\u001b[39m\u001b[39m\"\u001b[39m \u001b[39melse\u001b[39;00m \u001b[39mfloat\u001b[39m(freq[:\u001b[39m-\u001b[39m\u001b[39m3\u001b[39m]) \u001b[39mfor\u001b[39;00m freq \u001b[39min\u001b[39;00m cpu_freqs]\n",
      "\u001b[0;31mTypeError\u001b[0m: unsupported operand type(s) for /: 'str' and 'int'"
     ]
    }
   ],
   "source": [
    "#7)\n",
    "cpu_freqs\n",
    "[float(freq[:-3]/1000) if freq[-3:] == \"MHz\" else float(freq[:-3]) for freq in cpu_freqs]\n"
   ]
  },
  {
   "cell_type": "markdown",
   "metadata": {},
   "source": [
    "<div class=\"alert alert-block alert-info\">\n",
    "<b>Note:</b> You can also use comprehensions to create dictionaries or sets.\n",
    "</div>"
   ]
  },
  {
   "cell_type": "markdown",
   "metadata": {},
   "source": [
    "## Strings II\n",
    "\n",
    "[Back to contents](#Contents)\n",
    "\n",
    "Back to strings once again. Text, in general, is very important for interactions with users or even for you as the developer.\n",
    "\n",
    "There are a lot of useful methods and functionalities: [String methods](https://docs.python.org/3.10/library/stdtypes.html#string-methods) or [Text services](https://docs.python.org/3.10/library/text.html#textservices)\n",
    "\n",
    "Let's at least cover formatting and widely used methods."
   ]
  },
  {
   "cell_type": "markdown",
   "metadata": {
    "tags": []
   },
   "source": [
    "### Helpful methods"
   ]
  },
  {
   "cell_type": "code",
   "execution_count": 99,
   "metadata": {},
   "outputs": [],
   "source": [
    "s = \"just a test string: 1, 2, 3\""
   ]
  },
  {
   "cell_type": "code",
   "execution_count": 100,
   "metadata": {},
   "outputs": [
    {
     "data": {
      "text/plain": [
       "True"
      ]
     },
     "execution_count": 100,
     "metadata": {},
     "output_type": "execute_result"
    }
   ],
   "source": [
    "s.startswith(\"just\")"
   ]
  },
  {
   "cell_type": "code",
   "execution_count": 101,
   "metadata": {},
   "outputs": [
    {
     "data": {
      "text/plain": [
       "True"
      ]
     },
     "execution_count": 101,
     "metadata": {},
     "output_type": "execute_result"
    }
   ],
   "source": [
    "s.endswith(\"3\")"
   ]
  },
  {
   "cell_type": "code",
   "execution_count": 103,
   "metadata": {},
   "outputs": [
    {
     "data": {
      "text/plain": [
       "'JUST A TEST STRING: 1, 2, 3'"
      ]
     },
     "execution_count": 103,
     "metadata": {},
     "output_type": "execute_result"
    }
   ],
   "source": [
    "s.upper()"
   ]
  },
  {
   "cell_type": "code",
   "execution_count": 104,
   "metadata": {},
   "outputs": [
    {
     "data": {
      "text/plain": [
       "'just a test string: 1, 2, 3'"
      ]
     },
     "execution_count": 104,
     "metadata": {},
     "output_type": "execute_result"
    }
   ],
   "source": [
    "s.lower()"
   ]
  },
  {
   "cell_type": "code",
   "execution_count": 105,
   "metadata": {},
   "outputs": [
    {
     "data": {
      "text/plain": [
       "False"
      ]
     },
     "execution_count": 105,
     "metadata": {},
     "output_type": "execute_result"
    }
   ],
   "source": [
    "s.isupper()"
   ]
  },
  {
   "cell_type": "code",
   "execution_count": 106,
   "metadata": {},
   "outputs": [
    {
     "data": {
      "text/plain": [
       "True"
      ]
     },
     "execution_count": 106,
     "metadata": {},
     "output_type": "execute_result"
    }
   ],
   "source": [
    "s.islower()"
   ]
  },
  {
   "cell_type": "code",
   "execution_count": 107,
   "metadata": {},
   "outputs": [
    {
     "data": {
      "text/plain": [
       "7"
      ]
     },
     "execution_count": 107,
     "metadata": {},
     "output_type": "execute_result"
    }
   ],
   "source": [
    "# return index of substring\n",
    "s.find(\"test\")"
   ]
  },
  {
   "cell_type": "code",
   "execution_count": 108,
   "metadata": {},
   "outputs": [
    {
     "data": {
      "text/plain": [
       "-1"
      ]
     },
     "execution_count": 108,
     "metadata": {},
     "output_type": "execute_result"
    }
   ],
   "source": [
    "# not found\n",
    "s.find(\"fun\")"
   ]
  },
  {
   "cell_type": "code",
   "execution_count": 109,
   "metadata": {},
   "outputs": [
    {
     "data": {
      "text/plain": [
       "1"
      ]
     },
     "execution_count": 109,
     "metadata": {},
     "output_type": "execute_result"
    }
   ],
   "source": [
    "s.count(\"test\")"
   ]
  },
  {
   "cell_type": "markdown",
   "metadata": {},
   "source": [
    "<div class=\"alert alert-block alert-info\">\n",
    "    <b>Note:</b> <i>str.find</i> should only be used when you need to know the position of the sub-string. Otherwise use the <i> in </i> operator:\n",
    "</div>\n"
   ]
  },
  {
   "cell_type": "code",
   "execution_count": 110,
   "metadata": {},
   "outputs": [
    {
     "data": {
      "text/plain": [
       "True"
      ]
     },
     "execution_count": 110,
     "metadata": {},
     "output_type": "execute_result"
    }
   ],
   "source": [
    "\"test\" in s"
   ]
  },
  {
   "cell_type": "code",
   "execution_count": 111,
   "metadata": {},
   "outputs": [
    {
     "name": "stdout",
     "output_type": "stream",
     "text": [
      "\u001b[0;31mSignature:\u001b[0m \u001b[0ms\u001b[0m\u001b[0;34m.\u001b[0m\u001b[0msplit\u001b[0m\u001b[0;34m(\u001b[0m\u001b[0msep\u001b[0m\u001b[0;34m=\u001b[0m\u001b[0;32mNone\u001b[0m\u001b[0;34m,\u001b[0m \u001b[0mmaxsplit\u001b[0m\u001b[0;34m=\u001b[0m\u001b[0;34m-\u001b[0m\u001b[0;36m1\u001b[0m\u001b[0;34m)\u001b[0m\u001b[0;34m\u001b[0m\u001b[0;34m\u001b[0m\u001b[0m\n",
      "\u001b[0;31mDocstring:\u001b[0m\n",
      "Return a list of the words in the string, using sep as the delimiter string.\n",
      "\n",
      "sep\n",
      "  The delimiter according which to split the string.\n",
      "  None (the default value) means split according to any whitespace,\n",
      "  and discard empty strings from the result.\n",
      "maxsplit\n",
      "  Maximum number of splits to do.\n",
      "  -1 (the default value) means no limit.\n",
      "\u001b[0;31mType:\u001b[0m      builtin_function_or_method\n"
     ]
    }
   ],
   "source": [
    "# splitting a string\n",
    "s.split?"
   ]
  },
  {
   "cell_type": "code",
   "execution_count": 112,
   "metadata": {},
   "outputs": [
    {
     "data": {
      "text/plain": [
       "['just', 'a', 'test', 'string:', '1,', '2,', '3']"
      ]
     },
     "execution_count": 112,
     "metadata": {},
     "output_type": "execute_result"
    }
   ],
   "source": [
    "s.split(\" \")"
   ]
  },
  {
   "cell_type": "code",
   "execution_count": 113,
   "metadata": {},
   "outputs": [
    {
     "data": {
      "text/plain": [
       "['just', 'a', 'test string: 1, 2, 3']"
      ]
     },
     "execution_count": 113,
     "metadata": {},
     "output_type": "execute_result"
    }
   ],
   "source": [
    "s.split(\" \", 2)"
   ]
  },
  {
   "cell_type": "markdown",
   "metadata": {},
   "source": [
    "Consecutive delimiters are not grouped together. That means, that you get an empty string when using split:"
   ]
  },
  {
   "cell_type": "code",
   "execution_count": 114,
   "metadata": {},
   "outputs": [
    {
     "data": {
      "text/plain": [
       "['1', '', '2', '3']"
      ]
     },
     "execution_count": 114,
     "metadata": {},
     "output_type": "execute_result"
    }
   ],
   "source": [
    "\"1,,2,3\".split(\",\")"
   ]
  },
  {
   "cell_type": "code",
   "execution_count": 115,
   "metadata": {},
   "outputs": [
    {
     "ename": "NameError",
     "evalue": "name 'display_quiz' is not defined",
     "output_type": "error",
     "traceback": [
      "\u001b[0;31m---------------------------------------------------------------------------\u001b[0m",
      "\u001b[0;31mNameError\u001b[0m                                 Traceback (most recent call last)",
      "\u001b[1;32m/Users/juanbettinelli/Documents/UniPython/python_course/L4 - Python Basics/Python_basics.ipynb Cell 525'\u001b[0m in \u001b[0;36m<cell line: 1>\u001b[0;34m()\u001b[0m\n\u001b[0;32m----> <a href='vscode-notebook-cell:/Users/juanbettinelli/Documents/UniPython/python_course/L4%20-%20Python%20Basics/Python_basics.ipynb#ch0000521?line=0'>1</a>\u001b[0m display_quiz(\u001b[39m\"\u001b[39m\u001b[39mquizzes/string_quiz1.json\u001b[39m\u001b[39m\"\u001b[39m)\n",
      "\u001b[0;31mNameError\u001b[0m: name 'display_quiz' is not defined"
     ]
    }
   ],
   "source": [
    "display_quiz(\"quizzes/string_quiz1.json\")"
   ]
  },
  {
   "cell_type": "code",
   "execution_count": 116,
   "metadata": {},
   "outputs": [
    {
     "data": {
      "text/plain": [
       "['1,,2,3']"
      ]
     },
     "execution_count": 116,
     "metadata": {},
     "output_type": "execute_result"
    }
   ],
   "source": [
    "\"1,,2,3\".split()"
   ]
  },
  {
   "cell_type": "code",
   "execution_count": 117,
   "metadata": {},
   "outputs": [
    {
     "name": "stdout",
     "output_type": "stream",
     "text": [
      "\u001b[0;31mSignature:\u001b[0m \u001b[0mstr\u001b[0m\u001b[0;34m.\u001b[0m\u001b[0msplit\u001b[0m\u001b[0;34m(\u001b[0m\u001b[0mself\u001b[0m\u001b[0;34m,\u001b[0m \u001b[0;34m/\u001b[0m\u001b[0;34m,\u001b[0m \u001b[0msep\u001b[0m\u001b[0;34m=\u001b[0m\u001b[0;32mNone\u001b[0m\u001b[0;34m,\u001b[0m \u001b[0mmaxsplit\u001b[0m\u001b[0;34m=\u001b[0m\u001b[0;34m-\u001b[0m\u001b[0;36m1\u001b[0m\u001b[0;34m)\u001b[0m\u001b[0;34m\u001b[0m\u001b[0;34m\u001b[0m\u001b[0m\n",
      "\u001b[0;31mDocstring:\u001b[0m\n",
      "Return a list of the words in the string, using sep as the delimiter string.\n",
      "\n",
      "sep\n",
      "  The delimiter according which to split the string.\n",
      "  None (the default value) means split according to any whitespace,\n",
      "  and discard empty strings from the result.\n",
      "maxsplit\n",
      "  Maximum number of splits to do.\n",
      "  -1 (the default value) means no limit.\n",
      "\u001b[0;31mType:\u001b[0m      method_descriptor\n"
     ]
    }
   ],
   "source": [
    "str.split?"
   ]
  },
  {
   "cell_type": "code",
   "execution_count": 118,
   "metadata": {},
   "outputs": [
    {
     "data": {
      "text/plain": [
       "['1', '2', '3', '4', '5']"
      ]
     },
     "execution_count": 118,
     "metadata": {},
     "output_type": "execute_result"
    }
   ],
   "source": [
    "# the number of consecutive spaces do not matter\n",
    "\"1 2  3   4    5\".split()"
   ]
  },
  {
   "cell_type": "code",
   "execution_count": 119,
   "metadata": {},
   "outputs": [
    {
     "name": "stdout",
     "output_type": "stream",
     "text": [
      "\u001b[0;31mSignature:\u001b[0m \u001b[0mstr\u001b[0m\u001b[0;34m.\u001b[0m\u001b[0mjoin\u001b[0m\u001b[0;34m(\u001b[0m\u001b[0mself\u001b[0m\u001b[0;34m,\u001b[0m \u001b[0miterable\u001b[0m\u001b[0;34m,\u001b[0m \u001b[0;34m/\u001b[0m\u001b[0;34m)\u001b[0m\u001b[0;34m\u001b[0m\u001b[0;34m\u001b[0m\u001b[0m\n",
      "\u001b[0;31mDocstring:\u001b[0m\n",
      "Concatenate any number of strings.\n",
      "\n",
      "The string whose method is called is inserted in between each given string.\n",
      "The result is returned as a new string.\n",
      "\n",
      "Example: '.'.join(['ab', 'pq', 'rs']) -> 'ab.pq.rs'\n",
      "\u001b[0;31mType:\u001b[0m      method_descriptor\n"
     ]
    }
   ],
   "source": [
    "# joining\n",
    "str.join?"
   ]
  },
  {
   "cell_type": "code",
   "execution_count": 120,
   "metadata": {},
   "outputs": [
    {
     "data": {
      "text/plain": [
       "'just a test string'"
      ]
     },
     "execution_count": 120,
     "metadata": {},
     "output_type": "execute_result"
    }
   ],
   "source": [
    "\" \".join(s.split(\" \")[:-3])[:-1]"
   ]
  },
  {
   "cell_type": "markdown",
   "metadata": {},
   "source": [
    "### Formatting\n",
    "There are different commonly used formatting methods. We will focus on the more ones, but [printf-style](https://docs.python.org/3.10/library/stdtypes.html#printf-style-bytes-formatting) formatting is still used and worth reading about.\n",
    "\n",
    "We will focus on *f-strings* introduced in python 3.6. This actually is the reason I would never go back to a python version <3.6, if I am not extremely forced to do so.\n",
    "\n",
    "Only so that you have seen the older formattings:"
   ]
  },
  {
   "cell_type": "code",
   "execution_count": 121,
   "metadata": {},
   "outputs": [
    {
     "name": "stdout",
     "output_type": "stream",
     "text": [
      "Hello World. I am Harry, 10 years old!\n"
     ]
    }
   ],
   "source": [
    "# printf style\n",
    "greet = \"World\"\n",
    "me = \"Harry\"\n",
    "age = 10\n",
    "s = \"Hello %s. I am %s, %.0f years old!\" % (greet, me, age)\n",
    "print(s)"
   ]
  },
  {
   "cell_type": "code",
   "execution_count": 122,
   "metadata": {},
   "outputs": [
    {
     "name": "stdout",
     "output_type": "stream",
     "text": [
      "Hello World. I am Harry, 10 years old!\n"
     ]
    }
   ],
   "source": [
    "# str.format() method\n",
    "s = \"Hello {}. I am {}, {:.0f} years old!\".format(greet,\n",
    "                                                  me,\n",
    "                                                  age)\n",
    "print(s)"
   ]
  },
  {
   "cell_type": "markdown",
   "metadata": {},
   "source": [
    "Doesn't to be such an improvement, no?\n",
    "\n",
    "But wait..."
   ]
  },
  {
   "cell_type": "code",
   "execution_count": 123,
   "metadata": {},
   "outputs": [
    {
     "data": {
      "text/plain": [
       "'Hello 10. I am Harry, World years old!'"
      ]
     },
     "execution_count": 123,
     "metadata": {},
     "output_type": "execute_result"
    }
   ],
   "source": [
    "# refer to variables\n",
    "\"Hello {2}. I am {1}, {0} years old!\".format(greet,\n",
    "                                             me,\n",
    "                                             age)"
   ]
  },
  {
   "cell_type": "code",
   "execution_count": 124,
   "metadata": {},
   "outputs": [
    {
     "data": {
      "text/plain": [
       "'Hello World. I am Harry, 10 years old!'"
      ]
     },
     "execution_count": 124,
     "metadata": {},
     "output_type": "execute_result"
    }
   ],
   "source": [
    "# even have config dicts and more\n",
    "config = {\n",
    "    \"my_age\": 10,\n",
    "    \"greet\": \"World\",\n",
    "    \"my_name\": \"Harry\"    \n",
    "}\n",
    "\n",
    "\"Hello {greet}. I am {my_name}, {my_age} years old!\".format(**config)\n"
   ]
  },
  {
   "cell_type": "markdown",
   "metadata": {},
   "source": [
    "Moving on the **f-strings**.\n",
    "This is the easiest (IMHO) and fastest method to process string formatting."
   ]
  },
  {
   "cell_type": "code",
   "execution_count": 125,
   "metadata": {},
   "outputs": [
    {
     "data": {
      "text/plain": [
       "'Hello World. I am Harry, 10 years old!'"
      ]
     },
     "execution_count": 125,
     "metadata": {},
     "output_type": "execute_result"
    }
   ],
   "source": [
    "# f-strings\n",
    "# we now refer directly to variables\n",
    "f\"Hello {greet}. I am {me}, {age} years old!\""
   ]
  },
  {
   "cell_type": "markdown",
   "metadata": {},
   "source": [
    "*F-strings* can make use of expressions not only variables."
   ]
  },
  {
   "cell_type": "code",
   "execution_count": 126,
   "metadata": {},
   "outputs": [
    {
     "data": {
      "text/plain": [
       "'Hello WORLD. I am Harry Potter, 9.750 years old!'"
      ]
     },
     "execution_count": 126,
     "metadata": {},
     "output_type": "execute_result"
    }
   ],
   "source": [
    "# formatting is still possible\n",
    "me = \"harry potter\"\n",
    "f\"Hello {greet.upper()}. I am {me.title()}, {age*.975:.3f} years old!\""
   ]
  },
  {
   "cell_type": "markdown",
   "metadata": {
    "tags": []
   },
   "source": [
    "There are a lot of formatting option for string output. The specification can be found in the [python documentation](https://docs.python.org/3/library/string.html#format-specification-mini-language)."
   ]
  },
  {
   "cell_type": "markdown",
   "metadata": {},
   "source": [
    "<div class=\"alert alert-block alert-warning\">\n",
    "<b>Exercise:</b> \n",
    "\n",
    "</div>"
   ]
  },
  {
   "cell_type": "markdown",
   "metadata": {},
   "source": [
    "- Print a summary that includes the length of the string, the number of new line characters '\\n', and the number of spaces.\n",
    "  - You can use one of the strings from above to test your implementation."
   ]
  },
  {
   "cell_type": "code",
   "execution_count": 149,
   "metadata": {},
   "outputs": [
    {
     "data": {
      "text/plain": [
       "'The Length of the strig is: 50, the number of new lins is: 1, the number of spazes is 9'"
      ]
     },
     "execution_count": 149,
     "metadata": {},
     "output_type": "execute_result"
    }
   ],
   "source": [
    "s = \"Hello WORLD. I am Harry Potter, \\n 9.750 years old!\"\n",
    "lookup = \"\\n\"\n",
    "f\"The Length of the strig is: {len(s)}, the number of new lins is: {s.count(lookup)}, the number of spazes is {s.count(' ')}\""
   ]
  },
  {
   "cell_type": "markdown",
   "metadata": {},
   "source": [
    "- Restrict the printout of 1/3 to three digits behind the decimal sign"
   ]
  },
  {
   "cell_type": "code",
   "execution_count": 157,
   "metadata": {},
   "outputs": [
    {
     "data": {
      "text/plain": [
       "'0.333'"
      ]
     },
     "execution_count": 157,
     "metadata": {},
     "output_type": "execute_result"
    }
   ],
   "source": [
    "f\"{1/3 :.3}\""
   ]
  },
  {
   "cell_type": "markdown",
   "metadata": {},
   "source": [
    "- Print the number 1_000_000 as 1e+06"
   ]
  },
  {
   "cell_type": "code",
   "execution_count": 154,
   "metadata": {},
   "outputs": [
    {
     "data": {
      "text/plain": [
       "'1.00e+06'"
      ]
     },
     "execution_count": 154,
     "metadata": {},
     "output_type": "execute_result"
    }
   ],
   "source": [
    "n=1_000_000\n",
    "f\"{int(n):.2e}\""
   ]
  },
  {
   "cell_type": "markdown",
   "metadata": {},
   "source": [
    "- Print the variable `n=2`, its square and its cube within one f-string"
   ]
  },
  {
   "cell_type": "code",
   "execution_count": 156,
   "metadata": {},
   "outputs": [
    {
     "data": {
      "text/plain": [
       "'2, 4, 8'"
      ]
     },
     "execution_count": 156,
     "metadata": {},
     "output_type": "execute_result"
    }
   ],
   "source": [
    "n=2\n",
    "f\"{n}, {n**2}, {n**3}\""
   ]
  },
  {
   "cell_type": "markdown",
   "metadata": {
    "tags": []
   },
   "source": [
    "# Classes\n",
    "[Back to content](#Contents)\n",
    "\n",
    "Classes are another way to structure your code.\n",
    "\n",
    "Whenever you can group functions and attributes to a single object, you can think about a class.\n",
    "\n",
    "For example: dogs. Before we discuss a possible dog class, let's see how we create classes."
   ]
  },
  {
   "cell_type": "code",
   "execution_count": 158,
   "metadata": {},
   "outputs": [],
   "source": [
    "# remember `pass` ;)\n",
    "class test():\n",
    "    pass"
   ]
  },
  {
   "cell_type": "code",
   "execution_count": 159,
   "metadata": {},
   "outputs": [],
   "source": [
    "# create a class\n",
    "c = test()"
   ]
  },
  {
   "cell_type": "code",
   "execution_count": 160,
   "metadata": {},
   "outputs": [
    {
     "data": {
      "text/plain": [
       "__main__.test"
      ]
     },
     "execution_count": 160,
     "metadata": {},
     "output_type": "execute_result"
    }
   ],
   "source": [
    "# what __main__.test means, we will learn in the next chapter\n",
    "type(c)"
   ]
  },
  {
   "cell_type": "code",
   "execution_count": 161,
   "metadata": {},
   "outputs": [],
   "source": [
    "# generally, classes hold attributes and methods\n",
    "class test():\n",
    "    attribute :int = 50\n",
    "    \n",
    "    def method(self):\n",
    "        # self enables the reference to the class itself\n",
    "        # this is necessary for almost all methods\n",
    "        print(f\"testing... {self.attribute}\")"
   ]
  },
  {
   "cell_type": "code",
   "execution_count": 162,
   "metadata": {},
   "outputs": [],
   "source": [
    "x = test()"
   ]
  },
  {
   "cell_type": "code",
   "execution_count": 163,
   "metadata": {},
   "outputs": [
    {
     "name": "stdout",
     "output_type": "stream",
     "text": [
      "testing... 50\n"
     ]
    }
   ],
   "source": [
    "x.method()"
   ]
  },
  {
   "cell_type": "markdown",
   "metadata": {},
   "source": [
    "Let's define am examples class for the dog.\n",
    "\n",
    "What can we say about dogs?\n",
    "- All dogs are from the family \"Canidae\".\n",
    "Individual dogs: \n",
    "- have a name\n",
    "- are of a specific \"breed\"\n",
    "- have a certain color\n",
    "- might bark differently.\n",
    "\n",
    "Ok let's put this into a class reflecting these facts.\n"
   ]
  },
  {
   "cell_type": "code",
   "execution_count": 189,
   "metadata": {},
   "outputs": [],
   "source": [
    "class dog():\n",
    "    # defined for the whole class \n",
    "    family :str = \"Canidae\"\n",
    "    \n",
    "    # __init__ function is automatically called when\n",
    "    # creating a new class object\n",
    "    def __init__(self, name: str = None,\n",
    "                 breed: str = None, color: str = None):\n",
    "        \"\"\"Constructor for the dog class\n",
    "        \n",
    "        Args:\n",
    "            name: name of the dog\n",
    "            breed: breed of the dog, i.e. german shepard\n",
    "            color: color of the dog's fur\n",
    "        \"\"\"\n",
    "        # defining attribute for each individual instance\n",
    "        # instance -> an created object i.e. d = dog(...)\n",
    "        # d is an instance of the class dog\n",
    "        self.name = name\n",
    "        self.breed = breed\n",
    "        self.color = color\n",
    "    \n",
    "    def bark(self, times: int=1):\n",
    "        \"\"\"lets the dog bark\n",
    "        \n",
    "        Args:\n",
    "            times: how often should the dog bark?\n",
    "        \"\"\"\n",
    "        if (\"malamute\" in self.breed.lower()\n",
    "            or \"husky\" in self.breed.lower()):\n",
    "            bark_str = \"rouw-rouuw-woo\" \n",
    "        else:\n",
    "            bark_str = \"wau-wuff\"\n",
    "        for _ in range(times):\n",
    "                print(bark_str)\n",
    "    \n",
    "    def __str__(self):\n",
    "        return (\"Instance of class dog\\n\"\n",
    "                f\"Family: {self.family}\")\n",
    "    \n",
    "    def __repr__(self):\n",
    "        return (\"Instance of class dog\\n\"\n",
    "                f\"Name: {self.name}\\n\"\n",
    "                f\"Breed: {self.breed}\\n\"\n",
    "                f\"Color: {self.color}\\n\")"
   ]
  },
  {
   "cell_type": "code",
   "execution_count": 176,
   "metadata": {},
   "outputs": [],
   "source": [
    "d1 = dog(name=\"Manni\",\n",
    "         breed=\"Alaskan Malamute\",\n",
    "         color=\"black-white\")"
   ]
  },
  {
   "cell_type": "code",
   "execution_count": 177,
   "metadata": {},
   "outputs": [],
   "source": [
    "d2 = dog(name=\"Jeff\", breed=\"Goldendoodle\")"
   ]
  },
  {
   "cell_type": "code",
   "execution_count": 178,
   "metadata": {},
   "outputs": [],
   "source": [
    "d3 = dog(name=\"Marry\", breed=\"Siberian Husky\", color=\"grey-white\")"
   ]
  },
  {
   "cell_type": "code",
   "execution_count": 179,
   "metadata": {},
   "outputs": [
    {
     "data": {
      "text/plain": [
       "'Manni'"
      ]
     },
     "execution_count": 179,
     "metadata": {},
     "output_type": "execute_result"
    }
   ],
   "source": [
    "# access to methods and attributes:\n",
    "d1.name"
   ]
  },
  {
   "cell_type": "code",
   "execution_count": 180,
   "metadata": {},
   "outputs": [
    {
     "data": {
      "text/plain": [
       "'Alaskan Malamute'"
      ]
     },
     "execution_count": 180,
     "metadata": {},
     "output_type": "execute_result"
    }
   ],
   "source": [
    "d1.breed"
   ]
  },
  {
   "cell_type": "code",
   "execution_count": 181,
   "metadata": {},
   "outputs": [
    {
     "name": "stdout",
     "output_type": "stream",
     "text": [
      "rouw-rouuw-woo\n",
      "rouw-rouuw-woo\n",
      "rouw-rouuw-woo\n"
     ]
    }
   ],
   "source": [
    "d1.bark(3)"
   ]
  },
  {
   "cell_type": "code",
   "execution_count": 182,
   "metadata": {},
   "outputs": [
    {
     "name": "stdout",
     "output_type": "stream",
     "text": [
      "wau-wuff\n",
      "wau-wuff\n"
     ]
    }
   ],
   "source": [
    "d2.bark(2)"
   ]
  },
  {
   "cell_type": "code",
   "execution_count": 183,
   "metadata": {},
   "outputs": [
    {
     "name": "stdout",
     "output_type": "stream",
     "text": [
      "rouw-rouuw-woo\n",
      "rouw-rouuw-woo\n",
      "rouw-rouuw-woo\n",
      "rouw-rouuw-woo\n"
     ]
    }
   ],
   "source": [
    "d3.bark(4)"
   ]
  },
  {
   "cell_type": "code",
   "execution_count": 184,
   "metadata": {},
   "outputs": [
    {
     "name": "stdout",
     "output_type": "stream",
     "text": [
      "True\n"
     ]
    },
    {
     "data": {
      "text/plain": [
       "'Canidae'"
      ]
     },
     "execution_count": 184,
     "metadata": {},
     "output_type": "execute_result"
    }
   ],
   "source": [
    "# shared attributes\n",
    "print(d1.family == d2.family == d3.family)\n",
    "d1.family\n"
   ]
  },
  {
   "cell_type": "code",
   "execution_count": 190,
   "metadata": {},
   "outputs": [
    {
     "data": {
      "text/plain": [
       "Instance of class dog\n",
       "Name: Manni\n",
       "Breed: Alaskan Malamute\n",
       "Color: black-white"
      ]
     },
     "execution_count": 190,
     "metadata": {},
     "output_type": "execute_result"
    }
   ],
   "source": [
    "# what happens when you just try to ouput the instance\n",
    "d1"
   ]
  },
  {
   "cell_type": "code",
   "execution_count": 191,
   "metadata": {},
   "outputs": [
    {
     "name": "stdout",
     "output_type": "stream",
     "text": [
      "Instance of class dog\n",
      "Name: Jeff\n",
      "Breed: Goldendoodle\n",
      "Color: None\n",
      "\n"
     ]
    }
   ],
   "source": [
    "# and printing?\n",
    "print(d2)"
   ]
  },
  {
   "cell_type": "markdown",
   "metadata": {},
   "source": [
    "The default output of a class is not very helpful.\n",
    "Let's go back and define `__str__` and `__repr__`"
   ]
  },
  {
   "cell_type": "markdown",
   "metadata": {},
   "source": [
    "### Inheritance\n",
    "\n",
    "For classes it is possible to define \"sub-classes\" or child classes that share most of the attributes and methods of the parent class.\n",
    "E.g. all German shepards are dogs but migh all have the same color and are the only ones able to learn sophisticated tricks (pure fiction)."
   ]
  },
  {
   "cell_type": "code",
   "execution_count": 192,
   "metadata": {},
   "outputs": [],
   "source": [
    "class ger_shepard(dog):\n",
    "    def __init__(self, name: str = None):\n",
    "        super().__init__(name, breed=\"German Shepard\",\n",
    "                       color=\"Gold-brown\")\n",
    "\n",
    "    # you can extend the class as you wish\n",
    "    def trick(self):\n",
    "        print(\"Jump... jump...\")\n",
    "\n",
    "    # you can also overwrite the dog functions\n",
    "    def bark(self):\n",
    "        \"\"\"german shepards only bark once (pure fiction)\"\"\"\n",
    "        print(\"wau-wuff\")"
   ]
  },
  {
   "cell_type": "code",
   "execution_count": 193,
   "metadata": {},
   "outputs": [],
   "source": [
    "g = ger_shepard(\"Bello\")"
   ]
  },
  {
   "cell_type": "code",
   "execution_count": 194,
   "metadata": {},
   "outputs": [
    {
     "data": {
      "text/plain": [
       "Instance of class dog\n",
       "Name: Bello\n",
       "Breed: German Shepard\n",
       "Color: Gold-brown"
      ]
     },
     "execution_count": 194,
     "metadata": {},
     "output_type": "execute_result"
    }
   ],
   "source": [
    "g"
   ]
  },
  {
   "cell_type": "code",
   "execution_count": 195,
   "metadata": {},
   "outputs": [
    {
     "ename": "TypeError",
     "evalue": "ger_shepard.bark() takes 1 positional argument but 2 were given",
     "output_type": "error",
     "traceback": [
      "\u001b[0;31m---------------------------------------------------------------------------\u001b[0m",
      "\u001b[0;31mTypeError\u001b[0m                                 Traceback (most recent call last)",
      "\u001b[1;32m/Users/juanbettinelli/Documents/UniPython/python_course/L4 - Python Basics/Python_basics.ipynb Cell 576'\u001b[0m in \u001b[0;36m<cell line: 3>\u001b[0;34m()\u001b[0m\n\u001b[1;32m      <a href='vscode-notebook-cell:/Users/juanbettinelli/Documents/UniPython/python_course/L4%20-%20Python%20Basics/Python_basics.ipynb#ch0000572?line=0'>1</a>\u001b[0m \u001b[39m# overwriting can change the interfaces\u001b[39;00m\n\u001b[1;32m      <a href='vscode-notebook-cell:/Users/juanbettinelli/Documents/UniPython/python_course/L4%20-%20Python%20Basics/Python_basics.ipynb#ch0000572?line=1'>2</a>\u001b[0m \u001b[39m# try to avoid breaking interfaces at all costs\u001b[39;00m\n\u001b[0;32m----> <a href='vscode-notebook-cell:/Users/juanbettinelli/Documents/UniPython/python_course/L4%20-%20Python%20Basics/Python_basics.ipynb#ch0000572?line=2'>3</a>\u001b[0m g\u001b[39m.\u001b[39;49mbark(\u001b[39m2\u001b[39;49m)\n",
      "\u001b[0;31mTypeError\u001b[0m: ger_shepard.bark() takes 1 positional argument but 2 were given"
     ]
    }
   ],
   "source": [
    "# overwriting can change the interfaces\n",
    "# try to avoid breaking interfaces at all costs\n",
    "g.bark(2)"
   ]
  },
  {
   "cell_type": "code",
   "execution_count": null,
   "metadata": {},
   "outputs": [],
   "source": [
    "g.bark?"
   ]
  },
  {
   "cell_type": "code",
   "execution_count": 196,
   "metadata": {},
   "outputs": [
    {
     "name": "stdout",
     "output_type": "stream",
     "text": [
      "wau-wuff\n"
     ]
    }
   ],
   "source": [
    "g.bark()"
   ]
  },
  {
   "cell_type": "code",
   "execution_count": 197,
   "metadata": {},
   "outputs": [
    {
     "data": {
      "text/plain": [
       "'Canidae'"
      ]
     },
     "execution_count": 197,
     "metadata": {},
     "output_type": "execute_result"
    }
   ],
   "source": [
    "g.family"
   ]
  },
  {
   "cell_type": "code",
   "execution_count": 198,
   "metadata": {},
   "outputs": [
    {
     "name": "stdout",
     "output_type": "stream",
     "text": [
      "Jump... jump...\n"
     ]
    }
   ],
   "source": [
    "g.trick()\n"
   ]
  },
  {
   "cell_type": "markdown",
   "metadata": {},
   "source": [
    "<div class=\"alert alert-block alert-warning\">\n",
    "<b>Exercise:</b>\n",
    "\n",
    "</div>\n"
   ]
  },
  {
   "cell_type": "markdown",
   "metadata": {},
   "source": [
    "Create a cats class analogue to the dogs class and make two instances miau."
   ]
  },
  {
   "cell_type": "markdown",
   "metadata": {
    "tags": []
   },
   "source": [
    "# Modules\n",
    "[Back to content](#Contents)\n",
    "\n",
    "A module is a file containing Python definitions and statements. The file name is the module name with the suffix `.py` appended.\n",
    "\n",
    "You can access the name within the module using the global variable `__name__`."
   ]
  },
  {
   "cell_type": "code",
   "execution_count": 199,
   "metadata": {},
   "outputs": [
    {
     "name": "stdout",
     "output_type": "stream",
     "text": [
      "zsh:1: command not found: dir\n"
     ]
    }
   ],
   "source": [
    "# there is a module available in the notebook folder:\n",
    "!dir"
   ]
  },
  {
   "cell_type": "code",
   "execution_count": 200,
   "metadata": {},
   "outputs": [],
   "source": [
    "import fibonacci as fibo"
   ]
  },
  {
   "cell_type": "code",
   "execution_count": 201,
   "metadata": {},
   "outputs": [
    {
     "name": "stdout",
     "output_type": "stream",
     "text": [
      "0 1 1 2 3 5 8 "
     ]
    }
   ],
   "source": [
    "# now the module and all the definitions are available\n",
    "fibo.print_fib_series(10)"
   ]
  },
  {
   "cell_type": "code",
   "execution_count": 202,
   "metadata": {},
   "outputs": [
    {
     "data": {
      "text/plain": [
       "'fibonacci'"
      ]
     },
     "execution_count": 202,
     "metadata": {},
     "output_type": "execute_result"
    }
   ],
   "source": [
    "fibo.__name__"
   ]
  },
  {
   "cell_type": "code",
   "execution_count": 203,
   "metadata": {},
   "outputs": [],
   "source": [
    "# you can also directly import the functions\n",
    "from fibonacci import fib, print_fib_series"
   ]
  },
  {
   "cell_type": "code",
   "execution_count": 204,
   "metadata": {},
   "outputs": [],
   "source": [
    "# a import way that is discouraged to use as it produces unknown number of\n",
    "# statement definitions in the current programme frame\n",
    "# importing all definitions except those starting with `_`\n",
    "from fibonacci import *"
   ]
  },
  {
   "cell_type": "markdown",
   "metadata": {},
   "source": [
    "The `from module import *` call is only acceptable then you safe a lot of typing in interactive sessions."
   ]
  },
  {
   "cell_type": "markdown",
   "metadata": {},
   "source": [
    "<div class=\"alert alert-block alert-info\">\n",
    "<b>Note:</b> For efficiency reasons, each module is only imported once per interpreter session (i.e. Jupyter session). If a module is changed, you must restart the interpreter or the Jupyter kernel.\n",
    "Alternatively, you can reload modules with \n",
    "    \n",
    "```\n",
    "import importlib\n",
    "importlib.reload(modulename)\n",
    "```\n",
    " \n",
    "</div>\n"
   ]
  },
  {
   "cell_type": "markdown",
   "metadata": {},
   "source": [
    "As modules are just python file, we can run them as a script.\n",
    "If we want to do that, we need to know that with starting the module with \n",
    "\n",
    "`python fibnacci` (from the terminal), the `__name__` is set to `__main__` by python.\n",
    "\n",
    "We can use this to run command automatically:\n",
    "\n",
    "```python\n",
    "if __name__ == \"__main__\"\":\n",
    "    fib(10)\n",
    "```"
   ]
  },
  {
   "cell_type": "markdown",
   "metadata": {},
   "source": [
    "<div class=\"alert alert-block alert-warning\">\n",
    "<b>Exercise:</b> Modify the `fibonacci.py` module in a way that we can use an argument such as `python fibonacci.py 12` to print the fibonacci numbers until 12.\n",
    "    Hint: you could find `sys.argv` useful, from the `sys` module.\n",
    "</div>"
   ]
  },
  {
   "cell_type": "markdown",
   "metadata": {},
   "source": [
    "__What happens when the module is not in your current directory__?\n",
    "\n",
    "If you try to import a module, e.g. `import fibonacci`, there is a specific order where python will look for those modules.\n",
    "\n",
    "First, python check if the module is a built-in module (as for example: `sys`).\n",
    "Then it will check the directory containing the input script and then the rest of the `sys.path` variable.\n",
    "\n",
    "If you would like to import a module that is not in any of those paths, you will get an error.\n",
    "\n",
    "Easy way out is to append the path to the system path for the current session via \n",
    "`sys.path.append(\"myNewModule/module/\")`"
   ]
  },
  {
   "cell_type": "markdown",
   "metadata": {},
   "source": [
    "# Further reads\n",
    "\n",
    "[Back to content](#Contents)\n",
    "\n",
    "* [Official python documentation](https://docs.python.org/3.10/index.html) _(0-Clause BSD, Copyright (c) 2001-2022 Python Software Foundation. All rights reserved.)_\n",
    "* [Official python tutorial](https://docs.python.org/3.10/tutorial/index.html) _(0-Clause BSD, Copyright (c) 2001-2022 Python Software Foundation. All rights reserved.)_\n",
    "* Some exercises, ideas, inspirations, and other tutorials\n",
    "  * [pyNative](https://pynative.com/python-exercises-with-solutions/)\n",
    "  * [W3](https://www.w3schools.com/python/default.asp)\n",
    "* Useful tutorials:\n",
    "  * [Real python](https://realpython.com/)\n",
    "  * [GeeksforGeeks](https://www.geeksforgeeks.org/python-programming-language/?ref=grb)\n",
    "  * [Quizzes on real python](https://realpython.com/quizzes/)\n",
    "  * ... many many more, youtube....\n",
    "* For any topic you are interested in:\n",
    "  * \"how to 'topic' in python\" in your favorite search engine\n",
    "    "
   ]
  },
  {
   "cell_type": "code",
   "execution_count": null,
   "metadata": {},
   "outputs": [],
   "source": []
  }
 ],
 "metadata": {
  "kernelspec": {
   "display_name": "Python 3.10.4 ('basics310')",
   "language": "python",
   "name": "python3"
  },
  "language_info": {
   "codemirror_mode": {
    "name": "ipython",
    "version": 3
   },
   "file_extension": ".py",
   "mimetype": "text/x-python",
   "name": "python",
   "nbconvert_exporter": "python",
   "pygments_lexer": "ipython3",
   "version": "3.10.4"
  },
  "toc-autonumbering": false,
  "toc-showcode": false,
  "toc-showmarkdowntxt": false,
  "toc-showtags": true,
  "vscode": {
   "interpreter": {
    "hash": "035a68b59fe658805e17abbb10d1a02fb3786a273c0b323463a89182a04acfd4"
   }
  }
 },
 "nbformat": 4,
 "nbformat_minor": 4
}
